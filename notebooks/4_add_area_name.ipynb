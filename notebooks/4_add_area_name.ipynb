{
 "cells": [
  {
   "cell_type": "markdown",
   "metadata": {},
   "source": [
    "## Adding a neighborhood name (like Germantown, Downtown, East Nashville, etc.) to each zip code"
   ]
  },
  {
   "cell_type": "code",
   "execution_count": 1,
   "metadata": {},
   "outputs": [],
   "source": [
    "import pandas as pd\n",
    "import numpy as np"
   ]
  },
  {
   "cell_type": "code",
   "execution_count": 2,
   "metadata": {},
   "outputs": [
    {
     "name": "stdout",
     "output_type": "stream",
     "text": [
      "<class 'pandas.core.frame.DataFrame'>\n"
     ]
    },
    {
     "data": {
      "text/html": [
       "<div>\n",
       "<style scoped>\n",
       "    .dataframe tbody tr th:only-of-type {\n",
       "        vertical-align: middle;\n",
       "    }\n",
       "\n",
       "    .dataframe tbody tr th {\n",
       "        vertical-align: top;\n",
       "    }\n",
       "\n",
       "    .dataframe thead th {\n",
       "        text-align: right;\n",
       "    }\n",
       "</style>\n",
       "<table border=\"1\" class=\"dataframe\">\n",
       "  <thead>\n",
       "    <tr style=\"text-align: right;\">\n",
       "      <th></th>\n",
       "      <th>neighborhood</th>\n",
       "      <th>permit_number</th>\n",
       "      <th>permit_type_descr</th>\n",
       "      <th>permit_subtype_descr</th>\n",
       "      <th>parcel</th>\n",
       "      <th>date_entered</th>\n",
       "      <th>date_issued</th>\n",
       "      <th>construction_cost</th>\n",
       "      <th>address</th>\n",
       "      <th>city</th>\n",
       "      <th>...</th>\n",
       "      <th>permit_subtype</th>\n",
       "      <th>ivr_tracking_number</th>\n",
       "      <th>purpose</th>\n",
       "      <th>council_district</th>\n",
       "      <th>residential_commercial</th>\n",
       "      <th>type_subtype</th>\n",
       "      <th>lat</th>\n",
       "      <th>lon</th>\n",
       "      <th>geometry</th>\n",
       "      <th>applic_issued</th>\n",
       "    </tr>\n",
       "  </thead>\n",
       "  <tbody>\n",
       "    <tr>\n",
       "      <th>0</th>\n",
       "      <td>Urban Residents</td>\n",
       "      <td>T2017035948</td>\n",
       "      <td>Building Use &amp; Occupancy</td>\n",
       "      <td>Tents, Stages</td>\n",
       "      <td>9306406200</td>\n",
       "      <td>6/1/2017</td>\n",
       "      <td>NaN</td>\n",
       "      <td>2000.0</td>\n",
       "      <td>1  SYMPHONY PL</td>\n",
       "      <td>NASHVILLE</td>\n",
       "      <td>...</td>\n",
       "      <td>CAZ06A001</td>\n",
       "      <td>3371589</td>\n",
       "      <td>(2) 40x80 tents, staked. No sidewall. Going up...</td>\n",
       "      <td>19.0</td>\n",
       "      <td>Other</td>\n",
       "      <td>TYPE: Building Use &amp; Occupancy SUBTYPE: Tents,...</td>\n",
       "      <td>36.160351</td>\n",
       "      <td>-86.775582</td>\n",
       "      <td>POINT (-86.775582 36.160351)</td>\n",
       "      <td>Application</td>\n",
       "    </tr>\n",
       "  </tbody>\n",
       "</table>\n",
       "<p>1 rows × 25 columns</p>\n",
       "</div>"
      ],
      "text/plain": [
       "      neighborhood permit_number         permit_type_descr  \\\n",
       "0  Urban Residents   T2017035948  Building Use & Occupancy   \n",
       "\n",
       "  permit_subtype_descr      parcel date_entered date_issued  \\\n",
       "0        Tents, Stages  9306406200     6/1/2017         NaN   \n",
       "\n",
       "   construction_cost         address       city  ... permit_subtype  \\\n",
       "0             2000.0  1  SYMPHONY PL  NASHVILLE  ...      CAZ06A001   \n",
       "\n",
       "   ivr_tracking_number                                            purpose  \\\n",
       "0              3371589  (2) 40x80 tents, staked. No sidewall. Going up...   \n",
       "\n",
       "  council_district residential_commercial  \\\n",
       "0             19.0                  Other   \n",
       "\n",
       "                                        type_subtype        lat        lon  \\\n",
       "0  TYPE: Building Use & Occupancy SUBTYPE: Tents,...  36.160351 -86.775582   \n",
       "\n",
       "                       geometry applic_issued  \n",
       "0  POINT (-86.775582 36.160351)   Application  \n",
       "\n",
       "[1 rows x 25 columns]"
      ]
     },
     "execution_count": 2,
     "metadata": {},
     "output_type": "execute_result"
    }
   ],
   "source": [
    "# Reading in primary file I'm using in Tableau\n",
    "# Adding the new 'area_names' column, then will overwrite the cleaned file with the new file\n",
    "# I manually created the area_names df, based on information found on the internet from a few sources\n",
    "\n",
    "df_all = pd.read_csv('../data/cleaned_2/all_apps_and_issued.csv')\n",
    "print(type(df_all))\n",
    "df_all.head(1)"
   ]
  },
  {
   "cell_type": "code",
   "execution_count": 3,
   "metadata": {},
   "outputs": [
    {
     "data": {
      "text/html": [
       "<div>\n",
       "<style scoped>\n",
       "    .dataframe tbody tr th:only-of-type {\n",
       "        vertical-align: middle;\n",
       "    }\n",
       "\n",
       "    .dataframe tbody tr th {\n",
       "        vertical-align: top;\n",
       "    }\n",
       "\n",
       "    .dataframe thead th {\n",
       "        text-align: right;\n",
       "    }\n",
       "</style>\n",
       "<table border=\"1\" class=\"dataframe\">\n",
       "  <thead>\n",
       "    <tr style=\"text-align: right;\">\n",
       "      <th></th>\n",
       "      <th>zip</th>\n",
       "      <th>area_name</th>\n",
       "    </tr>\n",
       "  </thead>\n",
       "  <tbody>\n",
       "    <tr>\n",
       "      <th>0</th>\n",
       "      <td>37013</td>\n",
       "      <td>Antioch</td>\n",
       "    </tr>\n",
       "  </tbody>\n",
       "</table>\n",
       "</div>"
      ],
      "text/plain": [
       "     zip area_name\n",
       "0  37013   Antioch"
      ]
     },
     "execution_count": 3,
     "metadata": {},
     "output_type": "execute_result"
    }
   ],
   "source": [
    "df_area_names = pd.read_csv('../data/cleaned_2/area_names.csv')\n",
    "df_area_names.head(1)"
   ]
  },
  {
   "cell_type": "code",
   "execution_count": 4,
   "metadata": {},
   "outputs": [
    {
     "data": {
      "text/plain": [
       "neighborhood               object\n",
       "permit_number              object\n",
       "permit_type_descr          object\n",
       "permit_subtype_descr       object\n",
       "parcel                     object\n",
       "date_entered               object\n",
       "date_issued                object\n",
       "construction_cost         float64\n",
       "address                    object\n",
       "city                       object\n",
       "state                      object\n",
       "zip                         int64\n",
       "subdivision_lot            object\n",
       "contact                    object\n",
       "permit_type                object\n",
       "permit_subtype             object\n",
       "ivr_tracking_number         int64\n",
       "purpose                    object\n",
       "council_district          float64\n",
       "residential_commercial     object\n",
       "type_subtype               object\n",
       "lat                       float64\n",
       "lon                       float64\n",
       "geometry                   object\n",
       "applic_issued              object\n",
       "dtype: object"
      ]
     },
     "execution_count": 4,
     "metadata": {},
     "output_type": "execute_result"
    }
   ],
   "source": [
    "df_all.dtypes"
   ]
  },
  {
   "cell_type": "code",
   "execution_count": 5,
   "metadata": {},
   "outputs": [
    {
     "data": {
      "text/plain": [
       "zip           int64\n",
       "area_name    object\n",
       "dtype: object"
      ]
     },
     "execution_count": 5,
     "metadata": {},
     "output_type": "execute_result"
    }
   ],
   "source": [
    "df_area_names.dtypes"
   ]
  },
  {
   "cell_type": "code",
   "execution_count": 6,
   "metadata": {
    "scrolled": false
   },
   "outputs": [
    {
     "name": "stdout",
     "output_type": "stream",
     "text": [
      "zip          object\n",
      "area_name    object\n",
      "dtype: object\n",
      "neighborhood               object\n",
      "permit_number              object\n",
      "permit_type_descr          object\n",
      "permit_subtype_descr       object\n",
      "parcel                     object\n",
      "date_entered               object\n",
      "date_issued                object\n",
      "construction_cost         float64\n",
      "address                    object\n",
      "city                       object\n",
      "state                      object\n",
      "zip                        object\n",
      "subdivision_lot            object\n",
      "contact                    object\n",
      "permit_type                object\n",
      "permit_subtype             object\n",
      "ivr_tracking_number        object\n",
      "purpose                    object\n",
      "council_district           object\n",
      "residential_commercial     object\n",
      "type_subtype               object\n",
      "lat                       float64\n",
      "lon                       float64\n",
      "geometry                   object\n",
      "applic_issued              object\n",
      "dtype: object\n"
     ]
    }
   ],
   "source": [
    "# Converting columns to object as needed, for use in Tableau & for merging\n",
    "\n",
    "df_all['zip'] = df_all['zip'].astype(str)\n",
    "df_all['ivr_tracking_number'] = df_all['ivr_tracking_number'].astype(str)\n",
    "df_all['council_district'] = df_all['council_district'].astype(str)\n",
    "df_area_names['zip'] = df_area_names['zip'].astype(str)\n",
    "print(df_area_names.dtypes)\n",
    "print(df_all.dtypes)"
   ]
  },
  {
   "cell_type": "code",
   "execution_count": 7,
   "metadata": {
    "scrolled": true
   },
   "outputs": [
    {
     "data": {
      "text/html": [
       "<div>\n",
       "<style scoped>\n",
       "    .dataframe tbody tr th:only-of-type {\n",
       "        vertical-align: middle;\n",
       "    }\n",
       "\n",
       "    .dataframe tbody tr th {\n",
       "        vertical-align: top;\n",
       "    }\n",
       "\n",
       "    .dataframe thead th {\n",
       "        text-align: right;\n",
       "    }\n",
       "</style>\n",
       "<table border=\"1\" class=\"dataframe\">\n",
       "  <thead>\n",
       "    <tr style=\"text-align: right;\">\n",
       "      <th></th>\n",
       "      <th>neighborhood</th>\n",
       "      <th>permit_number</th>\n",
       "      <th>permit_type_descr</th>\n",
       "      <th>permit_subtype_descr</th>\n",
       "      <th>parcel</th>\n",
       "      <th>date_entered</th>\n",
       "      <th>date_issued</th>\n",
       "      <th>construction_cost</th>\n",
       "      <th>address</th>\n",
       "      <th>city</th>\n",
       "      <th>...</th>\n",
       "      <th>ivr_tracking_number</th>\n",
       "      <th>purpose</th>\n",
       "      <th>council_district</th>\n",
       "      <th>residential_commercial</th>\n",
       "      <th>type_subtype</th>\n",
       "      <th>lat</th>\n",
       "      <th>lon</th>\n",
       "      <th>geometry</th>\n",
       "      <th>applic_issued</th>\n",
       "      <th>area_name</th>\n",
       "    </tr>\n",
       "  </thead>\n",
       "  <tbody>\n",
       "    <tr>\n",
       "      <th>0</th>\n",
       "      <td>Urban Residents</td>\n",
       "      <td>T2017035948</td>\n",
       "      <td>Building Use &amp; Occupancy</td>\n",
       "      <td>Tents, Stages</td>\n",
       "      <td>9306406200</td>\n",
       "      <td>6/1/2017</td>\n",
       "      <td>NaN</td>\n",
       "      <td>2000.0</td>\n",
       "      <td>1  SYMPHONY PL</td>\n",
       "      <td>NASHVILLE</td>\n",
       "      <td>...</td>\n",
       "      <td>3371589</td>\n",
       "      <td>(2) 40x80 tents, staked. No sidewall. Going up...</td>\n",
       "      <td>19.0</td>\n",
       "      <td>Other</td>\n",
       "      <td>TYPE: Building Use &amp; Occupancy SUBTYPE: Tents,...</td>\n",
       "      <td>36.160351</td>\n",
       "      <td>-86.775582</td>\n",
       "      <td>POINT (-86.775582 36.160351)</td>\n",
       "      <td>Application</td>\n",
       "      <td>Downtown</td>\n",
       "    </tr>\n",
       "  </tbody>\n",
       "</table>\n",
       "<p>1 rows × 26 columns</p>\n",
       "</div>"
      ],
      "text/plain": [
       "      neighborhood permit_number         permit_type_descr  \\\n",
       "0  Urban Residents   T2017035948  Building Use & Occupancy   \n",
       "\n",
       "  permit_subtype_descr      parcel date_entered date_issued  \\\n",
       "0        Tents, Stages  9306406200     6/1/2017         NaN   \n",
       "\n",
       "   construction_cost         address       city  ... ivr_tracking_number  \\\n",
       "0             2000.0  1  SYMPHONY PL  NASHVILLE  ...             3371589   \n",
       "\n",
       "                                             purpose council_district  \\\n",
       "0  (2) 40x80 tents, staked. No sidewall. Going up...             19.0   \n",
       "\n",
       "  residential_commercial                                       type_subtype  \\\n",
       "0                  Other  TYPE: Building Use & Occupancy SUBTYPE: Tents,...   \n",
       "\n",
       "         lat        lon                      geometry applic_issued area_name  \n",
       "0  36.160351 -86.775582  POINT (-86.775582 36.160351)   Application  Downtown  \n",
       "\n",
       "[1 rows x 26 columns]"
      ]
     },
     "execution_count": 7,
     "metadata": {},
     "output_type": "execute_result"
    }
   ],
   "source": [
    "df_all = df_all.merge(df_area_names, on= 'zip')\n",
    "df_all.head(1)"
   ]
  },
  {
   "cell_type": "code",
   "execution_count": 8,
   "metadata": {},
   "outputs": [
    {
     "data": {
      "text/plain": [
       "0"
      ]
     },
     "execution_count": 8,
     "metadata": {},
     "output_type": "execute_result"
    }
   ],
   "source": [
    "#Confirmed that there are no null values in \n",
    "\n",
    "df_all.area_name.isnull().sum()"
   ]
  },
  {
   "cell_type": "code",
   "execution_count": 9,
   "metadata": {},
   "outputs": [
    {
     "data": {
      "text/plain": [
       "(32720, 26)"
      ]
     },
     "execution_count": 9,
     "metadata": {},
     "output_type": "execute_result"
    }
   ],
   "source": [
    "df_all.to_csv('../data/cleaned_2/all_apps_and_issued.csv', index = False)\n",
    "df_all.shape"
   ]
  },
  {
   "cell_type": "markdown",
   "metadata": {},
   "source": [
    "## Ready to go back to Tableau, import updated .csv file, and adjust the visualizations. "
   ]
  }
 ],
 "metadata": {
  "kernelspec": {
   "display_name": "Python 3",
   "language": "python",
   "name": "python3"
  },
  "language_info": {
   "codemirror_mode": {
    "name": "ipython",
    "version": 3
   },
   "file_extension": ".py",
   "mimetype": "text/x-python",
   "name": "python",
   "nbconvert_exporter": "python",
   "pygments_lexer": "ipython3",
   "version": "3.7.6"
  }
 },
 "nbformat": 4,
 "nbformat_minor": 4
}
