{
 "cells": [
  {
   "cell_type": "markdown",
   "metadata": {},
   "source": [
    "## Capstone Project \"What's Happening in my Neighborhood\"\n",
    "by Lori Butler    \n",
    "\n",
    "**Data Questions**  \n",
    "1. Which neighborhoods have had the most, and the least, growth during the past three years based on the count of building permits by type, and by cost of construction.\n",
    "2. Do any neighborhoods have recent increases in building permit applications which may signal growth in the near future?"
   ]
  },
  {
   "cell_type": "markdown",
   "metadata": {},
   "source": [
    "**WORKFLOW in this notebook:**\n",
    "- <a href='#Change row truncation'>Change row truncation</a>  \n",
    "- <a href='#Column Name Cleanup - Bldg Permit Applications'>Column Name Cleanup - Bldg Permit Applications</a>  \n",
    "- <a href='#Column Name Cleanup -  Bldg Permits Issued'> Column Name Cleanup -  Bldg Permits Issued</a> \n",
    "- <a href='#Column Name Cleanup -  Planning Dept'>Column Name Cleanup -  Planning Dept</a> \n",
    "- <a href='#Data type cleanup'>Data type cleanup</a> \n",
    "- <a href='#Bldg Permit Applications - dtype cleanup'>Bldg Permit Applications - dtype cleanup</a>   \n",
    "- <a href='#Bldg Permits Issued - dtype cleanup'>Bldg Permits Issued - dtype cleanup </a> \n",
    "- <a href='#Planning Dept Applications & Issued - dtype cleanup'>Planning Dept Applications & Issued - dtype cleanup</a>  \n",
    "- <a href='#Fix mapped_location, pull out lat/lon in Bldg Permit Apps & Issued'>Fix mapped_location, pull out lat/lon in Bldg Permit Apps & Issued</a>  \n",
    "- <a href='#Looked at addresses that have no lat/lon from Bldg Permit Application & Issued dfs'>Looked at addresses that have no lat/lon from Bldg Permit Application & Issued dfs</a>   \n",
    "- <a href='#Creating new dfs for Bldg Permit Applications & Bldg Permits Issued with ONLY addresses that have no lat/lon, to submit to US Census Geocoder tool'>Creating new dfs for Bldg Permit Applications & Bldg Permits Issued with ONLY addresses that have no lat/lon, to submit to US Census Geocoder tool</a> \n",
    "- <a href='#Census Geocoder tool only found 1% of addresses. Changed direction: Will use Google Maps API to get geocodes.'> Census Geocoder tool only found 1% of addresses. Changed direction: Will use Google Maps API to get geocodes.</a> \n",
    "- <a href='#Exploring and Cleaning: Planning Dept Applications / Issued'>Exploring and Cleaning: Planning Dept Applications / Issued</a> \n",
    "- <a href='#Exploring and Cleaning: Neighborhood Assoc Boundaries (GIS)'>Exploring and Cleaning: Neighborhood Assoc Boundaries (GIS)</a>  \n",
    "- <a href='#Creating new type_subtype column to use as popup on maps; in both full dfs (6/19/2020)'> Creating new 'type_subtype' column to use as popup on maps; in both full dfs (6/19/2020)</a> \n",
    "- <a href='#SORT: Bldg Permit Applications & Bldg Permits Issued (6/19/2020)'>SORT: Bldg Permit Applications & Bldg Permits Issued (6/19/2020)</a>  \n",
    "- <a href='#Bldg Permits Issued: Drop Duplicates'>Bldg Permits Issued: Drop Duplicates</a>  \n",
    "- <a href='#Reviewing permit types, permit subtypes, etc. in Bldg Permit Applications, Bldg Permits Issued, and Planning dfs.'>Reviewing permit types, permit subtypes, etc. in Bldg Permit Applications, Bldg Permits Issued, and Planning dfs.</a>  \n",
    "- <a href='#Making new category column, for Residential, Commercial, Other Sorting dfs by dates, descending.'>#Making new category column, for Residential, Commercial, Other Sorting dfs by dates, descending.</a>\n",
    "- <a href='#FIXING \"0\" STREET ADDRESS ISSUE FOR:  BLDG PERMIT APPLICATIONS for [1] Main df AND [2] subset df'>FIXING \"0\" STREET ADDRESS ISSUE FOR:  BLDG PERMIT APPLICATIONS for [1] Main df AND [2] subset df</a>\n",
    "- <a href='#FIXING \"0\" STREET ADDRESS ISSUE FOR:  BLDG PERMITS ISSUED for [1] Main df AND [2] subset df'>FIXING \"0\" STREET ADDRESS ISSUE FOR:  BLDG PERMITS ISSUED for [1] Main df AND [2] subset df</a>\n",
    "- <a href='#FIXING \"0\" STREET ADDRESS ISSUE FOR Planning Dept for Main and Subset dfs'>FIXING \"0\" STREET ADDRESS ISSUE FOR Planning Dept for Main and Subset dfs</a>\n",
    "- <a href='#Concatenating addresses for use with Google maps API; and creating new dfs with full_address, only'>Concatenating addresses for use with Google maps API; and creating new dfs with full_address, only</a>\n",
    "- <a href='#Building Permit Applications - Full Address df'>Building Permit Applications - Full Address df</a>\n",
    "- <a href='#Building Permits Issued - Full Address df'>Building Permits Issued - Full Address df</a>\n",
    "- <a href='#Planning Dept - Full Address df'>Planning Dept - Full Address df</a>\n",
    "- <a href='#Using Google Maps API to get missing lat/lon'>Using Google Maps API to get missing lat/lon</a>\n",
    "- <a href='#Google Maps Geocoding API code (Aborted this direction. More notes in cell)'>Google Maps Geocoding API code (Aborted this direction. More notes in cell)</a>\n",
    "- <a href='#Creating new dfs for rows that have lat/lon (no null values).'>Creating new dfs for rows that have lat/lon (no null values).</a>\n",
    "- <a href='#Saving cleaned files'>Saving cleaned files</a>\n"
   ]
  },
  {
   "cell_type": "markdown",
   "metadata": {},
   "source": [
    "## Data Prep 01 Notebook: Column and Data Type Cleanup"
   ]
  },
  {
   "cell_type": "code",
   "execution_count": 166,
   "metadata": {
    "collapsed": true
   },
   "outputs": [],
   "source": [
    "import pandas as pd\n",
    "import numpy as np\n",
    "import geopandas as gpd   # Prerequisite: Anotes_and_docsctivate geospatial environment via Conda Prompt\n",
    "import matplotlib.pyplot as plt  \n",
    "import folium                   \n",
    "from folium.plugins import MarkerCluster\n",
    "import requests  # For use with Google API / Geocoding\n",
    "import datetime\n",
    "import collections\n",
    "\n",
    "# May not need this until I do EDA, but importing now as a reminder.\n",
    "from shapely.geometry import Point  \n",
    "\n",
    "# To use RegEx to pull ot lat/long from building permit applications/issued\n",
    "import re"
   ]
  },
  {
   "cell_type": "markdown",
   "metadata": {},
   "source": [
    "<a id='Change row truncation'></a>\n",
    "## Change row truncation"
   ]
  },
  {
   "cell_type": "code",
   "execution_count": 301,
   "metadata": {
    "collapsed": true
   },
   "outputs": [
    {
     "name": "stdout",
     "output_type": "stream",
     "text": [
      "50\n"
     ]
    }
   ],
   "source": [
    "# To get full results that aren't truncated, set to high number (default is 50):\n",
    "pd.options.display.max_rows = 50\n",
    "print(pd.options.display.max_rows)"
   ]
  },
  {
   "cell_type": "markdown",
   "metadata": {},
   "source": [
    "## Read in raw files"
   ]
  },
  {
   "cell_type": "code",
   "execution_count": 168,
   "metadata": {},
   "outputs": [
    {
     "data": {
      "text/html": [
       "<div>\n",
       "<style scoped>\n",
       "    .dataframe tbody tr th:only-of-type {\n",
       "        vertical-align: middle;\n",
       "    }\n",
       "\n",
       "    .dataframe tbody tr th {\n",
       "        vertical-align: top;\n",
       "    }\n",
       "\n",
       "    .dataframe thead th {\n",
       "        text-align: right;\n",
       "    }\n",
       "</style>\n",
       "<table border=\"1\" class=\"dataframe\">\n",
       "  <thead>\n",
       "    <tr style=\"text-align: right;\">\n",
       "      <th></th>\n",
       "      <th>Permit #</th>\n",
       "      <th>Permit Type Description</th>\n",
       "      <th>Permit Subtype Description</th>\n",
       "      <th>Parcel</th>\n",
       "      <th>Date Entered</th>\n",
       "      <th>Date Issued</th>\n",
       "      <th>Construction Cost</th>\n",
       "      <th>Address</th>\n",
       "      <th>City</th>\n",
       "      <th>State</th>\n",
       "      <th>ZIP</th>\n",
       "      <th>Subdivision / Lot</th>\n",
       "      <th>Contact</th>\n",
       "      <th>Permit Type</th>\n",
       "      <th>Permit Subtype</th>\n",
       "      <th>IVR Tracking #</th>\n",
       "      <th>Purpose</th>\n",
       "      <th>Council District</th>\n",
       "      <th>Mapped Location</th>\n",
       "    </tr>\n",
       "  </thead>\n",
       "  <tbody>\n",
       "    <tr>\n",
       "      <th>0</th>\n",
       "      <td>T2020016213</td>\n",
       "      <td>Building Residential - New</td>\n",
       "      <td>Single Family Residence</td>\n",
       "      <td>10216006100</td>\n",
       "      <td>03/11/2020</td>\n",
       "      <td>NaN</td>\n",
       "      <td>NaN</td>\n",
       "      <td>748  DARDEN PL</td>\n",
       "      <td>NASHVILLE</td>\n",
       "      <td>TN</td>\n",
       "      <td>37205</td>\n",
       "      <td>LOT 168 SEC 9 PT 2 HILLWOOD EST</td>\n",
       "      <td>Kingdom Builders of Tennesse</td>\n",
       "      <td>CARN</td>\n",
       "      <td>CAA01R301</td>\n",
       "      <td>3781725</td>\n",
       "      <td>New Single family dwelling.  REJECTED: APPLICA...</td>\n",
       "      <td>23.0</td>\n",
       "      <td>748 DARDEN PL\\nNASHVILLE, TN 37205\\n(36.125944...</td>\n",
       "    </tr>\n",
       "    <tr>\n",
       "      <th>1</th>\n",
       "      <td>T2019073204</td>\n",
       "      <td>Building Moving Permit</td>\n",
       "      <td>Moving Permit - Residential</td>\n",
       "      <td>04600002700</td>\n",
       "      <td>12/02/2019</td>\n",
       "      <td>NaN</td>\n",
       "      <td>2500.0</td>\n",
       "      <td>4836  BULL RUN RD</td>\n",
       "      <td>ASHLAND CITY</td>\n",
       "      <td>TN</td>\n",
       "      <td>37015</td>\n",
       "      <td>N OF BULL RUN RD W OF OLD HICKORY BLVD</td>\n",
       "      <td>CLAYTON HOMES #054</td>\n",
       "      <td>CAMV</td>\n",
       "      <td>CAZ09A001</td>\n",
       "      <td>3736813</td>\n",
       "      <td>Move existing mobile home from property out of...</td>\n",
       "      <td>1.0</td>\n",
       "      <td>4836 BULL RUN RD\\nASHLAND CITY, TN 37015\\n(36....</td>\n",
       "    </tr>\n",
       "  </tbody>\n",
       "</table>\n",
       "</div>"
      ],
      "text/plain": [
       "      Permit #     Permit Type Description   Permit Subtype Description  \\\n",
       "0  T2020016213  Building Residential - New      Single Family Residence   \n",
       "1  T2019073204      Building Moving Permit  Moving Permit - Residential   \n",
       "\n",
       "        Parcel Date Entered  Date Issued  Construction Cost  \\\n",
       "0  10216006100   03/11/2020          NaN                NaN   \n",
       "1  04600002700   12/02/2019          NaN             2500.0   \n",
       "\n",
       "             Address          City State    ZIP  \\\n",
       "0     748  DARDEN PL     NASHVILLE    TN  37205   \n",
       "1  4836  BULL RUN RD  ASHLAND CITY    TN  37015   \n",
       "\n",
       "                        Subdivision / Lot                       Contact  \\\n",
       "0         LOT 168 SEC 9 PT 2 HILLWOOD EST  Kingdom Builders of Tennesse   \n",
       "1  N OF BULL RUN RD W OF OLD HICKORY BLVD            CLAYTON HOMES #054   \n",
       "\n",
       "  Permit Type Permit Subtype  IVR Tracking #  \\\n",
       "0        CARN      CAA01R301         3781725   \n",
       "1        CAMV      CAZ09A001         3736813   \n",
       "\n",
       "                                             Purpose  Council District  \\\n",
       "0  New Single family dwelling.  REJECTED: APPLICA...              23.0   \n",
       "1  Move existing mobile home from property out of...               1.0   \n",
       "\n",
       "                                     Mapped Location  \n",
       "0  748 DARDEN PL\\nNASHVILLE, TN 37205\\n(36.125944...  \n",
       "1  4836 BULL RUN RD\\nASHLAND CITY, TN 37015\\n(36....  "
      ]
     },
     "execution_count": 168,
     "metadata": {},
     "output_type": "execute_result"
    }
   ],
   "source": [
    "# Building Dept. Permit Applications\n",
    "\n",
    "df_bldg_apps = pd.read_csv('../data/raw/Building_Permit_Applications_2020_06_05.csv')\n",
    "df_bldg_apps.head(2)"
   ]
  },
  {
   "cell_type": "code",
   "execution_count": 308,
   "metadata": {
    "collapsed": true
   },
   "outputs": [
    {
     "data": {
      "text/plain": [
       "(3096, 22)"
      ]
     },
     "execution_count": 308,
     "metadata": {},
     "output_type": "execute_result"
    }
   ],
   "source": [
    "# Confirming shape. OK = 3106 rows (# from data.Nashville.gov website)\n",
    "\n",
    "df_bldg_apps.shape"
   ]
  },
  {
   "cell_type": "code",
   "execution_count": 170,
   "metadata": {
    "collapsed": true
   },
   "outputs": [
    {
     "data": {
      "text/html": [
       "<div>\n",
       "<style scoped>\n",
       "    .dataframe tbody tr th:only-of-type {\n",
       "        vertical-align: middle;\n",
       "    }\n",
       "\n",
       "    .dataframe tbody tr th {\n",
       "        vertical-align: top;\n",
       "    }\n",
       "\n",
       "    .dataframe thead th {\n",
       "        text-align: right;\n",
       "    }\n",
       "</style>\n",
       "<table border=\"1\" class=\"dataframe\">\n",
       "  <thead>\n",
       "    <tr style=\"text-align: right;\">\n",
       "      <th></th>\n",
       "      <th>Permit #</th>\n",
       "      <th>Permit Type Description</th>\n",
       "      <th>Permit Subtype Description</th>\n",
       "      <th>Parcel</th>\n",
       "      <th>Date Entered</th>\n",
       "      <th>Date Issued</th>\n",
       "      <th>Construction Cost</th>\n",
       "      <th>Address</th>\n",
       "      <th>City</th>\n",
       "      <th>State</th>\n",
       "      <th>ZIP</th>\n",
       "      <th>Subdivision / Lot</th>\n",
       "      <th>Contact</th>\n",
       "      <th>Permit Type</th>\n",
       "      <th>Permit Subtype</th>\n",
       "      <th>IVR Tracking #</th>\n",
       "      <th>Purpose</th>\n",
       "      <th>Council District</th>\n",
       "      <th>Census Tract</th>\n",
       "      <th>Mapped Location</th>\n",
       "    </tr>\n",
       "  </thead>\n",
       "  <tbody>\n",
       "    <tr>\n",
       "      <th>0</th>\n",
       "      <td>2019070460</td>\n",
       "      <td>Building Residential - New</td>\n",
       "      <td>Single Family Residence</td>\n",
       "      <td>058100C04900CO</td>\n",
       "      <td>11/18/2019</td>\n",
       "      <td>12/09/2019</td>\n",
       "      <td>270585.0</td>\n",
       "      <td>1037  LAWSONS RIDGE DR</td>\n",
       "      <td>NASHVILLE</td>\n",
       "      <td>TN</td>\n",
       "      <td>37218</td>\n",
       "      <td>LOT 49 CARRINGTON PLACE PH 5</td>\n",
       "      <td>CELEBRATION HOMES LLC</td>\n",
       "      <td>CARN</td>\n",
       "      <td>CAA01R301</td>\n",
       "      <td>3733056</td>\n",
       "      <td>To construct a single family residence of 2402...</td>\n",
       "      <td>1.0</td>\n",
       "      <td>37010105.0</td>\n",
       "      <td>1037 LAWSONS RIDGE DR\\nNASHVILLE, TN 37218</td>\n",
       "    </tr>\n",
       "    <tr>\n",
       "      <th>1</th>\n",
       "      <td>2020016259</td>\n",
       "      <td>Building Residential - Rehab</td>\n",
       "      <td>Single Family Residence</td>\n",
       "      <td>160150A07000CO</td>\n",
       "      <td>03/12/2020</td>\n",
       "      <td>03/12/2020</td>\n",
       "      <td>12000.0</td>\n",
       "      <td>210  HEARTHSTONE MANOR LN</td>\n",
       "      <td>BRENTWOOD</td>\n",
       "      <td>TN</td>\n",
       "      <td>37027</td>\n",
       "      <td>UNIT 70 HEARTHSTONE MANOR CONDOMINIUM PHASE 4</td>\n",
       "      <td>ACCESS &amp; MOBILITY INC</td>\n",
       "      <td>CARR</td>\n",
       "      <td>CAA01R301</td>\n",
       "      <td>3781961</td>\n",
       "      <td>to install a new elevator/platform lift from g...</td>\n",
       "      <td>4.0</td>\n",
       "      <td>37018803.0</td>\n",
       "      <td>210 HEARTHSTONE MANOR LN\\nBRENTWOOD, TN 37027\\...</td>\n",
       "    </tr>\n",
       "  </tbody>\n",
       "</table>\n",
       "</div>"
      ],
      "text/plain": [
       "     Permit #       Permit Type Description Permit Subtype Description  \\\n",
       "0  2019070460    Building Residential - New    Single Family Residence   \n",
       "1  2020016259  Building Residential - Rehab    Single Family Residence   \n",
       "\n",
       "           Parcel Date Entered Date Issued  Construction Cost  \\\n",
       "0  058100C04900CO   11/18/2019  12/09/2019           270585.0   \n",
       "1  160150A07000CO   03/12/2020  03/12/2020            12000.0   \n",
       "\n",
       "                     Address       City State    ZIP  \\\n",
       "0     1037  LAWSONS RIDGE DR  NASHVILLE    TN  37218   \n",
       "1  210  HEARTHSTONE MANOR LN  BRENTWOOD    TN  37027   \n",
       "\n",
       "                               Subdivision / Lot                Contact  \\\n",
       "0                   LOT 49 CARRINGTON PLACE PH 5  CELEBRATION HOMES LLC   \n",
       "1  UNIT 70 HEARTHSTONE MANOR CONDOMINIUM PHASE 4  ACCESS & MOBILITY INC   \n",
       "\n",
       "  Permit Type Permit Subtype  IVR Tracking #  \\\n",
       "0        CARN      CAA01R301         3733056   \n",
       "1        CARR      CAA01R301         3781961   \n",
       "\n",
       "                                             Purpose  Council District  \\\n",
       "0  To construct a single family residence of 2402...               1.0   \n",
       "1  to install a new elevator/platform lift from g...               4.0   \n",
       "\n",
       "   Census Tract                                    Mapped Location  \n",
       "0    37010105.0         1037 LAWSONS RIDGE DR\\nNASHVILLE, TN 37218  \n",
       "1    37018803.0  210 HEARTHSTONE MANOR LN\\nBRENTWOOD, TN 37027\\...  "
      ]
     },
     "execution_count": 170,
     "metadata": {},
     "output_type": "execute_result"
    }
   ],
   "source": [
    "# Building Dept. Permits Issued\n",
    "# low_memory = False was added to remove a low-memory warning. Doing this prevents the\n",
    "# system from trying to assign dtypes until after the full file has been read\n",
    "# Resource: https://tinyurl.com/stackoverflow-low-memory\n",
    "\n",
    "df_bldg_issued = pd.read_csv('../data/raw/Building_Permits_Issued_2020_06_05.csv'\n",
    "                             , low_memory=False)\n",
    "df_bldg_issued.head(2)"
   ]
  },
  {
   "cell_type": "code",
   "execution_count": 171,
   "metadata": {
    "collapsed": true
   },
   "outputs": [
    {
     "data": {
      "text/plain": [
       "(33909, 20)"
      ]
     },
     "execution_count": 171,
     "metadata": {},
     "output_type": "execute_result"
    }
   ],
   "source": [
    "# Confirming shape. OK = 33909 rows (# from data.Nashville.gov website)\n",
    "\n",
    "df_bldg_issued.shape"
   ]
  },
  {
   "cell_type": "code",
   "execution_count": 172,
   "metadata": {
    "collapsed": true
   },
   "outputs": [
    {
     "data": {
      "text/html": [
       "<div>\n",
       "<style scoped>\n",
       "    .dataframe tbody tr th:only-of-type {\n",
       "        vertical-align: middle;\n",
       "    }\n",
       "\n",
       "    .dataframe tbody tr th {\n",
       "        vertical-align: top;\n",
       "    }\n",
       "\n",
       "    .dataframe thead th {\n",
       "        text-align: right;\n",
       "    }\n",
       "</style>\n",
       "<table border=\"1\" class=\"dataframe\">\n",
       "  <thead>\n",
       "    <tr style=\"text-align: right;\">\n",
       "      <th></th>\n",
       "      <th>Date Submitted</th>\n",
       "      <th>Application Type Description</th>\n",
       "      <th>MPC Case #</th>\n",
       "      <th>Ordinance #</th>\n",
       "      <th>Status</th>\n",
       "      <th>MPC Meeting Date</th>\n",
       "      <th>MPC Action</th>\n",
       "      <th>Project Name</th>\n",
       "      <th>Location</th>\n",
       "      <th>Reviewer</th>\n",
       "      <th>...</th>\n",
       "      <th>Applicant Address 2</th>\n",
       "      <th>Applicant City</th>\n",
       "      <th>Applicant State</th>\n",
       "      <th>Applicant ZIP</th>\n",
       "      <th>Council 3rd Reading Date</th>\n",
       "      <th>Council 3rd Reading Action</th>\n",
       "      <th>Council District</th>\n",
       "      <th>Latitude</th>\n",
       "      <th>Longitude</th>\n",
       "      <th>Mapped Location</th>\n",
       "    </tr>\n",
       "  </thead>\n",
       "  <tbody>\n",
       "    <tr>\n",
       "      <th>0</th>\n",
       "      <td>04/01/2019</td>\n",
       "      <td>Subdivision (Final Plat)</td>\n",
       "      <td>2019S-086-001</td>\n",
       "      <td>NaN</td>\n",
       "      <td>PENDING</td>\n",
       "      <td>06/11/2020</td>\n",
       "      <td>NaN</td>\n",
       "      <td>FINAL PLAT RESUBDIVISION OF LOT 3 AND 4 ON THE...</td>\n",
       "      <td>227 MARCIA AVE 37209</td>\n",
       "      <td>Joren Dunnavant</td>\n",
       "      <td>...</td>\n",
       "      <td>NaN</td>\n",
       "      <td>Nashville</td>\n",
       "      <td>TN</td>\n",
       "      <td>37203</td>\n",
       "      <td>NaN</td>\n",
       "      <td>NaN</td>\n",
       "      <td>20 (Mary Carolyn Roberts)</td>\n",
       "      <td>36.143923</td>\n",
       "      <td>-86.868254</td>\n",
       "      <td>(36.143922831000054, -86.86825400699996)</td>\n",
       "    </tr>\n",
       "    <tr>\n",
       "      <th>1</th>\n",
       "      <td>11/27/2019</td>\n",
       "      <td>Specific Plan (Final Site Plan)</td>\n",
       "      <td>2016SP-076-008</td>\n",
       "      <td>NaN</td>\n",
       "      <td>PENDING</td>\n",
       "      <td>01/16/2020</td>\n",
       "      <td>NaN</td>\n",
       "      <td>RED OAKS TOWNHOMES</td>\n",
       "      <td>0 DEW ST 37206</td>\n",
       "      <td>Abbie Rickoff</td>\n",
       "      <td>...</td>\n",
       "      <td>NaN</td>\n",
       "      <td>Nashville</td>\n",
       "      <td>TN</td>\n",
       "      <td>37204</td>\n",
       "      <td>NaN</td>\n",
       "      <td>NaN</td>\n",
       "      <td>06 (Brett Withers)</td>\n",
       "      <td>36.165962</td>\n",
       "      <td>-86.753490</td>\n",
       "      <td>(36.165961579000054, -86.75348957099999)</td>\n",
       "    </tr>\n",
       "  </tbody>\n",
       "</table>\n",
       "<p>2 rows × 27 columns</p>\n",
       "</div>"
      ],
      "text/plain": [
       "  Date Submitted     Application Type Description      MPC Case # Ordinance #  \\\n",
       "0     04/01/2019         Subdivision (Final Plat)   2019S-086-001         NaN   \n",
       "1     11/27/2019  Specific Plan (Final Site Plan)  2016SP-076-008         NaN   \n",
       "\n",
       "    Status MPC Meeting Date MPC Action  \\\n",
       "0  PENDING       06/11/2020        NaN   \n",
       "1  PENDING       01/16/2020        NaN   \n",
       "\n",
       "                                        Project Name              Location  \\\n",
       "0  FINAL PLAT RESUBDIVISION OF LOT 3 AND 4 ON THE...  227 MARCIA AVE 37209   \n",
       "1                                 RED OAKS TOWNHOMES        0 DEW ST 37206   \n",
       "\n",
       "          Reviewer  ... Applicant Address 2 Applicant City Applicant State  \\\n",
       "0  Joren Dunnavant  ...                 NaN      Nashville              TN   \n",
       "1    Abbie Rickoff  ...                 NaN      Nashville              TN   \n",
       "\n",
       "  Applicant ZIP Council 3rd Reading Date Council 3rd Reading Action  \\\n",
       "0         37203                      NaN                        NaN   \n",
       "1         37204                      NaN                        NaN   \n",
       "\n",
       "            Council District   Latitude  Longitude  \\\n",
       "0  20 (Mary Carolyn Roberts)  36.143923 -86.868254   \n",
       "1         06 (Brett Withers)  36.165962 -86.753490   \n",
       "\n",
       "                            Mapped Location  \n",
       "0  (36.143922831000054, -86.86825400699996)  \n",
       "1  (36.165961579000054, -86.75348957099999)  \n",
       "\n",
       "[2 rows x 27 columns]"
      ]
     },
     "execution_count": 172,
     "metadata": {},
     "output_type": "execute_result"
    }
   ],
   "source": [
    "# Planning/Zoning Applications & Issued\n",
    "# Initially read in file through 6/5/2020, but that had wrong dates.\n",
    "\n",
    "df_planning = pd.read_csv('../data/raw/Planning_Department_Development_Applications_2020_06_05.csv')\n",
    "df_planning.head(2)"
   ]
  },
  {
   "cell_type": "code",
   "execution_count": 173,
   "metadata": {
    "collapsed": true
   },
   "outputs": [
    {
     "data": {
      "text/plain": [
       "(521, 27)"
      ]
     },
     "execution_count": 173,
     "metadata": {},
     "output_type": "execute_result"
    }
   ],
   "source": [
    "# Confirming shape. OK = 521 rows (# from data.Nashville.gov website)\n",
    "\n",
    "df_planning.shape"
   ]
  },
  {
   "cell_type": "code",
   "execution_count": 174,
   "metadata": {
    "collapsed": true
   },
   "outputs": [
    {
     "name": "stdout",
     "output_type": "stream",
     "text": [
      "epsg:4326\n"
     ]
    },
    {
     "data": {
      "text/html": [
       "<div>\n",
       "<style scoped>\n",
       "    .dataframe tbody tr th:only-of-type {\n",
       "        vertical-align: middle;\n",
       "    }\n",
       "\n",
       "    .dataframe tbody tr th {\n",
       "        vertical-align: top;\n",
       "    }\n",
       "\n",
       "    .dataframe thead th {\n",
       "        text-align: right;\n",
       "    }\n",
       "</style>\n",
       "<table border=\"1\" class=\"dataframe\">\n",
       "  <thead>\n",
       "    <tr style=\"text-align: right;\">\n",
       "      <th></th>\n",
       "      <th>name</th>\n",
       "      <th>geometry</th>\n",
       "    </tr>\n",
       "  </thead>\n",
       "  <tbody>\n",
       "    <tr>\n",
       "      <th>0</th>\n",
       "      <td>Historic Buena Vista</td>\n",
       "      <td>MULTIPOLYGON (((-86.79511 36.17576, -86.79403 ...</td>\n",
       "    </tr>\n",
       "    <tr>\n",
       "      <th>1</th>\n",
       "      <td>Charlotte Park</td>\n",
       "      <td>MULTIPOLYGON (((-86.87460 36.15758, -86.87317 ...</td>\n",
       "    </tr>\n",
       "  </tbody>\n",
       "</table>\n",
       "</div>"
      ],
      "text/plain": [
       "                   name                                           geometry\n",
       "0  Historic Buena Vista  MULTIPOLYGON (((-86.79511 36.17576, -86.79403 ...\n",
       "1        Charlotte Park  MULTIPOLYGON (((-86.87460 36.15758, -86.87317 ..."
      ]
     },
     "execution_count": 174,
     "metadata": {},
     "output_type": "execute_result"
    }
   ],
   "source": [
    "# Neighborhood Assoc boundaries GIS file, using geopandas\n",
    "\n",
    "df_na_bound = gpd.read_file('../data/raw/Neighborhood Association Boundaries (GIS)_2020_06_03.geojson')\n",
    "print(df_na_bound.crs)\n",
    "df_na_bound.head(2)"
   ]
  },
  {
   "cell_type": "markdown",
   "metadata": {},
   "source": [
    "<a id='Column Name Cleanup - Bldg Permit Applications'></a>\n",
    "## Column Name Cleanup - Bldg Permit Applications"
   ]
  },
  {
   "cell_type": "code",
   "execution_count": 175,
   "metadata": {
    "collapsed": true
   },
   "outputs": [
    {
     "data": {
      "text/plain": [
       "Index(['Permit #', 'Permit Type Description', 'Permit Subtype Description',\n",
       "       'Parcel', 'Date Entered', 'Date Issued', 'Construction Cost', 'Address',\n",
       "       'City', 'State', 'ZIP', 'Subdivision / Lot', 'Contact', 'Permit Type',\n",
       "       'Permit Subtype', 'IVR Tracking #', 'Purpose', 'Council District',\n",
       "       'Mapped Location'],\n",
       "      dtype='object')"
      ]
     },
     "execution_count": 175,
     "metadata": {},
     "output_type": "execute_result"
    }
   ],
   "source": [
    "df_bldg_apps.columns"
   ]
  },
  {
   "cell_type": "code",
   "execution_count": 176,
   "metadata": {
    "collapsed": true
   },
   "outputs": [
    {
     "data": {
      "text/html": [
       "<div>\n",
       "<style scoped>\n",
       "    .dataframe tbody tr th:only-of-type {\n",
       "        vertical-align: middle;\n",
       "    }\n",
       "\n",
       "    .dataframe tbody tr th {\n",
       "        vertical-align: top;\n",
       "    }\n",
       "\n",
       "    .dataframe thead th {\n",
       "        text-align: right;\n",
       "    }\n",
       "</style>\n",
       "<table border=\"1\" class=\"dataframe\">\n",
       "  <thead>\n",
       "    <tr style=\"text-align: right;\">\n",
       "      <th></th>\n",
       "      <th>permit_number</th>\n",
       "      <th>permit_type_descr</th>\n",
       "      <th>permit_subtype_descr</th>\n",
       "      <th>parcel</th>\n",
       "      <th>date_entered</th>\n",
       "      <th>date_issued</th>\n",
       "      <th>construction_cost</th>\n",
       "      <th>address</th>\n",
       "      <th>city</th>\n",
       "      <th>state</th>\n",
       "      <th>zip</th>\n",
       "      <th>subdivision___lot</th>\n",
       "      <th>contact</th>\n",
       "      <th>permit_type</th>\n",
       "      <th>permit_subtype</th>\n",
       "      <th>ivr_tracking_number</th>\n",
       "      <th>purpose</th>\n",
       "      <th>council_district</th>\n",
       "      <th>mapped_location</th>\n",
       "    </tr>\n",
       "  </thead>\n",
       "  <tbody>\n",
       "    <tr>\n",
       "      <th>0</th>\n",
       "      <td>T2020016213</td>\n",
       "      <td>Building Residential - New</td>\n",
       "      <td>Single Family Residence</td>\n",
       "      <td>10216006100</td>\n",
       "      <td>03/11/2020</td>\n",
       "      <td>NaN</td>\n",
       "      <td>NaN</td>\n",
       "      <td>748  DARDEN PL</td>\n",
       "      <td>NASHVILLE</td>\n",
       "      <td>TN</td>\n",
       "      <td>37205</td>\n",
       "      <td>LOT 168 SEC 9 PT 2 HILLWOOD EST</td>\n",
       "      <td>Kingdom Builders of Tennesse</td>\n",
       "      <td>CARN</td>\n",
       "      <td>CAA01R301</td>\n",
       "      <td>3781725</td>\n",
       "      <td>New Single family dwelling.  REJECTED: APPLICA...</td>\n",
       "      <td>23.0</td>\n",
       "      <td>748 DARDEN PL\\nNASHVILLE, TN 37205\\n(36.125944...</td>\n",
       "    </tr>\n",
       "    <tr>\n",
       "      <th>1</th>\n",
       "      <td>T2019073204</td>\n",
       "      <td>Building Moving Permit</td>\n",
       "      <td>Moving Permit - Residential</td>\n",
       "      <td>04600002700</td>\n",
       "      <td>12/02/2019</td>\n",
       "      <td>NaN</td>\n",
       "      <td>2500.0</td>\n",
       "      <td>4836  BULL RUN RD</td>\n",
       "      <td>ASHLAND CITY</td>\n",
       "      <td>TN</td>\n",
       "      <td>37015</td>\n",
       "      <td>N OF BULL RUN RD W OF OLD HICKORY BLVD</td>\n",
       "      <td>CLAYTON HOMES #054</td>\n",
       "      <td>CAMV</td>\n",
       "      <td>CAZ09A001</td>\n",
       "      <td>3736813</td>\n",
       "      <td>Move existing mobile home from property out of...</td>\n",
       "      <td>1.0</td>\n",
       "      <td>4836 BULL RUN RD\\nASHLAND CITY, TN 37015\\n(36....</td>\n",
       "    </tr>\n",
       "  </tbody>\n",
       "</table>\n",
       "</div>"
      ],
      "text/plain": [
       "  permit_number           permit_type_descr         permit_subtype_descr  \\\n",
       "0   T2020016213  Building Residential - New      Single Family Residence   \n",
       "1   T2019073204      Building Moving Permit  Moving Permit - Residential   \n",
       "\n",
       "        parcel date_entered  date_issued  construction_cost  \\\n",
       "0  10216006100   03/11/2020          NaN                NaN   \n",
       "1  04600002700   12/02/2019          NaN             2500.0   \n",
       "\n",
       "             address          city state    zip  \\\n",
       "0     748  DARDEN PL     NASHVILLE    TN  37205   \n",
       "1  4836  BULL RUN RD  ASHLAND CITY    TN  37015   \n",
       "\n",
       "                        subdivision___lot                       contact  \\\n",
       "0         LOT 168 SEC 9 PT 2 HILLWOOD EST  Kingdom Builders of Tennesse   \n",
       "1  N OF BULL RUN RD W OF OLD HICKORY BLVD            CLAYTON HOMES #054   \n",
       "\n",
       "  permit_type permit_subtype  ivr_tracking_number  \\\n",
       "0        CARN      CAA01R301              3781725   \n",
       "1        CAMV      CAZ09A001              3736813   \n",
       "\n",
       "                                             purpose  council_district  \\\n",
       "0  New Single family dwelling.  REJECTED: APPLICA...              23.0   \n",
       "1  Move existing mobile home from property out of...               1.0   \n",
       "\n",
       "                                     mapped_location  \n",
       "0  748 DARDEN PL\\nNASHVILLE, TN 37205\\n(36.125944...  \n",
       "1  4836 BULL RUN RD\\nASHLAND CITY, TN 37015\\n(36....  "
      ]
     },
     "execution_count": 176,
     "metadata": {},
     "output_type": "execute_result"
    }
   ],
   "source": [
    "df_bldg_apps.columns = (df_bldg_apps.columns\n",
    "                        .str.replace(\" \", \"_\")\n",
    "                        .str.replace(\"/\", \"_\")\n",
    "                        .str.replace(\"Description\", \"descr\")\n",
    "                        .str.replace(\"#\", \"number\")\n",
    "                        .str.lower())\n",
    "df_bldg_apps.head(2)"
   ]
  },
  {
   "cell_type": "code",
   "execution_count": 177,
   "metadata": {
    "collapsed": true
   },
   "outputs": [
    {
     "data": {
      "text/plain": [
       "Index(['permit_number', 'permit_type_descr', 'permit_subtype_descr', 'parcel',\n",
       "       'date_entered', 'date_issued', 'construction_cost', 'address', 'city',\n",
       "       'state', 'zip', 'subdivision_lot', 'contact', 'permit_type',\n",
       "       'permit_subtype', 'ivr_tracking_number', 'purpose', 'council_district',\n",
       "       'mapped_location'],\n",
       "      dtype='object')"
      ]
     },
     "execution_count": 177,
     "metadata": {},
     "output_type": "execute_result"
    }
   ],
   "source": [
    "# To correct issue with too many underscores in subdivision_lot column name\n",
    "\n",
    "df_bldg_apps = df_bldg_apps.rename(columns = {'subdivision___lot': 'subdivision_lot'})\n",
    "df_bldg_apps.columns"
   ]
  },
  {
   "cell_type": "markdown",
   "metadata": {},
   "source": [
    "<a id='Column Name Cleanup -  Bldg Permits Issued'></a>\n",
    "## Column Name Cleanup -  Bldg Permits Issued"
   ]
  },
  {
   "cell_type": "code",
   "execution_count": 178,
   "metadata": {
    "collapsed": true
   },
   "outputs": [
    {
     "data": {
      "text/plain": [
       "Index(['Permit #', 'Permit Type Description', 'Permit Subtype Description',\n",
       "       'Parcel', 'Date Entered', 'Date Issued', 'Construction Cost', 'Address',\n",
       "       'City', 'State', 'ZIP', 'Subdivision / Lot', 'Contact', 'Permit Type',\n",
       "       'Permit Subtype', 'IVR Tracking #', 'Purpose', 'Council District',\n",
       "       'Census Tract', 'Mapped Location'],\n",
       "      dtype='object')"
      ]
     },
     "execution_count": 178,
     "metadata": {},
     "output_type": "execute_result"
    }
   ],
   "source": [
    "df_bldg_issued.columns"
   ]
  },
  {
   "cell_type": "code",
   "execution_count": 179,
   "metadata": {
    "collapsed": true
   },
   "outputs": [
    {
     "data": {
      "text/html": [
       "<div>\n",
       "<style scoped>\n",
       "    .dataframe tbody tr th:only-of-type {\n",
       "        vertical-align: middle;\n",
       "    }\n",
       "\n",
       "    .dataframe tbody tr th {\n",
       "        vertical-align: top;\n",
       "    }\n",
       "\n",
       "    .dataframe thead th {\n",
       "        text-align: right;\n",
       "    }\n",
       "</style>\n",
       "<table border=\"1\" class=\"dataframe\">\n",
       "  <thead>\n",
       "    <tr style=\"text-align: right;\">\n",
       "      <th></th>\n",
       "      <th>permit_number</th>\n",
       "      <th>permit_type_descr</th>\n",
       "      <th>permit_subtype_descr</th>\n",
       "      <th>parcel</th>\n",
       "      <th>date_entered</th>\n",
       "      <th>date_issued</th>\n",
       "      <th>construction_cost</th>\n",
       "      <th>address</th>\n",
       "      <th>city</th>\n",
       "      <th>state</th>\n",
       "      <th>zip</th>\n",
       "      <th>subdivision___lot</th>\n",
       "      <th>contact</th>\n",
       "      <th>permit_type</th>\n",
       "      <th>permit_subtype</th>\n",
       "      <th>ivr_tracking_number</th>\n",
       "      <th>purpose</th>\n",
       "      <th>council_district</th>\n",
       "      <th>census_tract</th>\n",
       "      <th>mapped_location</th>\n",
       "    </tr>\n",
       "  </thead>\n",
       "  <tbody>\n",
       "    <tr>\n",
       "      <th>0</th>\n",
       "      <td>2019070460</td>\n",
       "      <td>Building Residential - New</td>\n",
       "      <td>Single Family Residence</td>\n",
       "      <td>058100C04900CO</td>\n",
       "      <td>11/18/2019</td>\n",
       "      <td>12/09/2019</td>\n",
       "      <td>270585.0</td>\n",
       "      <td>1037  LAWSONS RIDGE DR</td>\n",
       "      <td>NASHVILLE</td>\n",
       "      <td>TN</td>\n",
       "      <td>37218</td>\n",
       "      <td>LOT 49 CARRINGTON PLACE PH 5</td>\n",
       "      <td>CELEBRATION HOMES LLC</td>\n",
       "      <td>CARN</td>\n",
       "      <td>CAA01R301</td>\n",
       "      <td>3733056</td>\n",
       "      <td>To construct a single family residence of 2402...</td>\n",
       "      <td>1.0</td>\n",
       "      <td>37010105.0</td>\n",
       "      <td>1037 LAWSONS RIDGE DR\\nNASHVILLE, TN 37218</td>\n",
       "    </tr>\n",
       "    <tr>\n",
       "      <th>1</th>\n",
       "      <td>2020016259</td>\n",
       "      <td>Building Residential - Rehab</td>\n",
       "      <td>Single Family Residence</td>\n",
       "      <td>160150A07000CO</td>\n",
       "      <td>03/12/2020</td>\n",
       "      <td>03/12/2020</td>\n",
       "      <td>12000.0</td>\n",
       "      <td>210  HEARTHSTONE MANOR LN</td>\n",
       "      <td>BRENTWOOD</td>\n",
       "      <td>TN</td>\n",
       "      <td>37027</td>\n",
       "      <td>UNIT 70 HEARTHSTONE MANOR CONDOMINIUM PHASE 4</td>\n",
       "      <td>ACCESS &amp; MOBILITY INC</td>\n",
       "      <td>CARR</td>\n",
       "      <td>CAA01R301</td>\n",
       "      <td>3781961</td>\n",
       "      <td>to install a new elevator/platform lift from g...</td>\n",
       "      <td>4.0</td>\n",
       "      <td>37018803.0</td>\n",
       "      <td>210 HEARTHSTONE MANOR LN\\nBRENTWOOD, TN 37027\\...</td>\n",
       "    </tr>\n",
       "  </tbody>\n",
       "</table>\n",
       "</div>"
      ],
      "text/plain": [
       "  permit_number             permit_type_descr     permit_subtype_descr  \\\n",
       "0    2019070460    Building Residential - New  Single Family Residence   \n",
       "1    2020016259  Building Residential - Rehab  Single Family Residence   \n",
       "\n",
       "           parcel date_entered date_issued  construction_cost  \\\n",
       "0  058100C04900CO   11/18/2019  12/09/2019           270585.0   \n",
       "1  160150A07000CO   03/12/2020  03/12/2020            12000.0   \n",
       "\n",
       "                     address       city state    zip  \\\n",
       "0     1037  LAWSONS RIDGE DR  NASHVILLE    TN  37218   \n",
       "1  210  HEARTHSTONE MANOR LN  BRENTWOOD    TN  37027   \n",
       "\n",
       "                               subdivision___lot                contact  \\\n",
       "0                   LOT 49 CARRINGTON PLACE PH 5  CELEBRATION HOMES LLC   \n",
       "1  UNIT 70 HEARTHSTONE MANOR CONDOMINIUM PHASE 4  ACCESS & MOBILITY INC   \n",
       "\n",
       "  permit_type permit_subtype  ivr_tracking_number  \\\n",
       "0        CARN      CAA01R301              3733056   \n",
       "1        CARR      CAA01R301              3781961   \n",
       "\n",
       "                                             purpose  council_district  \\\n",
       "0  To construct a single family residence of 2402...               1.0   \n",
       "1  to install a new elevator/platform lift from g...               4.0   \n",
       "\n",
       "   census_tract                                    mapped_location  \n",
       "0    37010105.0         1037 LAWSONS RIDGE DR\\nNASHVILLE, TN 37218  \n",
       "1    37018803.0  210 HEARTHSTONE MANOR LN\\nBRENTWOOD, TN 37027\\...  "
      ]
     },
     "execution_count": 179,
     "metadata": {},
     "output_type": "execute_result"
    }
   ],
   "source": [
    "df_bldg_issued.columns = (df_bldg_issued.columns\n",
    "                        .str.replace(\" \", \"_\")\n",
    "                        .str.replace(\"/\", \"_\")\n",
    "                        .str.replace(\"Description\", \"descr\")\n",
    "                        .str.replace(\"#\", \"number\")\n",
    "                        .str.lower())\n",
    "df_bldg_issued.head(2)"
   ]
  },
  {
   "cell_type": "code",
   "execution_count": 180,
   "metadata": {
    "collapsed": true
   },
   "outputs": [
    {
     "data": {
      "text/plain": [
       "Index(['permit_number', 'permit_type_descr', 'permit_subtype_descr', 'parcel',\n",
       "       'date_entered', 'date_issued', 'construction_cost', 'address', 'city',\n",
       "       'state', 'zip', 'subdivision_lot', 'contact', 'permit_type',\n",
       "       'permit_subtype', 'ivr_tracking_number', 'purpose', 'council_district',\n",
       "       'census_tract', 'mapped_location'],\n",
       "      dtype='object')"
      ]
     },
     "execution_count": 180,
     "metadata": {},
     "output_type": "execute_result"
    }
   ],
   "source": [
    "# To correct issue with too many underscores in subdivision_lot column name\n",
    "\n",
    "df_bldg_issued = df_bldg_issued.rename(columns = {'subdivision___lot': 'subdivision_lot'})\n",
    "df_bldg_issued.columns"
   ]
  },
  {
   "cell_type": "markdown",
   "metadata": {},
   "source": [
    "<a id='Column Name Cleanup -  Planning Dept'></a>\n",
    "## Column Name Cleanup -  Planning Dept"
   ]
  },
  {
   "cell_type": "code",
   "execution_count": 181,
   "metadata": {
    "collapsed": true
   },
   "outputs": [
    {
     "data": {
      "text/plain": [
       "Index(['Date Submitted', 'Application Type Description', 'MPC Case #',\n",
       "       'Ordinance #', 'Status', 'MPC Meeting Date', 'MPC Action',\n",
       "       'Project Name', 'Location', 'Reviewer', 'Reviewer Email',\n",
       "       'Case Description', 'Applicant', 'Applicant Representative',\n",
       "       'Applicant Email', 'Applicant Phone', 'Applicant Address 1',\n",
       "       'Applicant Address 2', 'Applicant City', 'Applicant State',\n",
       "       'Applicant ZIP', 'Council 3rd Reading Date',\n",
       "       'Council 3rd Reading Action', 'Council District', 'Latitude',\n",
       "       'Longitude', 'Mapped Location'],\n",
       "      dtype='object')"
      ]
     },
     "execution_count": 181,
     "metadata": {},
     "output_type": "execute_result"
    }
   ],
   "source": [
    "df_planning.columns"
   ]
  },
  {
   "cell_type": "code",
   "execution_count": 182,
   "metadata": {
    "collapsed": true
   },
   "outputs": [
    {
     "data": {
      "text/html": [
       "<div>\n",
       "<style scoped>\n",
       "    .dataframe tbody tr th:only-of-type {\n",
       "        vertical-align: middle;\n",
       "    }\n",
       "\n",
       "    .dataframe tbody tr th {\n",
       "        vertical-align: top;\n",
       "    }\n",
       "\n",
       "    .dataframe thead th {\n",
       "        text-align: right;\n",
       "    }\n",
       "</style>\n",
       "<table border=\"1\" class=\"dataframe\">\n",
       "  <thead>\n",
       "    <tr style=\"text-align: right;\">\n",
       "      <th></th>\n",
       "      <th>date_submitted</th>\n",
       "      <th>application_type_descr</th>\n",
       "      <th>mpc_case_number</th>\n",
       "      <th>ordinance_number</th>\n",
       "      <th>status</th>\n",
       "      <th>mpc_meeting_date</th>\n",
       "      <th>mpc_action</th>\n",
       "      <th>project_name</th>\n",
       "      <th>location</th>\n",
       "      <th>reviewer</th>\n",
       "      <th>...</th>\n",
       "      <th>applicant_address_2</th>\n",
       "      <th>applicant_city</th>\n",
       "      <th>applicant_state</th>\n",
       "      <th>applicant_zip</th>\n",
       "      <th>council_3rd_reading_date</th>\n",
       "      <th>council_3rd_reading_action</th>\n",
       "      <th>council_district</th>\n",
       "      <th>latitude</th>\n",
       "      <th>longitude</th>\n",
       "      <th>mapped_location</th>\n",
       "    </tr>\n",
       "  </thead>\n",
       "  <tbody>\n",
       "    <tr>\n",
       "      <th>0</th>\n",
       "      <td>04/01/2019</td>\n",
       "      <td>Subdivision (Final Plat)</td>\n",
       "      <td>2019S-086-001</td>\n",
       "      <td>NaN</td>\n",
       "      <td>PENDING</td>\n",
       "      <td>06/11/2020</td>\n",
       "      <td>NaN</td>\n",
       "      <td>FINAL PLAT RESUBDIVISION OF LOT 3 AND 4 ON THE...</td>\n",
       "      <td>227 MARCIA AVE 37209</td>\n",
       "      <td>Joren Dunnavant</td>\n",
       "      <td>...</td>\n",
       "      <td>NaN</td>\n",
       "      <td>Nashville</td>\n",
       "      <td>TN</td>\n",
       "      <td>37203</td>\n",
       "      <td>NaN</td>\n",
       "      <td>NaN</td>\n",
       "      <td>20 (Mary Carolyn Roberts)</td>\n",
       "      <td>36.143923</td>\n",
       "      <td>-86.868254</td>\n",
       "      <td>(36.143922831000054, -86.86825400699996)</td>\n",
       "    </tr>\n",
       "    <tr>\n",
       "      <th>1</th>\n",
       "      <td>11/27/2019</td>\n",
       "      <td>Specific Plan (Final Site Plan)</td>\n",
       "      <td>2016SP-076-008</td>\n",
       "      <td>NaN</td>\n",
       "      <td>PENDING</td>\n",
       "      <td>01/16/2020</td>\n",
       "      <td>NaN</td>\n",
       "      <td>RED OAKS TOWNHOMES</td>\n",
       "      <td>0 DEW ST 37206</td>\n",
       "      <td>Abbie Rickoff</td>\n",
       "      <td>...</td>\n",
       "      <td>NaN</td>\n",
       "      <td>Nashville</td>\n",
       "      <td>TN</td>\n",
       "      <td>37204</td>\n",
       "      <td>NaN</td>\n",
       "      <td>NaN</td>\n",
       "      <td>06 (Brett Withers)</td>\n",
       "      <td>36.165962</td>\n",
       "      <td>-86.753490</td>\n",
       "      <td>(36.165961579000054, -86.75348957099999)</td>\n",
       "    </tr>\n",
       "  </tbody>\n",
       "</table>\n",
       "<p>2 rows × 27 columns</p>\n",
       "</div>"
      ],
      "text/plain": [
       "  date_submitted           application_type_descr mpc_case_number  \\\n",
       "0     04/01/2019         Subdivision (Final Plat)   2019S-086-001   \n",
       "1     11/27/2019  Specific Plan (Final Site Plan)  2016SP-076-008   \n",
       "\n",
       "  ordinance_number   status mpc_meeting_date mpc_action  \\\n",
       "0              NaN  PENDING       06/11/2020        NaN   \n",
       "1              NaN  PENDING       01/16/2020        NaN   \n",
       "\n",
       "                                        project_name              location  \\\n",
       "0  FINAL PLAT RESUBDIVISION OF LOT 3 AND 4 ON THE...  227 MARCIA AVE 37209   \n",
       "1                                 RED OAKS TOWNHOMES        0 DEW ST 37206   \n",
       "\n",
       "          reviewer  ... applicant_address_2 applicant_city applicant_state  \\\n",
       "0  Joren Dunnavant  ...                 NaN      Nashville              TN   \n",
       "1    Abbie Rickoff  ...                 NaN      Nashville              TN   \n",
       "\n",
       "  applicant_zip council_3rd_reading_date council_3rd_reading_action  \\\n",
       "0         37203                      NaN                        NaN   \n",
       "1         37204                      NaN                        NaN   \n",
       "\n",
       "            council_district   latitude  longitude  \\\n",
       "0  20 (Mary Carolyn Roberts)  36.143923 -86.868254   \n",
       "1         06 (Brett Withers)  36.165962 -86.753490   \n",
       "\n",
       "                            mapped_location  \n",
       "0  (36.143922831000054, -86.86825400699996)  \n",
       "1  (36.165961579000054, -86.75348957099999)  \n",
       "\n",
       "[2 rows x 27 columns]"
      ]
     },
     "execution_count": 182,
     "metadata": {},
     "output_type": "execute_result"
    }
   ],
   "source": [
    "df_planning.columns = (df_planning.columns\n",
    "                        .str.replace(\" \", \"_\")\n",
    "                        .str.replace(\"/\", \"_\")\n",
    "                        .str.replace(\"Description\", \"descr\")\n",
    "                        .str.replace(\"#\", \"number\")\n",
    "                        .str.lower())\n",
    "df_planning.head(2)"
   ]
  },
  {
   "cell_type": "markdown",
   "metadata": {},
   "source": [
    "<a id='Data type cleanup'></a>\n",
    "## Data type cleanup"
   ]
  },
  {
   "cell_type": "markdown",
   "metadata": {},
   "source": [
    "<a id='Bldg Permit Applications - dtype cleanup'></a>\n",
    "## Bldg Permit Applications - dtype cleanup"
   ]
  },
  {
   "cell_type": "code",
   "execution_count": 183,
   "metadata": {
    "collapsed": true
   },
   "outputs": [
    {
     "data": {
      "text/html": [
       "<div>\n",
       "<style scoped>\n",
       "    .dataframe tbody tr th:only-of-type {\n",
       "        vertical-align: middle;\n",
       "    }\n",
       "\n",
       "    .dataframe tbody tr th {\n",
       "        vertical-align: top;\n",
       "    }\n",
       "\n",
       "    .dataframe thead th {\n",
       "        text-align: right;\n",
       "    }\n",
       "</style>\n",
       "<table border=\"1\" class=\"dataframe\">\n",
       "  <thead>\n",
       "    <tr style=\"text-align: right;\">\n",
       "      <th></th>\n",
       "      <th>permit_number</th>\n",
       "      <th>permit_type_descr</th>\n",
       "      <th>permit_subtype_descr</th>\n",
       "      <th>parcel</th>\n",
       "      <th>date_entered</th>\n",
       "      <th>date_issued</th>\n",
       "      <th>construction_cost</th>\n",
       "      <th>address</th>\n",
       "      <th>city</th>\n",
       "      <th>state</th>\n",
       "      <th>zip</th>\n",
       "      <th>subdivision_lot</th>\n",
       "      <th>contact</th>\n",
       "      <th>permit_type</th>\n",
       "      <th>permit_subtype</th>\n",
       "      <th>ivr_tracking_number</th>\n",
       "      <th>purpose</th>\n",
       "      <th>council_district</th>\n",
       "      <th>mapped_location</th>\n",
       "    </tr>\n",
       "  </thead>\n",
       "  <tbody>\n",
       "    <tr>\n",
       "      <th>0</th>\n",
       "      <td>T2020016213</td>\n",
       "      <td>Building Residential - New</td>\n",
       "      <td>Single Family Residence</td>\n",
       "      <td>10216006100</td>\n",
       "      <td>03/11/2020</td>\n",
       "      <td>NaN</td>\n",
       "      <td>NaN</td>\n",
       "      <td>748  DARDEN PL</td>\n",
       "      <td>NASHVILLE</td>\n",
       "      <td>TN</td>\n",
       "      <td>37205</td>\n",
       "      <td>LOT 168 SEC 9 PT 2 HILLWOOD EST</td>\n",
       "      <td>Kingdom Builders of Tennesse</td>\n",
       "      <td>CARN</td>\n",
       "      <td>CAA01R301</td>\n",
       "      <td>3781725</td>\n",
       "      <td>New Single family dwelling.  REJECTED: APPLICA...</td>\n",
       "      <td>23.0</td>\n",
       "      <td>748 DARDEN PL\\nNASHVILLE, TN 37205\\n(36.125944...</td>\n",
       "    </tr>\n",
       "    <tr>\n",
       "      <th>1</th>\n",
       "      <td>T2019073204</td>\n",
       "      <td>Building Moving Permit</td>\n",
       "      <td>Moving Permit - Residential</td>\n",
       "      <td>04600002700</td>\n",
       "      <td>12/02/2019</td>\n",
       "      <td>NaN</td>\n",
       "      <td>2500.0</td>\n",
       "      <td>4836  BULL RUN RD</td>\n",
       "      <td>ASHLAND CITY</td>\n",
       "      <td>TN</td>\n",
       "      <td>37015</td>\n",
       "      <td>N OF BULL RUN RD W OF OLD HICKORY BLVD</td>\n",
       "      <td>CLAYTON HOMES #054</td>\n",
       "      <td>CAMV</td>\n",
       "      <td>CAZ09A001</td>\n",
       "      <td>3736813</td>\n",
       "      <td>Move existing mobile home from property out of...</td>\n",
       "      <td>1.0</td>\n",
       "      <td>4836 BULL RUN RD\\nASHLAND CITY, TN 37015\\n(36....</td>\n",
       "    </tr>\n",
       "  </tbody>\n",
       "</table>\n",
       "</div>"
      ],
      "text/plain": [
       "  permit_number           permit_type_descr         permit_subtype_descr  \\\n",
       "0   T2020016213  Building Residential - New      Single Family Residence   \n",
       "1   T2019073204      Building Moving Permit  Moving Permit - Residential   \n",
       "\n",
       "        parcel date_entered  date_issued  construction_cost  \\\n",
       "0  10216006100   03/11/2020          NaN                NaN   \n",
       "1  04600002700   12/02/2019          NaN             2500.0   \n",
       "\n",
       "             address          city state    zip  \\\n",
       "0     748  DARDEN PL     NASHVILLE    TN  37205   \n",
       "1  4836  BULL RUN RD  ASHLAND CITY    TN  37015   \n",
       "\n",
       "                          subdivision_lot                       contact  \\\n",
       "0         LOT 168 SEC 9 PT 2 HILLWOOD EST  Kingdom Builders of Tennesse   \n",
       "1  N OF BULL RUN RD W OF OLD HICKORY BLVD            CLAYTON HOMES #054   \n",
       "\n",
       "  permit_type permit_subtype  ivr_tracking_number  \\\n",
       "0        CARN      CAA01R301              3781725   \n",
       "1        CAMV      CAZ09A001              3736813   \n",
       "\n",
       "                                             purpose  council_district  \\\n",
       "0  New Single family dwelling.  REJECTED: APPLICA...              23.0   \n",
       "1  Move existing mobile home from property out of...               1.0   \n",
       "\n",
       "                                     mapped_location  \n",
       "0  748 DARDEN PL\\nNASHVILLE, TN 37205\\n(36.125944...  \n",
       "1  4836 BULL RUN RD\\nASHLAND CITY, TN 37015\\n(36....  "
      ]
     },
     "execution_count": 183,
     "metadata": {},
     "output_type": "execute_result"
    }
   ],
   "source": [
    "df_bldg_apps.head(2)"
   ]
  },
  {
   "cell_type": "code",
   "execution_count": 184,
   "metadata": {
    "collapsed": true
   },
   "outputs": [
    {
     "name": "stdout",
     "output_type": "stream",
     "text": [
      "<class 'pandas.core.frame.DataFrame'>\n",
      "RangeIndex: 3106 entries, 0 to 3105\n",
      "Data columns (total 19 columns):\n",
      " #   Column                Non-Null Count  Dtype  \n",
      "---  ------                --------------  -----  \n",
      " 0   permit_number         3106 non-null   object \n",
      " 1   permit_type_descr     3106 non-null   object \n",
      " 2   permit_subtype_descr  3106 non-null   object \n",
      " 3   parcel                3106 non-null   object \n",
      " 4   date_entered          3106 non-null   object \n",
      " 5   date_issued           0 non-null      float64\n",
      " 6   construction_cost     1651 non-null   float64\n",
      " 7   address               3106 non-null   object \n",
      " 8   city                  3106 non-null   object \n",
      " 9   state                 3106 non-null   object \n",
      " 10  zip                   3106 non-null   int64  \n",
      " 11  subdivision_lot       3105 non-null   object \n",
      " 12  contact               3105 non-null   object \n",
      " 13  permit_type           3106 non-null   object \n",
      " 14  permit_subtype        3106 non-null   object \n",
      " 15  ivr_tracking_number   3106 non-null   int64  \n",
      " 16  purpose               3084 non-null   object \n",
      " 17  council_district      3099 non-null   float64\n",
      " 18  mapped_location       3106 non-null   object \n",
      "dtypes: float64(3), int64(2), object(14)\n",
      "memory usage: 461.2+ KB\n"
     ]
    }
   ],
   "source": [
    "# Confirming dtypes\n",
    "# NEED TO CHANGE: date_entered should be datetime fields (date only).\n",
    "\n",
    "df_bldg_apps.info()  "
   ]
  },
  {
   "cell_type": "code",
   "execution_count": 185,
   "metadata": {
    "collapsed": true
   },
   "outputs": [
    {
     "data": {
      "text/plain": [
       "permit_number              0\n",
       "permit_type_descr          0\n",
       "permit_subtype_descr       0\n",
       "parcel                     0\n",
       "date_entered               0\n",
       "date_issued             3106\n",
       "construction_cost       1455\n",
       "address                    0\n",
       "city                       0\n",
       "state                      0\n",
       "zip                        0\n",
       "subdivision_lot            1\n",
       "contact                    1\n",
       "permit_type                0\n",
       "permit_subtype             0\n",
       "ivr_tracking_number        0\n",
       "purpose                   22\n",
       "council_district           7\n",
       "mapped_location            0\n",
       "dtype: int64"
      ]
     },
     "execution_count": 185,
     "metadata": {},
     "output_type": "execute_result"
    }
   ],
   "source": [
    "# All values in date_issued are null. Will remove this from df\n",
    "\n",
    "df_bldg_apps.isnull().sum()"
   ]
  },
  {
   "cell_type": "code",
   "execution_count": 186,
   "metadata": {
    "collapsed": true
   },
   "outputs": [],
   "source": [
    "# To drop date_issued from building applications df (all values are null)\n",
    "\n",
    "df_bldg_apps = df_bldg_apps.drop(columns = ['date_issued'])"
   ]
  },
  {
   "cell_type": "code",
   "execution_count": 187,
   "metadata": {
    "collapsed": true
   },
   "outputs": [
    {
     "data": {
      "text/plain": [
       "Index(['permit_number', 'permit_type_descr', 'permit_subtype_descr', 'parcel',\n",
       "       'date_entered', 'construction_cost', 'address', 'city', 'state', 'zip',\n",
       "       'subdivision_lot', 'contact', 'permit_type', 'permit_subtype',\n",
       "       'ivr_tracking_number', 'purpose', 'council_district',\n",
       "       'mapped_location'],\n",
       "      dtype='object')"
      ]
     },
     "execution_count": 187,
     "metadata": {},
     "output_type": "execute_result"
    }
   ],
   "source": [
    "# To confirm column dropped successfully. DONE!\n",
    "\n",
    "df_bldg_apps.columns  "
   ]
  },
  {
   "cell_type": "code",
   "execution_count": 188,
   "metadata": {
    "collapsed": true
   },
   "outputs": [
    {
     "data": {
      "text/plain": [
       "0   2020-03-11\n",
       "1   2019-12-02\n",
       "Name: date_entered, dtype: datetime64[ns]"
      ]
     },
     "execution_count": 188,
     "metadata": {},
     "output_type": "execute_result"
    }
   ],
   "source": [
    "# Convert date_entered to datetimee.\n",
    "\n",
    "df_bldg_apps.date_entered = pd.to_datetime(df_bldg_apps.date_entered).dt.date\n",
    "df_bldg_apps.date_entered.head(2)"
   ]
  },
  {
   "cell_type": "code",
   "execution_count": 189,
   "metadata": {
    "collapsed": true
   },
   "outputs": [
    {
     "name": "stdout",
     "output_type": "stream",
     "text": [
      "2017-06-01 00:00:00\n",
      "2020-06-04 00:00:00\n"
     ]
    }
   ],
   "source": [
    "# Double-checking min/max dates in this df\n",
    "# .dt.date causes only the date to show\n",
    "\n",
    "print(df_bldg_apps.date_entered.min())\n",
    "print(df_bldg_apps.date_entered.max())"
   ]
  },
  {
   "cell_type": "markdown",
   "metadata": {},
   "source": [
    "<a id='Bldg Permits Issued - dtype cleanup'></a>\n",
    "## Bldg Permits Issued - dtype cleanup"
   ]
  },
  {
   "cell_type": "code",
   "execution_count": 190,
   "metadata": {
    "collapsed": true
   },
   "outputs": [
    {
     "data": {
      "text/html": [
       "<div>\n",
       "<style scoped>\n",
       "    .dataframe tbody tr th:only-of-type {\n",
       "        vertical-align: middle;\n",
       "    }\n",
       "\n",
       "    .dataframe tbody tr th {\n",
       "        vertical-align: top;\n",
       "    }\n",
       "\n",
       "    .dataframe thead th {\n",
       "        text-align: right;\n",
       "    }\n",
       "</style>\n",
       "<table border=\"1\" class=\"dataframe\">\n",
       "  <thead>\n",
       "    <tr style=\"text-align: right;\">\n",
       "      <th></th>\n",
       "      <th>permit_number</th>\n",
       "      <th>permit_type_descr</th>\n",
       "      <th>permit_subtype_descr</th>\n",
       "      <th>parcel</th>\n",
       "      <th>date_entered</th>\n",
       "      <th>date_issued</th>\n",
       "      <th>construction_cost</th>\n",
       "      <th>address</th>\n",
       "      <th>city</th>\n",
       "      <th>state</th>\n",
       "      <th>zip</th>\n",
       "      <th>subdivision_lot</th>\n",
       "      <th>contact</th>\n",
       "      <th>permit_type</th>\n",
       "      <th>permit_subtype</th>\n",
       "      <th>ivr_tracking_number</th>\n",
       "      <th>purpose</th>\n",
       "      <th>council_district</th>\n",
       "      <th>census_tract</th>\n",
       "      <th>mapped_location</th>\n",
       "    </tr>\n",
       "  </thead>\n",
       "  <tbody>\n",
       "    <tr>\n",
       "      <th>0</th>\n",
       "      <td>2019070460</td>\n",
       "      <td>Building Residential - New</td>\n",
       "      <td>Single Family Residence</td>\n",
       "      <td>058100C04900CO</td>\n",
       "      <td>11/18/2019</td>\n",
       "      <td>12/09/2019</td>\n",
       "      <td>270585.0</td>\n",
       "      <td>1037  LAWSONS RIDGE DR</td>\n",
       "      <td>NASHVILLE</td>\n",
       "      <td>TN</td>\n",
       "      <td>37218</td>\n",
       "      <td>LOT 49 CARRINGTON PLACE PH 5</td>\n",
       "      <td>CELEBRATION HOMES LLC</td>\n",
       "      <td>CARN</td>\n",
       "      <td>CAA01R301</td>\n",
       "      <td>3733056</td>\n",
       "      <td>To construct a single family residence of 2402...</td>\n",
       "      <td>1.0</td>\n",
       "      <td>37010105.0</td>\n",
       "      <td>1037 LAWSONS RIDGE DR\\nNASHVILLE, TN 37218</td>\n",
       "    </tr>\n",
       "    <tr>\n",
       "      <th>1</th>\n",
       "      <td>2020016259</td>\n",
       "      <td>Building Residential - Rehab</td>\n",
       "      <td>Single Family Residence</td>\n",
       "      <td>160150A07000CO</td>\n",
       "      <td>03/12/2020</td>\n",
       "      <td>03/12/2020</td>\n",
       "      <td>12000.0</td>\n",
       "      <td>210  HEARTHSTONE MANOR LN</td>\n",
       "      <td>BRENTWOOD</td>\n",
       "      <td>TN</td>\n",
       "      <td>37027</td>\n",
       "      <td>UNIT 70 HEARTHSTONE MANOR CONDOMINIUM PHASE 4</td>\n",
       "      <td>ACCESS &amp; MOBILITY INC</td>\n",
       "      <td>CARR</td>\n",
       "      <td>CAA01R301</td>\n",
       "      <td>3781961</td>\n",
       "      <td>to install a new elevator/platform lift from g...</td>\n",
       "      <td>4.0</td>\n",
       "      <td>37018803.0</td>\n",
       "      <td>210 HEARTHSTONE MANOR LN\\nBRENTWOOD, TN 37027\\...</td>\n",
       "    </tr>\n",
       "  </tbody>\n",
       "</table>\n",
       "</div>"
      ],
      "text/plain": [
       "  permit_number             permit_type_descr     permit_subtype_descr  \\\n",
       "0    2019070460    Building Residential - New  Single Family Residence   \n",
       "1    2020016259  Building Residential - Rehab  Single Family Residence   \n",
       "\n",
       "           parcel date_entered date_issued  construction_cost  \\\n",
       "0  058100C04900CO   11/18/2019  12/09/2019           270585.0   \n",
       "1  160150A07000CO   03/12/2020  03/12/2020            12000.0   \n",
       "\n",
       "                     address       city state    zip  \\\n",
       "0     1037  LAWSONS RIDGE DR  NASHVILLE    TN  37218   \n",
       "1  210  HEARTHSTONE MANOR LN  BRENTWOOD    TN  37027   \n",
       "\n",
       "                                 subdivision_lot                contact  \\\n",
       "0                   LOT 49 CARRINGTON PLACE PH 5  CELEBRATION HOMES LLC   \n",
       "1  UNIT 70 HEARTHSTONE MANOR CONDOMINIUM PHASE 4  ACCESS & MOBILITY INC   \n",
       "\n",
       "  permit_type permit_subtype  ivr_tracking_number  \\\n",
       "0        CARN      CAA01R301              3733056   \n",
       "1        CARR      CAA01R301              3781961   \n",
       "\n",
       "                                             purpose  council_district  \\\n",
       "0  To construct a single family residence of 2402...               1.0   \n",
       "1  to install a new elevator/platform lift from g...               4.0   \n",
       "\n",
       "   census_tract                                    mapped_location  \n",
       "0    37010105.0         1037 LAWSONS RIDGE DR\\nNASHVILLE, TN 37218  \n",
       "1    37018803.0  210 HEARTHSTONE MANOR LN\\nBRENTWOOD, TN 37027\\...  "
      ]
     },
     "execution_count": 190,
     "metadata": {},
     "output_type": "execute_result"
    }
   ],
   "source": [
    "df_bldg_issued.head(2)"
   ]
  },
  {
   "cell_type": "code",
   "execution_count": 191,
   "metadata": {
    "collapsed": true
   },
   "outputs": [
    {
     "name": "stdout",
     "output_type": "stream",
     "text": [
      "<class 'pandas.core.frame.DataFrame'>\n",
      "RangeIndex: 33909 entries, 0 to 33908\n",
      "Data columns (total 20 columns):\n",
      " #   Column                Non-Null Count  Dtype  \n",
      "---  ------                --------------  -----  \n",
      " 0   permit_number         33909 non-null  object \n",
      " 1   permit_type_descr     33909 non-null  object \n",
      " 2   permit_subtype_descr  33909 non-null  object \n",
      " 3   parcel                33909 non-null  object \n",
      " 4   date_entered          33909 non-null  object \n",
      " 5   date_issued           33909 non-null  object \n",
      " 6   construction_cost     33899 non-null  float64\n",
      " 7   address               33909 non-null  object \n",
      " 8   city                  33909 non-null  object \n",
      " 9   state                 33909 non-null  object \n",
      " 10  zip                   33909 non-null  int64  \n",
      " 11  subdivision_lot       33909 non-null  object \n",
      " 12  contact               33908 non-null  object \n",
      " 13  permit_type           33909 non-null  object \n",
      " 14  permit_subtype        33909 non-null  object \n",
      " 15  ivr_tracking_number   33909 non-null  int64  \n",
      " 16  purpose               33442 non-null  object \n",
      " 17  council_district      33863 non-null  float64\n",
      " 18  census_tract          33866 non-null  float64\n",
      " 19  mapped_location       33909 non-null  object \n",
      "dtypes: float64(3), int64(2), object(15)\n",
      "memory usage: 5.2+ MB\n"
     ]
    }
   ],
   "source": [
    "# Confirming dtypes\n",
    "# NEED TO CHANGE: date_entered and date_issued should be datetime fields (date only).\n",
    "\n",
    "df_bldg_issued.info()  "
   ]
  },
  {
   "cell_type": "code",
   "execution_count": 192,
   "metadata": {
    "collapsed": true
   },
   "outputs": [
    {
     "data": {
      "text/plain": [
       "0   2019-11-18\n",
       "1   2020-03-12\n",
       "Name: date_entered, dtype: datetime64[ns]"
      ]
     },
     "execution_count": 192,
     "metadata": {},
     "output_type": "execute_result"
    }
   ],
   "source": [
    "# Convert date_entered to datetime\n",
    "\n",
    "df_bldg_issued.date_entered = pd.to_datetime(df_bldg_issued.date_entered)\n",
    "df_bldg_issued.date_entered.head(2)"
   ]
  },
  {
   "cell_type": "code",
   "execution_count": 193,
   "metadata": {
    "collapsed": true
   },
   "outputs": [
    {
     "data": {
      "text/plain": [
       "0   2019-12-09\n",
       "1   2020-03-12\n",
       "Name: date_issued, dtype: datetime64[ns]"
      ]
     },
     "execution_count": 193,
     "metadata": {},
     "output_type": "execute_result"
    }
   ],
   "source": [
    "# Convert date_issued to datetime, keeping DATE only, not time.\n",
    "\n",
    "df_bldg_issued.date_issued = pd.to_datetime(df_bldg_issued.date_issued).dt.date\n",
    "df_bldg_issued.date_issued.head(2)"
   ]
  },
  {
   "cell_type": "code",
   "execution_count": 194,
   "metadata": {
    "collapsed": true
   },
   "outputs": [
    {
     "name": "stdout",
     "output_type": "stream",
     "text": [
      "2017-06-01 00:00:00\n",
      "2020-06-04 00:00:00\n"
     ]
    }
   ],
   "source": [
    "# Double-checking min/max dates in this df\n",
    "\n",
    "print(df_bldg_issued.date_issued.min())\n",
    "print(df_bldg_issued.date_issued.max())"
   ]
  },
  {
   "cell_type": "markdown",
   "metadata": {},
   "source": [
    "<a id='Planning Dept Applications & Issued - dtype cleanup'></a>\n",
    "## Planning Dept Applications & Issued - dtype cleanup"
   ]
  },
  {
   "cell_type": "code",
   "execution_count": 195,
   "metadata": {
    "collapsed": true
   },
   "outputs": [
    {
     "data": {
      "text/html": [
       "<div>\n",
       "<style scoped>\n",
       "    .dataframe tbody tr th:only-of-type {\n",
       "        vertical-align: middle;\n",
       "    }\n",
       "\n",
       "    .dataframe tbody tr th {\n",
       "        vertical-align: top;\n",
       "    }\n",
       "\n",
       "    .dataframe thead th {\n",
       "        text-align: right;\n",
       "    }\n",
       "</style>\n",
       "<table border=\"1\" class=\"dataframe\">\n",
       "  <thead>\n",
       "    <tr style=\"text-align: right;\">\n",
       "      <th></th>\n",
       "      <th>date_submitted</th>\n",
       "      <th>application_type_descr</th>\n",
       "      <th>mpc_case_number</th>\n",
       "      <th>ordinance_number</th>\n",
       "      <th>status</th>\n",
       "      <th>mpc_meeting_date</th>\n",
       "      <th>mpc_action</th>\n",
       "      <th>project_name</th>\n",
       "      <th>location</th>\n",
       "      <th>reviewer</th>\n",
       "      <th>...</th>\n",
       "      <th>applicant_address_2</th>\n",
       "      <th>applicant_city</th>\n",
       "      <th>applicant_state</th>\n",
       "      <th>applicant_zip</th>\n",
       "      <th>council_3rd_reading_date</th>\n",
       "      <th>council_3rd_reading_action</th>\n",
       "      <th>council_district</th>\n",
       "      <th>latitude</th>\n",
       "      <th>longitude</th>\n",
       "      <th>mapped_location</th>\n",
       "    </tr>\n",
       "  </thead>\n",
       "  <tbody>\n",
       "    <tr>\n",
       "      <th>0</th>\n",
       "      <td>04/01/2019</td>\n",
       "      <td>Subdivision (Final Plat)</td>\n",
       "      <td>2019S-086-001</td>\n",
       "      <td>NaN</td>\n",
       "      <td>PENDING</td>\n",
       "      <td>06/11/2020</td>\n",
       "      <td>NaN</td>\n",
       "      <td>FINAL PLAT RESUBDIVISION OF LOT 3 AND 4 ON THE...</td>\n",
       "      <td>227 MARCIA AVE 37209</td>\n",
       "      <td>Joren Dunnavant</td>\n",
       "      <td>...</td>\n",
       "      <td>NaN</td>\n",
       "      <td>Nashville</td>\n",
       "      <td>TN</td>\n",
       "      <td>37203</td>\n",
       "      <td>NaN</td>\n",
       "      <td>NaN</td>\n",
       "      <td>20 (Mary Carolyn Roberts)</td>\n",
       "      <td>36.143923</td>\n",
       "      <td>-86.868254</td>\n",
       "      <td>(36.143922831000054, -86.86825400699996)</td>\n",
       "    </tr>\n",
       "    <tr>\n",
       "      <th>1</th>\n",
       "      <td>11/27/2019</td>\n",
       "      <td>Specific Plan (Final Site Plan)</td>\n",
       "      <td>2016SP-076-008</td>\n",
       "      <td>NaN</td>\n",
       "      <td>PENDING</td>\n",
       "      <td>01/16/2020</td>\n",
       "      <td>NaN</td>\n",
       "      <td>RED OAKS TOWNHOMES</td>\n",
       "      <td>0 DEW ST 37206</td>\n",
       "      <td>Abbie Rickoff</td>\n",
       "      <td>...</td>\n",
       "      <td>NaN</td>\n",
       "      <td>Nashville</td>\n",
       "      <td>TN</td>\n",
       "      <td>37204</td>\n",
       "      <td>NaN</td>\n",
       "      <td>NaN</td>\n",
       "      <td>06 (Brett Withers)</td>\n",
       "      <td>36.165962</td>\n",
       "      <td>-86.753490</td>\n",
       "      <td>(36.165961579000054, -86.75348957099999)</td>\n",
       "    </tr>\n",
       "  </tbody>\n",
       "</table>\n",
       "<p>2 rows × 27 columns</p>\n",
       "</div>"
      ],
      "text/plain": [
       "  date_submitted           application_type_descr mpc_case_number  \\\n",
       "0     04/01/2019         Subdivision (Final Plat)   2019S-086-001   \n",
       "1     11/27/2019  Specific Plan (Final Site Plan)  2016SP-076-008   \n",
       "\n",
       "  ordinance_number   status mpc_meeting_date mpc_action  \\\n",
       "0              NaN  PENDING       06/11/2020        NaN   \n",
       "1              NaN  PENDING       01/16/2020        NaN   \n",
       "\n",
       "                                        project_name              location  \\\n",
       "0  FINAL PLAT RESUBDIVISION OF LOT 3 AND 4 ON THE...  227 MARCIA AVE 37209   \n",
       "1                                 RED OAKS TOWNHOMES        0 DEW ST 37206   \n",
       "\n",
       "          reviewer  ... applicant_address_2 applicant_city applicant_state  \\\n",
       "0  Joren Dunnavant  ...                 NaN      Nashville              TN   \n",
       "1    Abbie Rickoff  ...                 NaN      Nashville              TN   \n",
       "\n",
       "  applicant_zip council_3rd_reading_date council_3rd_reading_action  \\\n",
       "0         37203                      NaN                        NaN   \n",
       "1         37204                      NaN                        NaN   \n",
       "\n",
       "            council_district   latitude  longitude  \\\n",
       "0  20 (Mary Carolyn Roberts)  36.143923 -86.868254   \n",
       "1         06 (Brett Withers)  36.165962 -86.753490   \n",
       "\n",
       "                            mapped_location  \n",
       "0  (36.143922831000054, -86.86825400699996)  \n",
       "1  (36.165961579000054, -86.75348957099999)  \n",
       "\n",
       "[2 rows x 27 columns]"
      ]
     },
     "execution_count": 195,
     "metadata": {},
     "output_type": "execute_result"
    }
   ],
   "source": [
    "df_planning.head(2)"
   ]
  },
  {
   "cell_type": "code",
   "execution_count": 196,
   "metadata": {
    "collapsed": true
   },
   "outputs": [
    {
     "name": "stdout",
     "output_type": "stream",
     "text": [
      "<class 'pandas.core.frame.DataFrame'>\n",
      "RangeIndex: 521 entries, 0 to 520\n",
      "Data columns (total 27 columns):\n",
      " #   Column                      Non-Null Count  Dtype  \n",
      "---  ------                      --------------  -----  \n",
      " 0   date_submitted              521 non-null    object \n",
      " 1   application_type_descr      521 non-null    object \n",
      " 2   mpc_case_number             520 non-null    object \n",
      " 3   ordinance_number            157 non-null    object \n",
      " 4   status                      521 non-null    object \n",
      " 5   mpc_meeting_date            521 non-null    object \n",
      " 6   mpc_action                  235 non-null    object \n",
      " 7   project_name                417 non-null    object \n",
      " 8   location                    498 non-null    object \n",
      " 9   reviewer                    521 non-null    object \n",
      " 10  reviewer_email              465 non-null    object \n",
      " 11  case_descr                  503 non-null    object \n",
      " 12  applicant                   501 non-null    object \n",
      " 13  applicant_representative    497 non-null    object \n",
      " 14  applicant_email             496 non-null    object \n",
      " 15  applicant_phone             498 non-null    object \n",
      " 16  applicant_address_1         497 non-null    object \n",
      " 17  applicant_address_2         139 non-null    object \n",
      " 18  applicant_city              497 non-null    object \n",
      " 19  applicant_state             497 non-null    object \n",
      " 20  applicant_zip               497 non-null    object \n",
      " 21  council_3rd_reading_date    0 non-null      float64\n",
      " 22  council_3rd_reading_action  0 non-null      float64\n",
      " 23  council_district            489 non-null    object \n",
      " 24  latitude                    489 non-null    float64\n",
      " 25  longitude                   489 non-null    float64\n",
      " 26  mapped_location             489 non-null    object \n",
      "dtypes: float64(4), object(23)\n",
      "memory usage: 110.0+ KB\n"
     ]
    }
   ],
   "source": [
    "df_planning.info()"
   ]
  },
  {
   "cell_type": "code",
   "execution_count": 197,
   "metadata": {
    "collapsed": true
   },
   "outputs": [
    {
     "data": {
      "text/plain": [
       "0   2019-04-01\n",
       "1   2019-11-27\n",
       "Name: date_submitted, dtype: datetime64[ns]"
      ]
     },
     "execution_count": 197,
     "metadata": {},
     "output_type": "execute_result"
    }
   ],
   "source": [
    "df_planning.date_submitted = pd.to_datetime(df_planning.date_submitted)\n",
    "df_planning.date_submitted.head(2)"
   ]
  },
  {
   "cell_type": "code",
   "execution_count": 198,
   "metadata": {
    "collapsed": true
   },
   "outputs": [
    {
     "data": {
      "text/plain": [
       "0   2020-06-11\n",
       "1   2020-01-16\n",
       "Name: mpc_meeting_date, dtype: datetime64[ns]"
      ]
     },
     "execution_count": 198,
     "metadata": {},
     "output_type": "execute_result"
    }
   ],
   "source": [
    "df_planning.mpc_meeting_date = pd.to_datetime(df_planning.mpc_meeting_date)\n",
    "df_planning.mpc_meeting_date.head(2)"
   ]
  },
  {
   "cell_type": "code",
   "execution_count": 199,
   "metadata": {
    "collapsed": true
   },
   "outputs": [
    {
     "name": "stdout",
     "output_type": "stream",
     "text": [
      "2017-02-28 00:00:00\n",
      "2020-06-04 00:00:00\n",
      "2017-04-13 00:00:00\n",
      "2020-07-23 00:00:00\n"
     ]
    }
   ],
   "source": [
    "# Double-checking min/max dates in this df\n",
    "\n",
    "print(df_planning.date_submitted.min())   #2017-02-28\n",
    "print(df_planning.date_submitted.max())   #2020-06-04\n",
    "print(df_planning.mpc_meeting_date.min())  #2017-04-13\n",
    "print(df_planning.mpc_meeting_date.max())  #2020-07-23 - Future date is correct"
   ]
  },
  {
   "cell_type": "markdown",
   "metadata": {},
   "source": [
    "<a id='Fix mapped_location, pull out lat/lon in Bldg Permit Apps & Issued'></a>\n",
    "## Fix mapped_location, pull out lat/lon in Bldg Permit Apps & Issued"
   ]
  },
  {
   "cell_type": "code",
   "execution_count": 200,
   "metadata": {
    "collapsed": true
   },
   "outputs": [
    {
     "data": {
      "text/plain": [
       "array(['748 DARDEN PL\\nNASHVILLE, TN 37205\\n(36.125944, -86.879062)',\n",
       "       '4836 BULL RUN RD\\nASHLAND CITY, TN 37015\\n(36.242681, -86.929594)',\n",
       "       '4119 MURFREESBORO PIKE\\nANTIOCH, TN 37013\\n(36.032211, -86.594799)',\n",
       "       ...,\n",
       "       '6680 CHARLOTTE PIKE B-5\\nNASHVILLE, TN 37209\\n(36.136609, -86.883701)',\n",
       "       '3805 CHARLOTTE AVE\\nNASHVILLE, TN 37209\\n(36.152561, -86.831473)',\n",
       "       '5610A GRANNY WHITE PIKE\\nBRENTWOOD, TN 37027\\n(36.046438, -86.815953)'],\n",
       "      dtype=object)"
      ]
     },
     "execution_count": 200,
     "metadata": {},
     "output_type": "execute_result"
    }
   ],
   "source": [
    "# Building Permit Applications\n",
    "\n",
    "df_bldg_apps.mapped_location.unique()"
   ]
  },
  {
   "cell_type": "code",
   "execution_count": 201,
   "metadata": {
    "collapsed": true
   },
   "outputs": [],
   "source": [
    "# To pull out lat/lng from:\n",
    "# '748 DARDEN PL\\nNASHVILLE, TN 37205\\n(36.125944, -86.879062)'\n",
    "# Regular Expression - pattern matching\n",
    "# RegEx link:  https://regex101.com/r/cAI6sh/1\n",
    "\n",
    "pattern = re.compile(r'.*\\((\\d*\\S\\d*)\\S\\s(\\S\\d*\\S\\d*)\\)', flags = re.MULTILINE)\n",
    "\n",
    "def extract_lat_lon(map_loc):\n",
    "    try:\n",
    "        lat_lon_match = pattern.search(map_loc)\n",
    "        lat = float(lat_lon_match.group(1))\n",
    "        lon = float(lat_lon_match.group(2))\n",
    "        return(lat, lon)\n",
    "    except:\n",
    "        return(np.NaN, np.NaN)"
   ]
  },
  {
   "cell_type": "code",
   "execution_count": 202,
   "metadata": {
    "collapsed": true
   },
   "outputs": [],
   "source": [
    "lat_lon = [extract_lat_lon(map_loc) for map_loc in df_bldg_apps.mapped_location]  #list comprehension"
   ]
  },
  {
   "cell_type": "code",
   "execution_count": 203,
   "metadata": {
    "collapsed": true
   },
   "outputs": [],
   "source": [
    "df_bldg_apps['lat'] = [lat for lat, lon in lat_lon]"
   ]
  },
  {
   "cell_type": "code",
   "execution_count": 204,
   "metadata": {
    "collapsed": true
   },
   "outputs": [],
   "source": [
    "df_bldg_apps['lon'] = [lon for lat, lon in lat_lon]"
   ]
  },
  {
   "cell_type": "code",
   "execution_count": 205,
   "metadata": {
    "collapsed": true
   },
   "outputs": [
    {
     "data": {
      "text/html": [
       "<div>\n",
       "<style scoped>\n",
       "    .dataframe tbody tr th:only-of-type {\n",
       "        vertical-align: middle;\n",
       "    }\n",
       "\n",
       "    .dataframe tbody tr th {\n",
       "        vertical-align: top;\n",
       "    }\n",
       "\n",
       "    .dataframe thead th {\n",
       "        text-align: right;\n",
       "    }\n",
       "</style>\n",
       "<table border=\"1\" class=\"dataframe\">\n",
       "  <thead>\n",
       "    <tr style=\"text-align: right;\">\n",
       "      <th></th>\n",
       "      <th>permit_number</th>\n",
       "      <th>permit_type_descr</th>\n",
       "      <th>permit_subtype_descr</th>\n",
       "      <th>parcel</th>\n",
       "      <th>date_entered</th>\n",
       "      <th>construction_cost</th>\n",
       "      <th>address</th>\n",
       "      <th>city</th>\n",
       "      <th>state</th>\n",
       "      <th>zip</th>\n",
       "      <th>subdivision_lot</th>\n",
       "      <th>contact</th>\n",
       "      <th>permit_type</th>\n",
       "      <th>permit_subtype</th>\n",
       "      <th>ivr_tracking_number</th>\n",
       "      <th>purpose</th>\n",
       "      <th>council_district</th>\n",
       "      <th>mapped_location</th>\n",
       "      <th>lat</th>\n",
       "      <th>lon</th>\n",
       "    </tr>\n",
       "  </thead>\n",
       "  <tbody>\n",
       "    <tr>\n",
       "      <th>0</th>\n",
       "      <td>T2020016213</td>\n",
       "      <td>Building Residential - New</td>\n",
       "      <td>Single Family Residence</td>\n",
       "      <td>10216006100</td>\n",
       "      <td>2020-03-11</td>\n",
       "      <td>NaN</td>\n",
       "      <td>748  DARDEN PL</td>\n",
       "      <td>NASHVILLE</td>\n",
       "      <td>TN</td>\n",
       "      <td>37205</td>\n",
       "      <td>LOT 168 SEC 9 PT 2 HILLWOOD EST</td>\n",
       "      <td>Kingdom Builders of Tennesse</td>\n",
       "      <td>CARN</td>\n",
       "      <td>CAA01R301</td>\n",
       "      <td>3781725</td>\n",
       "      <td>New Single family dwelling.  REJECTED: APPLICA...</td>\n",
       "      <td>23.0</td>\n",
       "      <td>748 DARDEN PL\\nNASHVILLE, TN 37205\\n(36.125944...</td>\n",
       "      <td>36.125944</td>\n",
       "      <td>-86.879062</td>\n",
       "    </tr>\n",
       "    <tr>\n",
       "      <th>1</th>\n",
       "      <td>T2019073204</td>\n",
       "      <td>Building Moving Permit</td>\n",
       "      <td>Moving Permit - Residential</td>\n",
       "      <td>04600002700</td>\n",
       "      <td>2019-12-02</td>\n",
       "      <td>2500.0</td>\n",
       "      <td>4836  BULL RUN RD</td>\n",
       "      <td>ASHLAND CITY</td>\n",
       "      <td>TN</td>\n",
       "      <td>37015</td>\n",
       "      <td>N OF BULL RUN RD W OF OLD HICKORY BLVD</td>\n",
       "      <td>CLAYTON HOMES #054</td>\n",
       "      <td>CAMV</td>\n",
       "      <td>CAZ09A001</td>\n",
       "      <td>3736813</td>\n",
       "      <td>Move existing mobile home from property out of...</td>\n",
       "      <td>1.0</td>\n",
       "      <td>4836 BULL RUN RD\\nASHLAND CITY, TN 37015\\n(36....</td>\n",
       "      <td>36.242681</td>\n",
       "      <td>-86.929594</td>\n",
       "    </tr>\n",
       "  </tbody>\n",
       "</table>\n",
       "</div>"
      ],
      "text/plain": [
       "  permit_number           permit_type_descr         permit_subtype_descr  \\\n",
       "0   T2020016213  Building Residential - New      Single Family Residence   \n",
       "1   T2019073204      Building Moving Permit  Moving Permit - Residential   \n",
       "\n",
       "        parcel date_entered  construction_cost            address  \\\n",
       "0  10216006100   2020-03-11                NaN     748  DARDEN PL   \n",
       "1  04600002700   2019-12-02             2500.0  4836  BULL RUN RD   \n",
       "\n",
       "           city state    zip                         subdivision_lot  \\\n",
       "0     NASHVILLE    TN  37205         LOT 168 SEC 9 PT 2 HILLWOOD EST   \n",
       "1  ASHLAND CITY    TN  37015  N OF BULL RUN RD W OF OLD HICKORY BLVD   \n",
       "\n",
       "                        contact permit_type permit_subtype  \\\n",
       "0  Kingdom Builders of Tennesse        CARN      CAA01R301   \n",
       "1            CLAYTON HOMES #054        CAMV      CAZ09A001   \n",
       "\n",
       "   ivr_tracking_number                                            purpose  \\\n",
       "0              3781725  New Single family dwelling.  REJECTED: APPLICA...   \n",
       "1              3736813  Move existing mobile home from property out of...   \n",
       "\n",
       "   council_district                                    mapped_location  \\\n",
       "0              23.0  748 DARDEN PL\\nNASHVILLE, TN 37205\\n(36.125944...   \n",
       "1               1.0  4836 BULL RUN RD\\nASHLAND CITY, TN 37015\\n(36....   \n",
       "\n",
       "         lat        lon  \n",
       "0  36.125944 -86.879062  \n",
       "1  36.242681 -86.929594  "
      ]
     },
     "execution_count": 205,
     "metadata": {},
     "output_type": "execute_result"
    }
   ],
   "source": [
    "df_bldg_apps.head(2)"
   ]
  },
  {
   "cell_type": "code",
   "execution_count": 206,
   "metadata": {
    "collapsed": true
   },
   "outputs": [
    {
     "name": "stdout",
     "output_type": "stream",
     "text": [
      "(3106, 20)\n",
      "permit_number              0\n",
      "permit_type_descr          0\n",
      "permit_subtype_descr       0\n",
      "parcel                     0\n",
      "date_entered               0\n",
      "construction_cost       1455\n",
      "address                    0\n",
      "city                       0\n",
      "state                      0\n",
      "zip                        0\n",
      "subdivision_lot            1\n",
      "contact                    1\n",
      "permit_type                0\n",
      "permit_subtype             0\n",
      "ivr_tracking_number        0\n",
      "purpose                   22\n",
      "council_district           7\n",
      "mapped_location            0\n",
      "lat                      297\n",
      "lon                      297\n",
      "dtype: int64\n"
     ]
    }
   ],
   "source": [
    "# Find out how many of the mapped locations had only the address, not the lat/lon\n",
    "# Nulls in lat/lon 297 out of 3,106 = 9.5%\n",
    "# To many to leave 'as is' Will try to add lat/lon fromUS Census geocoding (free) service:\n",
    "# https://geocoding.geo.census.gov/geocoder/geographies/addressbatch?form\n",
    "# US CENSUS GEOCODING didn't work. Will try Google Maps API next.\n",
    "\n",
    "print(df_bldg_apps.shape)\n",
    "print(df_bldg_apps.isnull().sum())"
   ]
  },
  {
   "cell_type": "code",
   "execution_count": 207,
   "metadata": {
    "collapsed": true
   },
   "outputs": [
    {
     "name": "stdout",
     "output_type": "stream",
     "text": [
      "<class 'pandas.core.frame.DataFrame'>\n",
      "RangeIndex: 33909 entries, 0 to 33908\n",
      "Data columns (total 20 columns):\n",
      " #   Column                Non-Null Count  Dtype         \n",
      "---  ------                --------------  -----         \n",
      " 0   permit_number         33909 non-null  object        \n",
      " 1   permit_type_descr     33909 non-null  object        \n",
      " 2   permit_subtype_descr  33909 non-null  object        \n",
      " 3   parcel                33909 non-null  object        \n",
      " 4   date_entered          33909 non-null  datetime64[ns]\n",
      " 5   date_issued           33909 non-null  datetime64[ns]\n",
      " 6   construction_cost     33899 non-null  float64       \n",
      " 7   address               33909 non-null  object        \n",
      " 8   city                  33909 non-null  object        \n",
      " 9   state                 33909 non-null  object        \n",
      " 10  zip                   33909 non-null  int64         \n",
      " 11  subdivision_lot       33909 non-null  object        \n",
      " 12  contact               33908 non-null  object        \n",
      " 13  permit_type           33909 non-null  object        \n",
      " 14  permit_subtype        33909 non-null  object        \n",
      " 15  ivr_tracking_number   33909 non-null  int64         \n",
      " 16  purpose               33442 non-null  object        \n",
      " 17  council_district      33863 non-null  float64       \n",
      " 18  census_tract          33866 non-null  float64       \n",
      " 19  mapped_location       33909 non-null  object        \n",
      "dtypes: datetime64[ns](2), float64(3), int64(2), object(13)\n",
      "memory usage: 5.2+ MB\n"
     ]
    }
   ],
   "source": [
    "# Building Permits Issued\n",
    "\n",
    "df_bldg_issued.info()"
   ]
  },
  {
   "cell_type": "code",
   "execution_count": 208,
   "metadata": {
    "collapsed": true
   },
   "outputs": [
    {
     "data": {
      "text/plain": [
       "array(['1037 LAWSONS RIDGE DR\\nNASHVILLE, TN 37218',\n",
       "       '210 HEARTHSTONE MANOR LN\\nBRENTWOOD, TN 37027\\n(36.042219, -86.764816)',\n",
       "       '812 BRIAR CIR\\nMADISON, TN 37115', ...,\n",
       "       '131 EDENWOLD RD\\nMADISON, TN 37115\\n(36.287001, -86.703591)',\n",
       "       '110 2ND AVE N\\nNASHVILLE, TN 37201\\n(36.162296, -86.77544)',\n",
       "       '1382 RURAL HILL RD 320\\nANTIOCH, TN 37013\\n(36.056805, -86.649469)'],\n",
       "      dtype=object)"
      ]
     },
     "execution_count": 208,
     "metadata": {},
     "output_type": "execute_result"
    }
   ],
   "source": [
    "# Review mapped_location in bldg_issued df before applying regex/function\n",
    "\n",
    "df_bldg_issued.mapped_location.unique()"
   ]
  },
  {
   "cell_type": "code",
   "execution_count": 209,
   "metadata": {
    "collapsed": true
   },
   "outputs": [],
   "source": [
    "# Applying function written for building applications to this building permits issued df\n",
    "\n",
    "lat_lon = [extract_lat_lon(map_loc) for map_loc in df_bldg_issued.mapped_location]  "
   ]
  },
  {
   "cell_type": "code",
   "execution_count": 210,
   "metadata": {
    "collapsed": true
   },
   "outputs": [],
   "source": [
    "df_bldg_issued['lat'] = [lat for lat, lon in lat_lon]"
   ]
  },
  {
   "cell_type": "code",
   "execution_count": 211,
   "metadata": {
    "collapsed": true
   },
   "outputs": [],
   "source": [
    "df_bldg_issued['lon'] = [lon for lat, lon in lat_lon]"
   ]
  },
  {
   "cell_type": "code",
   "execution_count": 212,
   "metadata": {
    "collapsed": true
   },
   "outputs": [
    {
     "data": {
      "text/html": [
       "<div>\n",
       "<style scoped>\n",
       "    .dataframe tbody tr th:only-of-type {\n",
       "        vertical-align: middle;\n",
       "    }\n",
       "\n",
       "    .dataframe tbody tr th {\n",
       "        vertical-align: top;\n",
       "    }\n",
       "\n",
       "    .dataframe thead th {\n",
       "        text-align: right;\n",
       "    }\n",
       "</style>\n",
       "<table border=\"1\" class=\"dataframe\">\n",
       "  <thead>\n",
       "    <tr style=\"text-align: right;\">\n",
       "      <th></th>\n",
       "      <th>permit_number</th>\n",
       "      <th>permit_type_descr</th>\n",
       "      <th>permit_subtype_descr</th>\n",
       "      <th>parcel</th>\n",
       "      <th>date_entered</th>\n",
       "      <th>date_issued</th>\n",
       "      <th>construction_cost</th>\n",
       "      <th>address</th>\n",
       "      <th>city</th>\n",
       "      <th>state</th>\n",
       "      <th>...</th>\n",
       "      <th>contact</th>\n",
       "      <th>permit_type</th>\n",
       "      <th>permit_subtype</th>\n",
       "      <th>ivr_tracking_number</th>\n",
       "      <th>purpose</th>\n",
       "      <th>council_district</th>\n",
       "      <th>census_tract</th>\n",
       "      <th>mapped_location</th>\n",
       "      <th>lat</th>\n",
       "      <th>lon</th>\n",
       "    </tr>\n",
       "  </thead>\n",
       "  <tbody>\n",
       "    <tr>\n",
       "      <th>0</th>\n",
       "      <td>2019070460</td>\n",
       "      <td>Building Residential - New</td>\n",
       "      <td>Single Family Residence</td>\n",
       "      <td>058100C04900CO</td>\n",
       "      <td>2019-11-18</td>\n",
       "      <td>2019-12-09</td>\n",
       "      <td>270585.0</td>\n",
       "      <td>1037  LAWSONS RIDGE DR</td>\n",
       "      <td>NASHVILLE</td>\n",
       "      <td>TN</td>\n",
       "      <td>...</td>\n",
       "      <td>CELEBRATION HOMES LLC</td>\n",
       "      <td>CARN</td>\n",
       "      <td>CAA01R301</td>\n",
       "      <td>3733056</td>\n",
       "      <td>To construct a single family residence of 2402...</td>\n",
       "      <td>1.0</td>\n",
       "      <td>37010105.0</td>\n",
       "      <td>1037 LAWSONS RIDGE DR\\nNASHVILLE, TN 37218</td>\n",
       "      <td>NaN</td>\n",
       "      <td>NaN</td>\n",
       "    </tr>\n",
       "    <tr>\n",
       "      <th>1</th>\n",
       "      <td>2020016259</td>\n",
       "      <td>Building Residential - Rehab</td>\n",
       "      <td>Single Family Residence</td>\n",
       "      <td>160150A07000CO</td>\n",
       "      <td>2020-03-12</td>\n",
       "      <td>2020-03-12</td>\n",
       "      <td>12000.0</td>\n",
       "      <td>210  HEARTHSTONE MANOR LN</td>\n",
       "      <td>BRENTWOOD</td>\n",
       "      <td>TN</td>\n",
       "      <td>...</td>\n",
       "      <td>ACCESS &amp; MOBILITY INC</td>\n",
       "      <td>CARR</td>\n",
       "      <td>CAA01R301</td>\n",
       "      <td>3781961</td>\n",
       "      <td>to install a new elevator/platform lift from g...</td>\n",
       "      <td>4.0</td>\n",
       "      <td>37018803.0</td>\n",
       "      <td>210 HEARTHSTONE MANOR LN\\nBRENTWOOD, TN 37027\\...</td>\n",
       "      <td>36.042219</td>\n",
       "      <td>-86.764816</td>\n",
       "    </tr>\n",
       "  </tbody>\n",
       "</table>\n",
       "<p>2 rows × 22 columns</p>\n",
       "</div>"
      ],
      "text/plain": [
       "  permit_number             permit_type_descr     permit_subtype_descr  \\\n",
       "0    2019070460    Building Residential - New  Single Family Residence   \n",
       "1    2020016259  Building Residential - Rehab  Single Family Residence   \n",
       "\n",
       "           parcel date_entered date_issued  construction_cost  \\\n",
       "0  058100C04900CO   2019-11-18  2019-12-09           270585.0   \n",
       "1  160150A07000CO   2020-03-12  2020-03-12            12000.0   \n",
       "\n",
       "                     address       city state  ...                contact  \\\n",
       "0     1037  LAWSONS RIDGE DR  NASHVILLE    TN  ...  CELEBRATION HOMES LLC   \n",
       "1  210  HEARTHSTONE MANOR LN  BRENTWOOD    TN  ...  ACCESS & MOBILITY INC   \n",
       "\n",
       "  permit_type permit_subtype ivr_tracking_number  \\\n",
       "0        CARN      CAA01R301             3733056   \n",
       "1        CARR      CAA01R301             3781961   \n",
       "\n",
       "                                             purpose  council_district  \\\n",
       "0  To construct a single family residence of 2402...               1.0   \n",
       "1  to install a new elevator/platform lift from g...               4.0   \n",
       "\n",
       "  census_tract                                    mapped_location        lat  \\\n",
       "0   37010105.0         1037 LAWSONS RIDGE DR\\nNASHVILLE, TN 37218        NaN   \n",
       "1   37018803.0  210 HEARTHSTONE MANOR LN\\nBRENTWOOD, TN 37027\\...  36.042219   \n",
       "\n",
       "         lon  \n",
       "0        NaN  \n",
       "1 -86.764816  \n",
       "\n",
       "[2 rows x 22 columns]"
      ]
     },
     "execution_count": 212,
     "metadata": {},
     "output_type": "execute_result"
    }
   ],
   "source": [
    "df_bldg_issued.head(2)"
   ]
  },
  {
   "cell_type": "markdown",
   "metadata": {},
   "source": [
    "<a id='Looked at addresses that have no lat/lon from Bldg Permit Application & Issued dfs'></a>\n",
    "## Looked at addresses that have no lat/lon from Bldg Permit Application & Issued dfs\n",
    "- Discovered there was a meaningful amount of relevant addresses that are missing lat/lon\n",
    "- Will submit these to census tool to get lat/lon\n",
    "- Chose to do this extra step because a meaninful number of addresses were missing lat/lon:\n",
    "    - Bldg Permit Applications missing 297 out of 3,106 = 9.5% and 249 are new residential\n",
    "    - Bldg Permits Issued missing 3,928 out of 33,909 = 11.5%"
   ]
  },
  {
   "cell_type": "code",
   "execution_count": 213,
   "metadata": {
    "collapsed": true
   },
   "outputs": [
    {
     "name": "stdout",
     "output_type": "stream",
     "text": [
      "(3106, 20)\n",
      "permit_number              0\n",
      "permit_type_descr          0\n",
      "permit_subtype_descr       0\n",
      "parcel                     0\n",
      "date_entered               0\n",
      "construction_cost       1455\n",
      "address                    0\n",
      "city                       0\n",
      "state                      0\n",
      "zip                        0\n",
      "subdivision_lot            1\n",
      "contact                    1\n",
      "permit_type                0\n",
      "permit_subtype             0\n",
      "ivr_tracking_number        0\n",
      "purpose                   22\n",
      "council_district           7\n",
      "mapped_location            0\n",
      "lat                      297\n",
      "lon                      297\n",
      "dtype: int64\n"
     ]
    }
   ],
   "source": [
    "# Find out how many of the mapped locations had only the address, not the lat/lon: Bldg Permit Applications\n",
    "# Number of rows missing lat & lon:  297\n",
    "\n",
    "print(df_bldg_apps.shape)\n",
    "print(df_bldg_apps.isnull().sum())"
   ]
  },
  {
   "cell_type": "code",
   "execution_count": 214,
   "metadata": {
    "collapsed": true
   },
   "outputs": [
    {
     "name": "stdout",
     "output_type": "stream",
     "text": [
      "(33909, 22)\n",
      "permit_number              0\n",
      "permit_type_descr          0\n",
      "permit_subtype_descr       0\n",
      "parcel                     0\n",
      "date_entered               0\n",
      "date_issued                0\n",
      "construction_cost         10\n",
      "address                    0\n",
      "city                       0\n",
      "state                      0\n",
      "zip                        0\n",
      "subdivision_lot            0\n",
      "contact                    1\n",
      "permit_type                0\n",
      "permit_subtype             0\n",
      "ivr_tracking_number        0\n",
      "purpose                  467\n",
      "council_district          46\n",
      "census_tract              43\n",
      "mapped_location            0\n",
      "lat                     3928\n",
      "lon                     3928\n",
      "dtype: int64\n"
     ]
    }
   ],
   "source": [
    "# Find out how many of the mapped locations had only the address, not the lat/lon: Bldg Permits Issued\n",
    "# Number of rows missing lat & lon:  3928\n",
    "\n",
    "print(df_bldg_issued.shape)\n",
    "print(df_bldg_issued.isnull().sum())"
   ]
  },
  {
   "cell_type": "code",
   "execution_count": 215,
   "metadata": {
    "collapsed": true
   },
   "outputs": [
    {
     "data": {
      "text/html": [
       "<div>\n",
       "<style scoped>\n",
       "    .dataframe tbody tr th:only-of-type {\n",
       "        vertical-align: middle;\n",
       "    }\n",
       "\n",
       "    .dataframe tbody tr th {\n",
       "        vertical-align: top;\n",
       "    }\n",
       "\n",
       "    .dataframe thead th {\n",
       "        text-align: right;\n",
       "    }\n",
       "</style>\n",
       "<table border=\"1\" class=\"dataframe\">\n",
       "  <thead>\n",
       "    <tr style=\"text-align: right;\">\n",
       "      <th></th>\n",
       "      <th>permit_number</th>\n",
       "      <th>permit_type_descr</th>\n",
       "      <th>permit_subtype_descr</th>\n",
       "      <th>parcel</th>\n",
       "      <th>date_entered</th>\n",
       "      <th>construction_cost</th>\n",
       "      <th>address</th>\n",
       "      <th>city</th>\n",
       "      <th>state</th>\n",
       "      <th>zip</th>\n",
       "      <th>subdivision_lot</th>\n",
       "      <th>contact</th>\n",
       "      <th>permit_type</th>\n",
       "      <th>permit_subtype</th>\n",
       "      <th>ivr_tracking_number</th>\n",
       "      <th>purpose</th>\n",
       "      <th>council_district</th>\n",
       "      <th>mapped_location</th>\n",
       "      <th>lat</th>\n",
       "      <th>lon</th>\n",
       "    </tr>\n",
       "  </thead>\n",
       "  <tbody>\n",
       "    <tr>\n",
       "      <th>0</th>\n",
       "      <td>T2020034764</td>\n",
       "      <td>Building Residential - New</td>\n",
       "      <td>Single Family Residence</td>\n",
       "      <td>165140A20100CO</td>\n",
       "      <td>2020-06-04</td>\n",
       "      <td>NaN</td>\n",
       "      <td>4929  CHUTNEY DR</td>\n",
       "      <td>ANTIOCH</td>\n",
       "      <td>TN</td>\n",
       "      <td>37013</td>\n",
       "      <td>LOT 201 DAVENPORT DOWNS PH 2</td>\n",
       "      <td>AMH DEVELOPMENT TENNESSEE GC LLC</td>\n",
       "      <td>CARN</td>\n",
       "      <td>CAA01R301</td>\n",
       "      <td>3830089</td>\n",
       "      <td>to construct a single family residence with 22...</td>\n",
       "      <td>33.0</td>\n",
       "      <td>4929 CHUTNEY DR\\nANTIOCH, TN 37013</td>\n",
       "      <td>NaN</td>\n",
       "      <td>NaN</td>\n",
       "    </tr>\n",
       "    <tr>\n",
       "      <th>1</th>\n",
       "      <td>T2020032881</td>\n",
       "      <td>Building Residential - New</td>\n",
       "      <td>Single Family Residence</td>\n",
       "      <td>173100D02400CO</td>\n",
       "      <td>2020-05-27</td>\n",
       "      <td>260000.0</td>\n",
       "      <td>329  BODDINGTON LN</td>\n",
       "      <td>ANTIOCH</td>\n",
       "      <td>TN</td>\n",
       "      <td>37013</td>\n",
       "      <td>LOT 24 DELVIN DOWNS PH 6</td>\n",
       "      <td>CAPITOL HOMES INC</td>\n",
       "      <td>CARN</td>\n",
       "      <td>CAA01R301</td>\n",
       "      <td>3824736</td>\n",
       "      <td>New two story residential home in a approved P...</td>\n",
       "      <td>31.0</td>\n",
       "      <td>329 BODDINGTON LN\\nANTIOCH, TN 37013</td>\n",
       "      <td>NaN</td>\n",
       "      <td>NaN</td>\n",
       "    </tr>\n",
       "  </tbody>\n",
       "</table>\n",
       "</div>"
      ],
      "text/plain": [
       "  permit_number           permit_type_descr     permit_subtype_descr  \\\n",
       "0   T2020034764  Building Residential - New  Single Family Residence   \n",
       "1   T2020032881  Building Residential - New  Single Family Residence   \n",
       "\n",
       "           parcel date_entered  construction_cost             address  \\\n",
       "0  165140A20100CO   2020-06-04                NaN    4929  CHUTNEY DR   \n",
       "1  173100D02400CO   2020-05-27           260000.0  329  BODDINGTON LN   \n",
       "\n",
       "      city state    zip               subdivision_lot  \\\n",
       "0  ANTIOCH    TN  37013  LOT 201 DAVENPORT DOWNS PH 2   \n",
       "1  ANTIOCH    TN  37013      LOT 24 DELVIN DOWNS PH 6   \n",
       "\n",
       "                            contact permit_type permit_subtype  \\\n",
       "0  AMH DEVELOPMENT TENNESSEE GC LLC        CARN      CAA01R301   \n",
       "1                 CAPITOL HOMES INC        CARN      CAA01R301   \n",
       "\n",
       "   ivr_tracking_number                                            purpose  \\\n",
       "0              3830089  to construct a single family residence with 22...   \n",
       "1              3824736  New two story residential home in a approved P...   \n",
       "\n",
       "   council_district                       mapped_location  lat  lon  \n",
       "0              33.0    4929 CHUTNEY DR\\nANTIOCH, TN 37013  NaN  NaN  \n",
       "1              31.0  329 BODDINGTON LN\\nANTIOCH, TN 37013  NaN  NaN  "
      ]
     },
     "execution_count": 215,
     "metadata": {},
     "output_type": "execute_result"
    }
   ],
   "source": [
    "# BLDG PERMIT APPLICATIONS\n",
    "# First: Checked to see which items had null in lat/lon. Do I need these?\n",
    "#        YES - there are a lot for new residential permits \n",
    "# Second: Created new df to submit to census geocoder website.\n",
    "\n",
    "df_bldg_apps_null_latlon = df_bldg_apps.loc[df_bldg_apps['lat'].isnull()].reset_index(drop = True) \n",
    "df_bldg_apps_null_latlon.head(2)"
   ]
  },
  {
   "cell_type": "code",
   "execution_count": 216,
   "metadata": {
    "collapsed": true
   },
   "outputs": [
    {
     "data": {
      "text/plain": [
       "Building Residential - New                 249\n",
       "Building Commercial - Tenant Finish Out     19\n",
       "Building Use & Occupancy                    10\n",
       "Building Commercial - Rehab                  4\n",
       "Building Sign Permit                         4\n",
       "Building Residential - Addition              3\n",
       "Building Demolition Permit                   2\n",
       "Building Commercial - New                    2\n",
       "Building Residential Rehab Storm Damage      1\n",
       "Building Blasting Permit                     1\n",
       "Building Commercial Rehab Storm Damage       1\n",
       "Building Residential - Roofing / Siding      1\n",
       "Name: permit_type_descr, dtype: int64"
      ]
     },
     "execution_count": 216,
     "metadata": {},
     "output_type": "execute_result"
    }
   ],
   "source": [
    "# BLDG PERMIT APPLICATIONS\n",
    "# How many of these are meaningful in Bldg Permit Applications?   \n",
    "# ANSWER: Most are important to know about for residential/commercial growth\n",
    "\n",
    "df_bldg_apps_null_latlon.permit_type_descr.value_counts()"
   ]
  },
  {
   "cell_type": "code",
   "execution_count": 217,
   "metadata": {
    "collapsed": true
   },
   "outputs": [
    {
     "data": {
      "text/html": [
       "<div>\n",
       "<style scoped>\n",
       "    .dataframe tbody tr th:only-of-type {\n",
       "        vertical-align: middle;\n",
       "    }\n",
       "\n",
       "    .dataframe tbody tr th {\n",
       "        vertical-align: top;\n",
       "    }\n",
       "\n",
       "    .dataframe thead th {\n",
       "        text-align: right;\n",
       "    }\n",
       "</style>\n",
       "<table border=\"1\" class=\"dataframe\">\n",
       "  <thead>\n",
       "    <tr style=\"text-align: right;\">\n",
       "      <th></th>\n",
       "      <th>permit_number</th>\n",
       "      <th>permit_type_descr</th>\n",
       "      <th>permit_subtype_descr</th>\n",
       "      <th>parcel</th>\n",
       "      <th>date_entered</th>\n",
       "      <th>date_issued</th>\n",
       "      <th>construction_cost</th>\n",
       "      <th>address</th>\n",
       "      <th>city</th>\n",
       "      <th>state</th>\n",
       "      <th>...</th>\n",
       "      <th>contact</th>\n",
       "      <th>permit_type</th>\n",
       "      <th>permit_subtype</th>\n",
       "      <th>ivr_tracking_number</th>\n",
       "      <th>purpose</th>\n",
       "      <th>council_district</th>\n",
       "      <th>census_tract</th>\n",
       "      <th>mapped_location</th>\n",
       "      <th>lat</th>\n",
       "      <th>lon</th>\n",
       "    </tr>\n",
       "  </thead>\n",
       "  <tbody>\n",
       "    <tr>\n",
       "      <th>0</th>\n",
       "      <td>2019070460</td>\n",
       "      <td>Building Residential - New</td>\n",
       "      <td>Single Family Residence</td>\n",
       "      <td>058100C04900CO</td>\n",
       "      <td>2019-11-18</td>\n",
       "      <td>2019-12-09</td>\n",
       "      <td>270585.0</td>\n",
       "      <td>1037  LAWSONS RIDGE DR</td>\n",
       "      <td>NASHVILLE</td>\n",
       "      <td>TN</td>\n",
       "      <td>...</td>\n",
       "      <td>CELEBRATION HOMES LLC</td>\n",
       "      <td>CARN</td>\n",
       "      <td>CAA01R301</td>\n",
       "      <td>3733056</td>\n",
       "      <td>To construct a single family residence of 2402...</td>\n",
       "      <td>1.0</td>\n",
       "      <td>37010105.0</td>\n",
       "      <td>1037 LAWSONS RIDGE DR\\nNASHVILLE, TN 37218</td>\n",
       "      <td>NaN</td>\n",
       "      <td>NaN</td>\n",
       "    </tr>\n",
       "    <tr>\n",
       "      <th>1</th>\n",
       "      <td>2019011084</td>\n",
       "      <td>Building Use &amp; Occupancy</td>\n",
       "      <td>Multifamily, Townhome</td>\n",
       "      <td>051100J90000CO</td>\n",
       "      <td>2019-02-25</td>\n",
       "      <td>2019-07-22</td>\n",
       "      <td>0.0</td>\n",
       "      <td>812  BRIAR CIR</td>\n",
       "      <td>MADISON</td>\n",
       "      <td>TN</td>\n",
       "      <td>...</td>\n",
       "      <td>COLE INVESTMENTS LLC</td>\n",
       "      <td>CAUO</td>\n",
       "      <td>CAA03R301</td>\n",
       "      <td>3611315</td>\n",
       "      <td>MASTER PERMIT ONLY� � NO CONSTRUCTION� �MULTI-...</td>\n",
       "      <td>8.0</td>\n",
       "      <td>37010802.0</td>\n",
       "      <td>812 BRIAR CIR\\nMADISON, TN 37115</td>\n",
       "      <td>NaN</td>\n",
       "      <td>NaN</td>\n",
       "    </tr>\n",
       "  </tbody>\n",
       "</table>\n",
       "<p>2 rows × 22 columns</p>\n",
       "</div>"
      ],
      "text/plain": [
       "  permit_number           permit_type_descr     permit_subtype_descr  \\\n",
       "0    2019070460  Building Residential - New  Single Family Residence   \n",
       "1    2019011084    Building Use & Occupancy    Multifamily, Townhome   \n",
       "\n",
       "           parcel date_entered date_issued  construction_cost  \\\n",
       "0  058100C04900CO   2019-11-18  2019-12-09           270585.0   \n",
       "1  051100J90000CO   2019-02-25  2019-07-22                0.0   \n",
       "\n",
       "                  address       city state  ...                contact  \\\n",
       "0  1037  LAWSONS RIDGE DR  NASHVILLE    TN  ...  CELEBRATION HOMES LLC   \n",
       "1          812  BRIAR CIR    MADISON    TN  ...   COLE INVESTMENTS LLC   \n",
       "\n",
       "  permit_type permit_subtype ivr_tracking_number  \\\n",
       "0        CARN      CAA01R301             3733056   \n",
       "1        CAUO      CAA03R301             3611315   \n",
       "\n",
       "                                             purpose  council_district  \\\n",
       "0  To construct a single family residence of 2402...               1.0   \n",
       "1  MASTER PERMIT ONLY� � NO CONSTRUCTION� �MULTI-...               8.0   \n",
       "\n",
       "  census_tract                             mapped_location  lat lon  \n",
       "0   37010105.0  1037 LAWSONS RIDGE DR\\nNASHVILLE, TN 37218  NaN NaN  \n",
       "1   37010802.0            812 BRIAR CIR\\nMADISON, TN 37115  NaN NaN  \n",
       "\n",
       "[2 rows x 22 columns]"
      ]
     },
     "execution_count": 217,
     "metadata": {},
     "output_type": "execute_result"
    }
   ],
   "source": [
    "# BLDG PERMITS ISSUED\n",
    "# First: Checked to see which items had null in lat/lon. Do I need these? \n",
    "#        YES - there are a lot for new residential permits \n",
    "# Second: Created new df to submit to census geocoder website.\n",
    "\n",
    "df_bldg_issued_null_latlon = df_bldg_issued.loc[df_bldg_issued['lat'].isnull()].reset_index(drop = True) \n",
    "df_bldg_issued_null_latlon.head(2)"
   ]
  },
  {
   "cell_type": "code",
   "execution_count": 218,
   "metadata": {
    "collapsed": true
   },
   "outputs": [
    {
     "data": {
      "text/plain": [
       "Building Residential - New                  3294\n",
       "Building Commercial - Tenant Finish Out      172\n",
       "Building Commercial - New                    100\n",
       "Building Sign Permit                          74\n",
       "Building Use & Occupancy                      57\n",
       "Building Tree Removal Permit                  45\n",
       "Building Commercial - Rehab                   43\n",
       "Building Residential - Addition               25\n",
       "Building Commercial - Foundation              19\n",
       "Building Residential - Tenant Finish Out      18\n",
       "Building Commercial - Shell                   14\n",
       "Building Residential - Rehab                  14\n",
       "Building Demolition Permit                    13\n",
       "Building Residential - Amend Permit           12\n",
       "Building Commercial - Addition                11\n",
       "Building Commercial - Roofing / Siding         6\n",
       "Building Blasting Permit                       6\n",
       "Building Residential - Shell                   2\n",
       "Building Residential - Roofing / Siding        1\n",
       "Building Moving Permit                         1\n",
       "Building Residential - Change Contractor       1\n",
       "Name: permit_type_descr, dtype: int64"
      ]
     },
     "execution_count": 218,
     "metadata": {},
     "output_type": "execute_result"
    }
   ],
   "source": [
    "# How many of these are meaningful in Bldg Permits Issued?   \n",
    "# ANSWER: Most are important to know about for residential/commercial growth\n",
    "\n",
    "df_bldg_issued_null_latlon.permit_type_descr.value_counts()"
   ]
  },
  {
   "cell_type": "markdown",
   "metadata": {},
   "source": [
    "<a id='Creating new dfs for Bldg Permit Applications & Bldg Permits Issued with ONLY addresses that have no lat/lon, to submit to US Census Geocoder tool'></a>\n",
    "### Creating new dfs for Bldg Permit Applications & Bldg Permits Issued with ONLY addresses that have no lat/lon, to submit to US Census Geocoder tool\n",
    "- Will export to CSV; submit to census geocoder tool to get lat & lon, then add addresses back to original file (matching on addresss/city/st/zip columns)"
   ]
  },
  {
   "cell_type": "code",
   "execution_count": 219,
   "metadata": {
    "collapsed": true
   },
   "outputs": [
    {
     "data": {
      "text/plain": [
       "Index(['permit_number', 'permit_type_descr', 'permit_subtype_descr', 'parcel',\n",
       "       'date_entered', 'construction_cost', 'address', 'city', 'state', 'zip',\n",
       "       'subdivision_lot', 'contact', 'permit_type', 'permit_subtype',\n",
       "       'ivr_tracking_number', 'purpose', 'council_district', 'mapped_location',\n",
       "       'lat', 'lon'],\n",
       "      dtype='object')"
      ]
     },
     "execution_count": 219,
     "metadata": {},
     "output_type": "execute_result"
    }
   ],
   "source": [
    "df_bldg_apps_null_latlon.columns"
   ]
  },
  {
   "cell_type": "code",
   "execution_count": 220,
   "metadata": {
    "collapsed": true
   },
   "outputs": [
    {
     "data": {
      "text/html": [
       "<div>\n",
       "<style scoped>\n",
       "    .dataframe tbody tr th:only-of-type {\n",
       "        vertical-align: middle;\n",
       "    }\n",
       "\n",
       "    .dataframe tbody tr th {\n",
       "        vertical-align: top;\n",
       "    }\n",
       "\n",
       "    .dataframe thead th {\n",
       "        text-align: right;\n",
       "    }\n",
       "</style>\n",
       "<table border=\"1\" class=\"dataframe\">\n",
       "  <thead>\n",
       "    <tr style=\"text-align: right;\">\n",
       "      <th></th>\n",
       "      <th>address</th>\n",
       "      <th>city</th>\n",
       "      <th>state</th>\n",
       "      <th>zip</th>\n",
       "    </tr>\n",
       "  </thead>\n",
       "  <tbody>\n",
       "    <tr>\n",
       "      <th>0</th>\n",
       "      <td>4929  CHUTNEY DR</td>\n",
       "      <td>ANTIOCH</td>\n",
       "      <td>TN</td>\n",
       "      <td>37013</td>\n",
       "    </tr>\n",
       "    <tr>\n",
       "      <th>1</th>\n",
       "      <td>329  BODDINGTON LN</td>\n",
       "      <td>ANTIOCH</td>\n",
       "      <td>TN</td>\n",
       "      <td>37013</td>\n",
       "    </tr>\n",
       "  </tbody>\n",
       "</table>\n",
       "</div>"
      ],
      "text/plain": [
       "              address     city state    zip\n",
       "0    4929  CHUTNEY DR  ANTIOCH    TN  37013\n",
       "1  329  BODDINGTON LN  ANTIOCH    TN  37013"
      ]
     },
     "execution_count": 220,
     "metadata": {},
     "output_type": "execute_result"
    }
   ],
   "source": [
    "# Dropping all but the address columns, in preparation for uploading to geocoder website\n",
    "\n",
    "df_bldg_apps_null_latlon = df_bldg_apps_null_latlon[['address', 'city', 'state', 'zip']]\n",
    "df_bldg_apps_null_latlon.head(2)"
   ]
  },
  {
   "cell_type": "code",
   "execution_count": 221,
   "metadata": {
    "collapsed": true
   },
   "outputs": [
    {
     "data": {
      "text/html": [
       "<div>\n",
       "<style scoped>\n",
       "    .dataframe tbody tr th:only-of-type {\n",
       "        vertical-align: middle;\n",
       "    }\n",
       "\n",
       "    .dataframe tbody tr th {\n",
       "        vertical-align: top;\n",
       "    }\n",
       "\n",
       "    .dataframe thead th {\n",
       "        text-align: right;\n",
       "    }\n",
       "</style>\n",
       "<table border=\"1\" class=\"dataframe\">\n",
       "  <thead>\n",
       "    <tr style=\"text-align: right;\">\n",
       "      <th></th>\n",
       "      <th>address</th>\n",
       "      <th>city</th>\n",
       "      <th>state</th>\n",
       "      <th>zip</th>\n",
       "    </tr>\n",
       "  </thead>\n",
       "  <tbody>\n",
       "    <tr>\n",
       "      <th>0</th>\n",
       "      <td>1037  LAWSONS RIDGE DR</td>\n",
       "      <td>NASHVILLE</td>\n",
       "      <td>TN</td>\n",
       "      <td>37218</td>\n",
       "    </tr>\n",
       "    <tr>\n",
       "      <th>1</th>\n",
       "      <td>812  BRIAR CIR</td>\n",
       "      <td>MADISON</td>\n",
       "      <td>TN</td>\n",
       "      <td>37115</td>\n",
       "    </tr>\n",
       "  </tbody>\n",
       "</table>\n",
       "</div>"
      ],
      "text/plain": [
       "                  address       city state    zip\n",
       "0  1037  LAWSONS RIDGE DR  NASHVILLE    TN  37218\n",
       "1          812  BRIAR CIR    MADISON    TN  37115"
      ]
     },
     "execution_count": 221,
     "metadata": {},
     "output_type": "execute_result"
    }
   ],
   "source": [
    "df_bldg_issued_null_latlon = df_bldg_issued_null_latlon[['address', 'city', 'state', 'zip']]\n",
    "df_bldg_issued_null_latlon.head(2)"
   ]
  },
  {
   "cell_type": "code",
   "execution_count": 222,
   "metadata": {
    "collapsed": true
   },
   "outputs": [],
   "source": [
    "df_bldg_apps_null_latlon.to_csv('../data/interim/bldg_apps_addresses.csv')"
   ]
  },
  {
   "cell_type": "code",
   "execution_count": 223,
   "metadata": {
    "collapsed": true
   },
   "outputs": [],
   "source": [
    "df_bldg_issued_null_latlon.to_csv('../data/interim/bldg_issued_addresses.csv')"
   ]
  },
  {
   "cell_type": "markdown",
   "metadata": {},
   "source": [
    "<a id='Census Geocoder tool only found 1% of addresses. Changed direction: Will use Google Maps API to get geocodes.'></a>\n",
    "### Census Geocoder tool only found 1% of addresses. Changed direction: Will use Google Maps API to get geocodes.\n",
    "- The census geocoder tool only found 1% of addresses in each file as exact match, and additional 1% in one of the files as non-exact match - but the remaining 98-99% weren't found.\n",
    "- Aborting this process becasue it isn't worth the time to fuss with clean and import just 1%. It would be cumbersome because:\n",
    "    - Addresses were submitted as 4 columns for address; but returned with address, city, state and zip all concatenated in a single cell.\n",
    "    - Returns [lat, lon] in single column, in addition to quite a bit of other information in other columns I don't need.\n",
    "- Returned files are in ../data/interim folder for future reference\n",
    "- US Census website, for reference: https://geocoding.geo.census.gov/geocoder/geographies/addressbatch?form"
   ]
  },
  {
   "cell_type": "markdown",
   "metadata": {},
   "source": [
    "### Creating new columns for rolling week, month, quarter, year in Bldg Permit Applications & Issued, and Planning Dept Permits "
   ]
  },
  {
   "cell_type": "markdown",
   "metadata": {},
   "source": [
    "### ABORTED rolling date idea on 6/12/2020:\n",
    "- Discovered that it won't work due to needing to first group by category (Residential, Commercial, Other).\n",
    "- It'll be better to do groupby, counts, etc. in the 2_eda notebook as needed, and do additional slicing in Tableau later on."
   ]
  },
  {
   "cell_type": "markdown",
   "metadata": {},
   "source": [
    "<a id='Exploring and Cleaning: Planning Dept Applications / Issued'></a>\n",
    "## Exploring and Cleaning: Planning Dept Applications / Issued"
   ]
  },
  {
   "cell_type": "code",
   "execution_count": 224,
   "metadata": {
    "collapsed": true
   },
   "outputs": [
    {
     "name": "stdout",
     "output_type": "stream",
     "text": [
      "<class 'pandas.core.frame.DataFrame'>\n",
      "RangeIndex: 521 entries, 0 to 520\n",
      "Data columns (total 27 columns):\n",
      " #   Column                      Non-Null Count  Dtype         \n",
      "---  ------                      --------------  -----         \n",
      " 0   date_submitted              521 non-null    datetime64[ns]\n",
      " 1   application_type_descr      521 non-null    object        \n",
      " 2   mpc_case_number             520 non-null    object        \n",
      " 3   ordinance_number            157 non-null    object        \n",
      " 4   status                      521 non-null    object        \n",
      " 5   mpc_meeting_date            521 non-null    datetime64[ns]\n",
      " 6   mpc_action                  235 non-null    object        \n",
      " 7   project_name                417 non-null    object        \n",
      " 8   location                    498 non-null    object        \n",
      " 9   reviewer                    521 non-null    object        \n",
      " 10  reviewer_email              465 non-null    object        \n",
      " 11  case_descr                  503 non-null    object        \n",
      " 12  applicant                   501 non-null    object        \n",
      " 13  applicant_representative    497 non-null    object        \n",
      " 14  applicant_email             496 non-null    object        \n",
      " 15  applicant_phone             498 non-null    object        \n",
      " 16  applicant_address_1         497 non-null    object        \n",
      " 17  applicant_address_2         139 non-null    object        \n",
      " 18  applicant_city              497 non-null    object        \n",
      " 19  applicant_state             497 non-null    object        \n",
      " 20  applicant_zip               497 non-null    object        \n",
      " 21  council_3rd_reading_date    0 non-null      float64       \n",
      " 22  council_3rd_reading_action  0 non-null      float64       \n",
      " 23  council_district            489 non-null    object        \n",
      " 24  latitude                    489 non-null    float64       \n",
      " 25  longitude                   489 non-null    float64       \n",
      " 26  mapped_location             489 non-null    object        \n",
      "dtypes: datetime64[ns](2), float64(4), object(21)\n",
      "memory usage: 110.0+ KB\n"
     ]
    }
   ],
   "source": [
    "# Checking nulls, building permit applications\n",
    "\n",
    "df_planning.info()"
   ]
  },
  {
   "cell_type": "code",
   "execution_count": 225,
   "metadata": {
    "collapsed": true
   },
   "outputs": [
    {
     "data": {
      "text/plain": [
       "date_submitted                  0\n",
       "application_type_descr          0\n",
       "mpc_case_number                 1\n",
       "ordinance_number              364\n",
       "status                          0\n",
       "mpc_meeting_date                0\n",
       "mpc_action                    286\n",
       "project_name                  104\n",
       "location                       23\n",
       "reviewer                        0\n",
       "reviewer_email                 56\n",
       "case_descr                     18\n",
       "applicant                      20\n",
       "applicant_representative       24\n",
       "applicant_email                25\n",
       "applicant_phone                23\n",
       "applicant_address_1            24\n",
       "applicant_address_2           382\n",
       "applicant_city                 24\n",
       "applicant_state                24\n",
       "applicant_zip                  24\n",
       "council_3rd_reading_date      521\n",
       "council_3rd_reading_action    521\n",
       "council_district               32\n",
       "latitude                       32\n",
       "longitude                      32\n",
       "mapped_location                32\n",
       "dtype: int64"
      ]
     },
     "execution_count": 225,
     "metadata": {},
     "output_type": "execute_result"
    }
   ],
   "source": [
    "# Counting null values\n",
    "# Odd to have just one null case number\n",
    "\n",
    "df_planning.isnull().sum()"
   ]
  },
  {
   "cell_type": "code",
   "execution_count": 226,
   "metadata": {
    "collapsed": true
   },
   "outputs": [
    {
     "data": {
      "text/html": [
       "<div>\n",
       "<style scoped>\n",
       "    .dataframe tbody tr th:only-of-type {\n",
       "        vertical-align: middle;\n",
       "    }\n",
       "\n",
       "    .dataframe tbody tr th {\n",
       "        vertical-align: top;\n",
       "    }\n",
       "\n",
       "    .dataframe thead th {\n",
       "        text-align: right;\n",
       "    }\n",
       "</style>\n",
       "<table border=\"1\" class=\"dataframe\">\n",
       "  <thead>\n",
       "    <tr style=\"text-align: right;\">\n",
       "      <th></th>\n",
       "      <th>date_submitted</th>\n",
       "      <th>application_type_descr</th>\n",
       "      <th>mpc_case_number</th>\n",
       "      <th>ordinance_number</th>\n",
       "      <th>status</th>\n",
       "      <th>mpc_meeting_date</th>\n",
       "      <th>mpc_action</th>\n",
       "      <th>project_name</th>\n",
       "      <th>location</th>\n",
       "      <th>reviewer</th>\n",
       "      <th>...</th>\n",
       "      <th>applicant_address_2</th>\n",
       "      <th>applicant_city</th>\n",
       "      <th>applicant_state</th>\n",
       "      <th>applicant_zip</th>\n",
       "      <th>council_3rd_reading_date</th>\n",
       "      <th>council_3rd_reading_action</th>\n",
       "      <th>council_district</th>\n",
       "      <th>latitude</th>\n",
       "      <th>longitude</th>\n",
       "      <th>mapped_location</th>\n",
       "    </tr>\n",
       "  </thead>\n",
       "  <tbody>\n",
       "    <tr>\n",
       "      <th>224</th>\n",
       "      <td>2020-03-02</td>\n",
       "      <td>Rezoning</td>\n",
       "      <td>NaN</td>\n",
       "      <td>NaN</td>\n",
       "      <td>PENDING</td>\n",
       "      <td>2020-03-12</td>\n",
       "      <td>NaN</td>\n",
       "      <td>created in error</td>\n",
       "      <td>NaN</td>\n",
       "      <td>FRONT COUNTER</td>\n",
       "      <td>...</td>\n",
       "      <td>NaN</td>\n",
       "      <td>NaN</td>\n",
       "      <td>NaN</td>\n",
       "      <td>NaN</td>\n",
       "      <td>NaN</td>\n",
       "      <td>NaN</td>\n",
       "      <td>NaN</td>\n",
       "      <td>NaN</td>\n",
       "      <td>NaN</td>\n",
       "      <td>NaN</td>\n",
       "    </tr>\n",
       "  </tbody>\n",
       "</table>\n",
       "<p>1 rows × 27 columns</p>\n",
       "</div>"
      ],
      "text/plain": [
       "    date_submitted application_type_descr mpc_case_number ordinance_number  \\\n",
       "224     2020-03-02               Rezoning             NaN              NaN   \n",
       "\n",
       "      status mpc_meeting_date mpc_action      project_name location  \\\n",
       "224  PENDING       2020-03-12        NaN  created in error      NaN   \n",
       "\n",
       "          reviewer  ... applicant_address_2 applicant_city applicant_state  \\\n",
       "224  FRONT COUNTER  ...                 NaN            NaN             NaN   \n",
       "\n",
       "    applicant_zip council_3rd_reading_date council_3rd_reading_action  \\\n",
       "224           NaN                      NaN                        NaN   \n",
       "\n",
       "    council_district latitude longitude mapped_location  \n",
       "224              NaN      NaN       NaN             NaN  \n",
       "\n",
       "[1 rows x 27 columns]"
      ]
     },
     "execution_count": 226,
     "metadata": {},
     "output_type": "execute_result"
    }
   ],
   "source": [
    "# Finding row with null case number\n",
    "# Project name says \"Created in error\". Will delete this row\n",
    "\n",
    "df_planning[df_planning.mpc_case_number.isnull()]"
   ]
  },
  {
   "cell_type": "code",
   "execution_count": 227,
   "metadata": {
    "collapsed": true
   },
   "outputs": [],
   "source": [
    "# Dropping row noted above with project name \"created in error\"\n",
    "\n",
    "df_planning = df_planning.dropna(subset=['mpc_case_number'])"
   ]
  },
  {
   "cell_type": "code",
   "execution_count": 228,
   "metadata": {
    "collapsed": true
   },
   "outputs": [
    {
     "data": {
      "text/plain": [
       "(520, 27)"
      ]
     },
     "execution_count": 228,
     "metadata": {},
     "output_type": "execute_result"
    }
   ],
   "source": [
    "# Double-checking that df is now 520 rows. \n",
    "\n",
    "df_planning.shape"
   ]
  },
  {
   "cell_type": "code",
   "execution_count": 229,
   "metadata": {
    "collapsed": true
   },
   "outputs": [
    {
     "data": {
      "text/html": [
       "<div>\n",
       "<style scoped>\n",
       "    .dataframe tbody tr th:only-of-type {\n",
       "        vertical-align: middle;\n",
       "    }\n",
       "\n",
       "    .dataframe tbody tr th {\n",
       "        vertical-align: top;\n",
       "    }\n",
       "\n",
       "    .dataframe thead th {\n",
       "        text-align: right;\n",
       "    }\n",
       "</style>\n",
       "<table border=\"1\" class=\"dataframe\">\n",
       "  <thead>\n",
       "    <tr style=\"text-align: right;\">\n",
       "      <th></th>\n",
       "      <th>date_submitted</th>\n",
       "      <th>application_type_descr</th>\n",
       "      <th>mpc_case_number</th>\n",
       "      <th>ordinance_number</th>\n",
       "      <th>status</th>\n",
       "      <th>mpc_meeting_date</th>\n",
       "      <th>mpc_action</th>\n",
       "      <th>project_name</th>\n",
       "      <th>location</th>\n",
       "      <th>reviewer</th>\n",
       "      <th>...</th>\n",
       "      <th>applicant_address_2</th>\n",
       "      <th>applicant_city</th>\n",
       "      <th>applicant_state</th>\n",
       "      <th>applicant_zip</th>\n",
       "      <th>council_3rd_reading_date</th>\n",
       "      <th>council_3rd_reading_action</th>\n",
       "      <th>council_district</th>\n",
       "      <th>latitude</th>\n",
       "      <th>longitude</th>\n",
       "      <th>mapped_location</th>\n",
       "    </tr>\n",
       "  </thead>\n",
       "  <tbody>\n",
       "    <tr>\n",
       "      <th>17</th>\n",
       "      <td>2019-09-23</td>\n",
       "      <td>Text Amendment</td>\n",
       "      <td>2019Z-015TX-001</td>\n",
       "      <td>BL2019-8</td>\n",
       "      <td>CNCLACTIVE</td>\n",
       "      <td>2020-05-28</td>\n",
       "      <td>Disapprove</td>\n",
       "      <td>AMENDMENT TO SIDEWALK ORDINANCE</td>\n",
       "      <td>NaN</td>\n",
       "      <td>FRONT COUNTER</td>\n",
       "      <td>...</td>\n",
       "      <td>NaN</td>\n",
       "      <td>NaN</td>\n",
       "      <td>NaN</td>\n",
       "      <td>NaN</td>\n",
       "      <td>NaN</td>\n",
       "      <td>NaN</td>\n",
       "      <td>NaN</td>\n",
       "      <td>NaN</td>\n",
       "      <td>NaN</td>\n",
       "      <td>NaN</td>\n",
       "    </tr>\n",
       "    <tr>\n",
       "      <th>21</th>\n",
       "      <td>2020-04-13</td>\n",
       "      <td>Text Amendment</td>\n",
       "      <td>2020Z-008TX-001</td>\n",
       "      <td>BL2020-277</td>\n",
       "      <td>CNCLACTIVE</td>\n",
       "      <td>2020-05-28</td>\n",
       "      <td>Approve with Conditions</td>\n",
       "      <td>NONCONFORMING STRUCTURES</td>\n",
       "      <td>NaN</td>\n",
       "      <td>Lisa Milligan</td>\n",
       "      <td>...</td>\n",
       "      <td>Suite 204</td>\n",
       "      <td>Nashville</td>\n",
       "      <td>TN</td>\n",
       "      <td>37219</td>\n",
       "      <td>NaN</td>\n",
       "      <td>NaN</td>\n",
       "      <td>NaN</td>\n",
       "      <td>NaN</td>\n",
       "      <td>NaN</td>\n",
       "      <td>NaN</td>\n",
       "    </tr>\n",
       "  </tbody>\n",
       "</table>\n",
       "<p>2 rows × 27 columns</p>\n",
       "</div>"
      ],
      "text/plain": [
       "   date_submitted application_type_descr  mpc_case_number ordinance_number  \\\n",
       "17     2019-09-23         Text Amendment  2019Z-015TX-001         BL2019-8   \n",
       "21     2020-04-13         Text Amendment  2020Z-008TX-001       BL2020-277   \n",
       "\n",
       "        status mpc_meeting_date               mpc_action  \\\n",
       "17  CNCLACTIVE       2020-05-28               Disapprove   \n",
       "21  CNCLACTIVE       2020-05-28  Approve with Conditions   \n",
       "\n",
       "                       project_name location       reviewer  ...  \\\n",
       "17  AMENDMENT TO SIDEWALK ORDINANCE      NaN  FRONT COUNTER  ...   \n",
       "21         NONCONFORMING STRUCTURES      NaN  Lisa Milligan  ...   \n",
       "\n",
       "   applicant_address_2 applicant_city applicant_state applicant_zip  \\\n",
       "17                 NaN            NaN             NaN           NaN   \n",
       "21           Suite 204      Nashville              TN         37219   \n",
       "\n",
       "   council_3rd_reading_date council_3rd_reading_action council_district  \\\n",
       "17                      NaN                        NaN              NaN   \n",
       "21                      NaN                        NaN              NaN   \n",
       "\n",
       "   latitude longitude mapped_location  \n",
       "17      NaN       NaN             NaN  \n",
       "21      NaN       NaN             NaN  \n",
       "\n",
       "[2 rows x 27 columns]"
      ]
     },
     "execution_count": 229,
     "metadata": {},
     "output_type": "execute_result"
    }
   ],
   "source": [
    "# Finding the remaining 22 rows with null 'location'\n",
    "# Won't be able to get lat/lon for these. Will delete them.\n",
    "\n",
    "df_planning[df_planning.location.isnull()].head(2)"
   ]
  },
  {
   "cell_type": "code",
   "execution_count": 230,
   "metadata": {
    "collapsed": true
   },
   "outputs": [
    {
     "name": "stdout",
     "output_type": "stream",
     "text": [
      "(498, 27)\n"
     ]
    }
   ],
   "source": [
    "# Dropping 22 rows with null 'location'\n",
    "# Resulting df should have 498 rows\n",
    "\n",
    "df_planning = df_planning.dropna(subset=['location'])\n",
    "print(df_planning.shape)"
   ]
  },
  {
   "cell_type": "code",
   "execution_count": 231,
   "metadata": {
    "collapsed": true
   },
   "outputs": [
    {
     "data": {
      "text/html": [
       "<div>\n",
       "<style scoped>\n",
       "    .dataframe tbody tr th:only-of-type {\n",
       "        vertical-align: middle;\n",
       "    }\n",
       "\n",
       "    .dataframe tbody tr th {\n",
       "        vertical-align: top;\n",
       "    }\n",
       "\n",
       "    .dataframe thead th {\n",
       "        text-align: right;\n",
       "    }\n",
       "</style>\n",
       "<table border=\"1\" class=\"dataframe\">\n",
       "  <thead>\n",
       "    <tr style=\"text-align: right;\">\n",
       "      <th></th>\n",
       "      <th>date_submitted</th>\n",
       "      <th>application_type_descr</th>\n",
       "      <th>mpc_case_number</th>\n",
       "      <th>ordinance_number</th>\n",
       "      <th>status</th>\n",
       "      <th>mpc_meeting_date</th>\n",
       "      <th>mpc_action</th>\n",
       "      <th>project_name</th>\n",
       "      <th>location</th>\n",
       "      <th>reviewer</th>\n",
       "      <th>...</th>\n",
       "      <th>applicant_address_2</th>\n",
       "      <th>applicant_city</th>\n",
       "      <th>applicant_state</th>\n",
       "      <th>applicant_zip</th>\n",
       "      <th>council_3rd_reading_date</th>\n",
       "      <th>council_3rd_reading_action</th>\n",
       "      <th>council_district</th>\n",
       "      <th>latitude</th>\n",
       "      <th>longitude</th>\n",
       "      <th>mapped_location</th>\n",
       "    </tr>\n",
       "  </thead>\n",
       "  <tbody>\n",
       "  </tbody>\n",
       "</table>\n",
       "<p>0 rows × 27 columns</p>\n",
       "</div>"
      ],
      "text/plain": [
       "Empty DataFrame\n",
       "Columns: [date_submitted, application_type_descr, mpc_case_number, ordinance_number, status, mpc_meeting_date, mpc_action, project_name, location, reviewer, reviewer_email, case_descr, applicant, applicant_representative, applicant_email, applicant_phone, applicant_address_1, applicant_address_2, applicant_city, applicant_state, applicant_zip, council_3rd_reading_date, council_3rd_reading_action, council_district, latitude, longitude, mapped_location]\n",
       "Index: []\n",
       "\n",
       "[0 rows x 27 columns]"
      ]
     },
     "execution_count": 231,
     "metadata": {},
     "output_type": "execute_result"
    }
   ],
   "source": [
    "# Testing to ensure all rows with null in 'location' have been dropped.\n",
    "\n",
    "df_planning[df_planning.location.isnull()]"
   ]
  },
  {
   "cell_type": "code",
   "execution_count": 232,
   "metadata": {
    "collapsed": true
   },
   "outputs": [
    {
     "data": {
      "text/html": [
       "<div>\n",
       "<style scoped>\n",
       "    .dataframe tbody tr th:only-of-type {\n",
       "        vertical-align: middle;\n",
       "    }\n",
       "\n",
       "    .dataframe tbody tr th {\n",
       "        vertical-align: top;\n",
       "    }\n",
       "\n",
       "    .dataframe thead th {\n",
       "        text-align: right;\n",
       "    }\n",
       "</style>\n",
       "<table border=\"1\" class=\"dataframe\">\n",
       "  <thead>\n",
       "    <tr style=\"text-align: right;\">\n",
       "      <th></th>\n",
       "      <th>date_submitted</th>\n",
       "      <th>application_type_descr</th>\n",
       "      <th>mpc_case_number</th>\n",
       "      <th>ordinance_number</th>\n",
       "      <th>status</th>\n",
       "      <th>mpc_meeting_date</th>\n",
       "      <th>mpc_action</th>\n",
       "      <th>project_name</th>\n",
       "      <th>location</th>\n",
       "      <th>reviewer</th>\n",
       "      <th>...</th>\n",
       "      <th>applicant_address_2</th>\n",
       "      <th>applicant_city</th>\n",
       "      <th>applicant_state</th>\n",
       "      <th>applicant_zip</th>\n",
       "      <th>council_3rd_reading_date</th>\n",
       "      <th>council_3rd_reading_action</th>\n",
       "      <th>council_district</th>\n",
       "      <th>latitude</th>\n",
       "      <th>longitude</th>\n",
       "      <th>mapped_location</th>\n",
       "    </tr>\n",
       "  </thead>\n",
       "  <tbody>\n",
       "    <tr>\n",
       "      <th>0</th>\n",
       "      <td>2020-02-14</td>\n",
       "      <td>Specific Plan (Final Site Plan)</td>\n",
       "      <td>2016SP-076-010</td>\n",
       "      <td>NaN</td>\n",
       "      <td>PENDING</td>\n",
       "      <td>2020-04-09</td>\n",
       "      <td>NaN</td>\n",
       "      <td>BOSCOBEL HEIGHTS LIBRARY</td>\n",
       "      <td>998 SEVIER ST 37210</td>\n",
       "      <td>Abbie Rickoff</td>\n",
       "      <td>...</td>\n",
       "      <td>Suite 210</td>\n",
       "      <td>NASHVILLE</td>\n",
       "      <td>TN</td>\n",
       "      <td>37209</td>\n",
       "      <td>NaN</td>\n",
       "      <td>NaN</td>\n",
       "      <td>06 (Brett Withers)</td>\n",
       "      <td>NaN</td>\n",
       "      <td>NaN</td>\n",
       "      <td>NaN</td>\n",
       "    </tr>\n",
       "    <tr>\n",
       "      <th>1</th>\n",
       "      <td>2019-12-04</td>\n",
       "      <td>Community Plan Amendment</td>\n",
       "      <td>2020CP-000-001</td>\n",
       "      <td>NaN</td>\n",
       "      <td>PENDING</td>\n",
       "      <td>2020-05-12</td>\n",
       "      <td>NaN</td>\n",
       "      <td>16TH AVENUE NORTH</td>\n",
       "      <td>961 16TH AVE N 37208</td>\n",
       "      <td>Marty Sewell</td>\n",
       "      <td>...</td>\n",
       "      <td>Suite 425</td>\n",
       "      <td>Nashville</td>\n",
       "      <td>TN</td>\n",
       "      <td>37203</td>\n",
       "      <td>NaN</td>\n",
       "      <td>NaN</td>\n",
       "      <td>19 (Freddie O'Connell)</td>\n",
       "      <td>NaN</td>\n",
       "      <td>NaN</td>\n",
       "      <td>NaN</td>\n",
       "    </tr>\n",
       "  </tbody>\n",
       "</table>\n",
       "<p>2 rows × 27 columns</p>\n",
       "</div>"
      ],
      "text/plain": [
       "  date_submitted           application_type_descr mpc_case_number  \\\n",
       "0     2020-02-14  Specific Plan (Final Site Plan)  2016SP-076-010   \n",
       "1     2019-12-04         Community Plan Amendment  2020CP-000-001   \n",
       "\n",
       "  ordinance_number   status mpc_meeting_date mpc_action  \\\n",
       "0              NaN  PENDING       2020-04-09        NaN   \n",
       "1              NaN  PENDING       2020-05-12        NaN   \n",
       "\n",
       "               project_name              location       reviewer  ...  \\\n",
       "0  BOSCOBEL HEIGHTS LIBRARY   998 SEVIER ST 37210  Abbie Rickoff  ...   \n",
       "1         16TH AVENUE NORTH  961 16TH AVE N 37208   Marty Sewell  ...   \n",
       "\n",
       "  applicant_address_2 applicant_city applicant_state applicant_zip  \\\n",
       "0           Suite 210      NASHVILLE              TN         37209   \n",
       "1           Suite 425      Nashville              TN         37203   \n",
       "\n",
       "  council_3rd_reading_date council_3rd_reading_action        council_district  \\\n",
       "0                      NaN                        NaN      06 (Brett Withers)   \n",
       "1                      NaN                        NaN  19 (Freddie O'Connell)   \n",
       "\n",
       "  latitude longitude mapped_location  \n",
       "0      NaN       NaN             NaN  \n",
       "1      NaN       NaN             NaN  \n",
       "\n",
       "[2 rows x 27 columns]"
      ]
     },
     "execution_count": 232,
     "metadata": {},
     "output_type": "execute_result"
    }
   ],
   "source": [
    "# Looking at remaining rows that have a 'location', but null in 'mapped_location'\n",
    "# Will submit them to Google Maps API to get geocoding\n",
    "\n",
    "# PLANNING DEPT\n",
    "# First: Checked to see which items had null in lat/lon. Do I need these? \n",
    "#        YES, it would be good to keep these.\n",
    "# Second: Creating new df to submit to census geocoder website.\n",
    "\n",
    "df_planning_null_latlon = df_planning.loc[df_planning['latitude'].isnull()].reset_index(drop = True) \n",
    "df_planning_null_latlon.head(2)"
   ]
  },
  {
   "cell_type": "code",
   "execution_count": 233,
   "metadata": {
    "collapsed": true
   },
   "outputs": [
    {
     "data": {
      "text/html": [
       "<div>\n",
       "<style scoped>\n",
       "    .dataframe tbody tr th:only-of-type {\n",
       "        vertical-align: middle;\n",
       "    }\n",
       "\n",
       "    .dataframe tbody tr th {\n",
       "        vertical-align: top;\n",
       "    }\n",
       "\n",
       "    .dataframe thead th {\n",
       "        text-align: right;\n",
       "    }\n",
       "</style>\n",
       "<table border=\"1\" class=\"dataframe\">\n",
       "  <thead>\n",
       "    <tr style=\"text-align: right;\">\n",
       "      <th></th>\n",
       "      <th>location</th>\n",
       "    </tr>\n",
       "  </thead>\n",
       "  <tbody>\n",
       "    <tr>\n",
       "      <th>0</th>\n",
       "      <td>998 SEVIER ST 37210</td>\n",
       "    </tr>\n",
       "    <tr>\n",
       "      <th>1</th>\n",
       "      <td>961 16TH AVE N 37208</td>\n",
       "    </tr>\n",
       "  </tbody>\n",
       "</table>\n",
       "</div>"
      ],
      "text/plain": [
       "               location\n",
       "0   998 SEVIER ST 37210\n",
       "1  961 16TH AVE N 37208"
      ]
     },
     "execution_count": 233,
     "metadata": {},
     "output_type": "execute_result"
    }
   ],
   "source": [
    "# Creating new df wtih only the 'location' column, to send out for geocoding\n",
    "# Since there are so few (just 9 rows), I'll edit the location address in Excel to make it fit Google's requirements.\n",
    "\n",
    "df_planning_null_latlon = df_planning_null_latlon[['location']]\n",
    "df_planning_null_latlon.head(2)"
   ]
  },
  {
   "cell_type": "code",
   "execution_count": 234,
   "metadata": {
    "collapsed": true
   },
   "outputs": [],
   "source": [
    "df_planning_null_latlon.to_csv('../data/interim/planning_addresses.csv')"
   ]
  },
  {
   "cell_type": "code",
   "execution_count": 235,
   "metadata": {
    "collapsed": true
   },
   "outputs": [
    {
     "name": "stdout",
     "output_type": "stream",
     "text": [
      "31\n",
      "Rezoning                                    86\n",
      "Subdivision (Final Plat)                    81\n",
      "Mandatory Referral Easement                 64\n",
      "Specific Plan (Final Site Plan)             50\n",
      "Specific Plan (New)                         39\n",
      "Mandatory Referral Encroachment             24\n",
      "Community Plan Amendment                    17\n",
      "Mandatory Referral Agreement                15\n",
      "Planned Unit Development (Final Site Pl)    15\n",
      "Downtown Code (Final Site Plan)             13\n",
      "Subdivision (Concept Plan)                   9\n",
      "Planned Unit Development (Amend)             8\n",
      "Downtown Code (Modify)                       8\n",
      "Planned Unit Development (Cancel)            8\n",
      "Subdivision (Amendment)                      8\n",
      "Mandatory Referral Property                  8\n",
      "Specific Plan (Amend)                        8\n",
      "Mandatory Referral  R.O.W. Abandonment       7\n",
      "Urban Design Overlay (Final)                 6\n",
      "Historic Landmark (New)                      5\n",
      "Subdivision (Final Site Plan)                3\n",
      "Mandatory Referral Street Renaming           3\n",
      "Urban Design Overlay (Modify)                3\n",
      "Neighborhood Landmark (New)                  2\n",
      "Institutional (Final)                        2\n",
      "Contextual Overlay New                       1\n",
      "Text Amendment                               1\n",
      "Resi Accessory Structure Overlay (New)       1\n",
      "Neighborhood Landmark (Final Site Plan)      1\n",
      "Neighborhood Landmark (Amend)                1\n",
      "Historic Preservation (New)                  1\n",
      "Name: application_type_descr, dtype: int64\n"
     ]
    }
   ],
   "source": [
    "# Taking a look at the types of info in Planning Dept data\n",
    "\n",
    "print(df_planning.application_type_descr.nunique())\n",
    "print(df_planning.application_type_descr.value_counts())"
   ]
  },
  {
   "cell_type": "code",
   "execution_count": 236,
   "metadata": {
    "collapsed": true
   },
   "outputs": [
    {
     "name": "stdout",
     "output_type": "stream",
     "text": [
      "5\n",
      "PENDING        216\n",
      "CNCLACTIVE     195\n",
      "NEW             64\n",
      "MPCCOMPLETE     22\n",
      "UNKNOWN          1\n",
      "Name: status, dtype: int64\n"
     ]
    }
   ],
   "source": [
    "# Taking a look at the types of info in Planning Dept data\n",
    "\n",
    "print(df_planning.status.nunique())\n",
    "print(df_planning.status.value_counts())"
   ]
  },
  {
   "cell_type": "markdown",
   "metadata": {},
   "source": [
    "<a id='Exploring and Cleaning: Neighborhood Assoc Boundaries (GIS)'></a>\n",
    "## Exploring and Cleaning: Neighborhood Assoc Boundaries (GIS)\n",
    "- The only change needed was to fix the crs code from epsg:4326 go EPSG:4326"
   ]
  },
  {
   "cell_type": "code",
   "execution_count": 237,
   "metadata": {
    "collapsed": true
   },
   "outputs": [
    {
     "name": "stdout",
     "output_type": "stream",
     "text": [
      "<class 'geopandas.geodataframe.GeoDataFrame'>\n",
      "RangeIndex: 288 entries, 0 to 287\n",
      "Data columns (total 2 columns):\n",
      " #   Column    Non-Null Count  Dtype   \n",
      "---  ------    --------------  -----   \n",
      " 0   name      288 non-null    object  \n",
      " 1   geometry  288 non-null    geometry\n",
      "dtypes: geometry(1), object(1)\n",
      "memory usage: 4.6+ KB\n"
     ]
    }
   ],
   "source": [
    "df_na_bound.info()"
   ]
  },
  {
   "cell_type": "code",
   "execution_count": 238,
   "metadata": {
    "collapsed": true
   },
   "outputs": [
    {
     "data": {
      "text/plain": [
       "name        0\n",
       "geometry    0\n",
       "dtype: int64"
      ]
     },
     "execution_count": 238,
     "metadata": {},
     "output_type": "execute_result"
    }
   ],
   "source": [
    "# To confirm whether any are null.  No nulls! Good :-)\n",
    "\n",
    "df_na_bound.isnull().sum()"
   ]
  },
  {
   "cell_type": "code",
   "execution_count": 239,
   "metadata": {
    "collapsed": true
   },
   "outputs": [
    {
     "name": "stdout",
     "output_type": "stream",
     "text": [
      "epsg:4326\n"
     ]
    }
   ],
   "source": [
    "# Confirming crs type\n",
    "\n",
    "print(df_na_bound.crs)"
   ]
  },
  {
   "cell_type": "code",
   "execution_count": 240,
   "metadata": {
    "collapsed": true
   },
   "outputs": [
    {
     "name": "stdout",
     "output_type": "stream",
     "text": [
      "EPSG:4326\n"
     ]
    }
   ],
   "source": [
    "# Converting to uppercase EPSG\n",
    "\n",
    "df_na_bound.crs = \"EPSG:4326\"\n",
    "print(df_na_bound.crs)"
   ]
  },
  {
   "cell_type": "markdown",
   "metadata": {},
   "source": [
    "<a id='Creating new type_subtype column to use as popup on maps; in both full dfs (6/19/2020)'></a>\n",
    "## Creating new 'type_subtype' column to use as popup on maps; in both full dfs (6/19/2020)\n",
    "Example: TYPE: Building Residential - New SUBTYPE: Single Family Residence   "
   ]
  },
  {
   "cell_type": "code",
   "execution_count": 241,
   "metadata": {
    "collapsed": true
   },
   "outputs": [
    {
     "data": {
      "text/html": [
       "<div>\n",
       "<style scoped>\n",
       "    .dataframe tbody tr th:only-of-type {\n",
       "        vertical-align: middle;\n",
       "    }\n",
       "\n",
       "    .dataframe tbody tr th {\n",
       "        vertical-align: top;\n",
       "    }\n",
       "\n",
       "    .dataframe thead th {\n",
       "        text-align: right;\n",
       "    }\n",
       "</style>\n",
       "<table border=\"1\" class=\"dataframe\">\n",
       "  <thead>\n",
       "    <tr style=\"text-align: right;\">\n",
       "      <th></th>\n",
       "      <th>permit_number</th>\n",
       "      <th>permit_type_descr</th>\n",
       "      <th>permit_subtype_descr</th>\n",
       "      <th>parcel</th>\n",
       "      <th>date_entered</th>\n",
       "      <th>construction_cost</th>\n",
       "      <th>address</th>\n",
       "      <th>city</th>\n",
       "      <th>state</th>\n",
       "      <th>zip</th>\n",
       "      <th>...</th>\n",
       "      <th>contact</th>\n",
       "      <th>permit_type</th>\n",
       "      <th>permit_subtype</th>\n",
       "      <th>ivr_tracking_number</th>\n",
       "      <th>purpose</th>\n",
       "      <th>council_district</th>\n",
       "      <th>mapped_location</th>\n",
       "      <th>lat</th>\n",
       "      <th>lon</th>\n",
       "      <th>type_subtype</th>\n",
       "    </tr>\n",
       "  </thead>\n",
       "  <tbody>\n",
       "    <tr>\n",
       "      <th>0</th>\n",
       "      <td>T2020016213</td>\n",
       "      <td>Building Residential - New</td>\n",
       "      <td>Single Family Residence</td>\n",
       "      <td>10216006100</td>\n",
       "      <td>2020-03-11</td>\n",
       "      <td>NaN</td>\n",
       "      <td>748  DARDEN PL</td>\n",
       "      <td>NASHVILLE</td>\n",
       "      <td>TN</td>\n",
       "      <td>37205</td>\n",
       "      <td>...</td>\n",
       "      <td>Kingdom Builders of Tennesse</td>\n",
       "      <td>CARN</td>\n",
       "      <td>CAA01R301</td>\n",
       "      <td>3781725</td>\n",
       "      <td>New Single family dwelling.  REJECTED: APPLICA...</td>\n",
       "      <td>23.0</td>\n",
       "      <td>748 DARDEN PL\\nNASHVILLE, TN 37205\\n(36.125944...</td>\n",
       "      <td>36.125944</td>\n",
       "      <td>-86.879062</td>\n",
       "      <td>TYPE: Building Residential - New SUBTYPE: Sing...</td>\n",
       "    </tr>\n",
       "  </tbody>\n",
       "</table>\n",
       "<p>1 rows × 21 columns</p>\n",
       "</div>"
      ],
      "text/plain": [
       "  permit_number           permit_type_descr     permit_subtype_descr  \\\n",
       "0   T2020016213  Building Residential - New  Single Family Residence   \n",
       "\n",
       "        parcel date_entered  construction_cost         address       city  \\\n",
       "0  10216006100   2020-03-11                NaN  748  DARDEN PL  NASHVILLE   \n",
       "\n",
       "  state    zip  ...                       contact permit_type permit_subtype  \\\n",
       "0    TN  37205  ...  Kingdom Builders of Tennesse        CARN      CAA01R301   \n",
       "\n",
       "  ivr_tracking_number                                            purpose  \\\n",
       "0             3781725  New Single family dwelling.  REJECTED: APPLICA...   \n",
       "\n",
       "  council_district                                    mapped_location  \\\n",
       "0             23.0  748 DARDEN PL\\nNASHVILLE, TN 37205\\n(36.125944...   \n",
       "\n",
       "         lat        lon                                       type_subtype  \n",
       "0  36.125944 -86.879062  TYPE: Building Residential - New SUBTYPE: Sing...  \n",
       "\n",
       "[1 rows x 21 columns]"
      ]
     },
     "execution_count": 241,
     "metadata": {},
     "output_type": "execute_result"
    }
   ],
   "source": [
    "# Adding column to have single column for use for sorting\n",
    "# Adding to main df, then \n",
    "\n",
    "df_bldg_apps['type_subtype'] = (\"TYPE: \"\n",
    "                                + df_bldg_apps['permit_type_descr'] \n",
    "                                + \" SUBTYPE: \" \n",
    "                                + df_bldg_apps['permit_subtype_descr']\n",
    "                               )\n",
    "df_bldg_apps.head(1)     "
   ]
  },
  {
   "cell_type": "code",
   "execution_count": 242,
   "metadata": {
    "collapsed": true
   },
   "outputs": [
    {
     "data": {
      "text/html": [
       "<div>\n",
       "<style scoped>\n",
       "    .dataframe tbody tr th:only-of-type {\n",
       "        vertical-align: middle;\n",
       "    }\n",
       "\n",
       "    .dataframe tbody tr th {\n",
       "        vertical-align: top;\n",
       "    }\n",
       "\n",
       "    .dataframe thead th {\n",
       "        text-align: right;\n",
       "    }\n",
       "</style>\n",
       "<table border=\"1\" class=\"dataframe\">\n",
       "  <thead>\n",
       "    <tr style=\"text-align: right;\">\n",
       "      <th></th>\n",
       "      <th>permit_number</th>\n",
       "      <th>permit_type_descr</th>\n",
       "      <th>permit_subtype_descr</th>\n",
       "      <th>parcel</th>\n",
       "      <th>date_entered</th>\n",
       "      <th>date_issued</th>\n",
       "      <th>construction_cost</th>\n",
       "      <th>address</th>\n",
       "      <th>city</th>\n",
       "      <th>state</th>\n",
       "      <th>...</th>\n",
       "      <th>permit_type</th>\n",
       "      <th>permit_subtype</th>\n",
       "      <th>ivr_tracking_number</th>\n",
       "      <th>purpose</th>\n",
       "      <th>council_district</th>\n",
       "      <th>census_tract</th>\n",
       "      <th>mapped_location</th>\n",
       "      <th>lat</th>\n",
       "      <th>lon</th>\n",
       "      <th>type_subtype</th>\n",
       "    </tr>\n",
       "  </thead>\n",
       "  <tbody>\n",
       "    <tr>\n",
       "      <th>0</th>\n",
       "      <td>2019070460</td>\n",
       "      <td>Building Residential - New</td>\n",
       "      <td>Single Family Residence</td>\n",
       "      <td>058100C04900CO</td>\n",
       "      <td>2019-11-18</td>\n",
       "      <td>2019-12-09</td>\n",
       "      <td>270585.0</td>\n",
       "      <td>1037  LAWSONS RIDGE DR</td>\n",
       "      <td>NASHVILLE</td>\n",
       "      <td>TN</td>\n",
       "      <td>...</td>\n",
       "      <td>CARN</td>\n",
       "      <td>CAA01R301</td>\n",
       "      <td>3733056</td>\n",
       "      <td>To construct a single family residence of 2402...</td>\n",
       "      <td>1.0</td>\n",
       "      <td>37010105.0</td>\n",
       "      <td>1037 LAWSONS RIDGE DR\\nNASHVILLE, TN 37218</td>\n",
       "      <td>NaN</td>\n",
       "      <td>NaN</td>\n",
       "      <td>TYPE: Building Residential - New SUBTYPE: Sing...</td>\n",
       "    </tr>\n",
       "  </tbody>\n",
       "</table>\n",
       "<p>1 rows × 23 columns</p>\n",
       "</div>"
      ],
      "text/plain": [
       "  permit_number           permit_type_descr     permit_subtype_descr  \\\n",
       "0    2019070460  Building Residential - New  Single Family Residence   \n",
       "\n",
       "           parcel date_entered date_issued  construction_cost  \\\n",
       "0  058100C04900CO   2019-11-18  2019-12-09           270585.0   \n",
       "\n",
       "                  address       city state  ...  permit_type permit_subtype  \\\n",
       "0  1037  LAWSONS RIDGE DR  NASHVILLE    TN  ...         CARN      CAA01R301   \n",
       "\n",
       "  ivr_tracking_number                                            purpose  \\\n",
       "0             3733056  To construct a single family residence of 2402...   \n",
       "\n",
       "  council_district  census_tract                             mapped_location  \\\n",
       "0              1.0    37010105.0  1037 LAWSONS RIDGE DR\\nNASHVILLE, TN 37218   \n",
       "\n",
       "   lat  lon                                       type_subtype  \n",
       "0  NaN  NaN  TYPE: Building Residential - New SUBTYPE: Sing...  \n",
       "\n",
       "[1 rows x 23 columns]"
      ]
     },
     "execution_count": 242,
     "metadata": {},
     "output_type": "execute_result"
    }
   ],
   "source": [
    "#Adding new type_subtype column to BLDG PERMITS ISSUED, too:\n",
    "\n",
    "# Adding column to have single column for use in popup\n",
    "# Adding to main df, then \n",
    "\n",
    "df_bldg_issued['type_subtype'] = (\"TYPE: \"\n",
    "                                + df_bldg_issued['permit_type_descr'] \n",
    "                                + \" SUBTYPE: \" \n",
    "                                + df_bldg_issued['permit_subtype_descr']\n",
    "                               )\n",
    "df_bldg_issued.head(1)    "
   ]
  },
  {
   "cell_type": "code",
   "execution_count": null,
   "metadata": {
    "collapsed": true
   },
   "outputs": [],
   "source": []
  },
  {
   "cell_type": "markdown",
   "metadata": {},
   "source": [
    "   "
   ]
  },
  {
   "cell_type": "markdown",
   "metadata": {},
   "source": [
    "<a id='WORK IN PROGRESS'></a>\n",
    "<a id='SORT: Bldg Permit Applications & Bldg Permits Issued (6/19/2020)'></a>\n",
    "\n",
    "# WORK IN PROGRESS \n",
    "## SORT: Bldg Permit Applications & Bldg Permits Issued (6/19/2020)  \n"
   ]
  },
  {
   "cell_type": "code",
   "execution_count": 243,
   "metadata": {
    "collapsed": true
   },
   "outputs": [],
   "source": [
    "# WORK IN PROGRESS - SORT... 6/19/2020 ... COMPLETED THIS WORK IN NOTEBOOK 3_finalize_data\n",
    "\n",
    "# Sort by address, then type_subtype, then ivr_tracking_number.\n",
    "# ivr_tracking_number is better than date (sometimes two entries have same date), and better than\n",
    "# permit_number, which begins with either 'T' or 'D', which can throw off the sort.\n",
    "\n",
    "#df_bldg_apps_sorted = \n",
    "#df_bldg_apps.sort_values(by = ['address'\n",
    "#                               , 'type_subtype'\n",
    "#                               , 'date_entered'\n",
    "#                               , '']\n",
    "#                        )\n",
    "#df_bldg_apps_sorted = df_bldg_apps.reset_index(drop = True)\n",
    "#print(type(df_bldg_apps_clean))\n",
    "#df_bldg_apps_sorted.head(1)"
   ]
  },
  {
   "cell_type": "code",
   "execution_count": 244,
   "metadata": {
    "collapsed": true
   },
   "outputs": [],
   "source": [
    "# WORK IN PROGRESS - SORT... 6/19/2020... COMPLETED THIS WORK IN NOTEBOOK 3_finalize_data\n",
    "\n",
    "# Sort by address, then type_subtype, then ivr_tracking_number.\n",
    "# ivr_tracking_number is better than date (sometimes two entries have same date), and better than\n",
    "# permit_number, which begins with either 'T' or 'D', which can throw off the sort.\n",
    "\n",
    "\n",
    "#TESTING THE CODE FIRST BEFORE CREATING NEW DF - USE \n",
    "\n",
    "\n",
    "#df_bldg_issued = \n",
    "#df_bldg_issued.sort_values(by = ['address'\n",
    "#                                 , 'type_subtype'\n",
    "#                                 , 'date_issued']\n",
    "#                          )\n",
    "#df_bldg_issued = df_bldg_issued.reset_index(drop = True)\n",
    "#print(type(df_bldg_apps_clean))\n",
    "#df_bldg_issued.head(1)"
   ]
  },
  {
   "cell_type": "code",
   "execution_count": 245,
   "metadata": {
    "collapsed": true
   },
   "outputs": [],
   "source": [
    "# STEP TWO: DROP_DUPLICATES\n",
    "# Remove duplicates for those with \n",
    "# same ADDRESS, and TYPE_SUBTYPE that occur within X DAYS of each other (deciding between 30 and 60 days).\n",
    "# CODE REFERENCT:  StackOverflow:\n",
    "\n",
    "#https://stackoverflow.com/questions/47341275/drop-duplicate-rows-from-a-pandas-dataframe-whose-timestamps-are-within-a-specif\n",
    "\n",
    "\n",
    "# Drop based on [1] address, [2] type_subtype. See notes in GitHub Project Issue: \n",
    "# To confirm, check 1 Titans Way, tents & stages, 3397152 should be gone, 3409055 should stay. CONFIRMED\n",
    "\n"
   ]
  },
  {
   "cell_type": "markdown",
   "metadata": {},
   "source": [
    "<a id='Bldg Permits Issued: Drop Duplicates'></a>\n",
    "## Bldg Permits Issued: Drop Duplicates\n",
    "- ISSUE: Some addresses are listed more than once with the same [1] address, [2] type_subtype, but with different dates. Some dates are close to each other, others are a year or two apart. \n",
    "- SOLUTION: Drop duplicates based on ADDRESS and TYPE_SUBTYPE *ONLY* for rows with that are within 180 days. This will  keep permits for the same type_subtype that occurred more than 6 months apart, which could signal new work of the same type. \n",
    "- CONFIRMATION: If this works, the \n",
    "- SOLUTION: Drop duplicates. Steps:\n",
    "    - Sort_values by address, then type_subtype, then date\n",
    "    - Drop duplicates based on address and type_subtype, using argument to keep (last/first, depending on which has the latest date  "
   ]
  },
  {
   "cell_type": "code",
   "execution_count": 246,
   "metadata": {
    "collapsed": true
   },
   "outputs": [],
   "source": [
    "#print(df_bldg_apps.shape)"
   ]
  },
  {
   "cell_type": "code",
   "execution_count": 247,
   "metadata": {
    "collapsed": true
   },
   "outputs": [],
   "source": [
    "#df_bldg_issued.info()"
   ]
  },
  {
   "cell_type": "code",
   "execution_count": 248,
   "metadata": {
    "collapsed": true
   },
   "outputs": [],
   "source": [
    "# STEP TWO: DROP_DUPLICATES\n",
    "# Drop based on [1] address, [2] type_subtype. Keep last. \n",
    "# To confirm, check 1 Titans Way, tents & stages, 3397152 should be gone, 3409055 should stay. CONFIRMED\n",
    "#\n",
    "#df_bldg_issued = df_bldg_issued.drop_duplicates(['address', 'type_subtype']\n",
    "#                            , keep = 'last'\n",
    "#                            , ignore_index = True  # To renumber the index with no missing values\n",
    "#                            )\n",
    "#df_bldg_issued.head(1)"
   ]
  },
  {
   "cell_type": "code",
   "execution_count": 249,
   "metadata": {
    "collapsed": true
   },
   "outputs": [
    {
     "data": {
      "text/plain": [
       "(33909, 23)"
      ]
     },
     "execution_count": 249,
     "metadata": {},
     "output_type": "execute_result"
    }
   ],
   "source": [
    "df_bldg_issued.shape   # was 33869 rows. Now xxxx rows"
   ]
  },
  {
   "cell_type": "markdown",
   "metadata": {},
   "source": [
    "<a id='Reviewing permit types, permit subtypes, etc. in Bldg Permit Applications, Bldg Permits Issued, and Planning dfs.'></a>\n",
    "## Reviewing permit types, permit subtypes, etc. in Bldg Permit Applications, Bldg Permits Issued, and Planning dfs.\n",
    "- Are there any types, subtypes, or columns not needed for EDA?"
   ]
  },
  {
   "cell_type": "code",
   "execution_count": 250,
   "metadata": {
    "collapsed": true
   },
   "outputs": [
    {
     "name": "stdout",
     "output_type": "stream",
     "text": [
      "<class 'pandas.core.frame.DataFrame'>\n",
      "RangeIndex: 3106 entries, 0 to 3105\n",
      "Data columns (total 21 columns):\n",
      " #   Column                Non-Null Count  Dtype         \n",
      "---  ------                --------------  -----         \n",
      " 0   permit_number         3106 non-null   object        \n",
      " 1   permit_type_descr     3106 non-null   object        \n",
      " 2   permit_subtype_descr  3106 non-null   object        \n",
      " 3   parcel                3106 non-null   object        \n",
      " 4   date_entered          3106 non-null   datetime64[ns]\n",
      " 5   construction_cost     1651 non-null   float64       \n",
      " 6   address               3106 non-null   object        \n",
      " 7   city                  3106 non-null   object        \n",
      " 8   state                 3106 non-null   object        \n",
      " 9   zip                   3106 non-null   int64         \n",
      " 10  subdivision_lot       3105 non-null   object        \n",
      " 11  contact               3105 non-null   object        \n",
      " 12  permit_type           3106 non-null   object        \n",
      " 13  permit_subtype        3106 non-null   object        \n",
      " 14  ivr_tracking_number   3106 non-null   int64         \n",
      " 15  purpose               3084 non-null   object        \n",
      " 16  council_district      3099 non-null   float64       \n",
      " 17  mapped_location       3106 non-null   object        \n",
      " 18  lat                   2809 non-null   float64       \n",
      " 19  lon                   2809 non-null   float64       \n",
      " 20  type_subtype          3106 non-null   object        \n",
      "dtypes: datetime64[ns](1), float64(4), int64(2), object(14)\n",
      "memory usage: 509.7+ KB\n"
     ]
    }
   ],
   "source": [
    "# Bldg Permit Applications\n",
    "# Which columns not needed?  \n",
    "# KEEPING ALL. Might want them for popups on visualization\n",
    "\n",
    "df_bldg_apps.info()"
   ]
  },
  {
   "cell_type": "code",
   "execution_count": 251,
   "metadata": {
    "collapsed": true
   },
   "outputs": [
    {
     "data": {
      "text/plain": [
       "Single Family Residence                     1420\n",
       "Demolition Permit - Residential              173\n",
       "Accessory Structure, Garage                  167\n",
       "Sign - Ground /  Wall Signs                  136\n",
       "Tents, Stages                                 99\n",
       "                                            ... \n",
       "Outpatient Clinic                              1\n",
       "Community Education, Stadiums                  1\n",
       "Dormitories                                    1\n",
       "Bed & Breakfast Inn, Hotel / Motel             1\n",
       "Airport/Heliport, Airtraffic Cntr Towers       1\n",
       "Name: permit_subtype_descr, Length: 94, dtype: int64"
      ]
     },
     "execution_count": 251,
     "metadata": {},
     "output_type": "execute_result"
    }
   ],
   "source": [
    "# Bldg Permit Applications\n",
    "# Which PERMIT TYPES are needed to answer data questions?\n",
    "# DECISION: KEEPING ALL\n",
    "# REASON: Even though some types only have one count,\n",
    "#         several with one value may be in a single neighborhood assoc boundary\n",
    "#         May group this once I start exploring, but will leave all details in place for now.\n",
    "\n",
    "df_bldg_apps.permit_subtype_descr.value_counts()"
   ]
  },
  {
   "cell_type": "code",
   "execution_count": 252,
   "metadata": {
    "collapsed": true
   },
   "outputs": [
    {
     "name": "stdout",
     "output_type": "stream",
     "text": [
      "50\n",
      "Single Family Residence                     1420\n",
      "Demolition Permit - Residential              173\n",
      "Accessory Structure, Garage                  167\n",
      "Sign - Ground /  Wall Signs                  136\n",
      "Tents, Stages                                 99\n",
      "                                            ... \n",
      "Outpatient Clinic                              1\n",
      "Community Education, Stadiums                  1\n",
      "Dormitories                                    1\n",
      "Bed & Breakfast Inn, Hotel / Motel             1\n",
      "Airport/Heliport, Airtraffic Cntr Towers       1\n",
      "Name: permit_subtype_descr, Length: 94, dtype: int64\n"
     ]
    }
   ],
   "source": [
    "# Bldg Permit Applications\n",
    "# Which PERMIT SUB-TYPES are needed to answer data questions?\n",
    "# DECISION: KEEPING ALL\n",
    "# REASON: Even though some types only have one count,\n",
    "#         several with one value may be in a single neighborhood assoc boundary\n",
    "#         May group this once I start exploring, but will leave all details in place for now.\n",
    "\n",
    "# To get full results that aren't truncated, set to high number like 4000 (default is 50):\n",
    "pd.options.display.max_rows = 50\n",
    "print(pd.options.display.max_rows)\n",
    "\n",
    "list_bldg_apps_subtype_counts = df_bldg_apps.permit_subtype_descr.value_counts()\n",
    "print(list_bldg_apps_subtype_counts)"
   ]
  },
  {
   "cell_type": "code",
   "execution_count": 253,
   "metadata": {
    "collapsed": true
   },
   "outputs": [
    {
     "name": "stdout",
     "output_type": "stream",
     "text": [
      "<class 'pandas.core.frame.DataFrame'>\n",
      "RangeIndex: 33909 entries, 0 to 33908\n",
      "Data columns (total 23 columns):\n",
      " #   Column                Non-Null Count  Dtype         \n",
      "---  ------                --------------  -----         \n",
      " 0   permit_number         33909 non-null  object        \n",
      " 1   permit_type_descr     33909 non-null  object        \n",
      " 2   permit_subtype_descr  33909 non-null  object        \n",
      " 3   parcel                33909 non-null  object        \n",
      " 4   date_entered          33909 non-null  datetime64[ns]\n",
      " 5   date_issued           33909 non-null  datetime64[ns]\n",
      " 6   construction_cost     33899 non-null  float64       \n",
      " 7   address               33909 non-null  object        \n",
      " 8   city                  33909 non-null  object        \n",
      " 9   state                 33909 non-null  object        \n",
      " 10  zip                   33909 non-null  int64         \n",
      " 11  subdivision_lot       33909 non-null  object        \n",
      " 12  contact               33908 non-null  object        \n",
      " 13  permit_type           33909 non-null  object        \n",
      " 14  permit_subtype        33909 non-null  object        \n",
      " 15  ivr_tracking_number   33909 non-null  int64         \n",
      " 16  purpose               33442 non-null  object        \n",
      " 17  council_district      33863 non-null  float64       \n",
      " 18  census_tract          33866 non-null  float64       \n",
      " 19  mapped_location       33909 non-null  object        \n",
      " 20  lat                   29981 non-null  float64       \n",
      " 21  lon                   29981 non-null  float64       \n",
      " 22  type_subtype          33909 non-null  object        \n",
      "dtypes: datetime64[ns](2), float64(5), int64(2), object(14)\n",
      "memory usage: 6.0+ MB\n"
     ]
    }
   ],
   "source": [
    "# Bldg Permits Issued\n",
    "# Which columns not needed?  \n",
    "# DECISION: KEEPING ALL\n",
    "# REASON: Might want this information for popups on visualization\n",
    "\n",
    "df_bldg_issued.info()"
   ]
  },
  {
   "cell_type": "code",
   "execution_count": 254,
   "metadata": {
    "collapsed": true
   },
   "outputs": [
    {
     "data": {
      "text/plain": [
       "Building Residential - New                  12780\n",
       "Building Commercial - Rehab                  3384\n",
       "Building Residential - Rehab                 3273\n",
       "Building Residential - Addition              3200\n",
       "Building Demolition Permit                   2796\n",
       "Building Sign Permit                         2436\n",
       "Building Use & Occupancy                     1524\n",
       "Building Commercial - Tenant Finish Out      1113\n",
       "Building Commercial - New                    1047\n",
       "Building Tree Removal Permit                  495\n",
       "Building Commercial - Addition                338\n",
       "Building Residential - Roofing / Siding       240\n",
       "Building Commercial - Roofing / Siding        239\n",
       "Building Commercial - Shell                   173\n",
       "Building Residential Rehab Storm Damage       119\n",
       "Building Residential - Tenant Finish Out      117\n",
       "Building Commercial - Foundation              114\n",
       "Building Blasting Permit                      107\n",
       "Building Residential - Change Contractor       91\n",
       "Building Residential - Fire Damage             90\n",
       "Building Commercial Rehab Storm Damage         60\n",
       "Building Commercial - Fire Damage              48\n",
       "Building Residential - Amend Permit            32\n",
       "Building Commercial - Structural Frame         22\n",
       "Building Residential New Storm Damage          17\n",
       "Building Moving Permit                         16\n",
       "Building Commercial New Storm Damage           15\n",
       "Building Residential - Foundation               8\n",
       "Building Residential - Shell                    8\n",
       "Building Commercial - Change Contractor         6\n",
       "Building Residential - Renew Permit             1\n",
       "Name: permit_type_descr, dtype: int64"
      ]
     },
     "execution_count": 254,
     "metadata": {},
     "output_type": "execute_result"
    }
   ],
   "source": [
    "# Bldg Permits Issued\n",
    "# Which PERMIT TYPES are needed to answer data questions?\n",
    "# DECISION: KEEPING ALL\n",
    "# REASON: Even though some types only have small counts,\n",
    "#         several may be in a single neighborhood assoc boundary\n",
    "#         May group this once I start exploring, but will leave all details in place for now.\n",
    "\n",
    "df_bldg_issued.permit_type_descr.value_counts()"
   ]
  },
  {
   "cell_type": "code",
   "execution_count": 255,
   "metadata": {
    "collapsed": true
   },
   "outputs": [
    {
     "name": "stdout",
     "output_type": "stream",
     "text": [
      "Single Family Residence                     15399\n",
      "Demolition Permit - Residential              2339\n",
      "Sign - Ground /  Wall Signs                  2313\n",
      "Multifamily, Townhome                        1346\n",
      "General Office, Professional Services        1308\n",
      "                                            ...  \n",
      "Vehicular Sales And Service Limited, S-1        1\n",
      "College / University, Grandstands               1\n",
      "Recreation Center, Exhibition Halls             1\n",
      "Correctional Facility, Detention Centers        1\n",
      "Commercial Amusement (In), Bowling Alley        1\n",
      "Name: permit_subtype_descr, Length: 178, dtype: int64\n"
     ]
    }
   ],
   "source": [
    "# Bldg Permits Issued\n",
    "# Which PERMIT SUB-TYPES are needed to answer data questions?\n",
    "# DECISION: KEEPING ALL\n",
    "# REASON: Even though some types only have small counts,\n",
    "#         several may be in a single neighborhood assoc boundary\n",
    "#         May group this once I start exploring, but will leave all details in place for now.\n",
    "\n",
    "list_bldg_issued_subtype_counts = df_bldg_issued.permit_subtype_descr.value_counts()\n",
    "print(list_bldg_issued_subtype_counts)"
   ]
  },
  {
   "cell_type": "code",
   "execution_count": 256,
   "metadata": {
    "collapsed": true
   },
   "outputs": [
    {
     "name": "stdout",
     "output_type": "stream",
     "text": [
      "<class 'pandas.core.frame.DataFrame'>\n",
      "Int64Index: 498 entries, 0 to 520\n",
      "Data columns (total 27 columns):\n",
      " #   Column                      Non-Null Count  Dtype         \n",
      "---  ------                      --------------  -----         \n",
      " 0   date_submitted              498 non-null    datetime64[ns]\n",
      " 1   application_type_descr      498 non-null    object        \n",
      " 2   mpc_case_number             498 non-null    object        \n",
      " 3   ordinance_number            144 non-null    object        \n",
      " 4   status                      498 non-null    object        \n",
      " 5   mpc_meeting_date            498 non-null    datetime64[ns]\n",
      " 6   mpc_action                  223 non-null    object        \n",
      " 7   project_name                404 non-null    object        \n",
      " 8   location                    498 non-null    object        \n",
      " 9   reviewer                    498 non-null    object        \n",
      " 10  reviewer_email              442 non-null    object        \n",
      " 11  case_descr                  489 non-null    object        \n",
      " 12  applicant                   494 non-null    object        \n",
      " 13  applicant_representative    490 non-null    object        \n",
      " 14  applicant_email             489 non-null    object        \n",
      " 15  applicant_phone             491 non-null    object        \n",
      " 16  applicant_address_1         490 non-null    object        \n",
      " 17  applicant_address_2         134 non-null    object        \n",
      " 18  applicant_city              490 non-null    object        \n",
      " 19  applicant_state             490 non-null    object        \n",
      " 20  applicant_zip               491 non-null    object        \n",
      " 21  council_3rd_reading_date    0 non-null      float64       \n",
      " 22  council_3rd_reading_action  0 non-null      float64       \n",
      " 23  council_district            489 non-null    object        \n",
      " 24  latitude                    489 non-null    float64       \n",
      " 25  longitude                   489 non-null    float64       \n",
      " 26  mapped_location             489 non-null    object        \n",
      "dtypes: datetime64[ns](2), float64(4), object(21)\n",
      "memory usage: 108.9+ KB\n"
     ]
    }
   ],
   "source": [
    "# Planning / Zoning Dept. Applications and Permits Issued\n",
    "# This data shows ALL PENDING, and only the LAST TWO MONTHS of ISSUED.\n",
    "# ACTIONS TAKEN BELOW: \n",
    "#    1. Converted date fields to datetime\n",
    "#    2. Dropped the two columns that were all null values\n",
    "\n",
    "df_planning.info()"
   ]
  },
  {
   "cell_type": "code",
   "execution_count": 257,
   "metadata": {
    "collapsed": true
   },
   "outputs": [
    {
     "data": {
      "text/plain": [
       "0   2019-04-01\n",
       "1   2019-11-27\n",
       "Name: date_submitted, dtype: datetime64[ns]"
      ]
     },
     "execution_count": 257,
     "metadata": {},
     "output_type": "execute_result"
    }
   ],
   "source": [
    "# Convert date_submitted to datetime \n",
    "\n",
    "df_planning.date_submitted = pd.to_datetime(df_planning.date_submitted)\n",
    "df_planning.date_submitted.head(2)"
   ]
  },
  {
   "cell_type": "code",
   "execution_count": 258,
   "metadata": {
    "collapsed": true
   },
   "outputs": [
    {
     "data": {
      "text/plain": [
       "0   2020-06-11\n",
       "1   2020-01-16\n",
       "Name: mpc_meeting_date, dtype: datetime64[ns]"
      ]
     },
     "execution_count": 258,
     "metadata": {},
     "output_type": "execute_result"
    }
   ],
   "source": [
    "# Convert mpc_meeting_date to datetime \n",
    "\n",
    "df_planning.mpc_meeting_date = pd.to_datetime(df_planning.mpc_meeting_date)\n",
    "df_planning.mpc_meeting_date.head(2)"
   ]
  },
  {
   "cell_type": "code",
   "execution_count": 259,
   "metadata": {
    "collapsed": true
   },
   "outputs": [
    {
     "data": {
      "text/plain": [
       "date_submitted                  0\n",
       "application_type_descr          0\n",
       "mpc_case_number                 0\n",
       "ordinance_number              354\n",
       "status                          0\n",
       "mpc_meeting_date                0\n",
       "mpc_action                    275\n",
       "project_name                   94\n",
       "location                        0\n",
       "reviewer                        0\n",
       "reviewer_email                 56\n",
       "case_descr                      9\n",
       "applicant                       4\n",
       "applicant_representative        8\n",
       "applicant_email                 9\n",
       "applicant_phone                 7\n",
       "applicant_address_1             8\n",
       "applicant_address_2           364\n",
       "applicant_city                  8\n",
       "applicant_state                 8\n",
       "applicant_zip                   7\n",
       "council_3rd_reading_date      498\n",
       "council_3rd_reading_action    498\n",
       "council_district                9\n",
       "latitude                        9\n",
       "longitude                       9\n",
       "mapped_location                 9\n",
       "dtype: int64"
      ]
     },
     "execution_count": 259,
     "metadata": {},
     "output_type": "execute_result"
    }
   ],
   "source": [
    "# To count nulls\n",
    "\n",
    "df_planning.isnull().sum()"
   ]
  },
  {
   "cell_type": "code",
   "execution_count": 260,
   "metadata": {
    "collapsed": true
   },
   "outputs": [
    {
     "data": {
      "text/plain": [
       "date_submitted                0\n",
       "application_type_descr        0\n",
       "mpc_case_number               0\n",
       "ordinance_number            354\n",
       "status                        0\n",
       "mpc_meeting_date              0\n",
       "mpc_action                  275\n",
       "project_name                 94\n",
       "location                      0\n",
       "reviewer                      0\n",
       "reviewer_email               56\n",
       "case_descr                    9\n",
       "applicant                     4\n",
       "applicant_representative      8\n",
       "applicant_email               9\n",
       "applicant_phone               7\n",
       "applicant_address_1           8\n",
       "applicant_address_2         364\n",
       "applicant_city                8\n",
       "applicant_state               8\n",
       "applicant_zip                 7\n",
       "council_district              9\n",
       "latitude                      9\n",
       "longitude                     9\n",
       "mapped_location               9\n",
       "dtype: int64"
      ]
     },
     "execution_count": 260,
     "metadata": {},
     "output_type": "execute_result"
    }
   ],
   "source": [
    "# Dropping the two columns for '...3rd_reading_...' that have all null values. Keeping same df name.\n",
    "\n",
    "df_planning = df_planning.drop(columns = ['council_3rd_reading_date'\n",
    "                                          , 'council_3rd_reading_action'\n",
    "                                         ])\n",
    "df_planning.isnull().sum()"
   ]
  },
  {
   "cell_type": "code",
   "execution_count": 261,
   "metadata": {
    "collapsed": true
   },
   "outputs": [
    {
     "data": {
      "text/plain": [
       "Index(['date_submitted', 'application_type_descr', 'mpc_case_number',\n",
       "       'ordinance_number', 'status', 'mpc_meeting_date', 'mpc_action',\n",
       "       'project_name', 'location', 'reviewer', 'reviewer_email', 'case_descr',\n",
       "       'applicant', 'applicant_representative', 'applicant_email',\n",
       "       'applicant_phone', 'applicant_address_1', 'applicant_address_2',\n",
       "       'applicant_city', 'applicant_state', 'applicant_zip',\n",
       "       'council_district', 'latitude', 'longitude', 'mapped_location'],\n",
       "      dtype='object')"
      ]
     },
     "execution_count": 261,
     "metadata": {},
     "output_type": "execute_result"
    }
   ],
   "source": [
    "# Confirming that the columns were dropped.\n",
    "\n",
    "df_planning.columns"
   ]
  },
  {
   "cell_type": "code",
   "execution_count": 262,
   "metadata": {
    "collapsed": true
   },
   "outputs": [
    {
     "data": {
      "text/plain": [
       "Recommend Approval                         98\n",
       "Approved by MPC                            59\n",
       "Approve with Conditions                    53\n",
       "Deferred Indefinitely by App at MPC         4\n",
       "Approved by Executive Director              2\n",
       "Withdrawn                                   2\n",
       "Deferred Indefinitely by App before MPC     2\n",
       "Deferred by MPC                             1\n",
       "Deferred by Applic before MPC               1\n",
       "Disapprove with Conditions                  1\n",
       "Name: mpc_action, dtype: int64"
      ]
     },
     "execution_count": 262,
     "metadata": {},
     "output_type": "execute_result"
    }
   ],
   "source": [
    "# Looking at value counts for mpc (Municipal Planning Committee) actions\n",
    "# Choosing, again, to leave them all in place, for now.\n",
    "\n",
    "df_planning.mpc_action.value_counts()"
   ]
  },
  {
   "cell_type": "code",
   "execution_count": 263,
   "metadata": {
    "collapsed": true
   },
   "outputs": [
    {
     "data": {
      "text/plain": [
       "PENDING        216\n",
       "CNCLACTIVE     195\n",
       "NEW             64\n",
       "MPCCOMPLETE     22\n",
       "UNKNOWN          1\n",
       "Name: status, dtype: int64"
      ]
     },
     "execution_count": 263,
     "metadata": {},
     "output_type": "execute_result"
    }
   ],
   "source": [
    "# Status has no nulls: This includes every entry\n",
    "# mpc_action, above, is apparently only filled in when an action is taken.\n",
    "\n",
    "df_planning.status.value_counts()"
   ]
  },
  {
   "cell_type": "markdown",
   "metadata": {},
   "source": [
    "<a id='Making new category column, for Residential, Commercial, Other'></a>\n",
    "## Making new category column, for Residential, Commercial, Other"
   ]
  },
  {
   "cell_type": "code",
   "execution_count": 264,
   "metadata": {
    "collapsed": true
   },
   "outputs": [
    {
     "data": {
      "text/plain": [
       "Residential    2204\n",
       "Commercial      458\n",
       "Other           444\n",
       "Name: category, dtype: int64"
      ]
     },
     "execution_count": 264,
     "metadata": {},
     "output_type": "execute_result"
    }
   ],
   "source": [
    "# Building Permit Applications df\n",
    "# Stackoverflow resource: https://stackoverflow.com/questions/36653419/str-contains-to-create-new-column-in-pandas-dataframe\n",
    "\n",
    "# Set a default value for new category column\n",
    "df_bldg_apps['category'] = 'Other'\n",
    "\n",
    "# Assign Commercial, Residential based on permit_type AND permit_subtype, to capture the most possible of each one\n",
    "# Doing BOTH type and sub_type increased Commercial category the most\n",
    "df_bldg_apps.loc[df_bldg_apps['permit_type_descr'].str.contains('Commercial'), 'category'] = 'Commercial'\n",
    "df_bldg_apps.loc[df_bldg_apps['permit_subtype_descr'].str.contains('Commercial'), 'category'] = 'Commercial'\n",
    "\n",
    "df_bldg_apps.loc[df_bldg_apps['permit_type_descr'].str.contains('Residential'), 'category'] = 'Residential'\n",
    "df_bldg_apps.loc[df_bldg_apps['permit_subtype_descr'].str.contains('Residential'), 'category'] = 'Residential'\n",
    "\n",
    "df_bldg_apps['category'].value_counts()"
   ]
  },
  {
   "cell_type": "code",
   "execution_count": 265,
   "metadata": {
    "collapsed": true
   },
   "outputs": [
    {
     "data": {
      "text/plain": [
       "Residential    22893\n",
       "Commercial      7029\n",
       "Other           3987\n",
       "Name: category, dtype: int64"
      ]
     },
     "execution_count": 265,
     "metadata": {},
     "output_type": "execute_result"
    }
   ],
   "source": [
    "# Building Permits Issued df\n",
    "# Stackoverflow resource: https://stackoverflow.com/questions/36653419/str-contains-to-create-new-column-in-pandas-dataframe\n",
    "\n",
    "# Set a default value for new category column\n",
    "df_bldg_issued['category'] = 'Other'\n",
    "\n",
    "# Assign Commercial, Residential based on permit_type AND permit_subtype, to capture the most possible of each one\n",
    "# Doing BOTH type and sub_type increased Commercial category the most\n",
    "df_bldg_issued.loc[df_bldg_issued['permit_type_descr'].str.contains('Commercial'), 'category'] = 'Commercial'\n",
    "df_bldg_issued.loc[df_bldg_issued['permit_subtype_descr'].str.contains('Commercial'), 'category'] = 'Commercial'\n",
    "\n",
    "df_bldg_issued.loc[df_bldg_issued['permit_type_descr'].str.contains('Residential'), 'category'] = 'Residential'\n",
    "df_bldg_issued.loc[df_bldg_issued['permit_subtype_descr'].str.contains('Residential'), 'category'] = 'Residential'\n",
    "\n",
    "df_bldg_issued['category'].value_counts()"
   ]
  },
  {
   "cell_type": "code",
   "execution_count": 266,
   "metadata": {
    "collapsed": true
   },
   "outputs": [
    {
     "data": {
      "text/html": [
       "<div>\n",
       "<style scoped>\n",
       "    .dataframe tbody tr th:only-of-type {\n",
       "        vertical-align: middle;\n",
       "    }\n",
       "\n",
       "    .dataframe tbody tr th {\n",
       "        vertical-align: top;\n",
       "    }\n",
       "\n",
       "    .dataframe thead th {\n",
       "        text-align: right;\n",
       "    }\n",
       "</style>\n",
       "<table border=\"1\" class=\"dataframe\">\n",
       "  <thead>\n",
       "    <tr style=\"text-align: right;\">\n",
       "      <th></th>\n",
       "      <th>permit_number</th>\n",
       "      <th>permit_type_descr</th>\n",
       "      <th>permit_subtype_descr</th>\n",
       "      <th>parcel</th>\n",
       "      <th>date_entered</th>\n",
       "      <th>date_issued</th>\n",
       "      <th>construction_cost</th>\n",
       "      <th>address</th>\n",
       "      <th>city</th>\n",
       "      <th>state</th>\n",
       "      <th>...</th>\n",
       "      <th>permit_subtype</th>\n",
       "      <th>ivr_tracking_number</th>\n",
       "      <th>purpose</th>\n",
       "      <th>council_district</th>\n",
       "      <th>census_tract</th>\n",
       "      <th>mapped_location</th>\n",
       "      <th>lat</th>\n",
       "      <th>lon</th>\n",
       "      <th>type_subtype</th>\n",
       "      <th>category</th>\n",
       "    </tr>\n",
       "  </thead>\n",
       "  <tbody>\n",
       "    <tr>\n",
       "      <th>0</th>\n",
       "      <td>2019070460</td>\n",
       "      <td>Building Residential - New</td>\n",
       "      <td>Single Family Residence</td>\n",
       "      <td>058100C04900CO</td>\n",
       "      <td>2019-11-18</td>\n",
       "      <td>2019-12-09</td>\n",
       "      <td>270585.0</td>\n",
       "      <td>1037  LAWSONS RIDGE DR</td>\n",
       "      <td>NASHVILLE</td>\n",
       "      <td>TN</td>\n",
       "      <td>...</td>\n",
       "      <td>CAA01R301</td>\n",
       "      <td>3733056</td>\n",
       "      <td>To construct a single family residence of 2402...</td>\n",
       "      <td>1.0</td>\n",
       "      <td>37010105.0</td>\n",
       "      <td>1037 LAWSONS RIDGE DR\\nNASHVILLE, TN 37218</td>\n",
       "      <td>NaN</td>\n",
       "      <td>NaN</td>\n",
       "      <td>TYPE: Building Residential - New SUBTYPE: Sing...</td>\n",
       "      <td>Residential</td>\n",
       "    </tr>\n",
       "    <tr>\n",
       "      <th>1</th>\n",
       "      <td>2020016259</td>\n",
       "      <td>Building Residential - Rehab</td>\n",
       "      <td>Single Family Residence</td>\n",
       "      <td>160150A07000CO</td>\n",
       "      <td>2020-03-12</td>\n",
       "      <td>2020-03-12</td>\n",
       "      <td>12000.0</td>\n",
       "      <td>210  HEARTHSTONE MANOR LN</td>\n",
       "      <td>BRENTWOOD</td>\n",
       "      <td>TN</td>\n",
       "      <td>...</td>\n",
       "      <td>CAA01R301</td>\n",
       "      <td>3781961</td>\n",
       "      <td>to install a new elevator/platform lift from g...</td>\n",
       "      <td>4.0</td>\n",
       "      <td>37018803.0</td>\n",
       "      <td>210 HEARTHSTONE MANOR LN\\nBRENTWOOD, TN 37027\\...</td>\n",
       "      <td>36.042219</td>\n",
       "      <td>-86.764816</td>\n",
       "      <td>TYPE: Building Residential - Rehab SUBTYPE: Si...</td>\n",
       "      <td>Residential</td>\n",
       "    </tr>\n",
       "  </tbody>\n",
       "</table>\n",
       "<p>2 rows × 24 columns</p>\n",
       "</div>"
      ],
      "text/plain": [
       "  permit_number             permit_type_descr     permit_subtype_descr  \\\n",
       "0    2019070460    Building Residential - New  Single Family Residence   \n",
       "1    2020016259  Building Residential - Rehab  Single Family Residence   \n",
       "\n",
       "           parcel date_entered date_issued  construction_cost  \\\n",
       "0  058100C04900CO   2019-11-18  2019-12-09           270585.0   \n",
       "1  160150A07000CO   2020-03-12  2020-03-12            12000.0   \n",
       "\n",
       "                     address       city state  ...  permit_subtype  \\\n",
       "0     1037  LAWSONS RIDGE DR  NASHVILLE    TN  ...       CAA01R301   \n",
       "1  210  HEARTHSTONE MANOR LN  BRENTWOOD    TN  ...       CAA01R301   \n",
       "\n",
       "  ivr_tracking_number                                            purpose  \\\n",
       "0             3733056  To construct a single family residence of 2402...   \n",
       "1             3781961  to install a new elevator/platform lift from g...   \n",
       "\n",
       "  council_district census_tract  \\\n",
       "0              1.0   37010105.0   \n",
       "1              4.0   37018803.0   \n",
       "\n",
       "                                     mapped_location        lat        lon  \\\n",
       "0         1037 LAWSONS RIDGE DR\\nNASHVILLE, TN 37218        NaN        NaN   \n",
       "1  210 HEARTHSTONE MANOR LN\\nBRENTWOOD, TN 37027\\...  36.042219 -86.764816   \n",
       "\n",
       "                                        type_subtype     category  \n",
       "0  TYPE: Building Residential - New SUBTYPE: Sing...  Residential  \n",
       "1  TYPE: Building Residential - Rehab SUBTYPE: Si...  Residential  \n",
       "\n",
       "[2 rows x 24 columns]"
      ]
     },
     "execution_count": 266,
     "metadata": {},
     "output_type": "execute_result"
    }
   ],
   "source": [
    "# Confirm new column added (at end)\n",
    "\n",
    "df_bldg_issued.head(2)"
   ]
  },
  {
   "cell_type": "code",
   "execution_count": 267,
   "metadata": {
    "collapsed": true
   },
   "outputs": [
    {
     "data": {
      "text/html": [
       "<div>\n",
       "<style scoped>\n",
       "    .dataframe tbody tr th:only-of-type {\n",
       "        vertical-align: middle;\n",
       "    }\n",
       "\n",
       "    .dataframe tbody tr th {\n",
       "        vertical-align: top;\n",
       "    }\n",
       "\n",
       "    .dataframe thead th {\n",
       "        text-align: right;\n",
       "    }\n",
       "</style>\n",
       "<table border=\"1\" class=\"dataframe\">\n",
       "  <thead>\n",
       "    <tr style=\"text-align: right;\">\n",
       "      <th></th>\n",
       "      <th>date_submitted</th>\n",
       "      <th>application_type_descr</th>\n",
       "      <th>mpc_case_number</th>\n",
       "      <th>ordinance_number</th>\n",
       "      <th>status</th>\n",
       "      <th>mpc_meeting_date</th>\n",
       "      <th>mpc_action</th>\n",
       "      <th>project_name</th>\n",
       "      <th>location</th>\n",
       "      <th>reviewer</th>\n",
       "      <th>...</th>\n",
       "      <th>applicant_phone</th>\n",
       "      <th>applicant_address_1</th>\n",
       "      <th>applicant_address_2</th>\n",
       "      <th>applicant_city</th>\n",
       "      <th>applicant_state</th>\n",
       "      <th>applicant_zip</th>\n",
       "      <th>council_district</th>\n",
       "      <th>latitude</th>\n",
       "      <th>longitude</th>\n",
       "      <th>mapped_location</th>\n",
       "    </tr>\n",
       "  </thead>\n",
       "  <tbody>\n",
       "    <tr>\n",
       "      <th>0</th>\n",
       "      <td>2019-04-01</td>\n",
       "      <td>Subdivision (Final Plat)</td>\n",
       "      <td>2019S-086-001</td>\n",
       "      <td>NaN</td>\n",
       "      <td>PENDING</td>\n",
       "      <td>2020-06-11</td>\n",
       "      <td>NaN</td>\n",
       "      <td>FINAL PLAT RESUBDIVISION OF LOT 3 AND 4 ON THE...</td>\n",
       "      <td>227 MARCIA AVE 37209</td>\n",
       "      <td>Joren Dunnavant</td>\n",
       "      <td>...</td>\n",
       "      <td>615-490-3236</td>\n",
       "      <td>1711 Hayes Street</td>\n",
       "      <td>NaN</td>\n",
       "      <td>Nashville</td>\n",
       "      <td>TN</td>\n",
       "      <td>37203</td>\n",
       "      <td>20 (Mary Carolyn Roberts)</td>\n",
       "      <td>36.143923</td>\n",
       "      <td>-86.868254</td>\n",
       "      <td>(36.143922831000054, -86.86825400699996)</td>\n",
       "    </tr>\n",
       "    <tr>\n",
       "      <th>1</th>\n",
       "      <td>2019-11-27</td>\n",
       "      <td>Specific Plan (Final Site Plan)</td>\n",
       "      <td>2016SP-076-008</td>\n",
       "      <td>NaN</td>\n",
       "      <td>PENDING</td>\n",
       "      <td>2020-01-16</td>\n",
       "      <td>NaN</td>\n",
       "      <td>RED OAKS TOWNHOMES</td>\n",
       "      <td>0 DEW ST 37206</td>\n",
       "      <td>Abbie Rickoff</td>\n",
       "      <td>...</td>\n",
       "      <td>615-351-3634</td>\n",
       "      <td>214 Oceanside Drive</td>\n",
       "      <td>NaN</td>\n",
       "      <td>Nashville</td>\n",
       "      <td>TN</td>\n",
       "      <td>37204</td>\n",
       "      <td>06 (Brett Withers)</td>\n",
       "      <td>36.165962</td>\n",
       "      <td>-86.753490</td>\n",
       "      <td>(36.165961579000054, -86.75348957099999)</td>\n",
       "    </tr>\n",
       "  </tbody>\n",
       "</table>\n",
       "<p>2 rows × 25 columns</p>\n",
       "</div>"
      ],
      "text/plain": [
       "  date_submitted           application_type_descr mpc_case_number  \\\n",
       "0     2019-04-01         Subdivision (Final Plat)   2019S-086-001   \n",
       "1     2019-11-27  Specific Plan (Final Site Plan)  2016SP-076-008   \n",
       "\n",
       "  ordinance_number   status mpc_meeting_date mpc_action  \\\n",
       "0              NaN  PENDING       2020-06-11        NaN   \n",
       "1              NaN  PENDING       2020-01-16        NaN   \n",
       "\n",
       "                                        project_name              location  \\\n",
       "0  FINAL PLAT RESUBDIVISION OF LOT 3 AND 4 ON THE...  227 MARCIA AVE 37209   \n",
       "1                                 RED OAKS TOWNHOMES        0 DEW ST 37206   \n",
       "\n",
       "          reviewer  ... applicant_phone  applicant_address_1  \\\n",
       "0  Joren Dunnavant  ...    615-490-3236    1711 Hayes Street   \n",
       "1    Abbie Rickoff  ...    615-351-3634  214 Oceanside Drive   \n",
       "\n",
       "  applicant_address_2 applicant_city applicant_state applicant_zip  \\\n",
       "0                 NaN      Nashville              TN         37203   \n",
       "1                 NaN      Nashville              TN         37204   \n",
       "\n",
       "            council_district   latitude  longitude  \\\n",
       "0  20 (Mary Carolyn Roberts)  36.143923 -86.868254   \n",
       "1         06 (Brett Withers)  36.165962 -86.753490   \n",
       "\n",
       "                            mapped_location  \n",
       "0  (36.143922831000054, -86.86825400699996)  \n",
       "1  (36.165961579000054, -86.75348957099999)  \n",
       "\n",
       "[2 rows x 25 columns]"
      ]
     },
     "execution_count": 267,
     "metadata": {},
     "output_type": "execute_result"
    }
   ],
   "source": [
    "df_planning.head(2)"
   ]
  },
  {
   "cell_type": "code",
   "execution_count": 268,
   "metadata": {
    "collapsed": true
   },
   "outputs": [
    {
     "data": {
      "text/plain": [
       "Rezoning                                    86\n",
       "Subdivision (Final Plat)                    81\n",
       "Mandatory Referral Easement                 64\n",
       "Specific Plan (Final Site Plan)             50\n",
       "Specific Plan (New)                         39\n",
       "Mandatory Referral Encroachment             24\n",
       "Community Plan Amendment                    17\n",
       "Mandatory Referral Agreement                15\n",
       "Planned Unit Development (Final Site Pl)    15\n",
       "Downtown Code (Final Site Plan)             13\n",
       "Subdivision (Concept Plan)                   9\n",
       "Planned Unit Development (Amend)             8\n",
       "Downtown Code (Modify)                       8\n",
       "Planned Unit Development (Cancel)            8\n",
       "Subdivision (Amendment)                      8\n",
       "Mandatory Referral Property                  8\n",
       "Specific Plan (Amend)                        8\n",
       "Mandatory Referral  R.O.W. Abandonment       7\n",
       "Urban Design Overlay (Final)                 6\n",
       "Historic Landmark (New)                      5\n",
       "Subdivision (Final Site Plan)                3\n",
       "Mandatory Referral Street Renaming           3\n",
       "Urban Design Overlay (Modify)                3\n",
       "Neighborhood Landmark (New)                  2\n",
       "Institutional (Final)                        2\n",
       "Contextual Overlay New                       1\n",
       "Text Amendment                               1\n",
       "Resi Accessory Structure Overlay (New)       1\n",
       "Neighborhood Landmark (Final Site Plan)      1\n",
       "Neighborhood Landmark (Amend)                1\n",
       "Historic Preservation (New)                  1\n",
       "Name: application_type_descr, dtype: int64"
      ]
     },
     "execution_count": 268,
     "metadata": {},
     "output_type": "execute_result"
    }
   ],
   "source": [
    "# Planning Dept df\n",
    "# This df doesn't reference commercial vs residential, so 'category' column isn't applicable.\n",
    "\n",
    "df_planning.application_type_descr.value_counts()"
   ]
  },
  {
   "cell_type": "code",
   "execution_count": 269,
   "metadata": {
    "collapsed": true
   },
   "outputs": [
    {
     "data": {
      "text/plain": [
       "PENDING        216\n",
       "CNCLACTIVE     195\n",
       "NEW             64\n",
       "MPCCOMPLETE     22\n",
       "UNKNOWN          1\n",
       "Name: status, dtype: int64"
      ]
     },
     "execution_count": 269,
     "metadata": {},
     "output_type": "execute_result"
    }
   ],
   "source": [
    "df_planning.status.value_counts()"
   ]
  },
  {
   "cell_type": "markdown",
   "metadata": {},
   "source": [
    "<a id='Sorting dfs by dates, descending.'></a> \n",
    " ## Sorting dfs by dates, descending."
   ]
  },
  {
   "cell_type": "code",
   "execution_count": 270,
   "metadata": {
    "collapsed": true
   },
   "outputs": [
    {
     "data": {
      "text/html": [
       "<div>\n",
       "<style scoped>\n",
       "    .dataframe tbody tr th:only-of-type {\n",
       "        vertical-align: middle;\n",
       "    }\n",
       "\n",
       "    .dataframe tbody tr th {\n",
       "        vertical-align: top;\n",
       "    }\n",
       "\n",
       "    .dataframe thead th {\n",
       "        text-align: right;\n",
       "    }\n",
       "</style>\n",
       "<table border=\"1\" class=\"dataframe\">\n",
       "  <thead>\n",
       "    <tr style=\"text-align: right;\">\n",
       "      <th></th>\n",
       "      <th>permit_number</th>\n",
       "      <th>permit_type_descr</th>\n",
       "      <th>permit_subtype_descr</th>\n",
       "      <th>parcel</th>\n",
       "      <th>date_entered</th>\n",
       "      <th>construction_cost</th>\n",
       "      <th>address</th>\n",
       "      <th>city</th>\n",
       "      <th>state</th>\n",
       "      <th>zip</th>\n",
       "      <th>...</th>\n",
       "      <th>permit_type</th>\n",
       "      <th>permit_subtype</th>\n",
       "      <th>ivr_tracking_number</th>\n",
       "      <th>purpose</th>\n",
       "      <th>council_district</th>\n",
       "      <th>mapped_location</th>\n",
       "      <th>lat</th>\n",
       "      <th>lon</th>\n",
       "      <th>type_subtype</th>\n",
       "      <th>category</th>\n",
       "    </tr>\n",
       "  </thead>\n",
       "  <tbody>\n",
       "    <tr>\n",
       "      <th>563</th>\n",
       "      <td>T2020034761</td>\n",
       "      <td>Building Residential - New</td>\n",
       "      <td>Single Family Residence</td>\n",
       "      <td>08211018000</td>\n",
       "      <td>2020-06-04</td>\n",
       "      <td>NaN</td>\n",
       "      <td>518 N 2ND ST</td>\n",
       "      <td>NASHVILLE</td>\n",
       "      <td>TN</td>\n",
       "      <td>37207</td>\n",
       "      <td>...</td>\n",
       "      <td>CARN</td>\n",
       "      <td>CAA01R301</td>\n",
       "      <td>3830078</td>\n",
       "      <td>to construct 2034SF single family residence. 5...</td>\n",
       "      <td>5.0</td>\n",
       "      <td>518 N 2ND ST\\nNASHVILLE, TN 37207\\n(36.18049, ...</td>\n",
       "      <td>36.180490</td>\n",
       "      <td>-86.771778</td>\n",
       "      <td>TYPE: Building Residential - New SUBTYPE: Sing...</td>\n",
       "      <td>Residential</td>\n",
       "    </tr>\n",
       "    <tr>\n",
       "      <th>1033</th>\n",
       "      <td>T2020034642</td>\n",
       "      <td>Building Residential - Rehab</td>\n",
       "      <td>Single Family Residence</td>\n",
       "      <td>09115008600</td>\n",
       "      <td>2020-06-04</td>\n",
       "      <td>80000.0</td>\n",
       "      <td>221  53RD AVE N</td>\n",
       "      <td>NASHVILLE</td>\n",
       "      <td>TN</td>\n",
       "      <td>37209</td>\n",
       "      <td>...</td>\n",
       "      <td>CARR</td>\n",
       "      <td>CAA01R301</td>\n",
       "      <td>3829667</td>\n",
       "      <td>Finish out a bonus room (that is already frame...</td>\n",
       "      <td>24.0</td>\n",
       "      <td>221 53RD AVE N\\nNASHVILLE, TN 37209\\n(36.14734...</td>\n",
       "      <td>36.147342</td>\n",
       "      <td>-86.850887</td>\n",
       "      <td>TYPE: Building Residential - Rehab SUBTYPE: Si...</td>\n",
       "      <td>Residential</td>\n",
       "    </tr>\n",
       "  </tbody>\n",
       "</table>\n",
       "<p>2 rows × 22 columns</p>\n",
       "</div>"
      ],
      "text/plain": [
       "     permit_number             permit_type_descr     permit_subtype_descr  \\\n",
       "563    T2020034761    Building Residential - New  Single Family Residence   \n",
       "1033   T2020034642  Building Residential - Rehab  Single Family Residence   \n",
       "\n",
       "           parcel date_entered  construction_cost          address       city  \\\n",
       "563   08211018000   2020-06-04                NaN     518 N 2ND ST  NASHVILLE   \n",
       "1033  09115008600   2020-06-04            80000.0  221  53RD AVE N  NASHVILLE   \n",
       "\n",
       "     state    zip  ... permit_type permit_subtype ivr_tracking_number  \\\n",
       "563     TN  37207  ...        CARN      CAA01R301             3830078   \n",
       "1033    TN  37209  ...        CARR      CAA01R301             3829667   \n",
       "\n",
       "                                                purpose  council_district  \\\n",
       "563   to construct 2034SF single family residence. 5...               5.0   \n",
       "1033  Finish out a bonus room (that is already frame...              24.0   \n",
       "\n",
       "                                        mapped_location        lat        lon  \\\n",
       "563   518 N 2ND ST\\nNASHVILLE, TN 37207\\n(36.18049, ...  36.180490 -86.771778   \n",
       "1033  221 53RD AVE N\\nNASHVILLE, TN 37209\\n(36.14734...  36.147342 -86.850887   \n",
       "\n",
       "                                           type_subtype     category  \n",
       "563   TYPE: Building Residential - New SUBTYPE: Sing...  Residential  \n",
       "1033  TYPE: Building Residential - Rehab SUBTYPE: Si...  Residential  \n",
       "\n",
       "[2 rows x 22 columns]"
      ]
     },
     "execution_count": 270,
     "metadata": {},
     "output_type": "execute_result"
    }
   ],
   "source": [
    "# Bldg Permit Applications: Sorting by date_entered, descending.\n",
    "\n",
    "df_bldg_apps = df_bldg_apps.sort_values(by = 'date_entered', ascending = False)\n",
    "df_bldg_apps.head(2)"
   ]
  },
  {
   "cell_type": "code",
   "execution_count": 271,
   "metadata": {
    "collapsed": true
   },
   "outputs": [
    {
     "name": "stdout",
     "output_type": "stream",
     "text": [
      "2017-06-01 00:00:00\n",
      "2020-06-04 00:00:00\n"
     ]
    }
   ],
   "source": [
    "# Double-checking min/max in this df\n",
    "\n",
    "print(df_bldg_apps.date_entered.min())\n",
    "print(df_bldg_apps.date_entered.max())"
   ]
  },
  {
   "cell_type": "code",
   "execution_count": 272,
   "metadata": {
    "collapsed": true
   },
   "outputs": [
    {
     "data": {
      "text/html": [
       "<div>\n",
       "<style scoped>\n",
       "    .dataframe tbody tr th:only-of-type {\n",
       "        vertical-align: middle;\n",
       "    }\n",
       "\n",
       "    .dataframe tbody tr th {\n",
       "        vertical-align: top;\n",
       "    }\n",
       "\n",
       "    .dataframe thead th {\n",
       "        text-align: right;\n",
       "    }\n",
       "</style>\n",
       "<table border=\"1\" class=\"dataframe\">\n",
       "  <thead>\n",
       "    <tr style=\"text-align: right;\">\n",
       "      <th></th>\n",
       "      <th>permit_number</th>\n",
       "      <th>permit_type_descr</th>\n",
       "      <th>permit_subtype_descr</th>\n",
       "      <th>parcel</th>\n",
       "      <th>date_entered</th>\n",
       "      <th>date_issued</th>\n",
       "      <th>construction_cost</th>\n",
       "      <th>address</th>\n",
       "      <th>city</th>\n",
       "      <th>state</th>\n",
       "      <th>...</th>\n",
       "      <th>permit_subtype</th>\n",
       "      <th>ivr_tracking_number</th>\n",
       "      <th>purpose</th>\n",
       "      <th>council_district</th>\n",
       "      <th>census_tract</th>\n",
       "      <th>mapped_location</th>\n",
       "      <th>lat</th>\n",
       "      <th>lon</th>\n",
       "      <th>type_subtype</th>\n",
       "      <th>category</th>\n",
       "    </tr>\n",
       "  </thead>\n",
       "  <tbody>\n",
       "    <tr>\n",
       "      <th>12549</th>\n",
       "      <td>2020032857</td>\n",
       "      <td>Building Commercial Rehab Storm Damage</td>\n",
       "      <td>Multifamily, Condominium 3&amp;4 Unit Bldg</td>\n",
       "      <td>08214005500</td>\n",
       "      <td>2020-05-27</td>\n",
       "      <td>2020-06-04</td>\n",
       "      <td>800000.0</td>\n",
       "      <td>186 N 1ST ST</td>\n",
       "      <td>NASHVILLE</td>\n",
       "      <td>TN</td>\n",
       "      <td>...</td>\n",
       "      <td>CAA03R298</td>\n",
       "      <td>3824603</td>\n",
       "      <td>,there is some remodeling to be performed in t...</td>\n",
       "      <td>5.0</td>\n",
       "      <td>37019300.0</td>\n",
       "      <td>186 N 1ST ST\\nNASHVILLE, TN 37213\\n(36.173878,...</td>\n",
       "      <td>36.173878</td>\n",
       "      <td>-86.774064</td>\n",
       "      <td>TYPE: Building Commercial Rehab Storm Damage S...</td>\n",
       "      <td>Commercial</td>\n",
       "    </tr>\n",
       "    <tr>\n",
       "      <th>12552</th>\n",
       "      <td>2020033336</td>\n",
       "      <td>Building Residential - Rehab</td>\n",
       "      <td>Single Family Residence</td>\n",
       "      <td>07309021300</td>\n",
       "      <td>2020-05-29</td>\n",
       "      <td>2020-06-04</td>\n",
       "      <td>80000.0</td>\n",
       "      <td>1913  ROSEBANK AVE</td>\n",
       "      <td>NASHVILLE</td>\n",
       "      <td>TN</td>\n",
       "      <td>...</td>\n",
       "      <td>CAA01R301</td>\n",
       "      <td>3826163</td>\n",
       "      <td>General rehabilitation of home within existing...</td>\n",
       "      <td>7.0</td>\n",
       "      <td>37011500.0</td>\n",
       "      <td>1913 ROSEBANK AVE\\nNASHVILLE, TN 37216\\n(36.19...</td>\n",
       "      <td>36.198145</td>\n",
       "      <td>-86.704423</td>\n",
       "      <td>TYPE: Building Residential - Rehab SUBTYPE: Si...</td>\n",
       "      <td>Residential</td>\n",
       "    </tr>\n",
       "  </tbody>\n",
       "</table>\n",
       "<p>2 rows × 24 columns</p>\n",
       "</div>"
      ],
      "text/plain": [
       "      permit_number                       permit_type_descr  \\\n",
       "12549    2020032857  Building Commercial Rehab Storm Damage   \n",
       "12552    2020033336            Building Residential - Rehab   \n",
       "\n",
       "                         permit_subtype_descr       parcel date_entered  \\\n",
       "12549  Multifamily, Condominium 3&4 Unit Bldg  08214005500   2020-05-27   \n",
       "12552                 Single Family Residence  07309021300   2020-05-29   \n",
       "\n",
       "      date_issued  construction_cost             address       city state  \\\n",
       "12549  2020-06-04           800000.0        186 N 1ST ST  NASHVILLE    TN   \n",
       "12552  2020-06-04            80000.0  1913  ROSEBANK AVE  NASHVILLE    TN   \n",
       "\n",
       "       ...  permit_subtype ivr_tracking_number  \\\n",
       "12549  ...       CAA03R298             3824603   \n",
       "12552  ...       CAA01R301             3826163   \n",
       "\n",
       "                                                 purpose council_district  \\\n",
       "12549  ,there is some remodeling to be performed in t...              5.0   \n",
       "12552  General rehabilitation of home within existing...              7.0   \n",
       "\n",
       "      census_tract                                    mapped_location  \\\n",
       "12549   37019300.0  186 N 1ST ST\\nNASHVILLE, TN 37213\\n(36.173878,...   \n",
       "12552   37011500.0  1913 ROSEBANK AVE\\nNASHVILLE, TN 37216\\n(36.19...   \n",
       "\n",
       "             lat        lon  \\\n",
       "12549  36.173878 -86.774064   \n",
       "12552  36.198145 -86.704423   \n",
       "\n",
       "                                            type_subtype     category  \n",
       "12549  TYPE: Building Commercial Rehab Storm Damage S...   Commercial  \n",
       "12552  TYPE: Building Residential - Rehab SUBTYPE: Si...  Residential  \n",
       "\n",
       "[2 rows x 24 columns]"
      ]
     },
     "execution_count": 272,
     "metadata": {},
     "output_type": "execute_result"
    }
   ],
   "source": [
    "# Bldg Permits Issued: Sorting by date_issued, descending.\n",
    "\n",
    "df_bldg_issued = df_bldg_issued.sort_values(by = 'date_issued', ascending = False)\n",
    "df_bldg_issued.head(2)"
   ]
  },
  {
   "cell_type": "code",
   "execution_count": 273,
   "metadata": {
    "collapsed": true
   },
   "outputs": [
    {
     "name": "stdout",
     "output_type": "stream",
     "text": [
      "2017-06-01 00:00:00\n",
      "2020-06-04 00:00:00\n"
     ]
    }
   ],
   "source": [
    "# Double-checking min/max in this df\n",
    "\n",
    "print(df_bldg_issued.date_issued.min())\n",
    "print(df_bldg_issued.date_issued.max())"
   ]
  },
  {
   "cell_type": "code",
   "execution_count": 274,
   "metadata": {
    "collapsed": true
   },
   "outputs": [
    {
     "data": {
      "text/html": [
       "<div>\n",
       "<style scoped>\n",
       "    .dataframe tbody tr th:only-of-type {\n",
       "        vertical-align: middle;\n",
       "    }\n",
       "\n",
       "    .dataframe tbody tr th {\n",
       "        vertical-align: top;\n",
       "    }\n",
       "\n",
       "    .dataframe thead th {\n",
       "        text-align: right;\n",
       "    }\n",
       "</style>\n",
       "<table border=\"1\" class=\"dataframe\">\n",
       "  <thead>\n",
       "    <tr style=\"text-align: right;\">\n",
       "      <th></th>\n",
       "      <th>date_submitted</th>\n",
       "      <th>application_type_descr</th>\n",
       "      <th>mpc_case_number</th>\n",
       "      <th>ordinance_number</th>\n",
       "      <th>status</th>\n",
       "      <th>mpc_meeting_date</th>\n",
       "      <th>mpc_action</th>\n",
       "      <th>project_name</th>\n",
       "      <th>location</th>\n",
       "      <th>reviewer</th>\n",
       "      <th>...</th>\n",
       "      <th>applicant_phone</th>\n",
       "      <th>applicant_address_1</th>\n",
       "      <th>applicant_address_2</th>\n",
       "      <th>applicant_city</th>\n",
       "      <th>applicant_state</th>\n",
       "      <th>applicant_zip</th>\n",
       "      <th>council_district</th>\n",
       "      <th>latitude</th>\n",
       "      <th>longitude</th>\n",
       "      <th>mapped_location</th>\n",
       "    </tr>\n",
       "  </thead>\n",
       "  <tbody>\n",
       "    <tr>\n",
       "      <th>59</th>\n",
       "      <td>2020-05-20</td>\n",
       "      <td>Mandatory Referral Property</td>\n",
       "      <td>2020M-007PR-001</td>\n",
       "      <td>BL2020-305</td>\n",
       "      <td>CNCLACTIVE</td>\n",
       "      <td>2020-07-23</td>\n",
       "      <td>Recommend Approval</td>\n",
       "      <td>WEST HAMILTON ACQUISITION-EASEMENT</td>\n",
       "      <td>3129 W HAMILTON AVE 37218</td>\n",
       "      <td>Sharon O'Conner</td>\n",
       "      <td>...</td>\n",
       "      <td>NaN</td>\n",
       "      <td>METROPOLITAN COURTHOUSE, SUITE 108</td>\n",
       "      <td>P.O. BOX 196300</td>\n",
       "      <td>NASHVILLE</td>\n",
       "      <td>TN</td>\n",
       "      <td>37219-6300</td>\n",
       "      <td>01 (Jonathan Hall)</td>\n",
       "      <td>36.215672</td>\n",
       "      <td>-86.822374</td>\n",
       "      <td>(36.21567153700005, -86.82237439299996)</td>\n",
       "    </tr>\n",
       "    <tr>\n",
       "      <th>377</th>\n",
       "      <td>2020-05-26</td>\n",
       "      <td>Mandatory Referral  R.O.W. Abandonment</td>\n",
       "      <td>2020M-008AB-001</td>\n",
       "      <td>NaN</td>\n",
       "      <td>NEW</td>\n",
       "      <td>2020-07-23</td>\n",
       "      <td>NaN</td>\n",
       "      <td>UNNUMBERED ALLEY (OFF CENTER STREET) RIGHT-OF-...</td>\n",
       "      <td>0 CENTER ST 37138</td>\n",
       "      <td>Sharon O'Conner</td>\n",
       "      <td>...</td>\n",
       "      <td>615-862-8781</td>\n",
       "      <td>720 SOUTH FIFTH STREET</td>\n",
       "      <td>NaN</td>\n",
       "      <td>NASHVILLE</td>\n",
       "      <td>TN</td>\n",
       "      <td>37206</td>\n",
       "      <td>11 (Larry Hagar)</td>\n",
       "      <td>36.225994</td>\n",
       "      <td>-86.629702</td>\n",
       "      <td>(36.22599424900005, -86.62970214499995)</td>\n",
       "    </tr>\n",
       "  </tbody>\n",
       "</table>\n",
       "<p>2 rows × 25 columns</p>\n",
       "</div>"
      ],
      "text/plain": [
       "    date_submitted                  application_type_descr  mpc_case_number  \\\n",
       "59      2020-05-20             Mandatory Referral Property  2020M-007PR-001   \n",
       "377     2020-05-26  Mandatory Referral  R.O.W. Abandonment  2020M-008AB-001   \n",
       "\n",
       "    ordinance_number      status mpc_meeting_date          mpc_action  \\\n",
       "59        BL2020-305  CNCLACTIVE       2020-07-23  Recommend Approval   \n",
       "377              NaN         NEW       2020-07-23                 NaN   \n",
       "\n",
       "                                          project_name  \\\n",
       "59                  WEST HAMILTON ACQUISITION-EASEMENT   \n",
       "377  UNNUMBERED ALLEY (OFF CENTER STREET) RIGHT-OF-...   \n",
       "\n",
       "                      location         reviewer  ... applicant_phone  \\\n",
       "59   3129 W HAMILTON AVE 37218  Sharon O'Conner  ...             NaN   \n",
       "377          0 CENTER ST 37138  Sharon O'Conner  ...    615-862-8781   \n",
       "\n",
       "                    applicant_address_1 applicant_address_2 applicant_city  \\\n",
       "59   METROPOLITAN COURTHOUSE, SUITE 108     P.O. BOX 196300      NASHVILLE   \n",
       "377              720 SOUTH FIFTH STREET                 NaN      NASHVILLE   \n",
       "\n",
       "    applicant_state applicant_zip    council_district   latitude  longitude  \\\n",
       "59               TN    37219-6300  01 (Jonathan Hall)  36.215672 -86.822374   \n",
       "377              TN         37206    11 (Larry Hagar)  36.225994 -86.629702   \n",
       "\n",
       "                             mapped_location  \n",
       "59   (36.21567153700005, -86.82237439299996)  \n",
       "377  (36.22599424900005, -86.62970214499995)  \n",
       "\n",
       "[2 rows x 25 columns]"
      ]
     },
     "execution_count": 274,
     "metadata": {},
     "output_type": "execute_result"
    }
   ],
   "source": [
    "# Planning Dept. Applications & Issued: Sorting by mpc_meeting_date, descending.\n",
    "# Chose mpc_meeting_date because that \n",
    "\n",
    "df_planning = df_planning.sort_values(by = 'mpc_meeting_date', ascending = False)\n",
    "df_planning.head(2)"
   ]
  },
  {
   "cell_type": "code",
   "execution_count": 275,
   "metadata": {
    "collapsed": true
   },
   "outputs": [
    {
     "name": "stdout",
     "output_type": "stream",
     "text": [
      "Planning Dept min date_submitted is:  2017-02-28 00:00:00\n",
      "Planning Dept max date_submitted is:  2020-06-04 00:00:00\n",
      "Planning Dept min mpc_meeting_date is:  2017-04-13 00:00:00\n",
      "Planning Dept max mpc_meeting_date is:  2020-07-23 00:00:00\n"
     ]
    }
   ],
   "source": [
    "# Double-checking min/max dates in this df\n",
    "\n",
    "print(\"Planning Dept min date_submitted is: \",df_planning.date_submitted.min())\n",
    "print(\"Planning Dept max date_submitted is: \",df_planning.date_submitted.max())\n",
    "print(\"Planning Dept min mpc_meeting_date is: \",df_planning.mpc_meeting_date.min())\n",
    "print(\"Planning Dept max mpc_meeting_date is: \",df_planning.mpc_meeting_date.max())    # Future date is correct"
   ]
  },
  {
   "cell_type": "markdown",
   "metadata": {},
   "source": [
    "<a id='FIXING \"0\" STREET ADDRESS ISSUE FOR:  BLDG PERMIT APPLICATIONS for [1] Main df AND [2] subset df'></a> \n",
    "## FIXING \"0\" STREET ADDRESS ISSUE FOR:  BLDG PERMIT APPLICATIONS for [1] Main df AND [2] subset df"
   ]
  },
  {
   "cell_type": "code",
   "execution_count": 276,
   "metadata": {
    "collapsed": true
   },
   "outputs": [
    {
     "data": {
      "text/html": [
       "<div>\n",
       "<style scoped>\n",
       "    .dataframe tbody tr th:only-of-type {\n",
       "        vertical-align: middle;\n",
       "    }\n",
       "\n",
       "    .dataframe tbody tr th {\n",
       "        vertical-align: top;\n",
       "    }\n",
       "\n",
       "    .dataframe thead th {\n",
       "        text-align: right;\n",
       "    }\n",
       "</style>\n",
       "<table border=\"1\" class=\"dataframe\">\n",
       "  <thead>\n",
       "    <tr style=\"text-align: right;\">\n",
       "      <th></th>\n",
       "      <th>address</th>\n",
       "      <th>city</th>\n",
       "      <th>state</th>\n",
       "      <th>zip</th>\n",
       "    </tr>\n",
       "  </thead>\n",
       "  <tbody>\n",
       "    <tr>\n",
       "      <th>17</th>\n",
       "      <td>0  BROOKSBORO PL</td>\n",
       "      <td>NASHVILLE</td>\n",
       "      <td>TN</td>\n",
       "      <td>37217</td>\n",
       "    </tr>\n",
       "    <tr>\n",
       "      <th>94</th>\n",
       "      <td>0  UNKNOWN</td>\n",
       "      <td>NASHVILLE</td>\n",
       "      <td>TN</td>\n",
       "      <td>0</td>\n",
       "    </tr>\n",
       "    <tr>\n",
       "      <th>120</th>\n",
       "      <td>0  ROBINSON RD</td>\n",
       "      <td>OLD HICKORY</td>\n",
       "      <td>TN</td>\n",
       "      <td>37138</td>\n",
       "    </tr>\n",
       "    <tr>\n",
       "      <th>136</th>\n",
       "      <td>0  CENTENNIAL BLVD</td>\n",
       "      <td>NASHVILLE</td>\n",
       "      <td>TN</td>\n",
       "      <td>37209</td>\n",
       "    </tr>\n",
       "    <tr>\n",
       "      <th>189</th>\n",
       "      <td>0  VESTER RD</td>\n",
       "      <td>WHITES CREEK</td>\n",
       "      <td>TN</td>\n",
       "      <td>37189</td>\n",
       "    </tr>\n",
       "    <tr>\n",
       "      <th>249</th>\n",
       "      <td>0  ROBERTA ST</td>\n",
       "      <td>NASHVILLE</td>\n",
       "      <td>TN</td>\n",
       "      <td>37206</td>\n",
       "    </tr>\n",
       "    <tr>\n",
       "      <th>255</th>\n",
       "      <td>0  CAROTHERS RD</td>\n",
       "      <td>NOLENSVILLE</td>\n",
       "      <td>TN</td>\n",
       "      <td>37135</td>\n",
       "    </tr>\n",
       "    <tr>\n",
       "      <th>270</th>\n",
       "      <td>0  ELM HILL PIKE</td>\n",
       "      <td>NASHVILLE</td>\n",
       "      <td>TN</td>\n",
       "      <td>37214</td>\n",
       "    </tr>\n",
       "  </tbody>\n",
       "</table>\n",
       "</div>"
      ],
      "text/plain": [
       "                address          city state    zip\n",
       "17     0  BROOKSBORO PL     NASHVILLE    TN  37217\n",
       "94           0  UNKNOWN     NASHVILLE    TN      0\n",
       "120      0  ROBINSON RD   OLD HICKORY    TN  37138\n",
       "136  0  CENTENNIAL BLVD     NASHVILLE    TN  37209\n",
       "189        0  VESTER RD  WHITES CREEK    TN  37189\n",
       "249       0  ROBERTA ST     NASHVILLE    TN  37206\n",
       "255     0  CAROTHERS RD   NOLENSVILLE    TN  37135\n",
       "270    0  ELM HILL PIKE     NASHVILLE    TN  37214"
      ]
     },
     "execution_count": 276,
     "metadata": {},
     "output_type": "execute_result"
    }
   ],
   "source": [
    "# Finding address that start with 0 in address files where lat/lon is missing\n",
    "\n",
    "df_bldg_apps_null_latlon.loc[df_bldg_apps_null_latlon['address'].str.startswith('0')]"
   ]
  },
  {
   "cell_type": "code",
   "execution_count": 277,
   "metadata": {
    "collapsed": true
   },
   "outputs": [
    {
     "data": {
      "text/html": [
       "<div>\n",
       "<style scoped>\n",
       "    .dataframe tbody tr th:only-of-type {\n",
       "        vertical-align: middle;\n",
       "    }\n",
       "\n",
       "    .dataframe tbody tr th {\n",
       "        vertical-align: top;\n",
       "    }\n",
       "\n",
       "    .dataframe thead th {\n",
       "        text-align: right;\n",
       "    }\n",
       "</style>\n",
       "<table border=\"1\" class=\"dataframe\">\n",
       "  <thead>\n",
       "    <tr style=\"text-align: right;\">\n",
       "      <th></th>\n",
       "      <th>permit_number</th>\n",
       "      <th>permit_type_descr</th>\n",
       "      <th>permit_subtype_descr</th>\n",
       "      <th>parcel</th>\n",
       "      <th>date_entered</th>\n",
       "      <th>construction_cost</th>\n",
       "      <th>address</th>\n",
       "      <th>city</th>\n",
       "      <th>state</th>\n",
       "      <th>zip</th>\n",
       "      <th>...</th>\n",
       "      <th>permit_type</th>\n",
       "      <th>permit_subtype</th>\n",
       "      <th>ivr_tracking_number</th>\n",
       "      <th>purpose</th>\n",
       "      <th>council_district</th>\n",
       "      <th>mapped_location</th>\n",
       "      <th>lat</th>\n",
       "      <th>lon</th>\n",
       "      <th>type_subtype</th>\n",
       "      <th>category</th>\n",
       "    </tr>\n",
       "  </thead>\n",
       "  <tbody>\n",
       "    <tr>\n",
       "      <th>251</th>\n",
       "      <td>T2020034772</td>\n",
       "      <td>Building Use &amp; Occupancy</td>\n",
       "      <td>Master Permit Application</td>\n",
       "      <td>13500043700</td>\n",
       "      <td>2020-06-04</td>\n",
       "      <td>1222424.0</td>\n",
       "      <td>0  BROOKSBORO PL</td>\n",
       "      <td>NASHVILLE</td>\n",
       "      <td>TN</td>\n",
       "      <td>37217</td>\n",
       "      <td>...</td>\n",
       "      <td>CAUO</td>\n",
       "      <td>CAZ03A001</td>\n",
       "      <td>3830071</td>\n",
       "      <td>Ibex Grocery.  REJECTED: COMMERCIAL APPLICATIO...</td>\n",
       "      <td>29.0</td>\n",
       "      <td>0 BROOKSBORO PL\\nNASHVILLE, TN 37217</td>\n",
       "      <td>NaN</td>\n",
       "      <td>NaN</td>\n",
       "      <td>TYPE: Building Use &amp; Occupancy SUBTYPE: Master...</td>\n",
       "      <td>Other</td>\n",
       "    </tr>\n",
       "    <tr>\n",
       "      <th>1065</th>\n",
       "      <td>T2020027243</td>\n",
       "      <td>Building Commercial Rehab Storm Damage</td>\n",
       "      <td>Multifamily, Condominium 3&amp;4 Unit Bldg</td>\n",
       "      <td>07900011600</td>\n",
       "      <td>2020-04-30</td>\n",
       "      <td>NaN</td>\n",
       "      <td>0  CENTENNIAL BLVD</td>\n",
       "      <td>NASHVILLE</td>\n",
       "      <td>TN</td>\n",
       "      <td>37209</td>\n",
       "      <td>...</td>\n",
       "      <td>CACL</td>\n",
       "      <td>CAA03R298</td>\n",
       "      <td>3810950</td>\n",
       "      <td>Replace metal roof and insulation from March 3...</td>\n",
       "      <td>20.0</td>\n",
       "      <td>0 CENTENNIAL BLVD\\nNASHVILLE, TN 37209</td>\n",
       "      <td>NaN</td>\n",
       "      <td>NaN</td>\n",
       "      <td>TYPE: Building Commercial Rehab Storm Damage S...</td>\n",
       "      <td>Commercial</td>\n",
       "    </tr>\n",
       "  </tbody>\n",
       "</table>\n",
       "<p>2 rows × 22 columns</p>\n",
       "</div>"
      ],
      "text/plain": [
       "     permit_number                       permit_type_descr  \\\n",
       "251    T2020034772                Building Use & Occupancy   \n",
       "1065   T2020027243  Building Commercial Rehab Storm Damage   \n",
       "\n",
       "                        permit_subtype_descr       parcel date_entered  \\\n",
       "251                Master Permit Application  13500043700   2020-06-04   \n",
       "1065  Multifamily, Condominium 3&4 Unit Bldg  07900011600   2020-04-30   \n",
       "\n",
       "      construction_cost             address       city state    zip  ...  \\\n",
       "251           1222424.0    0  BROOKSBORO PL  NASHVILLE    TN  37217  ...   \n",
       "1065                NaN  0  CENTENNIAL BLVD  NASHVILLE    TN  37209  ...   \n",
       "\n",
       "     permit_type permit_subtype ivr_tracking_number  \\\n",
       "251         CAUO      CAZ03A001             3830071   \n",
       "1065        CACL      CAA03R298             3810950   \n",
       "\n",
       "                                                purpose  council_district  \\\n",
       "251   Ibex Grocery.  REJECTED: COMMERCIAL APPLICATIO...              29.0   \n",
       "1065  Replace metal roof and insulation from March 3...              20.0   \n",
       "\n",
       "                             mapped_location  lat lon  \\\n",
       "251     0 BROOKSBORO PL\\nNASHVILLE, TN 37217  NaN NaN   \n",
       "1065  0 CENTENNIAL BLVD\\nNASHVILLE, TN 37209  NaN NaN   \n",
       "\n",
       "                                           type_subtype    category  \n",
       "251   TYPE: Building Use & Occupancy SUBTYPE: Master...       Other  \n",
       "1065  TYPE: Building Commercial Rehab Storm Damage S...  Commercial  \n",
       "\n",
       "[2 rows x 22 columns]"
      ]
     },
     "execution_count": 277,
     "metadata": {},
     "output_type": "execute_result"
    }
   ],
   "source": [
    "# Curious to see if lat/lon is available for any addresses in FULL df for \n",
    "#      these types of addresses wtih \"0\" house number\n",
    "# Returns 10 rows, 8 of which don't have lat/lon. The two WITH lat/lon are the same address.\n",
    "# DECISION: Too few rows to be concerned with. Will drop them in next cell.\n",
    "\n",
    "df_bldg_apps.loc[df_bldg_apps['address'].str.startswith('0')].head(2)"
   ]
  },
  {
   "cell_type": "code",
   "execution_count": 278,
   "metadata": {
    "collapsed": true
   },
   "outputs": [
    {
     "data": {
      "text/plain": [
       "(3096, 22)"
      ]
     },
     "execution_count": 278,
     "metadata": {},
     "output_type": "execute_result"
    }
   ],
   "source": [
    "# Building Permit Applications - Keeping all rows that DON'T have \"0\" for house number (total 10 rows)\n",
    "# Original dataset 3106 rows. After change, should be 3106 - 10 = 3096 rows\n",
    "\n",
    "df_bldg_apps = df_bldg_apps[~df_bldg_apps.address.str.startswith('0')]  # tilda means take everything EXECPT\n",
    "df_bldg_apps.shape"
   ]
  },
  {
   "cell_type": "code",
   "execution_count": 279,
   "metadata": {
    "collapsed": true
   },
   "outputs": [
    {
     "data": {
      "text/html": [
       "<div>\n",
       "<style scoped>\n",
       "    .dataframe tbody tr th:only-of-type {\n",
       "        vertical-align: middle;\n",
       "    }\n",
       "\n",
       "    .dataframe tbody tr th {\n",
       "        vertical-align: top;\n",
       "    }\n",
       "\n",
       "    .dataframe thead th {\n",
       "        text-align: right;\n",
       "    }\n",
       "</style>\n",
       "<table border=\"1\" class=\"dataframe\">\n",
       "  <thead>\n",
       "    <tr style=\"text-align: right;\">\n",
       "      <th></th>\n",
       "      <th>permit_number</th>\n",
       "      <th>permit_type_descr</th>\n",
       "      <th>permit_subtype_descr</th>\n",
       "      <th>parcel</th>\n",
       "      <th>date_entered</th>\n",
       "      <th>construction_cost</th>\n",
       "      <th>address</th>\n",
       "      <th>city</th>\n",
       "      <th>state</th>\n",
       "      <th>zip</th>\n",
       "      <th>...</th>\n",
       "      <th>permit_type</th>\n",
       "      <th>permit_subtype</th>\n",
       "      <th>ivr_tracking_number</th>\n",
       "      <th>purpose</th>\n",
       "      <th>council_district</th>\n",
       "      <th>mapped_location</th>\n",
       "      <th>lat</th>\n",
       "      <th>lon</th>\n",
       "      <th>type_subtype</th>\n",
       "      <th>category</th>\n",
       "    </tr>\n",
       "  </thead>\n",
       "  <tbody>\n",
       "    <tr>\n",
       "      <th>0</th>\n",
       "      <td>T2020034761</td>\n",
       "      <td>Building Residential - New</td>\n",
       "      <td>Single Family Residence</td>\n",
       "      <td>08211018000</td>\n",
       "      <td>2020-06-04</td>\n",
       "      <td>NaN</td>\n",
       "      <td>518 N 2ND ST</td>\n",
       "      <td>NASHVILLE</td>\n",
       "      <td>TN</td>\n",
       "      <td>37207</td>\n",
       "      <td>...</td>\n",
       "      <td>CARN</td>\n",
       "      <td>CAA01R301</td>\n",
       "      <td>3830078</td>\n",
       "      <td>to construct 2034SF single family residence. 5...</td>\n",
       "      <td>5.0</td>\n",
       "      <td>518 N 2ND ST\\nNASHVILLE, TN 37207\\n(36.18049, ...</td>\n",
       "      <td>36.180490</td>\n",
       "      <td>-86.771778</td>\n",
       "      <td>TYPE: Building Residential - New SUBTYPE: Sing...</td>\n",
       "      <td>Residential</td>\n",
       "    </tr>\n",
       "    <tr>\n",
       "      <th>1</th>\n",
       "      <td>T2020034642</td>\n",
       "      <td>Building Residential - Rehab</td>\n",
       "      <td>Single Family Residence</td>\n",
       "      <td>09115008600</td>\n",
       "      <td>2020-06-04</td>\n",
       "      <td>80000.0</td>\n",
       "      <td>221  53RD AVE N</td>\n",
       "      <td>NASHVILLE</td>\n",
       "      <td>TN</td>\n",
       "      <td>37209</td>\n",
       "      <td>...</td>\n",
       "      <td>CARR</td>\n",
       "      <td>CAA01R301</td>\n",
       "      <td>3829667</td>\n",
       "      <td>Finish out a bonus room (that is already frame...</td>\n",
       "      <td>24.0</td>\n",
       "      <td>221 53RD AVE N\\nNASHVILLE, TN 37209\\n(36.14734...</td>\n",
       "      <td>36.147342</td>\n",
       "      <td>-86.850887</td>\n",
       "      <td>TYPE: Building Residential - Rehab SUBTYPE: Si...</td>\n",
       "      <td>Residential</td>\n",
       "    </tr>\n",
       "  </tbody>\n",
       "</table>\n",
       "<p>2 rows × 22 columns</p>\n",
       "</div>"
      ],
      "text/plain": [
       "  permit_number             permit_type_descr     permit_subtype_descr  \\\n",
       "0   T2020034761    Building Residential - New  Single Family Residence   \n",
       "1   T2020034642  Building Residential - Rehab  Single Family Residence   \n",
       "\n",
       "        parcel date_entered  construction_cost          address       city  \\\n",
       "0  08211018000   2020-06-04                NaN     518 N 2ND ST  NASHVILLE   \n",
       "1  09115008600   2020-06-04            80000.0  221  53RD AVE N  NASHVILLE   \n",
       "\n",
       "  state    zip  ... permit_type permit_subtype ivr_tracking_number  \\\n",
       "0    TN  37207  ...        CARN      CAA01R301             3830078   \n",
       "1    TN  37209  ...        CARR      CAA01R301             3829667   \n",
       "\n",
       "                                             purpose  council_district  \\\n",
       "0  to construct 2034SF single family residence. 5...               5.0   \n",
       "1  Finish out a bonus room (that is already frame...              24.0   \n",
       "\n",
       "                                     mapped_location        lat        lon  \\\n",
       "0  518 N 2ND ST\\nNASHVILLE, TN 37207\\n(36.18049, ...  36.180490 -86.771778   \n",
       "1  221 53RD AVE N\\nNASHVILLE, TN 37209\\n(36.14734...  36.147342 -86.850887   \n",
       "\n",
       "                                        type_subtype     category  \n",
       "0  TYPE: Building Residential - New SUBTYPE: Sing...  Residential  \n",
       "1  TYPE: Building Residential - Rehab SUBTYPE: Si...  Residential  \n",
       "\n",
       "[2 rows x 22 columns]"
      ]
     },
     "execution_count": 279,
     "metadata": {},
     "output_type": "execute_result"
    }
   ],
   "source": [
    "df_bldg_apps = df_bldg_apps.reset_index(drop = True)\n",
    "df_bldg_apps.head(2)"
   ]
  },
  {
   "cell_type": "code",
   "execution_count": 280,
   "metadata": {
    "collapsed": true
   },
   "outputs": [
    {
     "name": "stdout",
     "output_type": "stream",
     "text": [
      "(297, 4)\n"
     ]
    },
    {
     "data": {
      "text/html": [
       "<div>\n",
       "<style scoped>\n",
       "    .dataframe tbody tr th:only-of-type {\n",
       "        vertical-align: middle;\n",
       "    }\n",
       "\n",
       "    .dataframe tbody tr th {\n",
       "        vertical-align: top;\n",
       "    }\n",
       "\n",
       "    .dataframe thead th {\n",
       "        text-align: right;\n",
       "    }\n",
       "</style>\n",
       "<table border=\"1\" class=\"dataframe\">\n",
       "  <thead>\n",
       "    <tr style=\"text-align: right;\">\n",
       "      <th></th>\n",
       "      <th>address</th>\n",
       "      <th>city</th>\n",
       "      <th>state</th>\n",
       "      <th>zip</th>\n",
       "    </tr>\n",
       "  </thead>\n",
       "  <tbody>\n",
       "    <tr>\n",
       "      <th>17</th>\n",
       "      <td>0  BROOKSBORO PL</td>\n",
       "      <td>NASHVILLE</td>\n",
       "      <td>TN</td>\n",
       "      <td>37217</td>\n",
       "    </tr>\n",
       "    <tr>\n",
       "      <th>94</th>\n",
       "      <td>0  UNKNOWN</td>\n",
       "      <td>NASHVILLE</td>\n",
       "      <td>TN</td>\n",
       "      <td>0</td>\n",
       "    </tr>\n",
       "    <tr>\n",
       "      <th>120</th>\n",
       "      <td>0  ROBINSON RD</td>\n",
       "      <td>OLD HICKORY</td>\n",
       "      <td>TN</td>\n",
       "      <td>37138</td>\n",
       "    </tr>\n",
       "    <tr>\n",
       "      <th>136</th>\n",
       "      <td>0  CENTENNIAL BLVD</td>\n",
       "      <td>NASHVILLE</td>\n",
       "      <td>TN</td>\n",
       "      <td>37209</td>\n",
       "    </tr>\n",
       "    <tr>\n",
       "      <th>189</th>\n",
       "      <td>0  VESTER RD</td>\n",
       "      <td>WHITES CREEK</td>\n",
       "      <td>TN</td>\n",
       "      <td>37189</td>\n",
       "    </tr>\n",
       "    <tr>\n",
       "      <th>249</th>\n",
       "      <td>0  ROBERTA ST</td>\n",
       "      <td>NASHVILLE</td>\n",
       "      <td>TN</td>\n",
       "      <td>37206</td>\n",
       "    </tr>\n",
       "    <tr>\n",
       "      <th>255</th>\n",
       "      <td>0  CAROTHERS RD</td>\n",
       "      <td>NOLENSVILLE</td>\n",
       "      <td>TN</td>\n",
       "      <td>37135</td>\n",
       "    </tr>\n",
       "    <tr>\n",
       "      <th>270</th>\n",
       "      <td>0  ELM HILL PIKE</td>\n",
       "      <td>NASHVILLE</td>\n",
       "      <td>TN</td>\n",
       "      <td>37214</td>\n",
       "    </tr>\n",
       "  </tbody>\n",
       "</table>\n",
       "</div>"
      ],
      "text/plain": [
       "                address          city state    zip\n",
       "17     0  BROOKSBORO PL     NASHVILLE    TN  37217\n",
       "94           0  UNKNOWN     NASHVILLE    TN      0\n",
       "120      0  ROBINSON RD   OLD HICKORY    TN  37138\n",
       "136  0  CENTENNIAL BLVD     NASHVILLE    TN  37209\n",
       "189        0  VESTER RD  WHITES CREEK    TN  37189\n",
       "249       0  ROBERTA ST     NASHVILLE    TN  37206\n",
       "255     0  CAROTHERS RD   NOLENSVILLE    TN  37135\n",
       "270    0  ELM HILL PIKE     NASHVILLE    TN  37214"
      ]
     },
     "execution_count": 280,
     "metadata": {},
     "output_type": "execute_result"
    }
   ],
   "source": [
    "# In subset (addresses only), dropping addresses that start with \"0\"\n",
    "# There are 8, which is as expected, per findings in main df. \n",
    "# After dropping these 8, will expect there to be 297 - 8 = 289 rows\n",
    "\n",
    "print(df_bldg_apps_null_latlon.shape)\n",
    "df_bldg_apps_null_latlon.loc[df_bldg_apps_null_latlon['address'].str.startswith('0')]\n"
   ]
  },
  {
   "cell_type": "code",
   "execution_count": 281,
   "metadata": {
    "collapsed": true
   },
   "outputs": [
    {
     "name": "stdout",
     "output_type": "stream",
     "text": [
      "(289, 4)\n"
     ]
    }
   ],
   "source": [
    "# Dropping the rows with addresses that start with \"0\"\n",
    "# Confirmed, 289 rows now.\n",
    "\n",
    "df_bldg_apps_null_latlon = df_bldg_apps_null_latlon[~df_bldg_apps_null_latlon.address.str.startswith('0')]\n",
    "print(df_bldg_apps_null_latlon.shape)"
   ]
  },
  {
   "cell_type": "markdown",
   "metadata": {},
   "source": [
    "<a id='FIXING \"0\" STREET ADDRESS ISSUE FOR:  BLDG PERMITS ISSUED for [1] Main df AND [2] subset df'></a> \n",
    "## FIXING \"0\" STREET ADDRESS ISSUE FOR:  BLDG PERMITS ISSUED for [1] Main df AND [2] subset df"
   ]
  },
  {
   "cell_type": "code",
   "execution_count": 282,
   "metadata": {
    "collapsed": true
   },
   "outputs": [
    {
     "name": "stdout",
     "output_type": "stream",
     "text": [
      "Full df shape is:  (33909, 24)\n",
      "Rows that have address with 0 house number:  (40, 24)\n"
     ]
    }
   ],
   "source": [
    "# Finding address that start with 0 in address\n",
    "# There are 40 rows total with \"0\" house number. Not significant amount in df of 33k rows total\n",
    "# Lat/lon isn't available for most. Will just drop these rows from BOTH the main and subset(address only) dfs\n",
    "\n",
    "print(\"Full df shape is: \", df_bldg_issued.shape)\n",
    "print(\"Rows that have address with 0 house number: \", df_bldg_issued.loc[df_bldg_issued['address'].str.startswith('0')].shape)\n",
    "# df_bldg_issued.loc[df_bldg_issued['address'].str.startswith('0')]   # Commented out so it doesn't show df"
   ]
  },
  {
   "cell_type": "code",
   "execution_count": 283,
   "metadata": {
    "collapsed": true
   },
   "outputs": [
    {
     "data": {
      "text/plain": [
       "(33869, 24)"
      ]
     },
     "execution_count": 283,
     "metadata": {},
     "output_type": "execute_result"
    }
   ],
   "source": [
    "# Keeping all rows that DON'T have \"0\" for house number (total 10 rows)\n",
    "# Original dataset 3106 rows. After change, should be 33909 - 40 = 33869 rows\n",
    "\n",
    "df_bldg_issued = df_bldg_issued[~df_bldg_issued.address.str.startswith('0')]  # tilda means take everything EXECPT...\n",
    "df_bldg_issued.shape"
   ]
  },
  {
   "cell_type": "code",
   "execution_count": 284,
   "metadata": {
    "collapsed": true
   },
   "outputs": [
    {
     "name": "stdout",
     "output_type": "stream",
     "text": [
      "Full df shape is:  (3928, 4)\n",
      "Rows that have address with 0 house number:  (39, 4)\n"
     ]
    }
   ],
   "source": [
    "# In subset (addresses only), dropping addresses that start with \"0\"\n",
    "# There are 39. This is correct, because one of the rows wiht \"0\" house number had lat/lon so it isn't in this df.\n",
    "# After dropping these 39, will expect there to be 3928 - 39 = 3889 rows\n",
    "\n",
    "print(\"Full df shape is: \", df_bldg_issued_null_latlon.shape)\n",
    "print(\"Rows that have address with 0 house number: \"\n",
    "      , df_bldg_issued_null_latlon.loc[df_bldg_issued_null_latlon['address'].str.startswith('0')].shape)\n",
    "#df_bldg_issued_null_latlon.loc[df_bldg_issued_null_latlon['address'].str.startswith('0')]  #Run this to see full df"
   ]
  },
  {
   "cell_type": "code",
   "execution_count": 285,
   "metadata": {
    "collapsed": true
   },
   "outputs": [
    {
     "name": "stdout",
     "output_type": "stream",
     "text": [
      "(3889, 4)\n"
     ]
    }
   ],
   "source": [
    "# Dropping the rows with addresses that start with \"0\"\n",
    "# Confirmed, 3889 rows.\n",
    "\n",
    "df_bldg_issued_null_latlon = df_bldg_issued_null_latlon[~df_bldg_issued_null_latlon.address.str.startswith('0')]\n",
    "print(df_bldg_issued_null_latlon.shape)"
   ]
  },
  {
   "cell_type": "markdown",
   "metadata": {},
   "source": [
    "<a id='FIXING \"0\" STREET ADDRESS ISSUE FOR Planning Dept for Main and Subset dfs'></a> \n",
    "## FIXING \"0\" STREET ADDRESS ISSUE FOR Planning Dept for Main and Subset dfs"
   ]
  },
  {
   "cell_type": "code",
   "execution_count": 286,
   "metadata": {
    "collapsed": true
   },
   "outputs": [
    {
     "name": "stdout",
     "output_type": "stream",
     "text": [
      "Full df shape is:  (498, 25)\n",
      "Rows that have address with 0 house number:  (93, 25)\n"
     ]
    },
    {
     "data": {
      "text/html": [
       "<div>\n",
       "<style scoped>\n",
       "    .dataframe tbody tr th:only-of-type {\n",
       "        vertical-align: middle;\n",
       "    }\n",
       "\n",
       "    .dataframe tbody tr th {\n",
       "        vertical-align: top;\n",
       "    }\n",
       "\n",
       "    .dataframe thead th {\n",
       "        text-align: right;\n",
       "    }\n",
       "</style>\n",
       "<table border=\"1\" class=\"dataframe\">\n",
       "  <thead>\n",
       "    <tr style=\"text-align: right;\">\n",
       "      <th></th>\n",
       "      <th>date_submitted</th>\n",
       "      <th>application_type_descr</th>\n",
       "      <th>mpc_case_number</th>\n",
       "      <th>ordinance_number</th>\n",
       "      <th>status</th>\n",
       "      <th>mpc_meeting_date</th>\n",
       "      <th>mpc_action</th>\n",
       "      <th>project_name</th>\n",
       "      <th>location</th>\n",
       "      <th>reviewer</th>\n",
       "      <th>...</th>\n",
       "      <th>applicant_phone</th>\n",
       "      <th>applicant_address_1</th>\n",
       "      <th>applicant_address_2</th>\n",
       "      <th>applicant_city</th>\n",
       "      <th>applicant_state</th>\n",
       "      <th>applicant_zip</th>\n",
       "      <th>council_district</th>\n",
       "      <th>latitude</th>\n",
       "      <th>longitude</th>\n",
       "      <th>mapped_location</th>\n",
       "    </tr>\n",
       "  </thead>\n",
       "  <tbody>\n",
       "    <tr>\n",
       "      <th>377</th>\n",
       "      <td>2020-05-26</td>\n",
       "      <td>Mandatory Referral  R.O.W. Abandonment</td>\n",
       "      <td>2020M-008AB-001</td>\n",
       "      <td>NaN</td>\n",
       "      <td>NEW</td>\n",
       "      <td>2020-07-23</td>\n",
       "      <td>NaN</td>\n",
       "      <td>UNNUMBERED ALLEY (OFF CENTER STREET) RIGHT-OF-...</td>\n",
       "      <td>0 CENTER ST 37138</td>\n",
       "      <td>Sharon O'Conner</td>\n",
       "      <td>...</td>\n",
       "      <td>615-862-8781</td>\n",
       "      <td>720 SOUTH FIFTH STREET</td>\n",
       "      <td>NaN</td>\n",
       "      <td>NASHVILLE</td>\n",
       "      <td>TN</td>\n",
       "      <td>37206</td>\n",
       "      <td>11 (Larry Hagar)</td>\n",
       "      <td>36.225994</td>\n",
       "      <td>-86.629702</td>\n",
       "      <td>(36.22599424900005, -86.62970214499995)</td>\n",
       "    </tr>\n",
       "    <tr>\n",
       "      <th>459</th>\n",
       "      <td>2020-03-02</td>\n",
       "      <td>Subdivision (Concept Plan)</td>\n",
       "      <td>2020S-078-001</td>\n",
       "      <td>NaN</td>\n",
       "      <td>NEW</td>\n",
       "      <td>2020-07-23</td>\n",
       "      <td>NaN</td>\n",
       "      <td>BELLA SERRA</td>\n",
       "      <td>0 BLUFF RD 37027</td>\n",
       "      <td>Jason Swaggart</td>\n",
       "      <td>...</td>\n",
       "      <td>615-297-5166</td>\n",
       "      <td>516 Heather Place</td>\n",
       "      <td>NaN</td>\n",
       "      <td>Nashville</td>\n",
       "      <td>TN</td>\n",
       "      <td>37204</td>\n",
       "      <td>04 (Robert Swope)</td>\n",
       "      <td>36.004748</td>\n",
       "      <td>-86.705630</td>\n",
       "      <td>(36.00474826200008, -86.70562993799996)</td>\n",
       "    </tr>\n",
       "  </tbody>\n",
       "</table>\n",
       "<p>2 rows × 25 columns</p>\n",
       "</div>"
      ],
      "text/plain": [
       "    date_submitted                  application_type_descr  mpc_case_number  \\\n",
       "377     2020-05-26  Mandatory Referral  R.O.W. Abandonment  2020M-008AB-001   \n",
       "459     2020-03-02              Subdivision (Concept Plan)    2020S-078-001   \n",
       "\n",
       "    ordinance_number status mpc_meeting_date mpc_action  \\\n",
       "377              NaN    NEW       2020-07-23        NaN   \n",
       "459              NaN    NEW       2020-07-23        NaN   \n",
       "\n",
       "                                          project_name           location  \\\n",
       "377  UNNUMBERED ALLEY (OFF CENTER STREET) RIGHT-OF-...  0 CENTER ST 37138   \n",
       "459                                        BELLA SERRA   0 BLUFF RD 37027   \n",
       "\n",
       "            reviewer  ... applicant_phone     applicant_address_1  \\\n",
       "377  Sharon O'Conner  ...    615-862-8781  720 SOUTH FIFTH STREET   \n",
       "459   Jason Swaggart  ...    615-297-5166       516 Heather Place   \n",
       "\n",
       "    applicant_address_2 applicant_city applicant_state applicant_zip  \\\n",
       "377                 NaN      NASHVILLE              TN         37206   \n",
       "459                 NaN      Nashville              TN         37204   \n",
       "\n",
       "      council_district   latitude  longitude  \\\n",
       "377   11 (Larry Hagar)  36.225994 -86.629702   \n",
       "459  04 (Robert Swope)  36.004748 -86.705630   \n",
       "\n",
       "                             mapped_location  \n",
       "377  (36.22599424900005, -86.62970214499995)  \n",
       "459  (36.00474826200008, -86.70562993799996)  \n",
       "\n",
       "[2 rows x 25 columns]"
      ]
     },
     "execution_count": 286,
     "metadata": {},
     "output_type": "execute_result"
    }
   ],
   "source": [
    "# Finding address that start with 0 in address files where lat/lon is missing\n",
    "# There are 93 rows total with \"0\" house number HOWEVER - most of them have lat/lon so they don't need to be dropped\n",
    "\n",
    "print(\"Full df shape is: \", df_planning.shape)\n",
    "print(\"Rows that have address with 0 house number: \", df_planning.loc[df_planning['location'].str.startswith('0')].shape)\n",
    "df_planning.loc[df_planning['location'].str.startswith('0')].head(2)"
   ]
  },
  {
   "cell_type": "code",
   "execution_count": 287,
   "metadata": {
    "collapsed": true
   },
   "outputs": [
    {
     "name": "stdout",
     "output_type": "stream",
     "text": [
      "Full df shape is:  (9, 1)\n",
      "Rows that have address with 0 house number:  (2, 1)\n"
     ]
    },
    {
     "data": {
      "text/html": [
       "<div>\n",
       "<style scoped>\n",
       "    .dataframe tbody tr th:only-of-type {\n",
       "        vertical-align: middle;\n",
       "    }\n",
       "\n",
       "    .dataframe tbody tr th {\n",
       "        vertical-align: top;\n",
       "    }\n",
       "\n",
       "    .dataframe thead th {\n",
       "        text-align: right;\n",
       "    }\n",
       "</style>\n",
       "<table border=\"1\" class=\"dataframe\">\n",
       "  <thead>\n",
       "    <tr style=\"text-align: right;\">\n",
       "      <th></th>\n",
       "      <th>location</th>\n",
       "    </tr>\n",
       "  </thead>\n",
       "  <tbody>\n",
       "    <tr>\n",
       "      <th>5</th>\n",
       "      <td>0 CANE RIDGE RD</td>\n",
       "    </tr>\n",
       "    <tr>\n",
       "      <th>7</th>\n",
       "      <td>0 MURFREESBORO PIKE 37013</td>\n",
       "    </tr>\n",
       "  </tbody>\n",
       "</table>\n",
       "</div>"
      ],
      "text/plain": [
       "                    location\n",
       "5            0 CANE RIDGE RD\n",
       "7  0 MURFREESBORO PIKE 37013"
      ]
     },
     "execution_count": 287,
     "metadata": {},
     "output_type": "execute_result"
    }
   ],
   "source": [
    "# In subset (addresses only), checking to see how many have \"0\" house number\n",
    "# Only 2 rows\n",
    "# After dropping these 2, will expect there to be 9 - 2 = 7 rows\n",
    "# This is a small number of rows, however I want to have the code because I've requested more data from \n",
    "#     data.nashville.gov and hope to have several thousand rows soon!\n",
    "\n",
    "print(\"Full df shape is: \", df_planning_null_latlon.shape)\n",
    "print(\"Rows that have address with 0 house number: \"\n",
    "      , df_planning_null_latlon.loc[df_planning_null_latlon['location'].str.startswith('0')].shape)\n",
    "df_planning_null_latlon.loc[df_planning_null_latlon['location'].str.startswith('0')]"
   ]
  },
  {
   "cell_type": "code",
   "execution_count": 288,
   "metadata": {
    "collapsed": true
   },
   "outputs": [
    {
     "name": "stdout",
     "output_type": "stream",
     "text": [
      "(7, 1)\n"
     ]
    }
   ],
   "source": [
    "# Dropping the rows with addresses that start with \"0\"\n",
    "# Confirmed, 7 rows\n",
    "\n",
    "df_planning_null_latlon = df_planning_null_latlon[~df_planning_null_latlon.location.str.startswith('0')]\n",
    "print(df_planning_null_latlon.shape)"
   ]
  },
  {
   "cell_type": "markdown",
   "metadata": {},
   "source": [
    "<a id=' Merging Bldg Permit Applications and Bldg Permits Issued to use in Tableau'></a> \n",
    "## Merging Bldg Permit Applications and Bldg Permits Issued to use in Tableau\n",
    "- For dual-axis mapping in Tableau (and other graphics, too), all permit info in a single data file, for both Applications and Issued."
   ]
  },
  {
   "cell_type": "code",
   "execution_count": 300,
   "metadata": {
    "collapsed": true
   },
   "outputs": [],
   "source": [
    "# Looked at this info to compare Permit Numbers between Applications & Issued\n",
    "# Applications use T or D as first character; for the vast \n",
    "#    majority of Issued permits, they are all numerical.\n",
    "# Will do the merge based on ADDRESS and \n",
    "\n",
    "# df_bldg_apps.permit_number.sort_values()"
   ]
  },
  {
   "cell_type": "code",
   "execution_count": 299,
   "metadata": {
    "collapsed": true
   },
   "outputs": [],
   "source": [
    "# df_bldg_issued.permit_number.sort_values()"
   ]
  },
  {
   "cell_type": "code",
   "execution_count": 302,
   "metadata": {
    "collapsed": true
   },
   "outputs": [
    {
     "name": "stdout",
     "output_type": "stream",
     "text": [
      "<class 'pandas.core.frame.DataFrame'>\n",
      "RangeIndex: 3096 entries, 0 to 3095\n",
      "Data columns (total 22 columns):\n",
      " #   Column                Non-Null Count  Dtype         \n",
      "---  ------                --------------  -----         \n",
      " 0   permit_number         3096 non-null   object        \n",
      " 1   permit_type_descr     3096 non-null   object        \n",
      " 2   permit_subtype_descr  3096 non-null   object        \n",
      " 3   parcel                3096 non-null   object        \n",
      " 4   date_entered          3096 non-null   datetime64[ns]\n",
      " 5   construction_cost     1644 non-null   float64       \n",
      " 6   address               3096 non-null   object        \n",
      " 7   city                  3096 non-null   object        \n",
      " 8   state                 3096 non-null   object        \n",
      " 9   zip                   3096 non-null   int64         \n",
      " 10  subdivision_lot       3095 non-null   object        \n",
      " 11  contact               3095 non-null   object        \n",
      " 12  permit_type           3096 non-null   object        \n",
      " 13  permit_subtype        3096 non-null   object        \n",
      " 14  ivr_tracking_number   3096 non-null   int64         \n",
      " 15  purpose               3074 non-null   object        \n",
      " 16  council_district      3091 non-null   float64       \n",
      " 17  mapped_location       3096 non-null   object        \n",
      " 18  lat                   2807 non-null   float64       \n",
      " 19  lon                   2807 non-null   float64       \n",
      " 20  type_subtype          3096 non-null   object        \n",
      " 21  category              3096 non-null   object        \n",
      "dtypes: datetime64[ns](1), float64(4), int64(2), object(15)\n",
      "memory usage: 532.2+ KB\n"
     ]
    }
   ],
   "source": [
    "df_bldg_apps.info()"
   ]
  },
  {
   "cell_type": "code",
   "execution_count": 303,
   "metadata": {
    "collapsed": true
   },
   "outputs": [
    {
     "name": "stdout",
     "output_type": "stream",
     "text": [
      "<class 'pandas.core.frame.DataFrame'>\n",
      "Int64Index: 33869 entries, 12549 to 14413\n",
      "Data columns (total 24 columns):\n",
      " #   Column                Non-Null Count  Dtype         \n",
      "---  ------                --------------  -----         \n",
      " 0   permit_number         33869 non-null  object        \n",
      " 1   permit_type_descr     33869 non-null  object        \n",
      " 2   permit_subtype_descr  33869 non-null  object        \n",
      " 3   parcel                33869 non-null  object        \n",
      " 4   date_entered          33869 non-null  datetime64[ns]\n",
      " 5   date_issued           33869 non-null  datetime64[ns]\n",
      " 6   construction_cost     33859 non-null  float64       \n",
      " 7   address               33869 non-null  object        \n",
      " 8   city                  33869 non-null  object        \n",
      " 9   state                 33869 non-null  object        \n",
      " 10  zip                   33869 non-null  int64         \n",
      " 11  subdivision_lot       33869 non-null  object        \n",
      " 12  contact               33868 non-null  object        \n",
      " 13  permit_type           33869 non-null  object        \n",
      " 14  permit_subtype        33869 non-null  object        \n",
      " 15  ivr_tracking_number   33869 non-null  int64         \n",
      " 16  purpose               33428 non-null  object        \n",
      " 17  council_district      33823 non-null  float64       \n",
      " 18  census_tract          33826 non-null  float64       \n",
      " 19  mapped_location       33869 non-null  object        \n",
      " 20  lat                   29980 non-null  float64       \n",
      " 21  lon                   29980 non-null  float64       \n",
      " 22  type_subtype          33869 non-null  object        \n",
      " 23  category              33869 non-null  object        \n",
      "dtypes: datetime64[ns](2), float64(5), int64(2), object(15)\n",
      "memory usage: 6.5+ MB\n"
     ]
    }
   ],
   "source": [
    "df_bldg_issued.info()"
   ]
  },
  {
   "cell_type": "code",
   "execution_count": null,
   "metadata": {
    "collapsed": true
   },
   "outputs": [],
   "source": []
  },
  {
   "cell_type": "code",
   "execution_count": null,
   "metadata": {
    "collapsed": true
   },
   "outputs": [],
   "source": []
  },
  {
   "cell_type": "code",
   "execution_count": null,
   "metadata": {
    "collapsed": true
   },
   "outputs": [],
   "source": []
  },
  {
   "cell_type": "code",
   "execution_count": null,
   "metadata": {
    "collapsed": true
   },
   "outputs": [],
   "source": []
  },
  {
   "cell_type": "code",
   "execution_count": null,
   "metadata": {
    "collapsed": true
   },
   "outputs": [],
   "source": []
  },
  {
   "cell_type": "code",
   "execution_count": null,
   "metadata": {
    "collapsed": true
   },
   "outputs": [],
   "source": []
  },
  {
   "cell_type": "code",
   "execution_count": null,
   "metadata": {
    "collapsed": true
   },
   "outputs": [],
   "source": []
  },
  {
   "cell_type": "code",
   "execution_count": null,
   "metadata": {
    "collapsed": true
   },
   "outputs": [],
   "source": []
  },
  {
   "cell_type": "code",
   "execution_count": null,
   "metadata": {
    "collapsed": true
   },
   "outputs": [],
   "source": []
  },
  {
   "cell_type": "markdown",
   "metadata": {},
   "source": [
    "<a id='Concatenating addresses for use with Google maps API; and creating new dfs with full_address, only'></a> \n",
    "## Concatenating addresses for use with Google maps API; and creating new dfs with full_address, only"
   ]
  },
  {
   "cell_type": "markdown",
   "metadata": {},
   "source": [
    "<a id='Building Permit Applications - Full Address df'></a> \n",
    "## Building Permit Applications - Full Address df"
   ]
  },
  {
   "cell_type": "code",
   "execution_count": 124,
   "metadata": {},
   "outputs": [
    {
     "name": "stdout",
     "output_type": "stream",
     "text": [
      "(289, 5)\n"
     ]
    },
    {
     "data": {
      "text/html": [
       "<div>\n",
       "<style scoped>\n",
       "    .dataframe tbody tr th:only-of-type {\n",
       "        vertical-align: middle;\n",
       "    }\n",
       "\n",
       "    .dataframe tbody tr th {\n",
       "        vertical-align: top;\n",
       "    }\n",
       "\n",
       "    .dataframe thead th {\n",
       "        text-align: right;\n",
       "    }\n",
       "</style>\n",
       "<table border=\"1\" class=\"dataframe\">\n",
       "  <thead>\n",
       "    <tr style=\"text-align: right;\">\n",
       "      <th></th>\n",
       "      <th>address</th>\n",
       "      <th>city</th>\n",
       "      <th>state</th>\n",
       "      <th>zip</th>\n",
       "      <th>full_address</th>\n",
       "    </tr>\n",
       "  </thead>\n",
       "  <tbody>\n",
       "    <tr>\n",
       "      <th>0</th>\n",
       "      <td>4929  CHUTNEY DR</td>\n",
       "      <td>ANTIOCH</td>\n",
       "      <td>TN</td>\n",
       "      <td>37013</td>\n",
       "      <td>4929  CHUTNEY DR ANTIOCH TN 37013</td>\n",
       "    </tr>\n",
       "    <tr>\n",
       "      <th>1</th>\n",
       "      <td>329  BODDINGTON LN</td>\n",
       "      <td>ANTIOCH</td>\n",
       "      <td>TN</td>\n",
       "      <td>37013</td>\n",
       "      <td>329  BODDINGTON LN ANTIOCH TN 37013</td>\n",
       "    </tr>\n",
       "  </tbody>\n",
       "</table>\n",
       "</div>"
      ],
      "text/plain": [
       "              address     city state    zip  \\\n",
       "0    4929  CHUTNEY DR  ANTIOCH    TN  37013   \n",
       "1  329  BODDINGTON LN  ANTIOCH    TN  37013   \n",
       "\n",
       "                          full_address  \n",
       "0    4929  CHUTNEY DR ANTIOCH TN 37013  \n",
       "1  329  BODDINGTON LN ANTIOCH TN 37013  "
      ]
     },
     "execution_count": 124,
     "metadata": {},
     "output_type": "execute_result"
    }
   ],
   "source": [
    "# FOR: Bldg Permit Applications\n",
    "# FIRST: Concatenate addresses to match Googles format, all in one cell separated by spaces\n",
    "\n",
    "df_bldg_apps_null_latlon['full_address'] = (df_bldg_apps_null_latlon['address'].map(str) \n",
    "                                            + \" \" + df_bldg_apps_null_latlon['city'].map(str) \n",
    "                                            + \" \" + df_bldg_apps_null_latlon['state'].map(str) \n",
    "                                            + \" \" + df_bldg_apps_null_latlon['zip'].map(str)\n",
    "                                           )\n",
    "print(df_bldg_apps_null_latlon.shape)\n",
    "df_bldg_apps_null_latlon.head(2)"
   ]
  },
  {
   "cell_type": "code",
   "execution_count": 125,
   "metadata": {},
   "outputs": [
    {
     "data": {
      "text/html": [
       "<div>\n",
       "<style scoped>\n",
       "    .dataframe tbody tr th:only-of-type {\n",
       "        vertical-align: middle;\n",
       "    }\n",
       "\n",
       "    .dataframe tbody tr th {\n",
       "        vertical-align: top;\n",
       "    }\n",
       "\n",
       "    .dataframe thead th {\n",
       "        text-align: right;\n",
       "    }\n",
       "</style>\n",
       "<table border=\"1\" class=\"dataframe\">\n",
       "  <thead>\n",
       "    <tr style=\"text-align: right;\">\n",
       "      <th></th>\n",
       "      <th>full_address</th>\n",
       "    </tr>\n",
       "  </thead>\n",
       "  <tbody>\n",
       "    <tr>\n",
       "      <th>0</th>\n",
       "      <td>4929  CHUTNEY DR ANTIOCH TN 37013</td>\n",
       "    </tr>\n",
       "    <tr>\n",
       "      <th>1</th>\n",
       "      <td>329  BODDINGTON LN ANTIOCH TN 37013</td>\n",
       "    </tr>\n",
       "  </tbody>\n",
       "</table>\n",
       "</div>"
      ],
      "text/plain": [
       "                          full_address\n",
       "0    4929  CHUTNEY DR ANTIOCH TN 37013\n",
       "1  329  BODDINGTON LN ANTIOCH TN 37013"
      ]
     },
     "execution_count": 125,
     "metadata": {},
     "output_type": "execute_result"
    }
   ],
   "source": [
    "# READY TO USE IN GOOGLE MAPS API\n",
    "# Created new df that has only the full address column\n",
    "\n",
    "df_bldg_apps_full_address = df_bldg_apps_null_latlon['full_address'].to_frame()\n",
    "df_bldg_apps_full_address.head(2)"
   ]
  },
  {
   "cell_type": "code",
   "execution_count": 126,
   "metadata": {},
   "outputs": [
    {
     "data": {
      "text/plain": [
       "pandas.core.frame.DataFrame"
      ]
     },
     "execution_count": 126,
     "metadata": {},
     "output_type": "execute_result"
    }
   ],
   "source": [
    "type(df_bldg_apps_full_address)"
   ]
  },
  {
   "cell_type": "markdown",
   "metadata": {},
   "source": [
    "<a id='Building Permits Issued - Full Address df'></a> \n",
    "## Building Permits Issued - Full Address df"
   ]
  },
  {
   "cell_type": "code",
   "execution_count": 127,
   "metadata": {},
   "outputs": [
    {
     "data": {
      "text/html": [
       "<div>\n",
       "<style scoped>\n",
       "    .dataframe tbody tr th:only-of-type {\n",
       "        vertical-align: middle;\n",
       "    }\n",
       "\n",
       "    .dataframe tbody tr th {\n",
       "        vertical-align: top;\n",
       "    }\n",
       "\n",
       "    .dataframe thead th {\n",
       "        text-align: right;\n",
       "    }\n",
       "</style>\n",
       "<table border=\"1\" class=\"dataframe\">\n",
       "  <thead>\n",
       "    <tr style=\"text-align: right;\">\n",
       "      <th></th>\n",
       "      <th>address</th>\n",
       "      <th>city</th>\n",
       "      <th>state</th>\n",
       "      <th>zip</th>\n",
       "      <th>full_address</th>\n",
       "    </tr>\n",
       "  </thead>\n",
       "  <tbody>\n",
       "    <tr>\n",
       "      <th>0</th>\n",
       "      <td>1037  LAWSONS RIDGE DR</td>\n",
       "      <td>NASHVILLE</td>\n",
       "      <td>TN</td>\n",
       "      <td>37218</td>\n",
       "      <td>1037  LAWSONS RIDGE DR NASHVILLE TN 37218</td>\n",
       "    </tr>\n",
       "    <tr>\n",
       "      <th>1</th>\n",
       "      <td>812  BRIAR CIR</td>\n",
       "      <td>MADISON</td>\n",
       "      <td>TN</td>\n",
       "      <td>37115</td>\n",
       "      <td>812  BRIAR CIR MADISON TN 37115</td>\n",
       "    </tr>\n",
       "  </tbody>\n",
       "</table>\n",
       "</div>"
      ],
      "text/plain": [
       "                  address       city state    zip  \\\n",
       "0  1037  LAWSONS RIDGE DR  NASHVILLE    TN  37218   \n",
       "1          812  BRIAR CIR    MADISON    TN  37115   \n",
       "\n",
       "                                full_address  \n",
       "0  1037  LAWSONS RIDGE DR NASHVILLE TN 37218  \n",
       "1            812  BRIAR CIR MADISON TN 37115  "
      ]
     },
     "execution_count": 127,
     "metadata": {},
     "output_type": "execute_result"
    }
   ],
   "source": [
    "# FOR: Bldg Permits Issued\n",
    "# FIRST: Concatenate addresses to match Googles format, all in one cell separated by spaces\n",
    "\n",
    "df_bldg_issued_null_latlon['full_address'] = (df_bldg_issued_null_latlon['address'].map(str) \n",
    "                                            + \" \" + df_bldg_issued_null_latlon['city'].map(str) \n",
    "                                            + \" \" + df_bldg_issued_null_latlon['state'].map(str) \n",
    "                                            + \" \" + df_bldg_issued_null_latlon['zip'].map(str)\n",
    "                                           )\n",
    "df_bldg_issued_null_latlon.head(2)"
   ]
  },
  {
   "cell_type": "code",
   "execution_count": 128,
   "metadata": {},
   "outputs": [
    {
     "data": {
      "text/html": [
       "<div>\n",
       "<style scoped>\n",
       "    .dataframe tbody tr th:only-of-type {\n",
       "        vertical-align: middle;\n",
       "    }\n",
       "\n",
       "    .dataframe tbody tr th {\n",
       "        vertical-align: top;\n",
       "    }\n",
       "\n",
       "    .dataframe thead th {\n",
       "        text-align: right;\n",
       "    }\n",
       "</style>\n",
       "<table border=\"1\" class=\"dataframe\">\n",
       "  <thead>\n",
       "    <tr style=\"text-align: right;\">\n",
       "      <th></th>\n",
       "      <th>full_address</th>\n",
       "    </tr>\n",
       "  </thead>\n",
       "  <tbody>\n",
       "    <tr>\n",
       "      <th>0</th>\n",
       "      <td>1037  LAWSONS RIDGE DR NASHVILLE TN 37218</td>\n",
       "    </tr>\n",
       "    <tr>\n",
       "      <th>1</th>\n",
       "      <td>812  BRIAR CIR MADISON TN 37115</td>\n",
       "    </tr>\n",
       "  </tbody>\n",
       "</table>\n",
       "</div>"
      ],
      "text/plain": [
       "                                full_address\n",
       "0  1037  LAWSONS RIDGE DR NASHVILLE TN 37218\n",
       "1            812  BRIAR CIR MADISON TN 37115"
      ]
     },
     "execution_count": 128,
     "metadata": {},
     "output_type": "execute_result"
    }
   ],
   "source": [
    "# READY TO USE IN GOOGLE MAPS API\n",
    "# Created new df that has only the full address column\n",
    "\n",
    "df_bldg_issued_full_address = df_bldg_issued_null_latlon['full_address'].to_frame()\n",
    "df_bldg_issued_full_address.head(2)"
   ]
  },
  {
   "cell_type": "code",
   "execution_count": 129,
   "metadata": {},
   "outputs": [
    {
     "data": {
      "text/plain": [
       "pandas.core.frame.DataFrame"
      ]
     },
     "execution_count": 129,
     "metadata": {},
     "output_type": "execute_result"
    }
   ],
   "source": [
    "type(df_bldg_issued_full_address)"
   ]
  },
  {
   "cell_type": "markdown",
   "metadata": {},
   "source": [
    "<a id='Planning Dept - Full Address df'></a> \n",
    "## Planning Dept - Full Address df\n",
    "- df_planning_null_latlon only has one column. Will just RENAME it to be \"df_planning_full_address\" for use with Google Maps API"
   ]
  },
  {
   "cell_type": "code",
   "execution_count": 130,
   "metadata": {
    "collapsed": true
   },
   "outputs": [],
   "source": [
    "# Renaming df_planning_null_latlon, and changing column header to \"full_address\"\n",
    "\n",
    "df_planning_null_latlon.columns = ['full_address']"
   ]
  },
  {
   "cell_type": "code",
   "execution_count": 131,
   "metadata": {},
   "outputs": [
    {
     "data": {
      "text/html": [
       "<div>\n",
       "<style scoped>\n",
       "    .dataframe tbody tr th:only-of-type {\n",
       "        vertical-align: middle;\n",
       "    }\n",
       "\n",
       "    .dataframe tbody tr th {\n",
       "        vertical-align: top;\n",
       "    }\n",
       "\n",
       "    .dataframe thead th {\n",
       "        text-align: right;\n",
       "    }\n",
       "</style>\n",
       "<table border=\"1\" class=\"dataframe\">\n",
       "  <thead>\n",
       "    <tr style=\"text-align: right;\">\n",
       "      <th></th>\n",
       "      <th>full_address</th>\n",
       "    </tr>\n",
       "  </thead>\n",
       "  <tbody>\n",
       "    <tr>\n",
       "      <th>0</th>\n",
       "      <td>998 SEVIER ST 37210</td>\n",
       "    </tr>\n",
       "    <tr>\n",
       "      <th>1</th>\n",
       "      <td>961 16TH AVE N 37208</td>\n",
       "    </tr>\n",
       "  </tbody>\n",
       "</table>\n",
       "</div>"
      ],
      "text/plain": [
       "           full_address\n",
       "0   998 SEVIER ST 37210\n",
       "1  961 16TH AVE N 37208"
      ]
     },
     "execution_count": 131,
     "metadata": {},
     "output_type": "execute_result"
    }
   ],
   "source": [
    "# To identify that this full address doesn't have city/state, naming it accordingly\n",
    "\n",
    "df_planning_full_address_no_cityst = df_planning_null_latlon['full_address'].to_frame()\n",
    "df_planning_full_address_no_cityst.head(2)"
   ]
  },
  {
   "cell_type": "markdown",
   "metadata": {},
   "source": [
    "<a id='Using Google Maps API to get missing lat/lon'></a> \n",
    "## Using Google Maps API to get missing lat/lon\n",
    "- Made code that works for single addres\n",
    "- NEXT: Make for loop to run it on a list\n",
    "- AFTER THAT: Make function "
   ]
  },
  {
   "cell_type": "code",
   "execution_count": 132,
   "metadata": {
    "collapsed": true
   },
   "outputs": [],
   "source": [
    "# Read in 6/16/2020 at 11 am, then key is removed for security\n",
    "\n",
    "# google_api_key = 'PLACEMYKEYHERE THEN REMOVE IT'"
   ]
  },
  {
   "cell_type": "code",
   "execution_count": 133,
   "metadata": {
    "collapsed": true
   },
   "outputs": [],
   "source": [
    "# A Geocoding API request takes the following form.... from this website:\n",
    "# From: https://developers.google.com/maps/documentation/geocoding/intro#GeocodingRequests\n",
    "\n",
    "#endpoint = 'https://maps.googleapis.com/maps/api/geocode/json'"
   ]
  },
  {
   "cell_type": "code",
   "execution_count": 134,
   "metadata": {
    "collapsed": true
   },
   "outputs": [],
   "source": [
    "# Experimenting with for loop\n",
    "\n",
    "#for key in df_bldg_apps_full_address.iteritems():\n",
    "#    print(key)"
   ]
  },
  {
   "cell_type": "code",
   "execution_count": 135,
   "metadata": {
    "collapsed": true
   },
   "outputs": [],
   "source": [
    "#df_bldg_apps_full_address.shape"
   ]
  },
  {
   "cell_type": "code",
   "execution_count": 136,
   "metadata": {
    "collapsed": true
   },
   "outputs": [],
   "source": [
    "# Creating 10-row dataset to use for testing for loop\n",
    "\n",
    "#df_bldg_apps_full_add_tenrows = df_bldg_apps_full_address.iloc[:10]\n",
    "#print(df_bldg_apps_full_add_tenrows.shape)\n",
    "#df_bldg_apps_full_add_tenrows.head(2)"
   ]
  },
  {
   "cell_type": "markdown",
   "metadata": {},
   "source": [
    "<a id='Google Maps Geocoding API code (Aborted this direction. More notes in cell)'></a> \n",
    "## Google Maps Geocoding API code.... code isn't fully working yet. Taking longer than expected. Setting it aside and focusing on MVP with existing data. If I have time I'll come back to this to get the missing addresses.\n",
    "\n",
    "- **ISSUE:** Missing lat/lon for about 10% of addresses in each df.\n",
    "- **GOAL:** Get the lat/lon using Google Maps Geocoding API:\n",
    "    - Bldg Permit Applications (for ~300 addresses)\n",
    "    - Bldg Permits Issued (for ~3k addresses)\n",
    "    - Planning Dept Applications / Issued (for ~10 addresses - maybe lots more later if my public info request is fulfilled by Metro)\n",
    "- **DONE:** \n",
    "    - Dropped all addresses that have \"0\" as house number\n",
    "    - Created dfs that have full_address field (only) with spaces, as required by Google Maps API. There are in the ../data/interim folder\n",
    "        - df_bldg_apps_full_address\n",
    "        - df_bldg_issued_full_address\n",
    "        - df_planning_full_address_no_cityst  (street address & zip, only)\n",
    "    - Created small 10-row df for testing: \n",
    "        - ddf_bldg_apps_full_add_tenrows\n",
    "    - Wrote for loop that iterates over rows and pulls data from Google\n",
    "- **NEXT:** \n",
    "    - Write function to turn for loop results into df (if that's the best approach? \n",
    "    - Pull out lat/lon and get it back into the original df, matched to the correct rows. "
   ]
  },
  {
   "cell_type": "markdown",
   "metadata": {},
   "source": [
    "`CODE (in MarkDown field temporarily, so it doesn't run)`  \n",
    "\n",
    "`#def get_latlon  \n",
    "'''  \n",
    "To get lat/lon from Google Maps Geocoding API  \n",
    "'''  \n",
    "**for params in df_bldg_apps_full_add_tenrows.iterrows():  \n",
    "    params = {  \n",
    "        'address': df_bldg_apps_full_add_tenrows['full_address']  \n",
    "        , 'key': google_api_key  \n",
    "    }  \n",
    "    response = requests.get(endpoint, params = params)  \n",
    "    print(type(response.json()))  \n",
    "    df_bldg_apps_ggl_results = pd.DataFrame.from_dict(response).append(response.json(), ignore_index = True)  \n",
    "    df_bldg_apps_ggl_results**`  \n",
    "\n",
    "#TRIED THIS, didn't work  `df_bldg_apps_ggl_results = pd.DataFrame.from_dict(response.json())`  \n",
    "     \n",
    "**PUT IN NEXT CELLS, WHEN RUNNING CODE:  \n",
    "`requests.get(endpoint,params=params)`  \n",
    "`response=requests.get(endpoint,params= params)`  \n",
    "`response.json()#['results'][0]['geometry']['location']`    `# save responses to a list**`"
   ]
  },
  {
   "cell_type": "markdown",
   "metadata": {},
   "source": [
    "<a id='Creating new dfs for rows that have lat/lon (no null values).'></a> \n",
    "## Creating new dfs for rows that have lat/lon (no null values).\n",
    "- I had originally intended to add the lat/lon, from Geocoding API, but was not successful."
   ]
  },
  {
   "cell_type": "code",
   "execution_count": 137,
   "metadata": {},
   "outputs": [
    {
     "data": {
      "text/plain": [
       "(2807, 22)"
      ]
     },
     "execution_count": 137,
     "metadata": {},
     "output_type": "execute_result"
    }
   ],
   "source": [
    "# Creating new BLDG PERMIT APPLICATIONS df that drops rows without lat/lon\n",
    "\n",
    "# Double-checked a few things in these rows, one at a time\n",
    "#print(df_bldg_apps.shape)     #3096 before dropping null lat\n",
    "#df_bldg_apps[df_bldg_apps['lat'].isnull()]    # There are 289 rows with null lat/lon. \n",
    "# Should be 3096 - 289 = 2807 in new df  CONFIRMED\n",
    "\n",
    "df_bldg_apps_latlon = df_bldg_apps.dropna(subset = ['lat'])  #dropping nulls in 'lat'\n",
    "df_bldg_apps_latlon.shape "
   ]
  },
  {
   "cell_type": "code",
   "execution_count": 138,
   "metadata": {},
   "outputs": [
    {
     "data": {
      "text/plain": [
       "(29980, 24)"
      ]
     },
     "execution_count": 138,
     "metadata": {},
     "output_type": "execute_result"
    }
   ],
   "source": [
    "# Creating new BLDG PERMITS ISSUED df that drops rows without lat/lon\n",
    "\n",
    "# Double-checked a few things in these rows, one at a time\n",
    "#print(df_bldg_issued.shape)     # 33869 before dropping null lat\n",
    "#df_bldg_issued[df_bldg_issued['lat'].isnull()]    # There are 3889 rows with null lat/lon.\n",
    "# Should be 33869 - 3889 = 29980 rows in new df  CONFIRMED\n",
    "\n",
    "df_bldg_issued_latlon = df_bldg_issued.dropna(subset = ['lat'])  #dropping nulls in 'lat'\n",
    "df_bldg_issued_latlon.shape "
   ]
  },
  {
   "cell_type": "code",
   "execution_count": 139,
   "metadata": {},
   "outputs": [
    {
     "data": {
      "text/plain": [
       "(489, 25)"
      ]
     },
     "execution_count": 139,
     "metadata": {},
     "output_type": "execute_result"
    }
   ],
   "source": [
    "# Creating new PLANNING DEPT df that drops rows without lat/lon\n",
    "\n",
    "# Double-checked a few things in these rows, one at a time\n",
    "#df_planning.columns   'latitude'\n",
    "#df_planning.shape    # 489 rows before dropping null lat\n",
    "#df_planning[df_planning['latitude'].isnull()]    # There are 9 rows with null lat/lon.\n",
    "# Should be 498 - 9 = 489 rows in new df   CONFIRMED \n",
    "\n",
    "df_planning_latlon = df_planning.dropna(subset = ['latitude'])  #dropping nulls in 'latitude'\n",
    "df_planning_latlon.shape"
   ]
  },
  {
   "cell_type": "code",
   "execution_count": 140,
   "metadata": {},
   "outputs": [
    {
     "name": "stdout",
     "output_type": "stream",
     "text": [
      "Building Residential - New                  935\n",
      "Building Residential - Addition             385\n",
      "Building Use & Occupancy                    321\n",
      "Building Residential - Rehab                306\n",
      "Building Demolition Permit                  264\n",
      "Building Commercial - Rehab                 157\n",
      "Building Sign Permit                        141\n",
      "Building Commercial - New                    61\n",
      "Building Commercial - Tenant Finish Out      61\n",
      "Building Residential Rehab Storm Damage      37\n",
      "Building Residential - Roofing / Siding      26\n",
      "Building Tree Removal Permit                 25\n",
      "Building Commercial - Addition               20\n",
      "Building Residential New Storm Damage        16\n",
      "Building Commercial - Foundation             10\n",
      "Building Commercial Rehab Storm Damage        8\n",
      "Building Commercial - Shell                   8\n",
      "Building Commercial - Roofing / Siding        6\n",
      "Building Blasting Permit                      5\n",
      "Building Moving Permit                        4\n",
      "Building Residential - Change Contractor      3\n",
      "Building Commercial - Structural Frame        2\n",
      "Building Commercial - Fire Damage             1\n",
      "Building Residential - Amend Permit           1\n",
      "Building Residential - Tenant Finish Out      1\n",
      "Building Residential - Foundation             1\n",
      "Building Residential - Fire Damage            1\n",
      "Building Commercial - Change Contractor       1\n",
      "Name: permit_type_descr, dtype: int64\n",
      "(2807, 22)\n"
     ]
    }
   ],
   "source": [
    "# BUILDING PERMIT APPLICATIONS: Deciding to keep ONLY the permit types related to \n",
    "# residential & commercial, new and rehab. These will show \n",
    "# Dropping all from Building Sign Permit, down\n",
    "\n",
    "print(df_bldg_apps_latlon.permit_type_descr.value_counts())\n",
    "print(df_bldg_apps_latlon.shape)"
   ]
  },
  {
   "cell_type": "code",
   "execution_count": 141,
   "metadata": {},
   "outputs": [
    {
     "name": "stdout",
     "output_type": "stream",
     "text": [
      "Building Residential - New                  9486\n",
      "Building Commercial - Rehab                 3341\n",
      "Building Residential - Rehab                3259\n",
      "Building Residential - Addition             3175\n",
      "Building Demolition Permit                  2783\n",
      "Building Sign Permit                        2362\n",
      "Building Use & Occupancy                    1467\n",
      "Building Commercial - New                    947\n",
      "Building Commercial - Tenant Finish Out      941\n",
      "Building Tree Removal Permit                 449\n",
      "Building Commercial - Addition               327\n",
      "Building Residential - Roofing / Siding      239\n",
      "Building Commercial - Roofing / Siding       233\n",
      "Building Commercial - Shell                  159\n",
      "Building Residential Rehab Storm Damage      119\n",
      "Building Blasting Permit                     101\n",
      "Building Residential - Tenant Finish Out      99\n",
      "Building Commercial - Foundation              95\n",
      "Building Residential - Change Contractor      90\n",
      "Building Residential - Fire Damage            90\n",
      "Building Commercial Rehab Storm Damage        60\n",
      "Building Commercial - Fire Damage             48\n",
      "Building Commercial - Structural Frame        22\n",
      "Building Residential - Amend Permit           20\n",
      "Building Residential New Storm Damage         17\n",
      "Building Moving Permit                        15\n",
      "Building Commercial New Storm Damage          15\n",
      "Building Residential - Foundation              8\n",
      "Building Commercial - Change Contractor        6\n",
      "Building Residential - Shell                   6\n",
      "Building Residential - Renew Permit            1\n",
      "Name: permit_type_descr, dtype: int64\n",
      "(29980, 24)\n"
     ]
    }
   ],
   "source": [
    "# BUILDING PERMITS ISSUED: Deciding to keep ONLY the permit types related to \n",
    "# new residential & commercial. These will show the greatest new growth.\n",
    "# Dropping all from Building Sign Permit, down\n",
    "\n",
    "print(df_bldg_issued_latlon.permit_type_descr.value_counts())\n",
    "print(df_bldg_issued_latlon.shape)"
   ]
  },
  {
   "cell_type": "markdown",
   "metadata": {},
   "source": [
    "<a id='Keeping only permits for New construction [not using]'></a> \n",
    "## Keeping only permits for New construction [not using]\n",
    "- Initially looked at only New construction, but decided to go back to using full data for exporting to Tableau. Want full data on the dashboard; and easy to limit data in graphics from single dataset."
   ]
  },
  {
   "cell_type": "code",
   "execution_count": 304,
   "metadata": {
    "collapsed": true
   },
   "outputs": [],
   "source": [
    "# BLDG PERMIT APPLICATIONS To keep only the rows that have the values in this list \n",
    "\n",
    "#list_keep = ['Building Residential - New'\n",
    "#             , 'Building Commercial - New'\n",
    "#            ]\n",
    "#\n",
    "#df_bldg_apps_latlon_new = df_bldg_apps_latlon[df_bldg_apps_latlon['permit_type_descr'].isin(list_keep)]\n",
    "#df_bldg_apps_latlon_new['permit_type_descr'].value_counts()"
   ]
  },
  {
   "cell_type": "code",
   "execution_count": 305,
   "metadata": {
    "collapsed": true
   },
   "outputs": [],
   "source": [
    "# BLDG PERMITS ISSUED To keep only the rows that have the values in this list \n",
    "\n",
    "#df_bldg_issued_latlon_new = df_bldg_issued_latlon[df_bldg_issued_latlon['permit_type_descr'].isin(list_keep)]\n",
    "#df_bldg_issued_latlon_new['permit_type_descr'].value_counts()"
   ]
  },
  {
   "cell_type": "code",
   "execution_count": 306,
   "metadata": {
    "collapsed": true
   },
   "outputs": [],
   "source": [
    "# Planning Dept data - looking at whcih codes are most indicative of growth\n",
    "# Deciding to keep Rezoning, only. \n",
    "\n",
    "#df_planning_latlon['application_type_descr'].value_counts()"
   ]
  },
  {
   "cell_type": "code",
   "execution_count": 307,
   "metadata": {
    "collapsed": true
   },
   "outputs": [],
   "source": [
    "# BLDG PERMITS ISSUED To keep only the rows that have the values in this list \n",
    "\n",
    "#list_keep_planning = ['Rezoning']\n",
    "\n",
    "#df_planning_latlon_rezoning = df_planning_latlon[df_planning_latlon['application_type_descr'].isin(list_keep_planning)]\n",
    "#df_planning_latlon_rezoning['application_type_descr'].value_counts()"
   ]
  },
  {
   "cell_type": "markdown",
   "metadata": {},
   "source": []
  },
  {
   "cell_type": "code",
   "execution_count": 146,
   "metadata": {},
   "outputs": [
    {
     "name": "stdout",
     "output_type": "stream",
     "text": [
      "<class 'pandas.core.frame.DataFrame'>\n",
      "Int64Index: 996 entries, 0 to 3095\n",
      "Data columns (total 16 columns):\n",
      " #   Column                Non-Null Count  Dtype         \n",
      "---  ------                --------------  -----         \n",
      " 0   permit_number         996 non-null    object        \n",
      " 1   permit_type_descr     996 non-null    object        \n",
      " 2   permit_subtype_descr  996 non-null    object        \n",
      " 3   date_entered          996 non-null    datetime64[ns]\n",
      " 4   construction_cost     208 non-null    float64       \n",
      " 5   address               996 non-null    object        \n",
      " 6   city                  996 non-null    object        \n",
      " 7   state                 996 non-null    object        \n",
      " 8   zip                   996 non-null    int64         \n",
      " 9   contact               996 non-null    object        \n",
      " 10  ivr_tracking_number   996 non-null    int64         \n",
      " 11  purpose               992 non-null    object        \n",
      " 12  lat                   996 non-null    float64       \n",
      " 13  lon                   996 non-null    float64       \n",
      " 14  type_subtype          996 non-null    object        \n",
      " 15  category              996 non-null    object        \n",
      "dtypes: datetime64[ns](1), float64(3), int64(2), object(10)\n",
      "memory usage: 132.3+ KB\n"
     ]
    }
   ],
   "source": [
    "# Dropping unnecessary columns\n",
    "df_bldg_apps_latlon_new = df_bldg_apps_latlon_new.drop(columns = ['parcel'\n",
    "                                                                 , 'subdivision_lot'\n",
    "                                                                 , 'permit_type'\n",
    "                                                                 , 'permit_subtype'\n",
    "                                                                 , 'council_district'\n",
    "                                                                 , 'mapped_location'\n",
    "                                                                 ]\n",
    "                                                      )\n",
    "df_bldg_apps_latlon_new.info()"
   ]
  },
  {
   "cell_type": "code",
   "execution_count": 147,
   "metadata": {},
   "outputs": [
    {
     "name": "stdout",
     "output_type": "stream",
     "text": [
      "<class 'pandas.core.frame.DataFrame'>\n",
      "Int64Index: 10433 entries, 12554 to 14413\n",
      "Data columns (total 17 columns):\n",
      " #   Column                Non-Null Count  Dtype         \n",
      "---  ------                --------------  -----         \n",
      " 0   permit_number         10433 non-null  object        \n",
      " 1   permit_type_descr     10433 non-null  object        \n",
      " 2   permit_subtype_descr  10433 non-null  object        \n",
      " 3   date_entered          10433 non-null  datetime64[ns]\n",
      " 4   date_issued           10433 non-null  datetime64[ns]\n",
      " 5   construction_cost     10433 non-null  float64       \n",
      " 6   address               10433 non-null  object        \n",
      " 7   city                  10433 non-null  object        \n",
      " 8   state                 10433 non-null  object        \n",
      " 9   zip                   10433 non-null  int64         \n",
      " 10  contact               10433 non-null  object        \n",
      " 11  ivr_tracking_number   10433 non-null  int64         \n",
      " 12  purpose               10432 non-null  object        \n",
      " 13  lat                   10433 non-null  float64       \n",
      " 14  lon                   10433 non-null  float64       \n",
      " 15  type_subtype          10433 non-null  object        \n",
      " 16  category              10433 non-null  object        \n",
      "dtypes: datetime64[ns](2), float64(3), int64(2), object(10)\n",
      "memory usage: 1.4+ MB\n"
     ]
    }
   ],
   "source": [
    "# Dropping unnecessary columns\n",
    "\n",
    "df_bldg_issued_latlon_new = df_bldg_issued_latlon_new.drop(columns = ['parcel'\n",
    "                                                                      , 'subdivision_lot'\n",
    "                                                                      , 'permit_type'\n",
    "                                                                      , 'permit_subtype'\n",
    "                                                                      , 'council_district'\n",
    "                                                                      , 'census_tract'\n",
    "                                                                      , 'mapped_location'\n",
    "                                                                     ]\n",
    "                                                          )\n",
    "\n",
    "df_bldg_issued_latlon_new.info()"
   ]
  },
  {
   "cell_type": "code",
   "execution_count": 148,
   "metadata": {},
   "outputs": [
    {
     "name": "stdout",
     "output_type": "stream",
     "text": [
      "<class 'pandas.core.frame.DataFrame'>\n",
      "Int64Index: 86 entries, 268 to 166\n",
      "Data columns (total 15 columns):\n",
      " #   Column                    Non-Null Count  Dtype         \n",
      "---  ------                    --------------  -----         \n",
      " 0   date_submitted            86 non-null     datetime64[ns]\n",
      " 1   application_type_descr    86 non-null     object        \n",
      " 2   mpc_case_number           86 non-null     object        \n",
      " 3   ordinance_number          44 non-null     object        \n",
      " 4   status                    86 non-null     object        \n",
      " 5   mpc_meeting_date          86 non-null     datetime64[ns]\n",
      " 6   mpc_action                56 non-null     object        \n",
      " 7   project_name              1 non-null      object        \n",
      " 8   location                  86 non-null     object        \n",
      " 9   reviewer                  86 non-null     object        \n",
      " 10  case_descr                86 non-null     object        \n",
      " 11  applicant                 86 non-null     object        \n",
      " 12  applicant_representative  85 non-null     object        \n",
      " 13  latitude                  86 non-null     float64       \n",
      " 14  longitude                 86 non-null     float64       \n",
      "dtypes: datetime64[ns](2), float64(2), object(11)\n",
      "memory usage: 10.8+ KB\n"
     ]
    }
   ],
   "source": [
    "# Dropping unnecessary columns\n",
    "# Before deciding to drop applicant_city and applicant_state, \n",
    "#      I checked to see how many applicants were not local. All but 2 were local, \n",
    "#      so that information isn't needed for EDA\n",
    "\n",
    "# Keeping ordinance_number: Detailed information about the proposed ordinance\n",
    "# which is specific to a particular property, can be found at this website:\n",
    "#     https://www.nashville.gov/Metro-Clerk/Legislative/Ordinances/2019-2023.aspx\n",
    "\n",
    "df_planning_latlon_rezoning = df_planning_latlon_rezoning.drop(columns = ['applicant_email'\n",
    "                                                                          , 'applicant_phone'\n",
    "                                                                          , 'applicant_address_1'\n",
    "                                                                          , 'applicant_address_2'\n",
    "                                                                          , 'applicant_city'\n",
    "                                                                          , 'applicant_state'\n",
    "                                                                          , 'applicant_zip'\n",
    "                                                                          , 'council_district'\n",
    "                                                                          , 'mapped_location'\n",
    "                                                                          , 'reviewer_email'\n",
    "                                                                         ]\n",
    "                                                              )\n",
    "\n",
    "\n",
    "df_planning_latlon_rezoning.info()"
   ]
  },
  {
   "cell_type": "markdown",
   "metadata": {},
   "source": [
    "<a id='Saving cleaned files'></a> \n",
    "## Saving cleaned files\n",
    "- **What \"cleaned\" means:**\n",
    "- Columns renamed (kept all columns that had data; will subset them during EDA)\n",
    "- Data types cleaned (datetime, ESPG)\n",
    "- Used regex to extract lat/lon from mapped_location column\n",
    "- Handled null values in lat/lon columns (dropped rows)\n",
    "- Deleted rows that had \"0\" for house number in street address (new construction; no lat/lon available)\n",
    "- Kept ONLY the rows related to growth:\n",
    "    - Bldg Permit Applications & Permits Issued: Kept NEW residential or commercial bldg permits\n",
    "    - Planning Dept: Kept REZONING "
   ]
  },
  {
   "cell_type": "code",
   "execution_count": 149,
   "metadata": {
    "collapsed": true
   },
   "outputs": [],
   "source": [
    "# COMMENTING ALL OF THESE CELLS OUT, END OF DAY 6/19/2020. NOT READY TO SAVE THEM AGAIN YET.\n",
    "\n",
    "# Save Building Permit Applications file to data\\cleaned folder\n",
    "# Using index = False to prevent duplicate index from being created when files are read into EDA notebook.\n",
    "\n",
    "#df_bldg_apps_latlon_new.to_csv('../data/cleaned/bldg_permit_apps_clean_with_latlon_NEWonly.csv', index = False)\n",
    "\n",
    "# Printing shape, will add to 2_eda notebook to validate it when it's read in\n",
    "#df_bldg_apps_latlon_new.shape"
   ]
  },
  {
   "cell_type": "code",
   "execution_count": 150,
   "metadata": {
    "collapsed": true
   },
   "outputs": [],
   "source": [
    "#df_bldg_issued_latlon_new.to_csv('../data/cleaned/bldg_permits_issued_clean_with_latlon_NEWonly.csv', index = False)\n",
    "#df_bldg_issued_latlon_new.shape"
   ]
  },
  {
   "cell_type": "code",
   "execution_count": 151,
   "metadata": {
    "collapsed": true
   },
   "outputs": [],
   "source": [
    "#df_planning_latlon_rezoning.to_csv('../data/cleaned/planning_dept_clean_with_latlon_REZONINGonly.csv', index = False)\n",
    "#df_planning_latlon_rezoning.shape"
   ]
  },
  {
   "cell_type": "code",
   "execution_count": 152,
   "metadata": {
    "collapsed": true
   },
   "outputs": [],
   "source": [
    "# No changes being made to this. Commenting it out so it doesn't run again until needed.\n",
    "\n",
    "# df_na_bound.to_file('../data/cleaned/neighborhood_association_boundaries_clean.shp', index = False)\n",
    "# df_na_bound.shape"
   ]
  },
  {
   "cell_type": "code",
   "execution_count": null,
   "metadata": {
    "collapsed": true
   },
   "outputs": [],
   "source": []
  }
 ],
 "metadata": {
  "kernelspec": {
   "display_name": "Python 3",
   "language": "python",
   "name": "python3"
  },
  "language_info": {
   "codemirror_mode": {
    "name": "ipython",
    "version": 3
   },
   "file_extension": ".py",
   "mimetype": "text/x-python",
   "name": "python",
   "nbconvert_exporter": "python",
   "pygments_lexer": "ipython3",
   "version": "3.7.6"
  }
 },
 "nbformat": 4,
 "nbformat_minor": 2
}
