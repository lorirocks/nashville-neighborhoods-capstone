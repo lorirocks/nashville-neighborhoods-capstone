{
 "cells": [
  {
   "cell_type": "markdown",
   "metadata": {},
   "source": [
    "## Capstone Project \"What's Happening in my Neighborhood\"\n",
    "by Lori Butler  \n",
    "*Notebook and data structure inspired by **Practicle Business Python** article by Chris Moffitt https://pbpython.com/notebook-process.html*\n",
    "\n",
    "**Data Questions**\n",
    "1. Which neighborhoods have had the most, and the least, growth during the past three years based on the count of building permits by type, and by cost of construction.\n",
    "2. Do any neighborhoods have recent increases in building permit applications which may signal growth in the near future?\n",
    "3. In instances where zoning changes are sought, might those be a leading indicator of a subsequent increase in building permit applications? If so, what is the average time lag?\n",
    "\n",
    "**Data Sources**\n",
    "- All data is through Friday 6/5/2020\n",
    "- CSV\n",
    "    - df_bldg_apps = Building Permit Applications, rolling 3 years\n",
    "    - df_bldg_issued = Building Permits Issues, rolling 3 years\n",
    "    - df_planning = Planning (Zoning) Department Applications (all pending), and issued (rolling 2 months after issuance)\n",
    "- GEOJSON\n",
    "    - df_na_bound = Neighborhood Boundaries GeoJSON (polygon) folders\n",
    "\n",
    "**Directory Structure:**\n",
    "- data\n",
    "    - raw = contains the unedited csv and Excel files used as teh source of analysis\n",
    "    - processed = final, clean files used for creating visualizations\n",
    "    - final = clean files, ready to be used for creating visualizations   \n",
    "- notebooks\n",
    "    - 1_dataprep = standard cleanup of columns, data types, and additional data manipulation specific to this project (nulls, lat/lon, rolling week/month, etc.)\n",
    "    - 2_eda = EDA to create reports, and generate clean files to export to visualization tool.\n",
    "- notes_and_docs = documents created for reference, metadata, etc\n",
    "- reports = final reports for presentations"
   ]
  },
  {
   "cell_type": "markdown",
   "metadata": {},
   "source": [
    "## Data Prep 01 Notebook: Column and Data Type Cleanup"
   ]
  },
  {
   "cell_type": "code",
   "execution_count": 1,
   "metadata": {},
   "outputs": [],
   "source": [
    "import pandas as pd\n",
    "import numpy as np\n",
    "import geopandas as gpd   # Prerequisite: Anotes_and_docsctivate geospatial environment via Conda Prompt\n",
    "import matplotlib.pyplot as plt  \n",
    "import folium                   \n",
    "from folium.plugins import MarkerCluster\n",
    "\n",
    "# May not need this until I do EDA, but importing now as a reminder.\n",
    "from shapely.geometry import Point  \n",
    "\n",
    "# To use RegEx to pull ot lat/long from building permit applications/issued\n",
    "import re         \n",
    "\n",
    "# To create rolling dates to view past week, 30 days, etc.\n",
    "from datetime import timedelta  "
   ]
  },
  {
   "cell_type": "markdown",
   "metadata": {},
   "source": [
    "## Read in raw files"
   ]
  },
  {
   "cell_type": "code",
   "execution_count": 2,
   "metadata": {
    "scrolled": true
   },
   "outputs": [
    {
     "data": {
      "text/html": [
       "<div>\n",
       "<style scoped>\n",
       "    .dataframe tbody tr th:only-of-type {\n",
       "        vertical-align: middle;\n",
       "    }\n",
       "\n",
       "    .dataframe tbody tr th {\n",
       "        vertical-align: top;\n",
       "    }\n",
       "\n",
       "    .dataframe thead th {\n",
       "        text-align: right;\n",
       "    }\n",
       "</style>\n",
       "<table border=\"1\" class=\"dataframe\">\n",
       "  <thead>\n",
       "    <tr style=\"text-align: right;\">\n",
       "      <th></th>\n",
       "      <th>Permit #</th>\n",
       "      <th>Permit Type Description</th>\n",
       "      <th>Permit Subtype Description</th>\n",
       "      <th>Parcel</th>\n",
       "      <th>Date Entered</th>\n",
       "      <th>Date Issued</th>\n",
       "      <th>Construction Cost</th>\n",
       "      <th>Address</th>\n",
       "      <th>City</th>\n",
       "      <th>State</th>\n",
       "      <th>ZIP</th>\n",
       "      <th>Subdivision / Lot</th>\n",
       "      <th>Contact</th>\n",
       "      <th>Permit Type</th>\n",
       "      <th>Permit Subtype</th>\n",
       "      <th>IVR Tracking #</th>\n",
       "      <th>Purpose</th>\n",
       "      <th>Council District</th>\n",
       "      <th>Mapped Location</th>\n",
       "    </tr>\n",
       "  </thead>\n",
       "  <tbody>\n",
       "    <tr>\n",
       "      <th>0</th>\n",
       "      <td>T2020016213</td>\n",
       "      <td>Building Residential - New</td>\n",
       "      <td>Single Family Residence</td>\n",
       "      <td>10216006100</td>\n",
       "      <td>03/11/2020</td>\n",
       "      <td>NaN</td>\n",
       "      <td>NaN</td>\n",
       "      <td>748  DARDEN PL</td>\n",
       "      <td>NASHVILLE</td>\n",
       "      <td>TN</td>\n",
       "      <td>37205</td>\n",
       "      <td>LOT 168 SEC 9 PT 2 HILLWOOD EST</td>\n",
       "      <td>Kingdom Builders of Tennesse</td>\n",
       "      <td>CARN</td>\n",
       "      <td>CAA01R301</td>\n",
       "      <td>3781725</td>\n",
       "      <td>New Single family dwelling.  REJECTED: APPLICA...</td>\n",
       "      <td>23.0</td>\n",
       "      <td>748 DARDEN PL\\nNASHVILLE, TN 37205\\n(36.125944...</td>\n",
       "    </tr>\n",
       "    <tr>\n",
       "      <th>1</th>\n",
       "      <td>T2019073204</td>\n",
       "      <td>Building Moving Permit</td>\n",
       "      <td>Moving Permit - Residential</td>\n",
       "      <td>04600002700</td>\n",
       "      <td>12/02/2019</td>\n",
       "      <td>NaN</td>\n",
       "      <td>2500.0</td>\n",
       "      <td>4836  BULL RUN RD</td>\n",
       "      <td>ASHLAND CITY</td>\n",
       "      <td>TN</td>\n",
       "      <td>37015</td>\n",
       "      <td>N OF BULL RUN RD W OF OLD HICKORY BLVD</td>\n",
       "      <td>CLAYTON HOMES #054</td>\n",
       "      <td>CAMV</td>\n",
       "      <td>CAZ09A001</td>\n",
       "      <td>3736813</td>\n",
       "      <td>Move existing mobile home from property out of...</td>\n",
       "      <td>1.0</td>\n",
       "      <td>4836 BULL RUN RD\\nASHLAND CITY, TN 37015\\n(36....</td>\n",
       "    </tr>\n",
       "  </tbody>\n",
       "</table>\n",
       "</div>"
      ],
      "text/plain": [
       "      Permit #     Permit Type Description   Permit Subtype Description  \\\n",
       "0  T2020016213  Building Residential - New      Single Family Residence   \n",
       "1  T2019073204      Building Moving Permit  Moving Permit - Residential   \n",
       "\n",
       "        Parcel Date Entered  Date Issued  Construction Cost  \\\n",
       "0  10216006100   03/11/2020          NaN                NaN   \n",
       "1  04600002700   12/02/2019          NaN             2500.0   \n",
       "\n",
       "             Address          City State    ZIP  \\\n",
       "0     748  DARDEN PL     NASHVILLE    TN  37205   \n",
       "1  4836  BULL RUN RD  ASHLAND CITY    TN  37015   \n",
       "\n",
       "                        Subdivision / Lot                       Contact  \\\n",
       "0         LOT 168 SEC 9 PT 2 HILLWOOD EST  Kingdom Builders of Tennesse   \n",
       "1  N OF BULL RUN RD W OF OLD HICKORY BLVD            CLAYTON HOMES #054   \n",
       "\n",
       "  Permit Type Permit Subtype  IVR Tracking #  \\\n",
       "0        CARN      CAA01R301         3781725   \n",
       "1        CAMV      CAZ09A001         3736813   \n",
       "\n",
       "                                             Purpose  Council District  \\\n",
       "0  New Single family dwelling.  REJECTED: APPLICA...              23.0   \n",
       "1  Move existing mobile home from property out of...               1.0   \n",
       "\n",
       "                                     Mapped Location  \n",
       "0  748 DARDEN PL\\nNASHVILLE, TN 37205\\n(36.125944...  \n",
       "1  4836 BULL RUN RD\\nASHLAND CITY, TN 37015\\n(36....  "
      ]
     },
     "execution_count": 2,
     "metadata": {},
     "output_type": "execute_result"
    }
   ],
   "source": [
    "# Building Dept. Permit Applications\n",
    "\n",
    "df_bldg_apps = pd.read_csv('../data/raw/Building_Permit_Applications_2020_06_05.csv')\n",
    "df_bldg_apps.head(2)"
   ]
  },
  {
   "cell_type": "code",
   "execution_count": 3,
   "metadata": {},
   "outputs": [
    {
     "data": {
      "text/html": [
       "<div>\n",
       "<style scoped>\n",
       "    .dataframe tbody tr th:only-of-type {\n",
       "        vertical-align: middle;\n",
       "    }\n",
       "\n",
       "    .dataframe tbody tr th {\n",
       "        vertical-align: top;\n",
       "    }\n",
       "\n",
       "    .dataframe thead th {\n",
       "        text-align: right;\n",
       "    }\n",
       "</style>\n",
       "<table border=\"1\" class=\"dataframe\">\n",
       "  <thead>\n",
       "    <tr style=\"text-align: right;\">\n",
       "      <th></th>\n",
       "      <th>Permit #</th>\n",
       "      <th>Permit Type Description</th>\n",
       "      <th>Permit Subtype Description</th>\n",
       "      <th>Parcel</th>\n",
       "      <th>Date Entered</th>\n",
       "      <th>Date Issued</th>\n",
       "      <th>Construction Cost</th>\n",
       "      <th>Address</th>\n",
       "      <th>City</th>\n",
       "      <th>State</th>\n",
       "      <th>ZIP</th>\n",
       "      <th>Subdivision / Lot</th>\n",
       "      <th>Contact</th>\n",
       "      <th>Permit Type</th>\n",
       "      <th>Permit Subtype</th>\n",
       "      <th>IVR Tracking #</th>\n",
       "      <th>Purpose</th>\n",
       "      <th>Council District</th>\n",
       "      <th>Census Tract</th>\n",
       "      <th>Mapped Location</th>\n",
       "    </tr>\n",
       "  </thead>\n",
       "  <tbody>\n",
       "    <tr>\n",
       "      <th>0</th>\n",
       "      <td>2019070460</td>\n",
       "      <td>Building Residential - New</td>\n",
       "      <td>Single Family Residence</td>\n",
       "      <td>058100C04900CO</td>\n",
       "      <td>11/18/2019</td>\n",
       "      <td>12/09/2019</td>\n",
       "      <td>270585.0</td>\n",
       "      <td>1037  LAWSONS RIDGE DR</td>\n",
       "      <td>NASHVILLE</td>\n",
       "      <td>TN</td>\n",
       "      <td>37218</td>\n",
       "      <td>LOT 49 CARRINGTON PLACE PH 5</td>\n",
       "      <td>CELEBRATION HOMES LLC</td>\n",
       "      <td>CARN</td>\n",
       "      <td>CAA01R301</td>\n",
       "      <td>3733056</td>\n",
       "      <td>To construct a single family residence of 2402...</td>\n",
       "      <td>1.0</td>\n",
       "      <td>37010105.0</td>\n",
       "      <td>1037 LAWSONS RIDGE DR\\nNASHVILLE, TN 37218</td>\n",
       "    </tr>\n",
       "    <tr>\n",
       "      <th>1</th>\n",
       "      <td>2020016259</td>\n",
       "      <td>Building Residential - Rehab</td>\n",
       "      <td>Single Family Residence</td>\n",
       "      <td>160150A07000CO</td>\n",
       "      <td>03/12/2020</td>\n",
       "      <td>03/12/2020</td>\n",
       "      <td>12000.0</td>\n",
       "      <td>210  HEARTHSTONE MANOR LN</td>\n",
       "      <td>BRENTWOOD</td>\n",
       "      <td>TN</td>\n",
       "      <td>37027</td>\n",
       "      <td>UNIT 70 HEARTHSTONE MANOR CONDOMINIUM PHASE 4</td>\n",
       "      <td>ACCESS &amp; MOBILITY INC</td>\n",
       "      <td>CARR</td>\n",
       "      <td>CAA01R301</td>\n",
       "      <td>3781961</td>\n",
       "      <td>to install a new elevator/platform lift from g...</td>\n",
       "      <td>4.0</td>\n",
       "      <td>37018803.0</td>\n",
       "      <td>210 HEARTHSTONE MANOR LN\\nBRENTWOOD, TN 37027\\...</td>\n",
       "    </tr>\n",
       "  </tbody>\n",
       "</table>\n",
       "</div>"
      ],
      "text/plain": [
       "     Permit #       Permit Type Description Permit Subtype Description  \\\n",
       "0  2019070460    Building Residential - New    Single Family Residence   \n",
       "1  2020016259  Building Residential - Rehab    Single Family Residence   \n",
       "\n",
       "           Parcel Date Entered Date Issued  Construction Cost  \\\n",
       "0  058100C04900CO   11/18/2019  12/09/2019           270585.0   \n",
       "1  160150A07000CO   03/12/2020  03/12/2020            12000.0   \n",
       "\n",
       "                     Address       City State    ZIP  \\\n",
       "0     1037  LAWSONS RIDGE DR  NASHVILLE    TN  37218   \n",
       "1  210  HEARTHSTONE MANOR LN  BRENTWOOD    TN  37027   \n",
       "\n",
       "                               Subdivision / Lot                Contact  \\\n",
       "0                   LOT 49 CARRINGTON PLACE PH 5  CELEBRATION HOMES LLC   \n",
       "1  UNIT 70 HEARTHSTONE MANOR CONDOMINIUM PHASE 4  ACCESS & MOBILITY INC   \n",
       "\n",
       "  Permit Type Permit Subtype  IVR Tracking #  \\\n",
       "0        CARN      CAA01R301         3733056   \n",
       "1        CARR      CAA01R301         3781961   \n",
       "\n",
       "                                             Purpose  Council District  \\\n",
       "0  To construct a single family residence of 2402...               1.0   \n",
       "1  to install a new elevator/platform lift from g...               4.0   \n",
       "\n",
       "   Census Tract                                    Mapped Location  \n",
       "0    37010105.0         1037 LAWSONS RIDGE DR\\nNASHVILLE, TN 37218  \n",
       "1    37018803.0  210 HEARTHSTONE MANOR LN\\nBRENTWOOD, TN 37027\\...  "
      ]
     },
     "execution_count": 3,
     "metadata": {},
     "output_type": "execute_result"
    }
   ],
   "source": [
    "# Building Dept. Permits Issued\n",
    "# low_memory = False was added to remove a low-memory warning. Doing this prevents the\n",
    "# system from trying to assign dtypes until after the full file has been read\n",
    "# Resource: https://tinyurl.com/stackoverflow-low-memory\n",
    "\n",
    "df_bldg_issued = pd.read_csv('../data/raw/Building_Permits_Issued_2020_06_05.csv', low_memory=False)\n",
    "df_bldg_issued.head(2)"
   ]
  },
  {
   "cell_type": "code",
   "execution_count": 4,
   "metadata": {},
   "outputs": [
    {
     "data": {
      "text/html": [
       "<div>\n",
       "<style scoped>\n",
       "    .dataframe tbody tr th:only-of-type {\n",
       "        vertical-align: middle;\n",
       "    }\n",
       "\n",
       "    .dataframe tbody tr th {\n",
       "        vertical-align: top;\n",
       "    }\n",
       "\n",
       "    .dataframe thead th {\n",
       "        text-align: right;\n",
       "    }\n",
       "</style>\n",
       "<table border=\"1\" class=\"dataframe\">\n",
       "  <thead>\n",
       "    <tr style=\"text-align: right;\">\n",
       "      <th></th>\n",
       "      <th>Date Submitted</th>\n",
       "      <th>Application Type Description</th>\n",
       "      <th>MPC Case #</th>\n",
       "      <th>Ordinance #</th>\n",
       "      <th>Status</th>\n",
       "      <th>MPC Meeting Date</th>\n",
       "      <th>MPC Action</th>\n",
       "      <th>Project Name</th>\n",
       "      <th>Location</th>\n",
       "      <th>Reviewer</th>\n",
       "      <th>...</th>\n",
       "      <th>Applicant Address 2</th>\n",
       "      <th>Applicant City</th>\n",
       "      <th>Applicant State</th>\n",
       "      <th>Applicant ZIP</th>\n",
       "      <th>Council 3rd Reading Date</th>\n",
       "      <th>Council 3rd Reading Action</th>\n",
       "      <th>Council District</th>\n",
       "      <th>Latitude</th>\n",
       "      <th>Longitude</th>\n",
       "      <th>Mapped Location</th>\n",
       "    </tr>\n",
       "  </thead>\n",
       "  <tbody>\n",
       "    <tr>\n",
       "      <th>0</th>\n",
       "      <td>04/01/2019</td>\n",
       "      <td>Subdivision (Final Plat)</td>\n",
       "      <td>2019S-086-001</td>\n",
       "      <td>NaN</td>\n",
       "      <td>PENDING</td>\n",
       "      <td>06/11/2020</td>\n",
       "      <td>NaN</td>\n",
       "      <td>FINAL PLAT RESUBDIVISION OF LOT 3 AND 4 ON THE...</td>\n",
       "      <td>227 MARCIA AVE 37209</td>\n",
       "      <td>Joren Dunnavant</td>\n",
       "      <td>...</td>\n",
       "      <td>NaN</td>\n",
       "      <td>Nashville</td>\n",
       "      <td>TN</td>\n",
       "      <td>37203</td>\n",
       "      <td>NaN</td>\n",
       "      <td>NaN</td>\n",
       "      <td>20 (Mary Carolyn Roberts)</td>\n",
       "      <td>36.143923</td>\n",
       "      <td>-86.868254</td>\n",
       "      <td>(36.143922831000054, -86.86825400699996)</td>\n",
       "    </tr>\n",
       "    <tr>\n",
       "      <th>1</th>\n",
       "      <td>11/27/2019</td>\n",
       "      <td>Specific Plan (Final Site Plan)</td>\n",
       "      <td>2016SP-076-008</td>\n",
       "      <td>NaN</td>\n",
       "      <td>PENDING</td>\n",
       "      <td>01/16/2020</td>\n",
       "      <td>NaN</td>\n",
       "      <td>RED OAKS TOWNHOMES</td>\n",
       "      <td>0 DEW ST 37206</td>\n",
       "      <td>Abbie Rickoff</td>\n",
       "      <td>...</td>\n",
       "      <td>NaN</td>\n",
       "      <td>Nashville</td>\n",
       "      <td>TN</td>\n",
       "      <td>37204</td>\n",
       "      <td>NaN</td>\n",
       "      <td>NaN</td>\n",
       "      <td>06 (Brett Withers)</td>\n",
       "      <td>36.165962</td>\n",
       "      <td>-86.753490</td>\n",
       "      <td>(36.165961579000054, -86.75348957099999)</td>\n",
       "    </tr>\n",
       "  </tbody>\n",
       "</table>\n",
       "<p>2 rows × 27 columns</p>\n",
       "</div>"
      ],
      "text/plain": [
       "  Date Submitted     Application Type Description      MPC Case # Ordinance #  \\\n",
       "0     04/01/2019         Subdivision (Final Plat)   2019S-086-001         NaN   \n",
       "1     11/27/2019  Specific Plan (Final Site Plan)  2016SP-076-008         NaN   \n",
       "\n",
       "    Status MPC Meeting Date MPC Action  \\\n",
       "0  PENDING       06/11/2020        NaN   \n",
       "1  PENDING       01/16/2020        NaN   \n",
       "\n",
       "                                        Project Name              Location  \\\n",
       "0  FINAL PLAT RESUBDIVISION OF LOT 3 AND 4 ON THE...  227 MARCIA AVE 37209   \n",
       "1                                 RED OAKS TOWNHOMES        0 DEW ST 37206   \n",
       "\n",
       "          Reviewer  ... Applicant Address 2 Applicant City Applicant State  \\\n",
       "0  Joren Dunnavant  ...                 NaN      Nashville              TN   \n",
       "1    Abbie Rickoff  ...                 NaN      Nashville              TN   \n",
       "\n",
       "  Applicant ZIP Council 3rd Reading Date Council 3rd Reading Action  \\\n",
       "0         37203                      NaN                        NaN   \n",
       "1         37204                      NaN                        NaN   \n",
       "\n",
       "            Council District   Latitude  Longitude  \\\n",
       "0  20 (Mary Carolyn Roberts)  36.143923 -86.868254   \n",
       "1         06 (Brett Withers)  36.165962 -86.753490   \n",
       "\n",
       "                            Mapped Location  \n",
       "0  (36.143922831000054, -86.86825400699996)  \n",
       "1  (36.165961579000054, -86.75348957099999)  \n",
       "\n",
       "[2 rows x 27 columns]"
      ]
     },
     "execution_count": 4,
     "metadata": {},
     "output_type": "execute_result"
    }
   ],
   "source": [
    "# Planning/Zoning Applications & Issued\n",
    "\n",
    "df_planning = pd.read_csv('../data/raw/Planning_Department_Development_Applications_2020_06_05.csv')\n",
    "df_planning.head(2)"
   ]
  },
  {
   "cell_type": "code",
   "execution_count": 5,
   "metadata": {},
   "outputs": [
    {
     "name": "stdout",
     "output_type": "stream",
     "text": [
      "epsg:4326\n"
     ]
    },
    {
     "data": {
      "text/html": [
       "<div>\n",
       "<style scoped>\n",
       "    .dataframe tbody tr th:only-of-type {\n",
       "        vertical-align: middle;\n",
       "    }\n",
       "\n",
       "    .dataframe tbody tr th {\n",
       "        vertical-align: top;\n",
       "    }\n",
       "\n",
       "    .dataframe thead th {\n",
       "        text-align: right;\n",
       "    }\n",
       "</style>\n",
       "<table border=\"1\" class=\"dataframe\">\n",
       "  <thead>\n",
       "    <tr style=\"text-align: right;\">\n",
       "      <th></th>\n",
       "      <th>name</th>\n",
       "      <th>geometry</th>\n",
       "    </tr>\n",
       "  </thead>\n",
       "  <tbody>\n",
       "    <tr>\n",
       "      <th>0</th>\n",
       "      <td>Historic Buena Vista</td>\n",
       "      <td>MULTIPOLYGON (((-86.79511 36.17576, -86.79403 ...</td>\n",
       "    </tr>\n",
       "    <tr>\n",
       "      <th>1</th>\n",
       "      <td>Charlotte Park</td>\n",
       "      <td>MULTIPOLYGON (((-86.87460 36.15758, -86.87317 ...</td>\n",
       "    </tr>\n",
       "  </tbody>\n",
       "</table>\n",
       "</div>"
      ],
      "text/plain": [
       "                   name                                           geometry\n",
       "0  Historic Buena Vista  MULTIPOLYGON (((-86.79511 36.17576, -86.79403 ...\n",
       "1        Charlotte Park  MULTIPOLYGON (((-86.87460 36.15758, -86.87317 ..."
      ]
     },
     "execution_count": 5,
     "metadata": {},
     "output_type": "execute_result"
    }
   ],
   "source": [
    "# Neighborhood Assoc boundaries GIS file, using geopandas\n",
    "\n",
    "df_na_bound = gpd.read_file('../data/raw/Neighborhood Association Boundaries (GIS)_2020_06_03.geojson')\n",
    "print(df_na_bound.crs)\n",
    "df_na_bound.head(2)"
   ]
  },
  {
   "cell_type": "markdown",
   "metadata": {},
   "source": [
    "## Column Name Cleanup - Bldg Permit Applications"
   ]
  },
  {
   "cell_type": "code",
   "execution_count": 6,
   "metadata": {},
   "outputs": [
    {
     "data": {
      "text/plain": [
       "Index(['Permit #', 'Permit Type Description', 'Permit Subtype Description',\n",
       "       'Parcel', 'Date Entered', 'Date Issued', 'Construction Cost', 'Address',\n",
       "       'City', 'State', 'ZIP', 'Subdivision / Lot', 'Contact', 'Permit Type',\n",
       "       'Permit Subtype', 'IVR Tracking #', 'Purpose', 'Council District',\n",
       "       'Mapped Location'],\n",
       "      dtype='object')"
      ]
     },
     "execution_count": 6,
     "metadata": {},
     "output_type": "execute_result"
    }
   ],
   "source": [
    "df_bldg_apps.columns"
   ]
  },
  {
   "cell_type": "code",
   "execution_count": 7,
   "metadata": {},
   "outputs": [
    {
     "data": {
      "text/html": [
       "<div>\n",
       "<style scoped>\n",
       "    .dataframe tbody tr th:only-of-type {\n",
       "        vertical-align: middle;\n",
       "    }\n",
       "\n",
       "    .dataframe tbody tr th {\n",
       "        vertical-align: top;\n",
       "    }\n",
       "\n",
       "    .dataframe thead th {\n",
       "        text-align: right;\n",
       "    }\n",
       "</style>\n",
       "<table border=\"1\" class=\"dataframe\">\n",
       "  <thead>\n",
       "    <tr style=\"text-align: right;\">\n",
       "      <th></th>\n",
       "      <th>permit_number</th>\n",
       "      <th>permit_type_descr</th>\n",
       "      <th>permit_subtype_descr</th>\n",
       "      <th>parcel</th>\n",
       "      <th>date_entered</th>\n",
       "      <th>date_issued</th>\n",
       "      <th>construction_cost</th>\n",
       "      <th>address</th>\n",
       "      <th>city</th>\n",
       "      <th>state</th>\n",
       "      <th>zip</th>\n",
       "      <th>subdivision___lot</th>\n",
       "      <th>contact</th>\n",
       "      <th>permit_type</th>\n",
       "      <th>permit_subtype</th>\n",
       "      <th>ivr_tracking_number</th>\n",
       "      <th>purpose</th>\n",
       "      <th>council_district</th>\n",
       "      <th>mapped_location</th>\n",
       "    </tr>\n",
       "  </thead>\n",
       "  <tbody>\n",
       "    <tr>\n",
       "      <th>0</th>\n",
       "      <td>T2020016213</td>\n",
       "      <td>Building Residential - New</td>\n",
       "      <td>Single Family Residence</td>\n",
       "      <td>10216006100</td>\n",
       "      <td>03/11/2020</td>\n",
       "      <td>NaN</td>\n",
       "      <td>NaN</td>\n",
       "      <td>748  DARDEN PL</td>\n",
       "      <td>NASHVILLE</td>\n",
       "      <td>TN</td>\n",
       "      <td>37205</td>\n",
       "      <td>LOT 168 SEC 9 PT 2 HILLWOOD EST</td>\n",
       "      <td>Kingdom Builders of Tennesse</td>\n",
       "      <td>CARN</td>\n",
       "      <td>CAA01R301</td>\n",
       "      <td>3781725</td>\n",
       "      <td>New Single family dwelling.  REJECTED: APPLICA...</td>\n",
       "      <td>23.0</td>\n",
       "      <td>748 DARDEN PL\\nNASHVILLE, TN 37205\\n(36.125944...</td>\n",
       "    </tr>\n",
       "    <tr>\n",
       "      <th>1</th>\n",
       "      <td>T2019073204</td>\n",
       "      <td>Building Moving Permit</td>\n",
       "      <td>Moving Permit - Residential</td>\n",
       "      <td>04600002700</td>\n",
       "      <td>12/02/2019</td>\n",
       "      <td>NaN</td>\n",
       "      <td>2500.0</td>\n",
       "      <td>4836  BULL RUN RD</td>\n",
       "      <td>ASHLAND CITY</td>\n",
       "      <td>TN</td>\n",
       "      <td>37015</td>\n",
       "      <td>N OF BULL RUN RD W OF OLD HICKORY BLVD</td>\n",
       "      <td>CLAYTON HOMES #054</td>\n",
       "      <td>CAMV</td>\n",
       "      <td>CAZ09A001</td>\n",
       "      <td>3736813</td>\n",
       "      <td>Move existing mobile home from property out of...</td>\n",
       "      <td>1.0</td>\n",
       "      <td>4836 BULL RUN RD\\nASHLAND CITY, TN 37015\\n(36....</td>\n",
       "    </tr>\n",
       "  </tbody>\n",
       "</table>\n",
       "</div>"
      ],
      "text/plain": [
       "  permit_number           permit_type_descr         permit_subtype_descr  \\\n",
       "0   T2020016213  Building Residential - New      Single Family Residence   \n",
       "1   T2019073204      Building Moving Permit  Moving Permit - Residential   \n",
       "\n",
       "        parcel date_entered  date_issued  construction_cost  \\\n",
       "0  10216006100   03/11/2020          NaN                NaN   \n",
       "1  04600002700   12/02/2019          NaN             2500.0   \n",
       "\n",
       "             address          city state    zip  \\\n",
       "0     748  DARDEN PL     NASHVILLE    TN  37205   \n",
       "1  4836  BULL RUN RD  ASHLAND CITY    TN  37015   \n",
       "\n",
       "                        subdivision___lot                       contact  \\\n",
       "0         LOT 168 SEC 9 PT 2 HILLWOOD EST  Kingdom Builders of Tennesse   \n",
       "1  N OF BULL RUN RD W OF OLD HICKORY BLVD            CLAYTON HOMES #054   \n",
       "\n",
       "  permit_type permit_subtype  ivr_tracking_number  \\\n",
       "0        CARN      CAA01R301              3781725   \n",
       "1        CAMV      CAZ09A001              3736813   \n",
       "\n",
       "                                             purpose  council_district  \\\n",
       "0  New Single family dwelling.  REJECTED: APPLICA...              23.0   \n",
       "1  Move existing mobile home from property out of...               1.0   \n",
       "\n",
       "                                     mapped_location  \n",
       "0  748 DARDEN PL\\nNASHVILLE, TN 37205\\n(36.125944...  \n",
       "1  4836 BULL RUN RD\\nASHLAND CITY, TN 37015\\n(36....  "
      ]
     },
     "execution_count": 7,
     "metadata": {},
     "output_type": "execute_result"
    }
   ],
   "source": [
    "df_bldg_apps.columns = (df_bldg_apps.columns\n",
    "                        .str.replace(\" \", \"_\")\n",
    "                        .str.replace(\"/\", \"_\")\n",
    "                        .str.replace(\"Description\", \"descr\")\n",
    "                        .str.replace(\"#\", \"number\")\n",
    "                        .str.lower())\n",
    "df_bldg_apps.head(2)"
   ]
  },
  {
   "cell_type": "code",
   "execution_count": 8,
   "metadata": {},
   "outputs": [
    {
     "data": {
      "text/plain": [
       "Index(['permit_number', 'permit_type_descr', 'permit_subtype_descr', 'parcel',\n",
       "       'date_entered', 'date_issued', 'construction_cost', 'address', 'city',\n",
       "       'state', 'zip', 'subdivision_lot', 'contact', 'permit_type',\n",
       "       'permit_subtype', 'ivr_tracking_number', 'purpose', 'council_district',\n",
       "       'mapped_location'],\n",
       "      dtype='object')"
      ]
     },
     "execution_count": 8,
     "metadata": {},
     "output_type": "execute_result"
    }
   ],
   "source": [
    "# To correct issue with too many underscores in subdivision_lot column name\n",
    "\n",
    "df_bldg_apps = df_bldg_apps.rename(columns = {'subdivision___lot': 'subdivision_lot'})\n",
    "df_bldg_apps.columns"
   ]
  },
  {
   "cell_type": "code",
   "execution_count": 9,
   "metadata": {},
   "outputs": [],
   "source": [
    "# To drop date_issued from building applications df\n",
    "\n",
    "df_bldg_apps = df_bldg_apps.drop(columns = ['date_issued'])"
   ]
  },
  {
   "cell_type": "code",
   "execution_count": 10,
   "metadata": {},
   "outputs": [
    {
     "data": {
      "text/plain": [
       "Index(['permit_number', 'permit_type_descr', 'permit_subtype_descr', 'parcel',\n",
       "       'date_entered', 'construction_cost', 'address', 'city', 'state', 'zip',\n",
       "       'subdivision_lot', 'contact', 'permit_type', 'permit_subtype',\n",
       "       'ivr_tracking_number', 'purpose', 'council_district',\n",
       "       'mapped_location'],\n",
       "      dtype='object')"
      ]
     },
     "execution_count": 10,
     "metadata": {},
     "output_type": "execute_result"
    }
   ],
   "source": [
    "# To confirm column dropped successfully \n",
    "\n",
    "df_bldg_apps.columns  "
   ]
  },
  {
   "cell_type": "markdown",
   "metadata": {},
   "source": [
    "## Column Name Cleanup -  Bldg Permits Issued"
   ]
  },
  {
   "cell_type": "code",
   "execution_count": 11,
   "metadata": {},
   "outputs": [
    {
     "data": {
      "text/plain": [
       "Index(['Permit #', 'Permit Type Description', 'Permit Subtype Description',\n",
       "       'Parcel', 'Date Entered', 'Date Issued', 'Construction Cost', 'Address',\n",
       "       'City', 'State', 'ZIP', 'Subdivision / Lot', 'Contact', 'Permit Type',\n",
       "       'Permit Subtype', 'IVR Tracking #', 'Purpose', 'Council District',\n",
       "       'Census Tract', 'Mapped Location'],\n",
       "      dtype='object')"
      ]
     },
     "execution_count": 11,
     "metadata": {},
     "output_type": "execute_result"
    }
   ],
   "source": [
    "df_bldg_issued.columns"
   ]
  },
  {
   "cell_type": "code",
   "execution_count": 12,
   "metadata": {},
   "outputs": [
    {
     "data": {
      "text/html": [
       "<div>\n",
       "<style scoped>\n",
       "    .dataframe tbody tr th:only-of-type {\n",
       "        vertical-align: middle;\n",
       "    }\n",
       "\n",
       "    .dataframe tbody tr th {\n",
       "        vertical-align: top;\n",
       "    }\n",
       "\n",
       "    .dataframe thead th {\n",
       "        text-align: right;\n",
       "    }\n",
       "</style>\n",
       "<table border=\"1\" class=\"dataframe\">\n",
       "  <thead>\n",
       "    <tr style=\"text-align: right;\">\n",
       "      <th></th>\n",
       "      <th>permit_number</th>\n",
       "      <th>permit_type_descr</th>\n",
       "      <th>permit_subtype_descr</th>\n",
       "      <th>parcel</th>\n",
       "      <th>date_entered</th>\n",
       "      <th>date_issued</th>\n",
       "      <th>construction_cost</th>\n",
       "      <th>address</th>\n",
       "      <th>city</th>\n",
       "      <th>state</th>\n",
       "      <th>zip</th>\n",
       "      <th>subdivision___lot</th>\n",
       "      <th>contact</th>\n",
       "      <th>permit_type</th>\n",
       "      <th>permit_subtype</th>\n",
       "      <th>ivr_tracking_number</th>\n",
       "      <th>purpose</th>\n",
       "      <th>council_district</th>\n",
       "      <th>census_tract</th>\n",
       "      <th>mapped_location</th>\n",
       "    </tr>\n",
       "  </thead>\n",
       "  <tbody>\n",
       "    <tr>\n",
       "      <th>0</th>\n",
       "      <td>2019070460</td>\n",
       "      <td>Building Residential - New</td>\n",
       "      <td>Single Family Residence</td>\n",
       "      <td>058100C04900CO</td>\n",
       "      <td>11/18/2019</td>\n",
       "      <td>12/09/2019</td>\n",
       "      <td>270585.0</td>\n",
       "      <td>1037  LAWSONS RIDGE DR</td>\n",
       "      <td>NASHVILLE</td>\n",
       "      <td>TN</td>\n",
       "      <td>37218</td>\n",
       "      <td>LOT 49 CARRINGTON PLACE PH 5</td>\n",
       "      <td>CELEBRATION HOMES LLC</td>\n",
       "      <td>CARN</td>\n",
       "      <td>CAA01R301</td>\n",
       "      <td>3733056</td>\n",
       "      <td>To construct a single family residence of 2402...</td>\n",
       "      <td>1.0</td>\n",
       "      <td>37010105.0</td>\n",
       "      <td>1037 LAWSONS RIDGE DR\\nNASHVILLE, TN 37218</td>\n",
       "    </tr>\n",
       "    <tr>\n",
       "      <th>1</th>\n",
       "      <td>2020016259</td>\n",
       "      <td>Building Residential - Rehab</td>\n",
       "      <td>Single Family Residence</td>\n",
       "      <td>160150A07000CO</td>\n",
       "      <td>03/12/2020</td>\n",
       "      <td>03/12/2020</td>\n",
       "      <td>12000.0</td>\n",
       "      <td>210  HEARTHSTONE MANOR LN</td>\n",
       "      <td>BRENTWOOD</td>\n",
       "      <td>TN</td>\n",
       "      <td>37027</td>\n",
       "      <td>UNIT 70 HEARTHSTONE MANOR CONDOMINIUM PHASE 4</td>\n",
       "      <td>ACCESS &amp; MOBILITY INC</td>\n",
       "      <td>CARR</td>\n",
       "      <td>CAA01R301</td>\n",
       "      <td>3781961</td>\n",
       "      <td>to install a new elevator/platform lift from g...</td>\n",
       "      <td>4.0</td>\n",
       "      <td>37018803.0</td>\n",
       "      <td>210 HEARTHSTONE MANOR LN\\nBRENTWOOD, TN 37027\\...</td>\n",
       "    </tr>\n",
       "  </tbody>\n",
       "</table>\n",
       "</div>"
      ],
      "text/plain": [
       "  permit_number             permit_type_descr     permit_subtype_descr  \\\n",
       "0    2019070460    Building Residential - New  Single Family Residence   \n",
       "1    2020016259  Building Residential - Rehab  Single Family Residence   \n",
       "\n",
       "           parcel date_entered date_issued  construction_cost  \\\n",
       "0  058100C04900CO   11/18/2019  12/09/2019           270585.0   \n",
       "1  160150A07000CO   03/12/2020  03/12/2020            12000.0   \n",
       "\n",
       "                     address       city state    zip  \\\n",
       "0     1037  LAWSONS RIDGE DR  NASHVILLE    TN  37218   \n",
       "1  210  HEARTHSTONE MANOR LN  BRENTWOOD    TN  37027   \n",
       "\n",
       "                               subdivision___lot                contact  \\\n",
       "0                   LOT 49 CARRINGTON PLACE PH 5  CELEBRATION HOMES LLC   \n",
       "1  UNIT 70 HEARTHSTONE MANOR CONDOMINIUM PHASE 4  ACCESS & MOBILITY INC   \n",
       "\n",
       "  permit_type permit_subtype  ivr_tracking_number  \\\n",
       "0        CARN      CAA01R301              3733056   \n",
       "1        CARR      CAA01R301              3781961   \n",
       "\n",
       "                                             purpose  council_district  \\\n",
       "0  To construct a single family residence of 2402...               1.0   \n",
       "1  to install a new elevator/platform lift from g...               4.0   \n",
       "\n",
       "   census_tract                                    mapped_location  \n",
       "0    37010105.0         1037 LAWSONS RIDGE DR\\nNASHVILLE, TN 37218  \n",
       "1    37018803.0  210 HEARTHSTONE MANOR LN\\nBRENTWOOD, TN 37027\\...  "
      ]
     },
     "execution_count": 12,
     "metadata": {},
     "output_type": "execute_result"
    }
   ],
   "source": [
    "df_bldg_issued.columns = (df_bldg_issued.columns\n",
    "                        .str.replace(\" \", \"_\")\n",
    "                        .str.replace(\"/\", \"_\")\n",
    "                        .str.replace(\"Description\", \"descr\")\n",
    "                        .str.replace(\"#\", \"number\")\n",
    "                        .str.lower())\n",
    "df_bldg_issued.head(2)"
   ]
  },
  {
   "cell_type": "code",
   "execution_count": 13,
   "metadata": {},
   "outputs": [
    {
     "data": {
      "text/plain": [
       "Index(['permit_number', 'permit_type_descr', 'permit_subtype_descr', 'parcel',\n",
       "       'date_entered', 'date_issued', 'construction_cost', 'address', 'city',\n",
       "       'state', 'zip', 'subdivision_lot', 'contact', 'permit_type',\n",
       "       'permit_subtype', 'ivr_tracking_number', 'purpose', 'council_district',\n",
       "       'census_tract', 'mapped_location'],\n",
       "      dtype='object')"
      ]
     },
     "execution_count": 13,
     "metadata": {},
     "output_type": "execute_result"
    }
   ],
   "source": [
    "# To correct issue with too many underscores in subdivision_lot column name\n",
    "\n",
    "df_bldg_issued = df_bldg_issued.rename(columns = {'subdivision___lot': 'subdivision_lot'})\n",
    "df_bldg_issued.columns"
   ]
  },
  {
   "cell_type": "markdown",
   "metadata": {},
   "source": [
    "## Column Name Cleanup -  Planning Dept"
   ]
  },
  {
   "cell_type": "code",
   "execution_count": 14,
   "metadata": {},
   "outputs": [
    {
     "data": {
      "text/plain": [
       "Index(['Date Submitted', 'Application Type Description', 'MPC Case #',\n",
       "       'Ordinance #', 'Status', 'MPC Meeting Date', 'MPC Action',\n",
       "       'Project Name', 'Location', 'Reviewer', 'Reviewer Email',\n",
       "       'Case Description', 'Applicant', 'Applicant Representative',\n",
       "       'Applicant Email', 'Applicant Phone', 'Applicant Address 1',\n",
       "       'Applicant Address 2', 'Applicant City', 'Applicant State',\n",
       "       'Applicant ZIP', 'Council 3rd Reading Date',\n",
       "       'Council 3rd Reading Action', 'Council District', 'Latitude',\n",
       "       'Longitude', 'Mapped Location'],\n",
       "      dtype='object')"
      ]
     },
     "execution_count": 14,
     "metadata": {},
     "output_type": "execute_result"
    }
   ],
   "source": [
    "df_planning.columns"
   ]
  },
  {
   "cell_type": "code",
   "execution_count": 15,
   "metadata": {},
   "outputs": [
    {
     "data": {
      "text/html": [
       "<div>\n",
       "<style scoped>\n",
       "    .dataframe tbody tr th:only-of-type {\n",
       "        vertical-align: middle;\n",
       "    }\n",
       "\n",
       "    .dataframe tbody tr th {\n",
       "        vertical-align: top;\n",
       "    }\n",
       "\n",
       "    .dataframe thead th {\n",
       "        text-align: right;\n",
       "    }\n",
       "</style>\n",
       "<table border=\"1\" class=\"dataframe\">\n",
       "  <thead>\n",
       "    <tr style=\"text-align: right;\">\n",
       "      <th></th>\n",
       "      <th>date_submitted</th>\n",
       "      <th>application_type_descr</th>\n",
       "      <th>mpc_case_number</th>\n",
       "      <th>ordinance_number</th>\n",
       "      <th>status</th>\n",
       "      <th>mpc_meeting_date</th>\n",
       "      <th>mpc_action</th>\n",
       "      <th>project_name</th>\n",
       "      <th>location</th>\n",
       "      <th>reviewer</th>\n",
       "      <th>...</th>\n",
       "      <th>applicant_address_2</th>\n",
       "      <th>applicant_city</th>\n",
       "      <th>applicant_state</th>\n",
       "      <th>applicant_zip</th>\n",
       "      <th>council_3rd_reading_date</th>\n",
       "      <th>council_3rd_reading_action</th>\n",
       "      <th>council_district</th>\n",
       "      <th>latitude</th>\n",
       "      <th>longitude</th>\n",
       "      <th>mapped_location</th>\n",
       "    </tr>\n",
       "  </thead>\n",
       "  <tbody>\n",
       "    <tr>\n",
       "      <th>0</th>\n",
       "      <td>04/01/2019</td>\n",
       "      <td>Subdivision (Final Plat)</td>\n",
       "      <td>2019S-086-001</td>\n",
       "      <td>NaN</td>\n",
       "      <td>PENDING</td>\n",
       "      <td>06/11/2020</td>\n",
       "      <td>NaN</td>\n",
       "      <td>FINAL PLAT RESUBDIVISION OF LOT 3 AND 4 ON THE...</td>\n",
       "      <td>227 MARCIA AVE 37209</td>\n",
       "      <td>Joren Dunnavant</td>\n",
       "      <td>...</td>\n",
       "      <td>NaN</td>\n",
       "      <td>Nashville</td>\n",
       "      <td>TN</td>\n",
       "      <td>37203</td>\n",
       "      <td>NaN</td>\n",
       "      <td>NaN</td>\n",
       "      <td>20 (Mary Carolyn Roberts)</td>\n",
       "      <td>36.143923</td>\n",
       "      <td>-86.868254</td>\n",
       "      <td>(36.143922831000054, -86.86825400699996)</td>\n",
       "    </tr>\n",
       "    <tr>\n",
       "      <th>1</th>\n",
       "      <td>11/27/2019</td>\n",
       "      <td>Specific Plan (Final Site Plan)</td>\n",
       "      <td>2016SP-076-008</td>\n",
       "      <td>NaN</td>\n",
       "      <td>PENDING</td>\n",
       "      <td>01/16/2020</td>\n",
       "      <td>NaN</td>\n",
       "      <td>RED OAKS TOWNHOMES</td>\n",
       "      <td>0 DEW ST 37206</td>\n",
       "      <td>Abbie Rickoff</td>\n",
       "      <td>...</td>\n",
       "      <td>NaN</td>\n",
       "      <td>Nashville</td>\n",
       "      <td>TN</td>\n",
       "      <td>37204</td>\n",
       "      <td>NaN</td>\n",
       "      <td>NaN</td>\n",
       "      <td>06 (Brett Withers)</td>\n",
       "      <td>36.165962</td>\n",
       "      <td>-86.753490</td>\n",
       "      <td>(36.165961579000054, -86.75348957099999)</td>\n",
       "    </tr>\n",
       "  </tbody>\n",
       "</table>\n",
       "<p>2 rows × 27 columns</p>\n",
       "</div>"
      ],
      "text/plain": [
       "  date_submitted           application_type_descr mpc_case_number  \\\n",
       "0     04/01/2019         Subdivision (Final Plat)   2019S-086-001   \n",
       "1     11/27/2019  Specific Plan (Final Site Plan)  2016SP-076-008   \n",
       "\n",
       "  ordinance_number   status mpc_meeting_date mpc_action  \\\n",
       "0              NaN  PENDING       06/11/2020        NaN   \n",
       "1              NaN  PENDING       01/16/2020        NaN   \n",
       "\n",
       "                                        project_name              location  \\\n",
       "0  FINAL PLAT RESUBDIVISION OF LOT 3 AND 4 ON THE...  227 MARCIA AVE 37209   \n",
       "1                                 RED OAKS TOWNHOMES        0 DEW ST 37206   \n",
       "\n",
       "          reviewer  ... applicant_address_2 applicant_city applicant_state  \\\n",
       "0  Joren Dunnavant  ...                 NaN      Nashville              TN   \n",
       "1    Abbie Rickoff  ...                 NaN      Nashville              TN   \n",
       "\n",
       "  applicant_zip council_3rd_reading_date council_3rd_reading_action  \\\n",
       "0         37203                      NaN                        NaN   \n",
       "1         37204                      NaN                        NaN   \n",
       "\n",
       "            council_district   latitude  longitude  \\\n",
       "0  20 (Mary Carolyn Roberts)  36.143923 -86.868254   \n",
       "1         06 (Brett Withers)  36.165962 -86.753490   \n",
       "\n",
       "                            mapped_location  \n",
       "0  (36.143922831000054, -86.86825400699996)  \n",
       "1  (36.165961579000054, -86.75348957099999)  \n",
       "\n",
       "[2 rows x 27 columns]"
      ]
     },
     "execution_count": 15,
     "metadata": {},
     "output_type": "execute_result"
    }
   ],
   "source": [
    "df_planning.columns = (df_planning.columns\n",
    "                        .str.replace(\" \", \"_\")\n",
    "                        .str.replace(\"/\", \"_\")\n",
    "                        .str.replace(\"Description\", \"descr\")\n",
    "                        .str.replace(\"#\", \"number\")\n",
    "                        .str.lower())\n",
    "df_planning.head(2)"
   ]
  },
  {
   "cell_type": "markdown",
   "metadata": {},
   "source": [
    "## Convert date fields to datetime: Bldg Permit Apps & Issued"
   ]
  },
  {
   "cell_type": "code",
   "execution_count": 16,
   "metadata": {},
   "outputs": [
    {
     "data": {
      "text/html": [
       "<div>\n",
       "<style scoped>\n",
       "    .dataframe tbody tr th:only-of-type {\n",
       "        vertical-align: middle;\n",
       "    }\n",
       "\n",
       "    .dataframe tbody tr th {\n",
       "        vertical-align: top;\n",
       "    }\n",
       "\n",
       "    .dataframe thead th {\n",
       "        text-align: right;\n",
       "    }\n",
       "</style>\n",
       "<table border=\"1\" class=\"dataframe\">\n",
       "  <thead>\n",
       "    <tr style=\"text-align: right;\">\n",
       "      <th></th>\n",
       "      <th>permit_number</th>\n",
       "      <th>permit_type_descr</th>\n",
       "      <th>permit_subtype_descr</th>\n",
       "      <th>parcel</th>\n",
       "      <th>date_entered</th>\n",
       "      <th>construction_cost</th>\n",
       "      <th>address</th>\n",
       "      <th>city</th>\n",
       "      <th>state</th>\n",
       "      <th>zip</th>\n",
       "      <th>subdivision_lot</th>\n",
       "      <th>contact</th>\n",
       "      <th>permit_type</th>\n",
       "      <th>permit_subtype</th>\n",
       "      <th>ivr_tracking_number</th>\n",
       "      <th>purpose</th>\n",
       "      <th>council_district</th>\n",
       "      <th>mapped_location</th>\n",
       "    </tr>\n",
       "  </thead>\n",
       "  <tbody>\n",
       "    <tr>\n",
       "      <th>0</th>\n",
       "      <td>T2020016213</td>\n",
       "      <td>Building Residential - New</td>\n",
       "      <td>Single Family Residence</td>\n",
       "      <td>10216006100</td>\n",
       "      <td>03/11/2020</td>\n",
       "      <td>NaN</td>\n",
       "      <td>748  DARDEN PL</td>\n",
       "      <td>NASHVILLE</td>\n",
       "      <td>TN</td>\n",
       "      <td>37205</td>\n",
       "      <td>LOT 168 SEC 9 PT 2 HILLWOOD EST</td>\n",
       "      <td>Kingdom Builders of Tennesse</td>\n",
       "      <td>CARN</td>\n",
       "      <td>CAA01R301</td>\n",
       "      <td>3781725</td>\n",
       "      <td>New Single family dwelling.  REJECTED: APPLICA...</td>\n",
       "      <td>23.0</td>\n",
       "      <td>748 DARDEN PL\\nNASHVILLE, TN 37205\\n(36.125944...</td>\n",
       "    </tr>\n",
       "    <tr>\n",
       "      <th>1</th>\n",
       "      <td>T2019073204</td>\n",
       "      <td>Building Moving Permit</td>\n",
       "      <td>Moving Permit - Residential</td>\n",
       "      <td>04600002700</td>\n",
       "      <td>12/02/2019</td>\n",
       "      <td>2500.0</td>\n",
       "      <td>4836  BULL RUN RD</td>\n",
       "      <td>ASHLAND CITY</td>\n",
       "      <td>TN</td>\n",
       "      <td>37015</td>\n",
       "      <td>N OF BULL RUN RD W OF OLD HICKORY BLVD</td>\n",
       "      <td>CLAYTON HOMES #054</td>\n",
       "      <td>CAMV</td>\n",
       "      <td>CAZ09A001</td>\n",
       "      <td>3736813</td>\n",
       "      <td>Move existing mobile home from property out of...</td>\n",
       "      <td>1.0</td>\n",
       "      <td>4836 BULL RUN RD\\nASHLAND CITY, TN 37015\\n(36....</td>\n",
       "    </tr>\n",
       "  </tbody>\n",
       "</table>\n",
       "</div>"
      ],
      "text/plain": [
       "  permit_number           permit_type_descr         permit_subtype_descr  \\\n",
       "0   T2020016213  Building Residential - New      Single Family Residence   \n",
       "1   T2019073204      Building Moving Permit  Moving Permit - Residential   \n",
       "\n",
       "        parcel date_entered  construction_cost            address  \\\n",
       "0  10216006100   03/11/2020                NaN     748  DARDEN PL   \n",
       "1  04600002700   12/02/2019             2500.0  4836  BULL RUN RD   \n",
       "\n",
       "           city state    zip                         subdivision_lot  \\\n",
       "0     NASHVILLE    TN  37205         LOT 168 SEC 9 PT 2 HILLWOOD EST   \n",
       "1  ASHLAND CITY    TN  37015  N OF BULL RUN RD W OF OLD HICKORY BLVD   \n",
       "\n",
       "                        contact permit_type permit_subtype  \\\n",
       "0  Kingdom Builders of Tennesse        CARN      CAA01R301   \n",
       "1            CLAYTON HOMES #054        CAMV      CAZ09A001   \n",
       "\n",
       "   ivr_tracking_number                                            purpose  \\\n",
       "0              3781725  New Single family dwelling.  REJECTED: APPLICA...   \n",
       "1              3736813  Move existing mobile home from property out of...   \n",
       "\n",
       "   council_district                                    mapped_location  \n",
       "0              23.0  748 DARDEN PL\\nNASHVILLE, TN 37205\\n(36.125944...  \n",
       "1               1.0  4836 BULL RUN RD\\nASHLAND CITY, TN 37015\\n(36....  "
      ]
     },
     "execution_count": 16,
     "metadata": {},
     "output_type": "execute_result"
    }
   ],
   "source": [
    "df_bldg_apps.head(2)"
   ]
  },
  {
   "cell_type": "code",
   "execution_count": 17,
   "metadata": {},
   "outputs": [
    {
     "data": {
      "text/plain": [
       "permit_number            object\n",
       "permit_type_descr        object\n",
       "permit_subtype_descr     object\n",
       "parcel                   object\n",
       "date_entered             object\n",
       "construction_cost       float64\n",
       "address                  object\n",
       "city                     object\n",
       "state                    object\n",
       "zip                       int64\n",
       "subdivision_lot          object\n",
       "contact                  object\n",
       "permit_type              object\n",
       "permit_subtype           object\n",
       "ivr_tracking_number       int64\n",
       "purpose                  object\n",
       "council_district        float64\n",
       "mapped_location          object\n",
       "dtype: object"
      ]
     },
     "execution_count": 17,
     "metadata": {},
     "output_type": "execute_result"
    }
   ],
   "source": [
    "# Confirming that all dtypes are as expected\n",
    "# NEED TO CHANGE: date_entered should be datetime.\n",
    "\n",
    "df_bldg_apps.dtypes   "
   ]
  },
  {
   "cell_type": "code",
   "execution_count": 18,
   "metadata": {},
   "outputs": [
    {
     "name": "stdout",
     "output_type": "stream",
     "text": [
      "<class 'pandas.core.frame.DataFrame'>\n",
      "RangeIndex: 3106 entries, 0 to 3105\n",
      "Data columns (total 18 columns):\n",
      " #   Column                Non-Null Count  Dtype  \n",
      "---  ------                --------------  -----  \n",
      " 0   permit_number         3106 non-null   object \n",
      " 1   permit_type_descr     3106 non-null   object \n",
      " 2   permit_subtype_descr  3106 non-null   object \n",
      " 3   parcel                3106 non-null   object \n",
      " 4   date_entered          3106 non-null   object \n",
      " 5   construction_cost     1651 non-null   float64\n",
      " 6   address               3106 non-null   object \n",
      " 7   city                  3106 non-null   object \n",
      " 8   state                 3106 non-null   object \n",
      " 9   zip                   3106 non-null   int64  \n",
      " 10  subdivision_lot       3105 non-null   object \n",
      " 11  contact               3105 non-null   object \n",
      " 12  permit_type           3106 non-null   object \n",
      " 13  permit_subtype        3106 non-null   object \n",
      " 14  ivr_tracking_number   3106 non-null   int64  \n",
      " 15  purpose               3084 non-null   object \n",
      " 16  council_district      3099 non-null   float64\n",
      " 17  mapped_location       3106 non-null   object \n",
      "dtypes: float64(2), int64(2), object(14)\n",
      "memory usage: 436.9+ KB\n"
     ]
    }
   ],
   "source": [
    "# Further info about datatypes\n",
    "\n",
    "df_bldg_apps.info()  "
   ]
  },
  {
   "cell_type": "code",
   "execution_count": 19,
   "metadata": {},
   "outputs": [
    {
     "data": {
      "text/plain": [
       "permit_number              0\n",
       "permit_type_descr          0\n",
       "permit_subtype_descr       0\n",
       "parcel                     0\n",
       "date_entered               0\n",
       "construction_cost       1455\n",
       "address                    0\n",
       "city                       0\n",
       "state                      0\n",
       "zip                        0\n",
       "subdivision_lot            1\n",
       "contact                    1\n",
       "permit_type                0\n",
       "permit_subtype             0\n",
       "ivr_tracking_number        0\n",
       "purpose                   22\n",
       "council_district           7\n",
       "mapped_location            0\n",
       "dtype: int64"
      ]
     },
     "execution_count": 19,
     "metadata": {},
     "output_type": "execute_result"
    }
   ],
   "source": [
    "# All values in date_issued are null. Will remove this from df\n",
    "\n",
    "df_bldg_apps.isnull().sum()"
   ]
  },
  {
   "cell_type": "code",
   "execution_count": 20,
   "metadata": {},
   "outputs": [
    {
     "data": {
      "text/plain": [
       "0   2020-03-11\n",
       "1   2019-12-02\n",
       "2   2018-11-29\n",
       "3   2019-08-07\n",
       "4   2020-06-04\n",
       "Name: date_entered, dtype: datetime64[ns]"
      ]
     },
     "execution_count": 20,
     "metadata": {},
     "output_type": "execute_result"
    }
   ],
   "source": [
    "# Convert date_entered to datetime \n",
    "\n",
    "df_bldg_apps.date_entered = pd.to_datetime(df_bldg_apps.date_entered)\n",
    "df_bldg_apps.date_entered.head()"
   ]
  },
  {
   "cell_type": "code",
   "execution_count": 21,
   "metadata": {},
   "outputs": [
    {
     "data": {
      "text/html": [
       "<div>\n",
       "<style scoped>\n",
       "    .dataframe tbody tr th:only-of-type {\n",
       "        vertical-align: middle;\n",
       "    }\n",
       "\n",
       "    .dataframe tbody tr th {\n",
       "        vertical-align: top;\n",
       "    }\n",
       "\n",
       "    .dataframe thead th {\n",
       "        text-align: right;\n",
       "    }\n",
       "</style>\n",
       "<table border=\"1\" class=\"dataframe\">\n",
       "  <thead>\n",
       "    <tr style=\"text-align: right;\">\n",
       "      <th></th>\n",
       "      <th>permit_number</th>\n",
       "      <th>permit_type_descr</th>\n",
       "      <th>permit_subtype_descr</th>\n",
       "      <th>parcel</th>\n",
       "      <th>date_entered</th>\n",
       "      <th>date_issued</th>\n",
       "      <th>construction_cost</th>\n",
       "      <th>address</th>\n",
       "      <th>city</th>\n",
       "      <th>state</th>\n",
       "      <th>zip</th>\n",
       "      <th>subdivision_lot</th>\n",
       "      <th>contact</th>\n",
       "      <th>permit_type</th>\n",
       "      <th>permit_subtype</th>\n",
       "      <th>ivr_tracking_number</th>\n",
       "      <th>purpose</th>\n",
       "      <th>council_district</th>\n",
       "      <th>census_tract</th>\n",
       "      <th>mapped_location</th>\n",
       "    </tr>\n",
       "  </thead>\n",
       "  <tbody>\n",
       "    <tr>\n",
       "      <th>0</th>\n",
       "      <td>2019070460</td>\n",
       "      <td>Building Residential - New</td>\n",
       "      <td>Single Family Residence</td>\n",
       "      <td>058100C04900CO</td>\n",
       "      <td>11/18/2019</td>\n",
       "      <td>12/09/2019</td>\n",
       "      <td>270585.0</td>\n",
       "      <td>1037  LAWSONS RIDGE DR</td>\n",
       "      <td>NASHVILLE</td>\n",
       "      <td>TN</td>\n",
       "      <td>37218</td>\n",
       "      <td>LOT 49 CARRINGTON PLACE PH 5</td>\n",
       "      <td>CELEBRATION HOMES LLC</td>\n",
       "      <td>CARN</td>\n",
       "      <td>CAA01R301</td>\n",
       "      <td>3733056</td>\n",
       "      <td>To construct a single family residence of 2402...</td>\n",
       "      <td>1.0</td>\n",
       "      <td>37010105.0</td>\n",
       "      <td>1037 LAWSONS RIDGE DR\\nNASHVILLE, TN 37218</td>\n",
       "    </tr>\n",
       "    <tr>\n",
       "      <th>1</th>\n",
       "      <td>2020016259</td>\n",
       "      <td>Building Residential - Rehab</td>\n",
       "      <td>Single Family Residence</td>\n",
       "      <td>160150A07000CO</td>\n",
       "      <td>03/12/2020</td>\n",
       "      <td>03/12/2020</td>\n",
       "      <td>12000.0</td>\n",
       "      <td>210  HEARTHSTONE MANOR LN</td>\n",
       "      <td>BRENTWOOD</td>\n",
       "      <td>TN</td>\n",
       "      <td>37027</td>\n",
       "      <td>UNIT 70 HEARTHSTONE MANOR CONDOMINIUM PHASE 4</td>\n",
       "      <td>ACCESS &amp; MOBILITY INC</td>\n",
       "      <td>CARR</td>\n",
       "      <td>CAA01R301</td>\n",
       "      <td>3781961</td>\n",
       "      <td>to install a new elevator/platform lift from g...</td>\n",
       "      <td>4.0</td>\n",
       "      <td>37018803.0</td>\n",
       "      <td>210 HEARTHSTONE MANOR LN\\nBRENTWOOD, TN 37027\\...</td>\n",
       "    </tr>\n",
       "  </tbody>\n",
       "</table>\n",
       "</div>"
      ],
      "text/plain": [
       "  permit_number             permit_type_descr     permit_subtype_descr  \\\n",
       "0    2019070460    Building Residential - New  Single Family Residence   \n",
       "1    2020016259  Building Residential - Rehab  Single Family Residence   \n",
       "\n",
       "           parcel date_entered date_issued  construction_cost  \\\n",
       "0  058100C04900CO   11/18/2019  12/09/2019           270585.0   \n",
       "1  160150A07000CO   03/12/2020  03/12/2020            12000.0   \n",
       "\n",
       "                     address       city state    zip  \\\n",
       "0     1037  LAWSONS RIDGE DR  NASHVILLE    TN  37218   \n",
       "1  210  HEARTHSTONE MANOR LN  BRENTWOOD    TN  37027   \n",
       "\n",
       "                                 subdivision_lot                contact  \\\n",
       "0                   LOT 49 CARRINGTON PLACE PH 5  CELEBRATION HOMES LLC   \n",
       "1  UNIT 70 HEARTHSTONE MANOR CONDOMINIUM PHASE 4  ACCESS & MOBILITY INC   \n",
       "\n",
       "  permit_type permit_subtype  ivr_tracking_number  \\\n",
       "0        CARN      CAA01R301              3733056   \n",
       "1        CARR      CAA01R301              3781961   \n",
       "\n",
       "                                             purpose  council_district  \\\n",
       "0  To construct a single family residence of 2402...               1.0   \n",
       "1  to install a new elevator/platform lift from g...               4.0   \n",
       "\n",
       "   census_tract                                    mapped_location  \n",
       "0    37010105.0         1037 LAWSONS RIDGE DR\\nNASHVILLE, TN 37218  \n",
       "1    37018803.0  210 HEARTHSTONE MANOR LN\\nBRENTWOOD, TN 37027\\...  "
      ]
     },
     "execution_count": 21,
     "metadata": {},
     "output_type": "execute_result"
    }
   ],
   "source": [
    "df_bldg_issued.head(2)"
   ]
  },
  {
   "cell_type": "code",
   "execution_count": 22,
   "metadata": {
    "scrolled": false
   },
   "outputs": [
    {
     "data": {
      "text/plain": [
       "permit_number            object\n",
       "permit_type_descr        object\n",
       "permit_subtype_descr     object\n",
       "parcel                   object\n",
       "date_entered             object\n",
       "date_issued              object\n",
       "construction_cost       float64\n",
       "address                  object\n",
       "city                     object\n",
       "state                    object\n",
       "zip                       int64\n",
       "subdivision_lot          object\n",
       "contact                  object\n",
       "permit_type              object\n",
       "permit_subtype           object\n",
       "ivr_tracking_number       int64\n",
       "purpose                  object\n",
       "council_district        float64\n",
       "census_tract            float64\n",
       "mapped_location          object\n",
       "dtype: object"
      ]
     },
     "execution_count": 22,
     "metadata": {},
     "output_type": "execute_result"
    }
   ],
   "source": [
    "# Confirming that all dtypes are as expected\n",
    "\n",
    "df_bldg_issued.dtypes   "
   ]
  },
  {
   "cell_type": "code",
   "execution_count": 23,
   "metadata": {},
   "outputs": [
    {
     "name": "stdout",
     "output_type": "stream",
     "text": [
      "<class 'pandas.core.frame.DataFrame'>\n",
      "RangeIndex: 33909 entries, 0 to 33908\n",
      "Data columns (total 20 columns):\n",
      " #   Column                Non-Null Count  Dtype  \n",
      "---  ------                --------------  -----  \n",
      " 0   permit_number         33909 non-null  object \n",
      " 1   permit_type_descr     33909 non-null  object \n",
      " 2   permit_subtype_descr  33909 non-null  object \n",
      " 3   parcel                33909 non-null  object \n",
      " 4   date_entered          33909 non-null  object \n",
      " 5   date_issued           33909 non-null  object \n",
      " 6   construction_cost     33899 non-null  float64\n",
      " 7   address               33909 non-null  object \n",
      " 8   city                  33909 non-null  object \n",
      " 9   state                 33909 non-null  object \n",
      " 10  zip                   33909 non-null  int64  \n",
      " 11  subdivision_lot       33909 non-null  object \n",
      " 12  contact               33908 non-null  object \n",
      " 13  permit_type           33909 non-null  object \n",
      " 14  permit_subtype        33909 non-null  object \n",
      " 15  ivr_tracking_number   33909 non-null  int64  \n",
      " 16  purpose               33442 non-null  object \n",
      " 17  council_district      33863 non-null  float64\n",
      " 18  census_tract          33866 non-null  float64\n",
      " 19  mapped_location       33909 non-null  object \n",
      "dtypes: float64(3), int64(2), object(15)\n",
      "memory usage: 5.2+ MB\n"
     ]
    }
   ],
   "source": [
    "# Further info about datatypes\n",
    "\n",
    "df_bldg_issued.info()  "
   ]
  },
  {
   "cell_type": "code",
   "execution_count": 24,
   "metadata": {},
   "outputs": [
    {
     "data": {
      "text/plain": [
       "0   2019-11-18\n",
       "1   2020-03-12\n",
       "2   2019-02-25\n",
       "3   2019-07-15\n",
       "4   2019-07-22\n",
       "Name: date_entered, dtype: datetime64[ns]"
      ]
     },
     "execution_count": 24,
     "metadata": {},
     "output_type": "execute_result"
    }
   ],
   "source": [
    "# Convert date_entered to datetime \n",
    "\n",
    "df_bldg_issued.date_entered = pd.to_datetime(df_bldg_issued.date_entered)\n",
    "df_bldg_issued.date_entered.head()"
   ]
  },
  {
   "cell_type": "code",
   "execution_count": 25,
   "metadata": {},
   "outputs": [
    {
     "data": {
      "text/plain": [
       "0   2019-12-09\n",
       "1   2020-03-12\n",
       "2   2019-07-22\n",
       "3   2019-07-22\n",
       "4   2019-07-22\n",
       "Name: date_issued, dtype: datetime64[ns]"
      ]
     },
     "execution_count": 25,
     "metadata": {},
     "output_type": "execute_result"
    }
   ],
   "source": [
    "# Convert date_entered to datetime \n",
    "\n",
    "df_bldg_issued.date_issued = pd.to_datetime(df_bldg_issued.date_issued)\n",
    "df_bldg_issued.date_issued.head()"
   ]
  },
  {
   "cell_type": "markdown",
   "metadata": {},
   "source": [
    "## Fix mapped_location, pull out lat/lon in Bldg Permit Apps & Issued"
   ]
  },
  {
   "cell_type": "code",
   "execution_count": 26,
   "metadata": {},
   "outputs": [
    {
     "data": {
      "text/plain": [
       "array(['748 DARDEN PL\\nNASHVILLE, TN 37205\\n(36.125944, -86.879062)',\n",
       "       '4836 BULL RUN RD\\nASHLAND CITY, TN 37015\\n(36.242681, -86.929594)',\n",
       "       '4119 MURFREESBORO PIKE\\nANTIOCH, TN 37013\\n(36.032211, -86.594799)',\n",
       "       ...,\n",
       "       '6680 CHARLOTTE PIKE B-5\\nNASHVILLE, TN 37209\\n(36.136609, -86.883701)',\n",
       "       '3805 CHARLOTTE AVE\\nNASHVILLE, TN 37209\\n(36.152561, -86.831473)',\n",
       "       '5610A GRANNY WHITE PIKE\\nBRENTWOOD, TN 37027\\n(36.046438, -86.815953)'],\n",
       "      dtype=object)"
      ]
     },
     "execution_count": 26,
     "metadata": {},
     "output_type": "execute_result"
    }
   ],
   "source": [
    "# Building Permit Applications\n",
    "\n",
    "df_bldg_apps.mapped_location.unique()"
   ]
  },
  {
   "cell_type": "code",
   "execution_count": 27,
   "metadata": {},
   "outputs": [],
   "source": [
    "# To pull out lat/lng from:\n",
    "# '748 DARDEN PL\\nNASHVILLE, TN 37205\\n(36.125944, -86.879062)'\n",
    "# Regular Expression - pattern matching: Created on website https://regex101.com/\n",
    "# RegEx link:  https://regex101.com/r/cAI6sh/1\n",
    "\n",
    "# FULL PATTERN to get TWO groups to output:\n",
    "# .*\\((\\d*\\S\\d*)\\S\\s(\\S\\d*\\S\\d*)\\)\n",
    "\n",
    "#  How do I tell it which df and column to look at to test? Do I need to test?\n",
    "# Best to find both at once, or one at a tie?\n",
    "# How save results to new lat/long columns?\n",
    "\n",
    "pattern = re.compile(r'.*\\((\\d*\\S\\d*)\\S\\s(\\S\\d*\\S\\d*)\\)', flags = re.MULTILINE)\n",
    "\n",
    "def extract_lat_lon(map_loc):\n",
    "    try:\n",
    "        lat_lon_match = pattern.search(map_loc)\n",
    "        lat = float(lat_lon_match.group(1))\n",
    "        lon = float(lat_lon_match.group(2))\n",
    "        return(lat, lon)\n",
    "    except:\n",
    "        return(np.NaN, np.NaN)"
   ]
  },
  {
   "cell_type": "code",
   "execution_count": 28,
   "metadata": {},
   "outputs": [],
   "source": [
    "lat_lon = [extract_lat_lon(map_loc) for map_loc in df_bldg_apps.mapped_location]  #list comprehension"
   ]
  },
  {
   "cell_type": "code",
   "execution_count": 29,
   "metadata": {},
   "outputs": [],
   "source": [
    "df_bldg_apps['lat'] = [lat for lat, lon in lat_lon]"
   ]
  },
  {
   "cell_type": "code",
   "execution_count": 30,
   "metadata": {},
   "outputs": [],
   "source": [
    "df_bldg_apps['lon'] = [lon for lat, lon in lat_lon]"
   ]
  },
  {
   "cell_type": "code",
   "execution_count": 31,
   "metadata": {},
   "outputs": [
    {
     "data": {
      "text/html": [
       "<div>\n",
       "<style scoped>\n",
       "    .dataframe tbody tr th:only-of-type {\n",
       "        vertical-align: middle;\n",
       "    }\n",
       "\n",
       "    .dataframe tbody tr th {\n",
       "        vertical-align: top;\n",
       "    }\n",
       "\n",
       "    .dataframe thead th {\n",
       "        text-align: right;\n",
       "    }\n",
       "</style>\n",
       "<table border=\"1\" class=\"dataframe\">\n",
       "  <thead>\n",
       "    <tr style=\"text-align: right;\">\n",
       "      <th></th>\n",
       "      <th>permit_number</th>\n",
       "      <th>permit_type_descr</th>\n",
       "      <th>permit_subtype_descr</th>\n",
       "      <th>parcel</th>\n",
       "      <th>date_entered</th>\n",
       "      <th>construction_cost</th>\n",
       "      <th>address</th>\n",
       "      <th>city</th>\n",
       "      <th>state</th>\n",
       "      <th>zip</th>\n",
       "      <th>subdivision_lot</th>\n",
       "      <th>contact</th>\n",
       "      <th>permit_type</th>\n",
       "      <th>permit_subtype</th>\n",
       "      <th>ivr_tracking_number</th>\n",
       "      <th>purpose</th>\n",
       "      <th>council_district</th>\n",
       "      <th>mapped_location</th>\n",
       "      <th>lat</th>\n",
       "      <th>lon</th>\n",
       "    </tr>\n",
       "  </thead>\n",
       "  <tbody>\n",
       "    <tr>\n",
       "      <th>0</th>\n",
       "      <td>T2020016213</td>\n",
       "      <td>Building Residential - New</td>\n",
       "      <td>Single Family Residence</td>\n",
       "      <td>10216006100</td>\n",
       "      <td>2020-03-11</td>\n",
       "      <td>NaN</td>\n",
       "      <td>748  DARDEN PL</td>\n",
       "      <td>NASHVILLE</td>\n",
       "      <td>TN</td>\n",
       "      <td>37205</td>\n",
       "      <td>LOT 168 SEC 9 PT 2 HILLWOOD EST</td>\n",
       "      <td>Kingdom Builders of Tennesse</td>\n",
       "      <td>CARN</td>\n",
       "      <td>CAA01R301</td>\n",
       "      <td>3781725</td>\n",
       "      <td>New Single family dwelling.  REJECTED: APPLICA...</td>\n",
       "      <td>23.0</td>\n",
       "      <td>748 DARDEN PL\\nNASHVILLE, TN 37205\\n(36.125944...</td>\n",
       "      <td>36.125944</td>\n",
       "      <td>-86.879062</td>\n",
       "    </tr>\n",
       "    <tr>\n",
       "      <th>1</th>\n",
       "      <td>T2019073204</td>\n",
       "      <td>Building Moving Permit</td>\n",
       "      <td>Moving Permit - Residential</td>\n",
       "      <td>04600002700</td>\n",
       "      <td>2019-12-02</td>\n",
       "      <td>2500.0</td>\n",
       "      <td>4836  BULL RUN RD</td>\n",
       "      <td>ASHLAND CITY</td>\n",
       "      <td>TN</td>\n",
       "      <td>37015</td>\n",
       "      <td>N OF BULL RUN RD W OF OLD HICKORY BLVD</td>\n",
       "      <td>CLAYTON HOMES #054</td>\n",
       "      <td>CAMV</td>\n",
       "      <td>CAZ09A001</td>\n",
       "      <td>3736813</td>\n",
       "      <td>Move existing mobile home from property out of...</td>\n",
       "      <td>1.0</td>\n",
       "      <td>4836 BULL RUN RD\\nASHLAND CITY, TN 37015\\n(36....</td>\n",
       "      <td>36.242681</td>\n",
       "      <td>-86.929594</td>\n",
       "    </tr>\n",
       "  </tbody>\n",
       "</table>\n",
       "</div>"
      ],
      "text/plain": [
       "  permit_number           permit_type_descr         permit_subtype_descr  \\\n",
       "0   T2020016213  Building Residential - New      Single Family Residence   \n",
       "1   T2019073204      Building Moving Permit  Moving Permit - Residential   \n",
       "\n",
       "        parcel date_entered  construction_cost            address  \\\n",
       "0  10216006100   2020-03-11                NaN     748  DARDEN PL   \n",
       "1  04600002700   2019-12-02             2500.0  4836  BULL RUN RD   \n",
       "\n",
       "           city state    zip                         subdivision_lot  \\\n",
       "0     NASHVILLE    TN  37205         LOT 168 SEC 9 PT 2 HILLWOOD EST   \n",
       "1  ASHLAND CITY    TN  37015  N OF BULL RUN RD W OF OLD HICKORY BLVD   \n",
       "\n",
       "                        contact permit_type permit_subtype  \\\n",
       "0  Kingdom Builders of Tennesse        CARN      CAA01R301   \n",
       "1            CLAYTON HOMES #054        CAMV      CAZ09A001   \n",
       "\n",
       "   ivr_tracking_number                                            purpose  \\\n",
       "0              3781725  New Single family dwelling.  REJECTED: APPLICA...   \n",
       "1              3736813  Move existing mobile home from property out of...   \n",
       "\n",
       "   council_district                                    mapped_location  \\\n",
       "0              23.0  748 DARDEN PL\\nNASHVILLE, TN 37205\\n(36.125944...   \n",
       "1               1.0  4836 BULL RUN RD\\nASHLAND CITY, TN 37015\\n(36....   \n",
       "\n",
       "         lat        lon  \n",
       "0  36.125944 -86.879062  \n",
       "1  36.242681 -86.929594  "
      ]
     },
     "execution_count": 31,
     "metadata": {},
     "output_type": "execute_result"
    }
   ],
   "source": [
    "df_bldg_apps.head(2)"
   ]
  },
  {
   "cell_type": "code",
   "execution_count": 32,
   "metadata": {},
   "outputs": [
    {
     "name": "stdout",
     "output_type": "stream",
     "text": [
      "(3106, 20)\n",
      "permit_number              0\n",
      "permit_type_descr          0\n",
      "permit_subtype_descr       0\n",
      "parcel                     0\n",
      "date_entered               0\n",
      "construction_cost       1455\n",
      "address                    0\n",
      "city                       0\n",
      "state                      0\n",
      "zip                        0\n",
      "subdivision_lot            1\n",
      "contact                    1\n",
      "permit_type                0\n",
      "permit_subtype             0\n",
      "ivr_tracking_number        0\n",
      "purpose                   22\n",
      "council_district           7\n",
      "mapped_location            0\n",
      "lat                      297\n",
      "lon                      297\n",
      "dtype: int64\n"
     ]
    }
   ],
   "source": [
    "# Find out how many of the mapped locations had only the address, not the lat/lon\n",
    "# Nulls in lat/lon 297 out of 3,106 = 9.5%\n",
    "# To many to leave 'as is' Will try to add lat/lon fromUS Census geocoding (free) service:\n",
    "# https://geocoding.geo.census.gov/geocoder/geographies/addressbatch?form\n",
    "\n",
    "print(df_bldg_apps.shape)\n",
    "print(df_bldg_apps.isnull().sum())"
   ]
  },
  {
   "cell_type": "code",
   "execution_count": 33,
   "metadata": {},
   "outputs": [
    {
     "name": "stdout",
     "output_type": "stream",
     "text": [
      "<class 'pandas.core.frame.DataFrame'>\n",
      "RangeIndex: 33909 entries, 0 to 33908\n",
      "Data columns (total 20 columns):\n",
      " #   Column                Non-Null Count  Dtype         \n",
      "---  ------                --------------  -----         \n",
      " 0   permit_number         33909 non-null  object        \n",
      " 1   permit_type_descr     33909 non-null  object        \n",
      " 2   permit_subtype_descr  33909 non-null  object        \n",
      " 3   parcel                33909 non-null  object        \n",
      " 4   date_entered          33909 non-null  datetime64[ns]\n",
      " 5   date_issued           33909 non-null  datetime64[ns]\n",
      " 6   construction_cost     33899 non-null  float64       \n",
      " 7   address               33909 non-null  object        \n",
      " 8   city                  33909 non-null  object        \n",
      " 9   state                 33909 non-null  object        \n",
      " 10  zip                   33909 non-null  int64         \n",
      " 11  subdivision_lot       33909 non-null  object        \n",
      " 12  contact               33908 non-null  object        \n",
      " 13  permit_type           33909 non-null  object        \n",
      " 14  permit_subtype        33909 non-null  object        \n",
      " 15  ivr_tracking_number   33909 non-null  int64         \n",
      " 16  purpose               33442 non-null  object        \n",
      " 17  council_district      33863 non-null  float64       \n",
      " 18  census_tract          33866 non-null  float64       \n",
      " 19  mapped_location       33909 non-null  object        \n",
      "dtypes: datetime64[ns](2), float64(3), int64(2), object(13)\n",
      "memory usage: 5.2+ MB\n"
     ]
    }
   ],
   "source": [
    "# Building Permits Issued\n",
    "\n",
    "df_bldg_issued.info()"
   ]
  },
  {
   "cell_type": "code",
   "execution_count": 34,
   "metadata": {},
   "outputs": [
    {
     "data": {
      "text/plain": [
       "array(['1037 LAWSONS RIDGE DR\\nNASHVILLE, TN 37218',\n",
       "       '210 HEARTHSTONE MANOR LN\\nBRENTWOOD, TN 37027\\n(36.042219, -86.764816)',\n",
       "       '812 BRIAR CIR\\nMADISON, TN 37115', ...,\n",
       "       '131 EDENWOLD RD\\nMADISON, TN 37115\\n(36.287001, -86.703591)',\n",
       "       '110 2ND AVE N\\nNASHVILLE, TN 37201\\n(36.162296, -86.77544)',\n",
       "       '1382 RURAL HILL RD 320\\nANTIOCH, TN 37013\\n(36.056805, -86.649469)'],\n",
       "      dtype=object)"
      ]
     },
     "execution_count": 34,
     "metadata": {},
     "output_type": "execute_result"
    }
   ],
   "source": [
    "# Review mapped_location in bldg_issued df before applying regex/function\n",
    "\n",
    "df_bldg_issued.mapped_location.unique()"
   ]
  },
  {
   "cell_type": "code",
   "execution_count": 35,
   "metadata": {},
   "outputs": [],
   "source": [
    "# Applying function written for building applications to this building permits issued df\n",
    "\n",
    "lat_lon = [extract_lat_lon(map_loc) for map_loc in df_bldg_issued.mapped_location]  "
   ]
  },
  {
   "cell_type": "code",
   "execution_count": 36,
   "metadata": {},
   "outputs": [],
   "source": [
    "df_bldg_issued['lat'] = [lat for lat, lon in lat_lon]"
   ]
  },
  {
   "cell_type": "code",
   "execution_count": 37,
   "metadata": {},
   "outputs": [],
   "source": [
    "df_bldg_issued['lon'] = [lon for lat, lon in lat_lon]"
   ]
  },
  {
   "cell_type": "code",
   "execution_count": 38,
   "metadata": {},
   "outputs": [
    {
     "data": {
      "text/html": [
       "<div>\n",
       "<style scoped>\n",
       "    .dataframe tbody tr th:only-of-type {\n",
       "        vertical-align: middle;\n",
       "    }\n",
       "\n",
       "    .dataframe tbody tr th {\n",
       "        vertical-align: top;\n",
       "    }\n",
       "\n",
       "    .dataframe thead th {\n",
       "        text-align: right;\n",
       "    }\n",
       "</style>\n",
       "<table border=\"1\" class=\"dataframe\">\n",
       "  <thead>\n",
       "    <tr style=\"text-align: right;\">\n",
       "      <th></th>\n",
       "      <th>permit_number</th>\n",
       "      <th>permit_type_descr</th>\n",
       "      <th>permit_subtype_descr</th>\n",
       "      <th>parcel</th>\n",
       "      <th>date_entered</th>\n",
       "      <th>date_issued</th>\n",
       "      <th>construction_cost</th>\n",
       "      <th>address</th>\n",
       "      <th>city</th>\n",
       "      <th>state</th>\n",
       "      <th>...</th>\n",
       "      <th>contact</th>\n",
       "      <th>permit_type</th>\n",
       "      <th>permit_subtype</th>\n",
       "      <th>ivr_tracking_number</th>\n",
       "      <th>purpose</th>\n",
       "      <th>council_district</th>\n",
       "      <th>census_tract</th>\n",
       "      <th>mapped_location</th>\n",
       "      <th>lat</th>\n",
       "      <th>lon</th>\n",
       "    </tr>\n",
       "  </thead>\n",
       "  <tbody>\n",
       "    <tr>\n",
       "      <th>0</th>\n",
       "      <td>2019070460</td>\n",
       "      <td>Building Residential - New</td>\n",
       "      <td>Single Family Residence</td>\n",
       "      <td>058100C04900CO</td>\n",
       "      <td>2019-11-18</td>\n",
       "      <td>2019-12-09</td>\n",
       "      <td>270585.0</td>\n",
       "      <td>1037  LAWSONS RIDGE DR</td>\n",
       "      <td>NASHVILLE</td>\n",
       "      <td>TN</td>\n",
       "      <td>...</td>\n",
       "      <td>CELEBRATION HOMES LLC</td>\n",
       "      <td>CARN</td>\n",
       "      <td>CAA01R301</td>\n",
       "      <td>3733056</td>\n",
       "      <td>To construct a single family residence of 2402...</td>\n",
       "      <td>1.0</td>\n",
       "      <td>37010105.0</td>\n",
       "      <td>1037 LAWSONS RIDGE DR\\nNASHVILLE, TN 37218</td>\n",
       "      <td>NaN</td>\n",
       "      <td>NaN</td>\n",
       "    </tr>\n",
       "    <tr>\n",
       "      <th>1</th>\n",
       "      <td>2020016259</td>\n",
       "      <td>Building Residential - Rehab</td>\n",
       "      <td>Single Family Residence</td>\n",
       "      <td>160150A07000CO</td>\n",
       "      <td>2020-03-12</td>\n",
       "      <td>2020-03-12</td>\n",
       "      <td>12000.0</td>\n",
       "      <td>210  HEARTHSTONE MANOR LN</td>\n",
       "      <td>BRENTWOOD</td>\n",
       "      <td>TN</td>\n",
       "      <td>...</td>\n",
       "      <td>ACCESS &amp; MOBILITY INC</td>\n",
       "      <td>CARR</td>\n",
       "      <td>CAA01R301</td>\n",
       "      <td>3781961</td>\n",
       "      <td>to install a new elevator/platform lift from g...</td>\n",
       "      <td>4.0</td>\n",
       "      <td>37018803.0</td>\n",
       "      <td>210 HEARTHSTONE MANOR LN\\nBRENTWOOD, TN 37027\\...</td>\n",
       "      <td>36.042219</td>\n",
       "      <td>-86.764816</td>\n",
       "    </tr>\n",
       "  </tbody>\n",
       "</table>\n",
       "<p>2 rows × 22 columns</p>\n",
       "</div>"
      ],
      "text/plain": [
       "  permit_number             permit_type_descr     permit_subtype_descr  \\\n",
       "0    2019070460    Building Residential - New  Single Family Residence   \n",
       "1    2020016259  Building Residential - Rehab  Single Family Residence   \n",
       "\n",
       "           parcel date_entered date_issued  construction_cost  \\\n",
       "0  058100C04900CO   2019-11-18  2019-12-09           270585.0   \n",
       "1  160150A07000CO   2020-03-12  2020-03-12            12000.0   \n",
       "\n",
       "                     address       city state  ...                contact  \\\n",
       "0     1037  LAWSONS RIDGE DR  NASHVILLE    TN  ...  CELEBRATION HOMES LLC   \n",
       "1  210  HEARTHSTONE MANOR LN  BRENTWOOD    TN  ...  ACCESS & MOBILITY INC   \n",
       "\n",
       "  permit_type permit_subtype ivr_tracking_number  \\\n",
       "0        CARN      CAA01R301             3733056   \n",
       "1        CARR      CAA01R301             3781961   \n",
       "\n",
       "                                             purpose  council_district  \\\n",
       "0  To construct a single family residence of 2402...               1.0   \n",
       "1  to install a new elevator/platform lift from g...               4.0   \n",
       "\n",
       "  census_tract                                    mapped_location        lat  \\\n",
       "0   37010105.0         1037 LAWSONS RIDGE DR\\nNASHVILLE, TN 37218        NaN   \n",
       "1   37018803.0  210 HEARTHSTONE MANOR LN\\nBRENTWOOD, TN 37027\\...  36.042219   \n",
       "\n",
       "         lon  \n",
       "0        NaN  \n",
       "1 -86.764816  \n",
       "\n",
       "[2 rows x 22 columns]"
      ]
     },
     "execution_count": 38,
     "metadata": {},
     "output_type": "execute_result"
    }
   ],
   "source": [
    "df_bldg_issued.head(2)"
   ]
  },
  {
   "cell_type": "markdown",
   "metadata": {},
   "source": [
    "## Looked at addresses that have no lat/lon from Bldg Permit Application & Issued dfs\n",
    "- Discovered there was a meaningful amount of relevant addresses that are missing lat/lon\n",
    "- Will submit these to census tool to get lat/lon\n",
    "- Chose to do this extra step because a meaninful number of addresses were missing lat/lon:\n",
    "    - Bldg Permit Applications missing 297 out of 3,106 = 9.5% and 249 are new residential\n",
    "    - Bldg Permits Issued missing 3,928 out of 33,909 = 11.5%"
   ]
  },
  {
   "cell_type": "code",
   "execution_count": 39,
   "metadata": {},
   "outputs": [
    {
     "name": "stdout",
     "output_type": "stream",
     "text": [
      "(3106, 20)\n",
      "permit_number              0\n",
      "permit_type_descr          0\n",
      "permit_subtype_descr       0\n",
      "parcel                     0\n",
      "date_entered               0\n",
      "construction_cost       1455\n",
      "address                    0\n",
      "city                       0\n",
      "state                      0\n",
      "zip                        0\n",
      "subdivision_lot            1\n",
      "contact                    1\n",
      "permit_type                0\n",
      "permit_subtype             0\n",
      "ivr_tracking_number        0\n",
      "purpose                   22\n",
      "council_district           7\n",
      "mapped_location            0\n",
      "lat                      297\n",
      "lon                      297\n",
      "dtype: int64\n"
     ]
    }
   ],
   "source": [
    "# Find out how many of the mapped locations had only the address, not the lat/lon: Bldg Permit Applications\n",
    "\n",
    "print(df_bldg_apps.shape)\n",
    "print(df_bldg_apps.isnull().sum())"
   ]
  },
  {
   "cell_type": "code",
   "execution_count": 40,
   "metadata": {},
   "outputs": [
    {
     "name": "stdout",
     "output_type": "stream",
     "text": [
      "(33909, 22)\n",
      "permit_number              0\n",
      "permit_type_descr          0\n",
      "permit_subtype_descr       0\n",
      "parcel                     0\n",
      "date_entered               0\n",
      "date_issued                0\n",
      "construction_cost         10\n",
      "address                    0\n",
      "city                       0\n",
      "state                      0\n",
      "zip                        0\n",
      "subdivision_lot            0\n",
      "contact                    1\n",
      "permit_type                0\n",
      "permit_subtype             0\n",
      "ivr_tracking_number        0\n",
      "purpose                  467\n",
      "council_district          46\n",
      "census_tract              43\n",
      "mapped_location            0\n",
      "lat                     3928\n",
      "lon                     3928\n",
      "dtype: int64\n"
     ]
    }
   ],
   "source": [
    "# Find out how many of the mapped locations had only the address, not the lat/lon: Bldg Permits Issued\n",
    "\n",
    "print(df_bldg_issued.shape)\n",
    "print(df_bldg_issued.isnull().sum())"
   ]
  },
  {
   "cell_type": "code",
   "execution_count": 41,
   "metadata": {},
   "outputs": [
    {
     "data": {
      "text/html": [
       "<div>\n",
       "<style scoped>\n",
       "    .dataframe tbody tr th:only-of-type {\n",
       "        vertical-align: middle;\n",
       "    }\n",
       "\n",
       "    .dataframe tbody tr th {\n",
       "        vertical-align: top;\n",
       "    }\n",
       "\n",
       "    .dataframe thead th {\n",
       "        text-align: right;\n",
       "    }\n",
       "</style>\n",
       "<table border=\"1\" class=\"dataframe\">\n",
       "  <thead>\n",
       "    <tr style=\"text-align: right;\">\n",
       "      <th></th>\n",
       "      <th>permit_number</th>\n",
       "      <th>permit_type_descr</th>\n",
       "      <th>permit_subtype_descr</th>\n",
       "      <th>parcel</th>\n",
       "      <th>date_entered</th>\n",
       "      <th>construction_cost</th>\n",
       "      <th>address</th>\n",
       "      <th>city</th>\n",
       "      <th>state</th>\n",
       "      <th>zip</th>\n",
       "      <th>subdivision_lot</th>\n",
       "      <th>contact</th>\n",
       "      <th>permit_type</th>\n",
       "      <th>permit_subtype</th>\n",
       "      <th>ivr_tracking_number</th>\n",
       "      <th>purpose</th>\n",
       "      <th>council_district</th>\n",
       "      <th>mapped_location</th>\n",
       "      <th>lat</th>\n",
       "      <th>lon</th>\n",
       "    </tr>\n",
       "  </thead>\n",
       "  <tbody>\n",
       "    <tr>\n",
       "      <th>0</th>\n",
       "      <td>T2020034764</td>\n",
       "      <td>Building Residential - New</td>\n",
       "      <td>Single Family Residence</td>\n",
       "      <td>165140A20100CO</td>\n",
       "      <td>2020-06-04</td>\n",
       "      <td>NaN</td>\n",
       "      <td>4929  CHUTNEY DR</td>\n",
       "      <td>ANTIOCH</td>\n",
       "      <td>TN</td>\n",
       "      <td>37013</td>\n",
       "      <td>LOT 201 DAVENPORT DOWNS PH 2</td>\n",
       "      <td>AMH DEVELOPMENT TENNESSEE GC LLC</td>\n",
       "      <td>CARN</td>\n",
       "      <td>CAA01R301</td>\n",
       "      <td>3830089</td>\n",
       "      <td>to construct a single family residence with 22...</td>\n",
       "      <td>33.0</td>\n",
       "      <td>4929 CHUTNEY DR\\nANTIOCH, TN 37013</td>\n",
       "      <td>NaN</td>\n",
       "      <td>NaN</td>\n",
       "    </tr>\n",
       "    <tr>\n",
       "      <th>1</th>\n",
       "      <td>T2020032881</td>\n",
       "      <td>Building Residential - New</td>\n",
       "      <td>Single Family Residence</td>\n",
       "      <td>173100D02400CO</td>\n",
       "      <td>2020-05-27</td>\n",
       "      <td>260000.0</td>\n",
       "      <td>329  BODDINGTON LN</td>\n",
       "      <td>ANTIOCH</td>\n",
       "      <td>TN</td>\n",
       "      <td>37013</td>\n",
       "      <td>LOT 24 DELVIN DOWNS PH 6</td>\n",
       "      <td>CAPITOL HOMES INC</td>\n",
       "      <td>CARN</td>\n",
       "      <td>CAA01R301</td>\n",
       "      <td>3824736</td>\n",
       "      <td>New two story residential home in a approved P...</td>\n",
       "      <td>31.0</td>\n",
       "      <td>329 BODDINGTON LN\\nANTIOCH, TN 37013</td>\n",
       "      <td>NaN</td>\n",
       "      <td>NaN</td>\n",
       "    </tr>\n",
       "    <tr>\n",
       "      <th>2</th>\n",
       "      <td>T2019035619</td>\n",
       "      <td>Building Residential - New</td>\n",
       "      <td>Single Family Residence</td>\n",
       "      <td>126140A04500CO</td>\n",
       "      <td>2019-06-18</td>\n",
       "      <td>250794.0</td>\n",
       "      <td>1536  DAVIDGE DR</td>\n",
       "      <td>NASHVILLE</td>\n",
       "      <td>TN</td>\n",
       "      <td>37221</td>\n",
       "      <td>LOT 45 TRAVIS TRACE SUB PH 3</td>\n",
       "      <td>JONES CO OF TENNESSEE LLC, THE</td>\n",
       "      <td>CARN</td>\n",
       "      <td>CAA01R301</td>\n",
       "      <td>3681462</td>\n",
       "      <td>HARPETH VALLEY WATER AND SEWER DISTRICT; SINGL...</td>\n",
       "      <td>35.0</td>\n",
       "      <td>1536 DAVIDGE DR\\nNASHVILLE, TN 37221</td>\n",
       "      <td>NaN</td>\n",
       "      <td>NaN</td>\n",
       "    </tr>\n",
       "    <tr>\n",
       "      <th>3</th>\n",
       "      <td>T2020034044</td>\n",
       "      <td>Building Residential - New</td>\n",
       "      <td>Single Family Residence</td>\n",
       "      <td>165140A06200CO</td>\n",
       "      <td>2020-06-02</td>\n",
       "      <td>NaN</td>\n",
       "      <td>4948  CHUTNEY DR</td>\n",
       "      <td>ANTIOCH</td>\n",
       "      <td>TN</td>\n",
       "      <td>37013</td>\n",
       "      <td>LOT 62 DAVENPORT DOWNS PH 2</td>\n",
       "      <td>AMH DEVELOPMENT TENNESSEE GC LLC</td>\n",
       "      <td>CARN</td>\n",
       "      <td>CAA01R301</td>\n",
       "      <td>3827970</td>\n",
       "      <td>to construct a single family residence with 19...</td>\n",
       "      <td>33.0</td>\n",
       "      <td>4948 CHUTNEY DR\\nANTIOCH, TN 37013</td>\n",
       "      <td>NaN</td>\n",
       "      <td>NaN</td>\n",
       "    </tr>\n",
       "    <tr>\n",
       "      <th>4</th>\n",
       "      <td>T2020034080</td>\n",
       "      <td>Building Residential - New</td>\n",
       "      <td>Single Family Residence</td>\n",
       "      <td>165140A18400CO</td>\n",
       "      <td>2020-06-02</td>\n",
       "      <td>NaN</td>\n",
       "      <td>5404  LAKE WATER CT</td>\n",
       "      <td>ANTIOCH</td>\n",
       "      <td>TN</td>\n",
       "      <td>37013</td>\n",
       "      <td>LOT 184 DAVENPORT DOWNS PH 2</td>\n",
       "      <td>AMH DEVELOPMENT TENNESSEE GC LLC</td>\n",
       "      <td>CARN</td>\n",
       "      <td>CAA01R301</td>\n",
       "      <td>3828052</td>\n",
       "      <td>to construct a single family residence with 22...</td>\n",
       "      <td>33.0</td>\n",
       "      <td>5404 LAKE WATER CT\\nANTIOCH, TN 37013</td>\n",
       "      <td>NaN</td>\n",
       "      <td>NaN</td>\n",
       "    </tr>\n",
       "  </tbody>\n",
       "</table>\n",
       "</div>"
      ],
      "text/plain": [
       "  permit_number           permit_type_descr     permit_subtype_descr  \\\n",
       "0   T2020034764  Building Residential - New  Single Family Residence   \n",
       "1   T2020032881  Building Residential - New  Single Family Residence   \n",
       "2   T2019035619  Building Residential - New  Single Family Residence   \n",
       "3   T2020034044  Building Residential - New  Single Family Residence   \n",
       "4   T2020034080  Building Residential - New  Single Family Residence   \n",
       "\n",
       "           parcel date_entered  construction_cost              address  \\\n",
       "0  165140A20100CO   2020-06-04                NaN     4929  CHUTNEY DR   \n",
       "1  173100D02400CO   2020-05-27           260000.0   329  BODDINGTON LN   \n",
       "2  126140A04500CO   2019-06-18           250794.0     1536  DAVIDGE DR   \n",
       "3  165140A06200CO   2020-06-02                NaN     4948  CHUTNEY DR   \n",
       "4  165140A18400CO   2020-06-02                NaN  5404  LAKE WATER CT   \n",
       "\n",
       "        city state    zip               subdivision_lot  \\\n",
       "0    ANTIOCH    TN  37013  LOT 201 DAVENPORT DOWNS PH 2   \n",
       "1    ANTIOCH    TN  37013      LOT 24 DELVIN DOWNS PH 6   \n",
       "2  NASHVILLE    TN  37221  LOT 45 TRAVIS TRACE SUB PH 3   \n",
       "3    ANTIOCH    TN  37013   LOT 62 DAVENPORT DOWNS PH 2   \n",
       "4    ANTIOCH    TN  37013  LOT 184 DAVENPORT DOWNS PH 2   \n",
       "\n",
       "                            contact permit_type permit_subtype  \\\n",
       "0  AMH DEVELOPMENT TENNESSEE GC LLC        CARN      CAA01R301   \n",
       "1                 CAPITOL HOMES INC        CARN      CAA01R301   \n",
       "2    JONES CO OF TENNESSEE LLC, THE        CARN      CAA01R301   \n",
       "3  AMH DEVELOPMENT TENNESSEE GC LLC        CARN      CAA01R301   \n",
       "4  AMH DEVELOPMENT TENNESSEE GC LLC        CARN      CAA01R301   \n",
       "\n",
       "   ivr_tracking_number                                            purpose  \\\n",
       "0              3830089  to construct a single family residence with 22...   \n",
       "1              3824736  New two story residential home in a approved P...   \n",
       "2              3681462  HARPETH VALLEY WATER AND SEWER DISTRICT; SINGL...   \n",
       "3              3827970  to construct a single family residence with 19...   \n",
       "4              3828052  to construct a single family residence with 22...   \n",
       "\n",
       "   council_district                        mapped_location  lat  lon  \n",
       "0              33.0     4929 CHUTNEY DR\\nANTIOCH, TN 37013  NaN  NaN  \n",
       "1              31.0   329 BODDINGTON LN\\nANTIOCH, TN 37013  NaN  NaN  \n",
       "2              35.0   1536 DAVIDGE DR\\nNASHVILLE, TN 37221  NaN  NaN  \n",
       "3              33.0     4948 CHUTNEY DR\\nANTIOCH, TN 37013  NaN  NaN  \n",
       "4              33.0  5404 LAKE WATER CT\\nANTIOCH, TN 37013  NaN  NaN  "
      ]
     },
     "execution_count": 41,
     "metadata": {},
     "output_type": "execute_result"
    }
   ],
   "source": [
    "# BLDG PERMIT APPLICATIONS\n",
    "# First: Checked to see which items had null in lat/lon. Do I need these?\n",
    "#        YES - there are a lot for new residential permits \n",
    "# Second: Created new df to submit to census geocoder website.\n",
    "\n",
    "df_bldg_apps_null_latlon = df_bldg_apps.loc[df_bldg_apps.lat.isnull()].reset_index(drop = True) \n",
    "df_bldg_apps_null_latlon.head()"
   ]
  },
  {
   "cell_type": "code",
   "execution_count": 42,
   "metadata": {},
   "outputs": [
    {
     "data": {
      "text/plain": [
       "Building Residential - New                 249\n",
       "Building Commercial - Tenant Finish Out     19\n",
       "Building Use & Occupancy                    10\n",
       "Building Commercial - Rehab                  4\n",
       "Building Sign Permit                         4\n",
       "Building Residential - Addition              3\n",
       "Building Demolition Permit                   2\n",
       "Building Commercial - New                    2\n",
       "Building Commercial Rehab Storm Damage       1\n",
       "Building Blasting Permit                     1\n",
       "Building Residential Rehab Storm Damage      1\n",
       "Building Residential - Roofing / Siding      1\n",
       "Name: permit_type_descr, dtype: int64"
      ]
     },
     "execution_count": 42,
     "metadata": {},
     "output_type": "execute_result"
    }
   ],
   "source": [
    "# BLDG PERMIT APPLICATIONS\n",
    "# How many of these are meaningful in Bldg Permit Applications?   \n",
    "# ANSWER: Most are important to know about for residential/commercial growth\n",
    "\n",
    "df_bldg_apps_null_latlon.permit_type_descr.value_counts()"
   ]
  },
  {
   "cell_type": "code",
   "execution_count": 43,
   "metadata": {},
   "outputs": [
    {
     "data": {
      "text/html": [
       "<div>\n",
       "<style scoped>\n",
       "    .dataframe tbody tr th:only-of-type {\n",
       "        vertical-align: middle;\n",
       "    }\n",
       "\n",
       "    .dataframe tbody tr th {\n",
       "        vertical-align: top;\n",
       "    }\n",
       "\n",
       "    .dataframe thead th {\n",
       "        text-align: right;\n",
       "    }\n",
       "</style>\n",
       "<table border=\"1\" class=\"dataframe\">\n",
       "  <thead>\n",
       "    <tr style=\"text-align: right;\">\n",
       "      <th></th>\n",
       "      <th>permit_number</th>\n",
       "      <th>permit_type_descr</th>\n",
       "      <th>permit_subtype_descr</th>\n",
       "      <th>parcel</th>\n",
       "      <th>date_entered</th>\n",
       "      <th>date_issued</th>\n",
       "      <th>construction_cost</th>\n",
       "      <th>address</th>\n",
       "      <th>city</th>\n",
       "      <th>state</th>\n",
       "      <th>...</th>\n",
       "      <th>contact</th>\n",
       "      <th>permit_type</th>\n",
       "      <th>permit_subtype</th>\n",
       "      <th>ivr_tracking_number</th>\n",
       "      <th>purpose</th>\n",
       "      <th>council_district</th>\n",
       "      <th>census_tract</th>\n",
       "      <th>mapped_location</th>\n",
       "      <th>lat</th>\n",
       "      <th>lon</th>\n",
       "    </tr>\n",
       "  </thead>\n",
       "  <tbody>\n",
       "    <tr>\n",
       "      <th>0</th>\n",
       "      <td>2019070460</td>\n",
       "      <td>Building Residential - New</td>\n",
       "      <td>Single Family Residence</td>\n",
       "      <td>058100C04900CO</td>\n",
       "      <td>2019-11-18</td>\n",
       "      <td>2019-12-09</td>\n",
       "      <td>270585.0</td>\n",
       "      <td>1037  LAWSONS RIDGE DR</td>\n",
       "      <td>NASHVILLE</td>\n",
       "      <td>TN</td>\n",
       "      <td>...</td>\n",
       "      <td>CELEBRATION HOMES LLC</td>\n",
       "      <td>CARN</td>\n",
       "      <td>CAA01R301</td>\n",
       "      <td>3733056</td>\n",
       "      <td>To construct a single family residence of 2402...</td>\n",
       "      <td>1.0</td>\n",
       "      <td>37010105.0</td>\n",
       "      <td>1037 LAWSONS RIDGE DR\\nNASHVILLE, TN 37218</td>\n",
       "      <td>NaN</td>\n",
       "      <td>NaN</td>\n",
       "    </tr>\n",
       "    <tr>\n",
       "      <th>1</th>\n",
       "      <td>2019011084</td>\n",
       "      <td>Building Use &amp; Occupancy</td>\n",
       "      <td>Multifamily, Townhome</td>\n",
       "      <td>051100J90000CO</td>\n",
       "      <td>2019-02-25</td>\n",
       "      <td>2019-07-22</td>\n",
       "      <td>0.0</td>\n",
       "      <td>812  BRIAR CIR</td>\n",
       "      <td>MADISON</td>\n",
       "      <td>TN</td>\n",
       "      <td>...</td>\n",
       "      <td>COLE INVESTMENTS LLC</td>\n",
       "      <td>CAUO</td>\n",
       "      <td>CAA03R301</td>\n",
       "      <td>3611315</td>\n",
       "      <td>MASTER PERMIT ONLY� � NO CONSTRUCTION� �MULTI-...</td>\n",
       "      <td>8.0</td>\n",
       "      <td>37010802.0</td>\n",
       "      <td>812 BRIAR CIR\\nMADISON, TN 37115</td>\n",
       "      <td>NaN</td>\n",
       "      <td>NaN</td>\n",
       "    </tr>\n",
       "    <tr>\n",
       "      <th>2</th>\n",
       "      <td>2019043157</td>\n",
       "      <td>Building Residential - Rehab</td>\n",
       "      <td>Single Family Residence</td>\n",
       "      <td>181070A05400CO</td>\n",
       "      <td>2019-07-22</td>\n",
       "      <td>2019-07-22</td>\n",
       "      <td>20000.0</td>\n",
       "      <td>9405  KAPLAN AVE</td>\n",
       "      <td>BRENTWOOD</td>\n",
       "      <td>TN</td>\n",
       "      <td>...</td>\n",
       "      <td>SHAW CONSTRUCTION</td>\n",
       "      <td>CARR</td>\n",
       "      <td>CAA01R301</td>\n",
       "      <td>3693150</td>\n",
       "      <td>Repairs to single family residence due to tree...</td>\n",
       "      <td>31.0</td>\n",
       "      <td>37019114.0</td>\n",
       "      <td>9405 KAPLAN AVE\\nBRENTWOOD, TN 37027</td>\n",
       "      <td>NaN</td>\n",
       "      <td>NaN</td>\n",
       "    </tr>\n",
       "    <tr>\n",
       "      <th>3</th>\n",
       "      <td>2019039568</td>\n",
       "      <td>Building Residential - New</td>\n",
       "      <td>Single Family Residence</td>\n",
       "      <td>085040A40800CO</td>\n",
       "      <td>2019-07-03</td>\n",
       "      <td>2019-07-22</td>\n",
       "      <td>300888.0</td>\n",
       "      <td>4327  STONE HALL BLVD</td>\n",
       "      <td>HERMITAGE</td>\n",
       "      <td>TN</td>\n",
       "      <td>...</td>\n",
       "      <td>MERITAGE HOMES OF TENNESSEE INC</td>\n",
       "      <td>CARN</td>\n",
       "      <td>CAA01R301</td>\n",
       "      <td>3687554</td>\n",
       "      <td>New Single Family construction - Total Sq foot...</td>\n",
       "      <td>14.0</td>\n",
       "      <td>37015402.0</td>\n",
       "      <td>4327 STONE HALL BLVD\\nHERMITAGE, TN 37076</td>\n",
       "      <td>NaN</td>\n",
       "      <td>NaN</td>\n",
       "    </tr>\n",
       "    <tr>\n",
       "      <th>4</th>\n",
       "      <td>2019045897</td>\n",
       "      <td>Building Residential - New</td>\n",
       "      <td>Multifamily, Townhome</td>\n",
       "      <td>104150M02700CO</td>\n",
       "      <td>2019-08-01</td>\n",
       "      <td>2019-08-07</td>\n",
       "      <td>296945.0</td>\n",
       "      <td>544  LITTLE CHANNING WAY</td>\n",
       "      <td>NASHVILLE</td>\n",
       "      <td>TN</td>\n",
       "      <td>...</td>\n",
       "      <td>CERTIFIED CONSTRUCTION SERVICES, LLC</td>\n",
       "      <td>CARN</td>\n",
       "      <td>CAA03R301</td>\n",
       "      <td>3697323</td>\n",
       "      <td>to construct 2636Sf single family residence wi...</td>\n",
       "      <td>18.0</td>\n",
       "      <td>37016900.0</td>\n",
       "      <td>544 LITTLE CHANNING WAY\\nNASHVILLE, TN 37212</td>\n",
       "      <td>NaN</td>\n",
       "      <td>NaN</td>\n",
       "    </tr>\n",
       "  </tbody>\n",
       "</table>\n",
       "<p>5 rows × 22 columns</p>\n",
       "</div>"
      ],
      "text/plain": [
       "  permit_number             permit_type_descr     permit_subtype_descr  \\\n",
       "0    2019070460    Building Residential - New  Single Family Residence   \n",
       "1    2019011084      Building Use & Occupancy    Multifamily, Townhome   \n",
       "2    2019043157  Building Residential - Rehab  Single Family Residence   \n",
       "3    2019039568    Building Residential - New  Single Family Residence   \n",
       "4    2019045897    Building Residential - New    Multifamily, Townhome   \n",
       "\n",
       "           parcel date_entered date_issued  construction_cost  \\\n",
       "0  058100C04900CO   2019-11-18  2019-12-09           270585.0   \n",
       "1  051100J90000CO   2019-02-25  2019-07-22                0.0   \n",
       "2  181070A05400CO   2019-07-22  2019-07-22            20000.0   \n",
       "3  085040A40800CO   2019-07-03  2019-07-22           300888.0   \n",
       "4  104150M02700CO   2019-08-01  2019-08-07           296945.0   \n",
       "\n",
       "                    address       city state  ...  \\\n",
       "0    1037  LAWSONS RIDGE DR  NASHVILLE    TN  ...   \n",
       "1            812  BRIAR CIR    MADISON    TN  ...   \n",
       "2          9405  KAPLAN AVE  BRENTWOOD    TN  ...   \n",
       "3     4327  STONE HALL BLVD  HERMITAGE    TN  ...   \n",
       "4  544  LITTLE CHANNING WAY  NASHVILLE    TN  ...   \n",
       "\n",
       "                                contact permit_type permit_subtype  \\\n",
       "0                 CELEBRATION HOMES LLC        CARN      CAA01R301   \n",
       "1                  COLE INVESTMENTS LLC        CAUO      CAA03R301   \n",
       "2                     SHAW CONSTRUCTION        CARR      CAA01R301   \n",
       "3       MERITAGE HOMES OF TENNESSEE INC        CARN      CAA01R301   \n",
       "4  CERTIFIED CONSTRUCTION SERVICES, LLC        CARN      CAA03R301   \n",
       "\n",
       "  ivr_tracking_number                                            purpose  \\\n",
       "0             3733056  To construct a single family residence of 2402...   \n",
       "1             3611315  MASTER PERMIT ONLY� � NO CONSTRUCTION� �MULTI-...   \n",
       "2             3693150  Repairs to single family residence due to tree...   \n",
       "3             3687554  New Single Family construction - Total Sq foot...   \n",
       "4             3697323  to construct 2636Sf single family residence wi...   \n",
       "\n",
       "   council_district census_tract  \\\n",
       "0               1.0   37010105.0   \n",
       "1               8.0   37010802.0   \n",
       "2              31.0   37019114.0   \n",
       "3              14.0   37015402.0   \n",
       "4              18.0   37016900.0   \n",
       "\n",
       "                                mapped_location  lat lon  \n",
       "0    1037 LAWSONS RIDGE DR\\nNASHVILLE, TN 37218  NaN NaN  \n",
       "1              812 BRIAR CIR\\nMADISON, TN 37115  NaN NaN  \n",
       "2          9405 KAPLAN AVE\\nBRENTWOOD, TN 37027  NaN NaN  \n",
       "3     4327 STONE HALL BLVD\\nHERMITAGE, TN 37076  NaN NaN  \n",
       "4  544 LITTLE CHANNING WAY\\nNASHVILLE, TN 37212  NaN NaN  \n",
       "\n",
       "[5 rows x 22 columns]"
      ]
     },
     "execution_count": 43,
     "metadata": {},
     "output_type": "execute_result"
    }
   ],
   "source": [
    "# BLDG PERMITS ISSUED\n",
    "# First: Checked to see which items had null in lat/lon. Do I need these? \n",
    "#        YES - there are a lot for new residential permits \n",
    "# Second: Created new df to submit to census geocoder website.\n",
    "\n",
    "df_bldg_issued_null_latlon = df_bldg_issued.loc[df_bldg_issued.lat.isnull()].reset_index(drop = True) \n",
    "df_bldg_issued_null_latlon.head()"
   ]
  },
  {
   "cell_type": "code",
   "execution_count": 44,
   "metadata": {},
   "outputs": [
    {
     "data": {
      "text/plain": [
       "Building Residential - New                  3294\n",
       "Building Commercial - Tenant Finish Out      172\n",
       "Building Commercial - New                    100\n",
       "Building Sign Permit                          74\n",
       "Building Use & Occupancy                      57\n",
       "Building Tree Removal Permit                  45\n",
       "Building Commercial - Rehab                   43\n",
       "Building Residential - Addition               25\n",
       "Building Commercial - Foundation              19\n",
       "Building Residential - Tenant Finish Out      18\n",
       "Building Residential - Rehab                  14\n",
       "Building Commercial - Shell                   14\n",
       "Building Demolition Permit                    13\n",
       "Building Residential - Amend Permit           12\n",
       "Building Commercial - Addition                11\n",
       "Building Blasting Permit                       6\n",
       "Building Commercial - Roofing / Siding         6\n",
       "Building Residential - Shell                   2\n",
       "Building Residential - Change Contractor       1\n",
       "Building Residential - Roofing / Siding        1\n",
       "Building Moving Permit                         1\n",
       "Name: permit_type_descr, dtype: int64"
      ]
     },
     "execution_count": 44,
     "metadata": {},
     "output_type": "execute_result"
    }
   ],
   "source": [
    "# How many of these are meaningful in Bldg Permits Issued?   \n",
    "# ANSWER: Most are important to know about for residential/commercial growth\n",
    "\n",
    "df_bldg_issued_null_latlon.permit_type_descr.value_counts()"
   ]
  },
  {
   "cell_type": "markdown",
   "metadata": {},
   "source": [
    "### Creating new dfs for Bldg Permit Applications & Bldg Permits Issued with ONLY addresses - to submit to US Census Geocoder tool\n",
    "- Will export to CSV; submit to census geocoder tool to get lat & lon, then add addresses back to original file (matching on addresss/city/st/zip columns)"
   ]
  },
  {
   "cell_type": "code",
   "execution_count": 45,
   "metadata": {},
   "outputs": [
    {
     "data": {
      "text/plain": [
       "Index(['permit_number', 'permit_type_descr', 'permit_subtype_descr', 'parcel',\n",
       "       'date_entered', 'construction_cost', 'address', 'city', 'state', 'zip',\n",
       "       'subdivision_lot', 'contact', 'permit_type', 'permit_subtype',\n",
       "       'ivr_tracking_number', 'purpose', 'council_district', 'mapped_location',\n",
       "       'lat', 'lon'],\n",
       "      dtype='object')"
      ]
     },
     "execution_count": 45,
     "metadata": {},
     "output_type": "execute_result"
    }
   ],
   "source": [
    "df_bldg_apps_null_latlon.columns"
   ]
  },
  {
   "cell_type": "code",
   "execution_count": 46,
   "metadata": {},
   "outputs": [
    {
     "data": {
      "text/html": [
       "<div>\n",
       "<style scoped>\n",
       "    .dataframe tbody tr th:only-of-type {\n",
       "        vertical-align: middle;\n",
       "    }\n",
       "\n",
       "    .dataframe tbody tr th {\n",
       "        vertical-align: top;\n",
       "    }\n",
       "\n",
       "    .dataframe thead th {\n",
       "        text-align: right;\n",
       "    }\n",
       "</style>\n",
       "<table border=\"1\" class=\"dataframe\">\n",
       "  <thead>\n",
       "    <tr style=\"text-align: right;\">\n",
       "      <th></th>\n",
       "      <th>address</th>\n",
       "      <th>city</th>\n",
       "      <th>state</th>\n",
       "      <th>zip</th>\n",
       "    </tr>\n",
       "  </thead>\n",
       "  <tbody>\n",
       "    <tr>\n",
       "      <th>0</th>\n",
       "      <td>4929  CHUTNEY DR</td>\n",
       "      <td>ANTIOCH</td>\n",
       "      <td>TN</td>\n",
       "      <td>37013</td>\n",
       "    </tr>\n",
       "    <tr>\n",
       "      <th>1</th>\n",
       "      <td>329  BODDINGTON LN</td>\n",
       "      <td>ANTIOCH</td>\n",
       "      <td>TN</td>\n",
       "      <td>37013</td>\n",
       "    </tr>\n",
       "  </tbody>\n",
       "</table>\n",
       "</div>"
      ],
      "text/plain": [
       "              address     city state    zip\n",
       "0    4929  CHUTNEY DR  ANTIOCH    TN  37013\n",
       "1  329  BODDINGTON LN  ANTIOCH    TN  37013"
      ]
     },
     "execution_count": 46,
     "metadata": {},
     "output_type": "execute_result"
    }
   ],
   "source": [
    "# Dropping all but the address columns, in preparation for uploading to geocoder website\n",
    "\n",
    "df_bldg_apps_null_latlon = df_bldg_apps_null_latlon[['address', 'city', 'state', 'zip']]\n",
    "df_bldg_apps_null_latlon.head(2)"
   ]
  },
  {
   "cell_type": "code",
   "execution_count": 47,
   "metadata": {},
   "outputs": [
    {
     "data": {
      "text/html": [
       "<div>\n",
       "<style scoped>\n",
       "    .dataframe tbody tr th:only-of-type {\n",
       "        vertical-align: middle;\n",
       "    }\n",
       "\n",
       "    .dataframe tbody tr th {\n",
       "        vertical-align: top;\n",
       "    }\n",
       "\n",
       "    .dataframe thead th {\n",
       "        text-align: right;\n",
       "    }\n",
       "</style>\n",
       "<table border=\"1\" class=\"dataframe\">\n",
       "  <thead>\n",
       "    <tr style=\"text-align: right;\">\n",
       "      <th></th>\n",
       "      <th>address</th>\n",
       "      <th>city</th>\n",
       "      <th>state</th>\n",
       "      <th>zip</th>\n",
       "    </tr>\n",
       "  </thead>\n",
       "  <tbody>\n",
       "    <tr>\n",
       "      <th>0</th>\n",
       "      <td>1037  LAWSONS RIDGE DR</td>\n",
       "      <td>NASHVILLE</td>\n",
       "      <td>TN</td>\n",
       "      <td>37218</td>\n",
       "    </tr>\n",
       "    <tr>\n",
       "      <th>1</th>\n",
       "      <td>812  BRIAR CIR</td>\n",
       "      <td>MADISON</td>\n",
       "      <td>TN</td>\n",
       "      <td>37115</td>\n",
       "    </tr>\n",
       "    <tr>\n",
       "      <th>2</th>\n",
       "      <td>9405  KAPLAN AVE</td>\n",
       "      <td>BRENTWOOD</td>\n",
       "      <td>TN</td>\n",
       "      <td>37027</td>\n",
       "    </tr>\n",
       "    <tr>\n",
       "      <th>3</th>\n",
       "      <td>4327  STONE HALL BLVD</td>\n",
       "      <td>HERMITAGE</td>\n",
       "      <td>TN</td>\n",
       "      <td>37076</td>\n",
       "    </tr>\n",
       "    <tr>\n",
       "      <th>4</th>\n",
       "      <td>544  LITTLE CHANNING WAY</td>\n",
       "      <td>NASHVILLE</td>\n",
       "      <td>TN</td>\n",
       "      <td>37212</td>\n",
       "    </tr>\n",
       "  </tbody>\n",
       "</table>\n",
       "</div>"
      ],
      "text/plain": [
       "                    address       city state    zip\n",
       "0    1037  LAWSONS RIDGE DR  NASHVILLE    TN  37218\n",
       "1            812  BRIAR CIR    MADISON    TN  37115\n",
       "2          9405  KAPLAN AVE  BRENTWOOD    TN  37027\n",
       "3     4327  STONE HALL BLVD  HERMITAGE    TN  37076\n",
       "4  544  LITTLE CHANNING WAY  NASHVILLE    TN  37212"
      ]
     },
     "execution_count": 47,
     "metadata": {},
     "output_type": "execute_result"
    }
   ],
   "source": [
    "df_bldg_issued_null_latlon = df_bldg_issued_null_latlon[['address', 'city', 'state', 'zip']]\n",
    "df_bldg_issued_null_latlon.head()"
   ]
  },
  {
   "cell_type": "code",
   "execution_count": 48,
   "metadata": {},
   "outputs": [],
   "source": [
    "df_bldg_apps_null_latlon.to_csv('../data/interim/bldg_apps_addresses.csv')"
   ]
  },
  {
   "cell_type": "code",
   "execution_count": 49,
   "metadata": {},
   "outputs": [],
   "source": [
    "df_bldg_issued_null_latlon.to_csv('../data/interim/bldg_issued_addresses.csv')"
   ]
  },
  {
   "cell_type": "markdown",
   "metadata": {},
   "source": [
    "### Aborted lat/lon search on 6/12/2020. Census Geocoder tool only found 1% of addresses.\n",
    "- The census geocoder tool only found 1% of addresses in each file as exact match, and additional 1% in one of the files as non-exact match - but the remaining 98-99% weren't found.\n",
    "- Aborting this process becasue it isn't worth the time to fuss with clean and import just 1%. It would be cumbersome because:\n",
    "    - Addresses were submitted as 4 columns for address; but returned with address, city, state and zip all concatenated in a single cell.\n",
    "    - Returns [lat, lon] in single column, in addition to quite a bit of other information in other columns I don't need.\n",
    "- Returned files are in ../data/interim folder for future reference\n",
    "- US Census website, for reference: https://geocoding.geo.census.gov/geocoder/geographies/addressbatch?form"
   ]
  },
  {
   "cell_type": "markdown",
   "metadata": {},
   "source": [
    "## ABORTED 6/12/2020:  Creating new columns for rolling week, month, quarter, year in Bldg Permit Applications & Issued,\n",
    "- Discovered that I can do what's needed in Tableau. Here are two videos that show a couple ways to accomplish this:\n",
    "- https://www.youtube.com/watch?v=viIKlFsmLWs\n",
    "- https://www.youtube.com/watch?v=hMsQ8TvVjo4"
   ]
  },
  {
   "cell_type": "code",
   "execution_count": 50,
   "metadata": {},
   "outputs": [
    {
     "data": {
      "text/plain": [
       "0   2020-03-11\n",
       "1   2019-12-02\n",
       "2   2018-11-29\n",
       "3   2019-08-07\n",
       "4   2020-06-04\n",
       "Name: date_entered, dtype: datetime64[ns]"
      ]
     },
     "execution_count": 50,
     "metadata": {},
     "output_type": "execute_result"
    }
   ],
   "source": [
    "df_bldg_apps.date_entered.head()"
   ]
  },
  {
   "cell_type": "code",
   "execution_count": 51,
   "metadata": {},
   "outputs": [
    {
     "data": {
      "text/plain": [
       "0   2019-11-18\n",
       "1   2020-03-12\n",
       "2   2019-02-25\n",
       "3   2019-07-15\n",
       "4   2019-07-22\n",
       "Name: date_entered, dtype: datetime64[ns]"
      ]
     },
     "execution_count": 51,
     "metadata": {},
     "output_type": "execute_result"
    }
   ],
   "source": [
    "df_bldg_issued.date_entered.head()"
   ]
  },
  {
   "cell_type": "code",
   "execution_count": 52,
   "metadata": {},
   "outputs": [
    {
     "data": {
      "text/plain": [
       "0   2019-12-09\n",
       "1   2020-03-12\n",
       "2   2019-07-22\n",
       "3   2019-07-22\n",
       "4   2019-07-22\n",
       "Name: date_issued, dtype: datetime64[ns]"
      ]
     },
     "execution_count": 52,
     "metadata": {},
     "output_type": "execute_result"
    }
   ],
   "source": [
    "df_bldg_issued.date_issued.head()"
   ]
  },
  {
   "cell_type": "markdown",
   "metadata": {},
   "source": [
    "## Exploring and Cleaning: Planning Dept Applications / Issued"
   ]
  },
  {
   "cell_type": "code",
   "execution_count": 53,
   "metadata": {},
   "outputs": [
    {
     "name": "stdout",
     "output_type": "stream",
     "text": [
      "<class 'pandas.core.frame.DataFrame'>\n",
      "RangeIndex: 521 entries, 0 to 520\n",
      "Data columns (total 27 columns):\n",
      " #   Column                      Non-Null Count  Dtype  \n",
      "---  ------                      --------------  -----  \n",
      " 0   date_submitted              521 non-null    object \n",
      " 1   application_type_descr      521 non-null    object \n",
      " 2   mpc_case_number             520 non-null    object \n",
      " 3   ordinance_number            157 non-null    object \n",
      " 4   status                      521 non-null    object \n",
      " 5   mpc_meeting_date            521 non-null    object \n",
      " 6   mpc_action                  235 non-null    object \n",
      " 7   project_name                417 non-null    object \n",
      " 8   location                    498 non-null    object \n",
      " 9   reviewer                    521 non-null    object \n",
      " 10  reviewer_email              465 non-null    object \n",
      " 11  case_descr                  503 non-null    object \n",
      " 12  applicant                   501 non-null    object \n",
      " 13  applicant_representative    497 non-null    object \n",
      " 14  applicant_email             496 non-null    object \n",
      " 15  applicant_phone             498 non-null    object \n",
      " 16  applicant_address_1         497 non-null    object \n",
      " 17  applicant_address_2         139 non-null    object \n",
      " 18  applicant_city              497 non-null    object \n",
      " 19  applicant_state             497 non-null    object \n",
      " 20  applicant_zip               497 non-null    object \n",
      " 21  council_3rd_reading_date    0 non-null      float64\n",
      " 22  council_3rd_reading_action  0 non-null      float64\n",
      " 23  council_district            489 non-null    object \n",
      " 24  latitude                    489 non-null    float64\n",
      " 25  longitude                   489 non-null    float64\n",
      " 26  mapped_location             489 non-null    object \n",
      "dtypes: float64(4), object(23)\n",
      "memory usage: 110.0+ KB\n"
     ]
    }
   ],
   "source": [
    "# Checking nulls, building permit applications\n",
    "\n",
    "df_planning.info()"
   ]
  },
  {
   "cell_type": "code",
   "execution_count": 54,
   "metadata": {},
   "outputs": [
    {
     "name": "stdout",
     "output_type": "stream",
     "text": [
      "31\n",
      "Rezoning                                    88\n",
      "Subdivision (Final Plat)                    86\n",
      "Mandatory Referral Easement                 65\n",
      "Specific Plan (Final Site Plan)             50\n",
      "Specific Plan (New)                         40\n",
      "Mandatory Referral Encroachment             24\n",
      "Community Plan Amendment                    17\n",
      "Planned Unit Development (Final Site Pl)    15\n",
      "Mandatory Referral Agreement                15\n",
      "Text Amendment                              14\n",
      "Downtown Code (Final Site Plan)             13\n",
      "Subdivision (Concept Plan)                   9\n",
      "Planned Unit Development (Cancel)            8\n",
      "Planned Unit Development (Amend)             8\n",
      "Mandatory Referral Property                  8\n",
      "Subdivision (Amendment)                      8\n",
      "Downtown Code (Modify)                       8\n",
      "Specific Plan (Amend)                        8\n",
      "Mandatory Referral  R.O.W. Abandonment       7\n",
      "Urban Design Overlay (Final)                 6\n",
      "Historic Landmark (New)                      5\n",
      "Urban Design Overlay (Modify)                4\n",
      "Mandatory Referral Street Renaming           3\n",
      "Subdivision (Final Site Plan)                3\n",
      "Institutional (Final)                        2\n",
      "Neighborhood Landmark (New)                  2\n",
      "Neighborhood Landmark (Amend)                1\n",
      "Neighborhood Landmark (Final Site Plan)      1\n",
      "Historic Preservation (New)                  1\n",
      "Resi Accessory Structure Overlay (New)       1\n",
      "Contextual Overlay New                       1\n",
      "Name: application_type_descr, dtype: int64\n"
     ]
    }
   ],
   "source": [
    "# Taking a look at the types of info in Planning Dept data\n",
    "\n",
    "print(df_planning.application_type_descr.nunique())\n",
    "print(df_planning.application_type_descr.value_counts())"
   ]
  },
  {
   "cell_type": "code",
   "execution_count": 55,
   "metadata": {},
   "outputs": [
    {
     "name": "stdout",
     "output_type": "stream",
     "text": [
      "5\n",
      "PENDING        220\n",
      "CNCLACTIVE     207\n",
      "NEW             71\n",
      "MPCCOMPLETE     22\n",
      "UNKNOWN          1\n",
      "Name: status, dtype: int64\n"
     ]
    }
   ],
   "source": [
    "# Taking a look at the types of info in Planning Dept data\n",
    "\n",
    "print(df_planning.status.nunique())\n",
    "print(df_planning.status.value_counts())"
   ]
  },
  {
   "cell_type": "markdown",
   "metadata": {},
   "source": [
    "## Exploring and Cleaning: Neighborhood Assoc Boundaries (GIS)\n",
    "- The only change needed was to fix the crs code from epsg:4326 go EPSG:4326"
   ]
  },
  {
   "cell_type": "code",
   "execution_count": 56,
   "metadata": {},
   "outputs": [
    {
     "name": "stdout",
     "output_type": "stream",
     "text": [
      "<class 'geopandas.geodataframe.GeoDataFrame'>\n",
      "RangeIndex: 288 entries, 0 to 287\n",
      "Data columns (total 2 columns):\n",
      " #   Column    Non-Null Count  Dtype   \n",
      "---  ------    --------------  -----   \n",
      " 0   name      288 non-null    object  \n",
      " 1   geometry  288 non-null    geometry\n",
      "dtypes: geometry(1), object(1)\n",
      "memory usage: 4.6+ KB\n"
     ]
    }
   ],
   "source": [
    "df_na_bound.info()"
   ]
  },
  {
   "cell_type": "code",
   "execution_count": 57,
   "metadata": {},
   "outputs": [
    {
     "data": {
      "text/plain": [
       "name        0\n",
       "geometry    0\n",
       "dtype: int64"
      ]
     },
     "execution_count": 57,
     "metadata": {},
     "output_type": "execute_result"
    }
   ],
   "source": [
    "# To confirm whether any are null.  No nulls! Good :-)\n",
    "\n",
    "df_na_bound.isnull().sum()"
   ]
  },
  {
   "cell_type": "code",
   "execution_count": 58,
   "metadata": {},
   "outputs": [
    {
     "name": "stdout",
     "output_type": "stream",
     "text": [
      "epsg:4326\n"
     ]
    }
   ],
   "source": [
    "# Confirming crs type\n",
    "\n",
    "print(df_na_bound.crs)"
   ]
  },
  {
   "cell_type": "code",
   "execution_count": 59,
   "metadata": {},
   "outputs": [
    {
     "name": "stdout",
     "output_type": "stream",
     "text": [
      "EPSG:4326\n"
     ]
    }
   ],
   "source": [
    "# Converting to uppercase EPSG\n",
    "\n",
    "df_na_bound.crs = \"EPSG:4326\"\n",
    "print(df_na_bound.crs)"
   ]
  },
  {
   "cell_type": "markdown",
   "metadata": {},
   "source": [
    "## Review permit types, permit subtypes, etc. in Bldg Permit Applications, Bldg Permits Issued, and Planning dfs.\n",
    "- Are there any types, subtypes, or columns not needed for EDA?"
   ]
  },
  {
   "cell_type": "code",
   "execution_count": 60,
   "metadata": {},
   "outputs": [
    {
     "name": "stdout",
     "output_type": "stream",
     "text": [
      "<class 'pandas.core.frame.DataFrame'>\n",
      "RangeIndex: 3106 entries, 0 to 3105\n",
      "Data columns (total 20 columns):\n",
      " #   Column                Non-Null Count  Dtype         \n",
      "---  ------                --------------  -----         \n",
      " 0   permit_number         3106 non-null   object        \n",
      " 1   permit_type_descr     3106 non-null   object        \n",
      " 2   permit_subtype_descr  3106 non-null   object        \n",
      " 3   parcel                3106 non-null   object        \n",
      " 4   date_entered          3106 non-null   datetime64[ns]\n",
      " 5   construction_cost     1651 non-null   float64       \n",
      " 6   address               3106 non-null   object        \n",
      " 7   city                  3106 non-null   object        \n",
      " 8   state                 3106 non-null   object        \n",
      " 9   zip                   3106 non-null   int64         \n",
      " 10  subdivision_lot       3105 non-null   object        \n",
      " 11  contact               3105 non-null   object        \n",
      " 12  permit_type           3106 non-null   object        \n",
      " 13  permit_subtype        3106 non-null   object        \n",
      " 14  ivr_tracking_number   3106 non-null   int64         \n",
      " 15  purpose               3084 non-null   object        \n",
      " 16  council_district      3099 non-null   float64       \n",
      " 17  mapped_location       3106 non-null   object        \n",
      " 18  lat                   2809 non-null   float64       \n",
      " 19  lon                   2809 non-null   float64       \n",
      "dtypes: datetime64[ns](1), float64(4), int64(2), object(13)\n",
      "memory usage: 485.4+ KB\n"
     ]
    }
   ],
   "source": [
    "# Bldg Permit Applications\n",
    "# Which columns not needed?  \n",
    "# KEEPING ALL. Might want them for popups on visualization\n",
    "\n",
    "df_bldg_apps.info()"
   ]
  },
  {
   "cell_type": "code",
   "execution_count": 61,
   "metadata": {},
   "outputs": [
    {
     "data": {
      "text/plain": [
       "Building Residential - New                  1184\n",
       "Building Residential - Addition              388\n",
       "Building Use & Occupancy                     331\n",
       "Building Residential - Rehab                 308\n",
       "Building Demolition Permit                   266\n",
       "Building Commercial - Rehab                  161\n",
       "Building Sign Permit                         145\n",
       "Building Commercial - Tenant Finish Out       80\n",
       "Building Commercial - New                     63\n",
       "Building Residential Rehab Storm Damage       38\n",
       "Building Residential - Roofing / Siding       27\n",
       "Building Tree Removal Permit                  25\n",
       "Building Commercial - Addition                20\n",
       "Building Residential New Storm Damage         16\n",
       "Building Commercial - Foundation              10\n",
       "Building Commercial Rehab Storm Damage         9\n",
       "Building Commercial - Shell                    8\n",
       "Building Blasting Permit                       6\n",
       "Building Commercial - Roofing / Siding         6\n",
       "Building Moving Permit                         4\n",
       "Building Residential - Change Contractor       3\n",
       "Building Commercial - Structural Frame         2\n",
       "Building Commercial - Fire Damage              1\n",
       "Building Residential - Fire Damage             1\n",
       "Building Residential - Foundation              1\n",
       "Building Commercial - Change Contractor        1\n",
       "Building Residential - Tenant Finish Out       1\n",
       "Building Residential - Amend Permit            1\n",
       "Name: permit_type_descr, dtype: int64"
      ]
     },
     "execution_count": 61,
     "metadata": {},
     "output_type": "execute_result"
    }
   ],
   "source": [
    "# Bldg Permit Applications\n",
    "# Which PERMIT TYPES are needed to answer data questions?\n",
    "# DECISION: KEEPING ALL\n",
    "# REASON: Even though some types only have one count,\n",
    "#         several with one value may be in a single neighborhood assoc boundary\n",
    "#         May group this once I start exploring, but will leave all details in place for now.\n",
    "\n",
    "df_bldg_apps.permit_type_descr.value_counts()"
   ]
  },
  {
   "cell_type": "code",
   "execution_count": 62,
   "metadata": {},
   "outputs": [
    {
     "name": "stdout",
     "output_type": "stream",
     "text": [
      "4000\n",
      "Single Family Residence                     1420\n",
      "Demolition Permit - Residential              173\n",
      "Accessory Structure, Garage                  167\n",
      "Sign - Ground /  Wall Signs                  136\n",
      "Tents, Stages                                 99\n",
      "Demolition Permit - Commercial                92\n",
      "Multifamily, Townhome                         83\n",
      "Multifamily, Condominium > 5 Unit Bldg        69\n",
      "General Office, Professional Services         68\n",
      "Accessory Structure, Shed / Storage Bldg      68\n",
      "Accessory Structure, Decks                    68\n",
      "Accessory Structure, Pools - Residential      59\n",
      "Duplex                                        58\n",
      "Retail, Department / Retail Stores            49\n",
      "Multifamily, Tri-Plex, Quad, Apartments       38\n",
      "Home Occupation, Single Family Residence      30\n",
      "Master Permit Application                     30\n",
      "Detached Accessory Dwelling Unit              28\n",
      "Accessory Structure, Carport                  27\n",
      "Multifamily, Condominium 3&4 Unit Bldg        24\n",
      "Tree Removal Permit                           23\n",
      "Warehouse, Storage S-1                        22\n",
      "Multifamily, Apt / Twnhome > 5 Unit Bldg      21\n",
      "Restaurant (Full Service)                     19\n",
      "Mobile Food Vendors                           18\n",
      "Restaurant (Fast Food)                        14\n",
      "Leasing / Sales Office, Other                 11\n",
      "Hotel / Motel                                 10\n",
      "Personal Care Svcs,  Fitness Studio            9\n",
      "Multifamily, Condominium 1&2 Unit Bldg         8\n",
      "Restaurant (Take Out)                          8\n",
      "Accessory Structure, Pools                     8\n",
      "Community Education, Lecture Halls             7\n",
      "Automotive Service                             7\n",
      "Billboard                                      6\n",
      "Religious Institution, Worship Space           6\n",
      "Medical Office, Professional Services          6\n",
      "Bar Or Nightclub, Tavern And Bars              6\n",
      "Commercial Amusement (In), Other               5\n",
      "Mobile Home Dwelling                           5\n",
      "Accessory Structure, Pools - Commercial        5\n",
      "Personal Care Svcs, Hair/ Nail Salon           5\n",
      "Distributive Bus/Wholesale, Wholesale St       4\n",
      "Manufacturing, Light Hazardous (H1-H5)         4\n",
      "Automobile Parking - Surface Lot               4\n",
      "Accessory Apartment                            4\n",
      "Blasting Permit - 12 Months                    3\n",
      "Temporary Festival                             3\n",
      "Cultural Center, Museum                        3\n",
      "Blasting Permit - 6 Months                     3\n",
      "Kennel / Stable, Kennel / Pound                3\n",
      "Automobile Parking - Structure                 3\n",
      "Addition                                       2\n",
      "Vocational School, Educational  > 12Th         2\n",
      "Furniture Store, Dept/Retail Stores            2\n",
      "Bar Or Nightclub, Banquet Halls                2\n",
      "Automobile Sales, Used                         2\n",
      "Boarding House (More Than 30 Day Stay)         2\n",
      "Self Service Storage, Storage Mod Hazard       2\n",
      "Moving Permit - Residential                    2\n",
      "Automobile Repair, Storage Mod Hazard          2\n",
      "Financial Institution, Banks                   2\n",
      "Nursing Home                                   2\n",
      "Demo Permit - Residential Accessory            2\n",
      "General Office, Civic Administration           2\n",
      "Hospital, Institutional I-2                    2\n",
      "Religious Institution, Fellowship Hall         2\n",
      "Hospice, Institutional I-2                     1\n",
      "Multi-Media Production                         1\n",
      "Personal Care Svcs,  Tanning Salon             1\n",
      "Business School, Educational Occ > 12Th        1\n",
      "Dormitories                                    1\n",
      "Religious Institution, Gymnasium               1\n",
      "Rehabilitation Services                        1\n",
      "Manufacturing, Med Hazardous (H1-H5)           1\n",
      "Bed & Breakfast Inn, Hotel / Motel             1\n",
      "Telephone Services - Cell Towers & Co-Lo       1\n",
      "Country Club, Banquet Hall                     1\n",
      "Community Education, Stadiums                  1\n",
      "Printing & Publishing, Print Shop              1\n",
      "Day Care Center (Up To 75) - Child Care        1\n",
      "Personal Care Svcs,  Tatoo Studio              1\n",
      "Outpatient Clinic                              1\n",
      "Telephone Services - Small Cell Towers         1\n",
      "Cultural Center, Art Galleries                 1\n",
      "Day Care Center (Over 75) - Child              1\n",
      "Boarding House (Less Than 30 Day Stay)         1\n",
      "Car Wash                                       1\n",
      "Warehouse, Storage S-2                         1\n",
      "Airport/Heliport, Airtraffic Cntr Towers       1\n",
      "Assisted Care Living                           1\n",
      "Automobile Convenience, Markets                1\n",
      "Personal Care Svcs, Barber/Beauty Shops        1\n",
      "Recreation Center, Arenas                      1\n",
      "Name: permit_subtype_descr, dtype: int64\n"
     ]
    }
   ],
   "source": [
    "# Bldg Permit Applications\n",
    "# Which PERMIT SUB-TYPES are needed to answer data questions?\n",
    "# DECISION: KEEPING ALL\n",
    "# REASON: Even though some types only have one count,\n",
    "#         several with one value may be in a single neighborhood assoc boundary\n",
    "#         May group this once I start exploring, but will leave all details in place for now.\n",
    "\n",
    "# To get full results that aren't truncated:\n",
    "pd.options.display.max_rows = 4000\n",
    "print(pd.options.display.max_rows)\n",
    "\n",
    "list_bldg_apps_subtype_counts = df_bldg_apps.permit_subtype_descr.value_counts()\n",
    "print(list_bldg_apps_subtype_counts)"
   ]
  },
  {
   "cell_type": "code",
   "execution_count": 63,
   "metadata": {},
   "outputs": [
    {
     "name": "stdout",
     "output_type": "stream",
     "text": [
      "<class 'pandas.core.frame.DataFrame'>\n",
      "RangeIndex: 33909 entries, 0 to 33908\n",
      "Data columns (total 22 columns):\n",
      " #   Column                Non-Null Count  Dtype         \n",
      "---  ------                --------------  -----         \n",
      " 0   permit_number         33909 non-null  object        \n",
      " 1   permit_type_descr     33909 non-null  object        \n",
      " 2   permit_subtype_descr  33909 non-null  object        \n",
      " 3   parcel                33909 non-null  object        \n",
      " 4   date_entered          33909 non-null  datetime64[ns]\n",
      " 5   date_issued           33909 non-null  datetime64[ns]\n",
      " 6   construction_cost     33899 non-null  float64       \n",
      " 7   address               33909 non-null  object        \n",
      " 8   city                  33909 non-null  object        \n",
      " 9   state                 33909 non-null  object        \n",
      " 10  zip                   33909 non-null  int64         \n",
      " 11  subdivision_lot       33909 non-null  object        \n",
      " 12  contact               33908 non-null  object        \n",
      " 13  permit_type           33909 non-null  object        \n",
      " 14  permit_subtype        33909 non-null  object        \n",
      " 15  ivr_tracking_number   33909 non-null  int64         \n",
      " 16  purpose               33442 non-null  object        \n",
      " 17  council_district      33863 non-null  float64       \n",
      " 18  census_tract          33866 non-null  float64       \n",
      " 19  mapped_location       33909 non-null  object        \n",
      " 20  lat                   29981 non-null  float64       \n",
      " 21  lon                   29981 non-null  float64       \n",
      "dtypes: datetime64[ns](2), float64(5), int64(2), object(13)\n",
      "memory usage: 5.7+ MB\n"
     ]
    }
   ],
   "source": [
    "# Bldg Permits Issued\n",
    "# Which columns not needed?  \n",
    "# KEEPING ALL. Might want them for popups on visualization\n",
    "\n",
    "df_bldg_issued.info()"
   ]
  },
  {
   "cell_type": "code",
   "execution_count": 64,
   "metadata": {},
   "outputs": [
    {
     "data": {
      "text/plain": [
       "Building Residential - New                  12780\n",
       "Building Commercial - Rehab                  3384\n",
       "Building Residential - Rehab                 3273\n",
       "Building Residential - Addition              3200\n",
       "Building Demolition Permit                   2796\n",
       "Building Sign Permit                         2436\n",
       "Building Use & Occupancy                     1524\n",
       "Building Commercial - Tenant Finish Out      1113\n",
       "Building Commercial - New                    1047\n",
       "Building Tree Removal Permit                  495\n",
       "Building Commercial - Addition                338\n",
       "Building Residential - Roofing / Siding       240\n",
       "Building Commercial - Roofing / Siding        239\n",
       "Building Commercial - Shell                   173\n",
       "Building Residential Rehab Storm Damage       119\n",
       "Building Residential - Tenant Finish Out      117\n",
       "Building Commercial - Foundation              114\n",
       "Building Blasting Permit                      107\n",
       "Building Residential - Change Contractor       91\n",
       "Building Residential - Fire Damage             90\n",
       "Building Commercial Rehab Storm Damage         60\n",
       "Building Commercial - Fire Damage              48\n",
       "Building Residential - Amend Permit            32\n",
       "Building Commercial - Structural Frame         22\n",
       "Building Residential New Storm Damage          17\n",
       "Building Moving Permit                         16\n",
       "Building Commercial New Storm Damage           15\n",
       "Building Residential - Shell                    8\n",
       "Building Residential - Foundation               8\n",
       "Building Commercial - Change Contractor         6\n",
       "Building Residential - Renew Permit             1\n",
       "Name: permit_type_descr, dtype: int64"
      ]
     },
     "execution_count": 64,
     "metadata": {},
     "output_type": "execute_result"
    }
   ],
   "source": [
    "# Bldg Permits Issued\n",
    "# Which PERMIT TYPES are needed to answer data questions?\n",
    "# DECISION: KEEPING ALL\n",
    "# REASON: Even though some types only have small counts,\n",
    "#         several may be in a single neighborhood assoc boundary\n",
    "#         May group this once I start exploring, but will leave all details in place for now.\n",
    "\n",
    "df_bldg_issued.permit_type_descr.value_counts()"
   ]
  },
  {
   "cell_type": "code",
   "execution_count": 65,
   "metadata": {
    "scrolled": false
   },
   "outputs": [
    {
     "name": "stdout",
     "output_type": "stream",
     "text": [
      "Single Family Residence                     15399\n",
      "Demolition Permit - Residential              2339\n",
      "Sign - Ground /  Wall Signs                  2313\n",
      "Multifamily, Townhome                        1346\n",
      "General Office, Professional Services        1308\n",
      "Accessory Structure, Garage                  1227\n",
      "Accessory Structure, Decks                    714\n",
      "Multifamily, Tri-Plex, Quad, Apartments       647\n",
      "Retail, Department / Retail Stores            623\n",
      "Multifamily, Apt / Twnhome > 5 Unit Bldg      538\n",
      "Accessory Structure, Pools - Residential      536\n",
      "Multifamily, Condominium > 5 Unit Bldg        534\n",
      "Accessory Structure, Shed / Storage Bldg      526\n",
      "Tree Removal Permit                           476\n",
      "Demolition Permit - Commercial                429\n",
      "Restaurant (Full Service)                     420\n",
      "Accessory Structure, Carport                  334\n",
      "Warehouse, Storage S-1                        287\n",
      "Medical Office, Professional Services         268\n",
      "Detached Accessory Dwelling Unit              210\n",
      "Duplex                                        178\n",
      "Hotel / Motel                                 174\n",
      "Restaurant (Fast Food)                        160\n",
      "Leasing / Sales Office, Other                 144\n",
      "Home Occupation, Single Family Residence      122\n",
      "Accessory Structure, Pools                    112\n",
      "Restaurant (Take Out)                         109\n",
      "Master Permit Application                     107\n",
      "Multifamily, Condominium 3&4 Unit Bldg        105\n",
      "Tents, Stages                                  90\n",
      "Hospital, Institutional I-2                    84\n",
      "Telephone Services - Cell Towers & Co-Lo       83\n",
      "Community Education, Lecture Halls             80\n",
      "Personal Care Svcs,  Fitness Studio            78\n",
      "Blasting Permit - 6 Months                     69\n",
      "Religious Institution, Worship Space           66\n",
      "Personal Care Svcs, Hair/ Nail Salon           65\n",
      "Automobile Convenience, Markets                64\n",
      "College / University, Educational > 12Th       58\n",
      "Commercial Amusement (In), Other               57\n",
      "Bar Or Nightclub, Tavern And Bars              57\n",
      "Financial Institution, Banks                   52\n",
      "Personal Care Svcs, Barber/Beauty Shops        51\n",
      "Manufacturing, Light Hazardous (H1-H5)         50\n",
      "Self Service Storage, Storage Mod Hazard       45\n",
      "Warehouse, Storage S-2                         43\n",
      "Medical/Sci Lab, Labs, Testing/ Research       43\n",
      "Accessory Structure, Pools - Commercial        40\n",
      "Demo Permit - Residential Accessory            38\n",
      "Blasting Permit - 12 Months                    38\n",
      "Automobile Parking - Structure                 37\n",
      "General Office, Civic Administration           37\n",
      "Airport/Heliport, Passngr Statn(Waitarea       34\n",
      "Building Contractor Supply, Storage S-1        33\n",
      "Automobile Parking - Surface Lot               31\n",
      "Automobile Repair, Storage Mod Hazard          30\n",
      "Automobile Sales, Used                         29\n",
      "Automotive Service                             27\n",
      "Mobile Home Dwelling                           25\n",
      "Mobile Food Vendors                            24\n",
      "Billboard                                      23\n",
      "Religious Institution, Fellowship Hall         23\n",
      "Atm, Bank                                      19\n",
      "Personal Instruction, Educational  > 12        19\n",
      "Building Contractor Supply, Retail             18\n",
      "Fuel Storage, Hazardous (H1-H5)                17\n",
      "Distributive Bus/Wholesale, Wholesale St       16\n",
      "Vocational School, Educational  > 12Th         16\n",
      "Multifamily, Condominium 1&2 Unit Bldg         16\n",
      "Day Care Center (Up To 75) - Child Care        15\n",
      "College / University, Lecture Halls            15\n",
      "Telephone Services - Small Cell Towers         14\n",
      "Furniture Store, Dept/Retail Stores            14\n",
      "Microbrewery                                   14\n",
      "Park                                           13\n",
      "Manufacturing, Med Hazardous (H1-H5)           13\n",
      "Temporary Festival                             13\n",
      "Personal Care Svcs, Dry Clean & Laundry        12\n",
      "Retail, Drug Stores                            11\n",
      "Water/Sewer Pump Statn,Hazardous (H1-H5)       10\n",
      "Assisted Care Living                           10\n",
      "Stadium/Arena/Convention Cntr, Stadiums        10\n",
      "Cultural Center, Museum                         9\n",
      "Accessory Apartment                             9\n",
      "Car Wash                                        8\n",
      "Business Service, Business Other                8\n",
      "Moving Permit - Residential                     8\n",
      "Power/Gas Substatn, Hazardous (H1-H5)           8\n",
      "Radio/Tv Studio, Tv&Radio Statn(No Aud)         8\n",
      "Hospice, Institutional I-2                      8\n",
      "Recreation Center, Community Halls              8\n",
      "Comm. Amusement (Out), Stadiums                 8\n",
      "Wrecker Service, Business (Other)               7\n",
      "Club, Banquet Hall                              7\n",
      "Personal Care Svcs,  Tatoo Studio               7\n",
      "Automobile Sales, New                           7\n",
      "Airport/Heliport, Airtraffic Cntr Towers        7\n",
      "Home Improvement Sales, Retail                  6\n",
      "Heavy Equipment Sales                           6\n",
      "Multi-Media Production                          6\n",
      "Day Care Center (Over 75) - Child               6\n",
      "Stadium/Arena/Convention Cntr, Arenas           6\n",
      "Safety Services, Fire & Police Station          6\n",
      "Stadium/Arena/Convention Cntr, Auditor.         6\n",
      "Nursing Home                                    6\n",
      "Addition                                        6\n",
      "Vehicular Rental / Leasing                      5\n",
      "Business School, Educational Occ > 12Th         5\n",
      "Comm. Amusement (Out), Grandstands              5\n",
      "Cultural Center, Libraries                      5\n",
      "Kennel / Stable, Kennel / Pound                 5\n",
      "Bar Or Nightclub, Dance Halls                   5\n",
      "Rehabilitation Services                         5\n",
      "Funeral Home, Funeral Parlors                   5\n",
      "Medical Appliance Sales, Dept/Retail Str        4\n",
      "Boarding House (More Than 30 Day Stay)          4\n",
      "Bar Or Nightclub, Banquet Halls                 4\n",
      "Commercial Shell Generic                        4\n",
      "Community Education, Auditoriums                4\n",
      "Animal Hospital                                 4\n",
      "Motor Freight, Storage S-1                      4\n",
      "Artisan Distillery                              4\n",
      "Religious Institution, Auditorium               4\n",
      "Golf Course, Assembly A-3 (Clubhouse)           3\n",
      "Day Care Home, Single Family Residence          3\n",
      "Theater, Motion Picture Theaters                3\n",
      "Community Education, Stadiums                   3\n",
      "College / University, Stadiums                  3\n",
      "Water Treatment Plant, Hazardous (H1-H5)        3\n",
      "Group Home                                      3\n",
      "Manufacturing, Heavy Hazardous (H1-H5)          3\n",
      "Religious Institution, Gymnasium                3\n",
      "Commercial Amusement (In), Arcade               2\n",
      "Boarding House (Less Than 30 Day Stay)          2\n",
      "Personal Care Svcs,  Tanning Salon              2\n",
      "Hotel / Motel, Banquet Halls                    2\n",
      "Comm. Amusement (Out), Amusement Park           2\n",
      "Community Education, Libraries                  2\n",
      "Recycling Facility                              2\n",
      "Veternarian                                     2\n",
      "Commercial Storm Damage Generic                 2\n",
      "Dormitories                                     2\n",
      "Zoo                                             2\n",
      "Adult Entertainment, Night Club                 2\n",
      "Liquor Sales, Merchantile                       2\n",
      "Custom Assembly, Factory F-1                    2\n",
      "Stadium/Arena/Convention Cntr, Exhib Hal        2\n",
      "College / University, Auditoriums               1\n",
      "Day Care Center (Over 75) - Other               1\n",
      "Google Fiber Huts                               1\n",
      "Historical Home Events, Other R-3               1\n",
      "Historical Bed & Breakfast, Hotel               1\n",
      "Vehicular Sales And Service Limited, S-1        1\n",
      "College / University, Banquet Halls             1\n",
      "Comm. Amusement (Out), Bleachers                1\n",
      "Printing & Publishing, Print Shop               1\n",
      "Telephone Services - All Others Bldgs           1\n",
      "Check Cashing                                   1\n",
      "College / University, Grandstands               1\n",
      "Religious Institution, Banquet Hall             1\n",
      "Correctional Facility, Detention Centers        1\n",
      "Commercial Amusement (In), Bowling Alley        1\n",
      "Bed & Breakfast Inn, Hotel / Motel              1\n",
      "General Office, Courtrooms                      1\n",
      "Outpatient Clinic                               1\n",
      "Small Outdoor Music Event                       1\n",
      "Building Contractor Supply, Storage S-2         1\n",
      "Camp, Gymnasiums                                1\n",
      "Correctional Facility, Prisons                  1\n",
      "Security Guard Residence, Apartment             1\n",
      "Recreation Center, Exhibition Halls             1\n",
      "Community Education, Gymnasiums                 1\n",
      "Country Club, Banquet Hall                      1\n",
      "Tank Farm, Hazardous (H1-H5)                    1\n",
      "Cultural Center, Art Galleries                  1\n",
      "Waste Water Treatment, Hazardous (H1-H5)        1\n",
      "Community Education, Grandstands                1\n",
      "Vocational School, Lecture Halls                1\n",
      "Name: permit_subtype_descr, dtype: int64\n"
     ]
    }
   ],
   "source": [
    "# Bldg Permits Issued\n",
    "# Which PERMIT SUB-TYPES are needed to answer data questions?\n",
    "# DECISION: KEEPING ALL\n",
    "# REASON: Even though some types only have small counts,\n",
    "#         several may be in a single neighborhood assoc boundary\n",
    "#         May group this once I start exploring, but will leave all details in place for now.\n",
    "\n",
    "list_bldg_issued_subtype_counts = df_bldg_issued.permit_subtype_descr.value_counts()\n",
    "print(list_bldg_issued_subtype_counts)"
   ]
  },
  {
   "cell_type": "code",
   "execution_count": 66,
   "metadata": {},
   "outputs": [
    {
     "name": "stdout",
     "output_type": "stream",
     "text": [
      "<class 'pandas.core.frame.DataFrame'>\n",
      "RangeIndex: 521 entries, 0 to 520\n",
      "Data columns (total 27 columns):\n",
      " #   Column                      Non-Null Count  Dtype  \n",
      "---  ------                      --------------  -----  \n",
      " 0   date_submitted              521 non-null    object \n",
      " 1   application_type_descr      521 non-null    object \n",
      " 2   mpc_case_number             520 non-null    object \n",
      " 3   ordinance_number            157 non-null    object \n",
      " 4   status                      521 non-null    object \n",
      " 5   mpc_meeting_date            521 non-null    object \n",
      " 6   mpc_action                  235 non-null    object \n",
      " 7   project_name                417 non-null    object \n",
      " 8   location                    498 non-null    object \n",
      " 9   reviewer                    521 non-null    object \n",
      " 10  reviewer_email              465 non-null    object \n",
      " 11  case_descr                  503 non-null    object \n",
      " 12  applicant                   501 non-null    object \n",
      " 13  applicant_representative    497 non-null    object \n",
      " 14  applicant_email             496 non-null    object \n",
      " 15  applicant_phone             498 non-null    object \n",
      " 16  applicant_address_1         497 non-null    object \n",
      " 17  applicant_address_2         139 non-null    object \n",
      " 18  applicant_city              497 non-null    object \n",
      " 19  applicant_state             497 non-null    object \n",
      " 20  applicant_zip               497 non-null    object \n",
      " 21  council_3rd_reading_date    0 non-null      float64\n",
      " 22  council_3rd_reading_action  0 non-null      float64\n",
      " 23  council_district            489 non-null    object \n",
      " 24  latitude                    489 non-null    float64\n",
      " 25  longitude                   489 non-null    float64\n",
      " 26  mapped_location             489 non-null    object \n",
      "dtypes: float64(4), object(23)\n",
      "memory usage: 110.0+ KB\n"
     ]
    }
   ],
   "source": [
    "# Planning / Zoning Dept. Applications and Permits Issued\n",
    "# This data shows ALL PENDING, and only the LAST TWO MONTHS of ISSUED.\n",
    "# ACTIONS TAKEN BELOW: \n",
    "#    1. Converted date fields to datetime\n",
    "#    2. Dropped the two columns that were all null values\n",
    "\n",
    "df_planning.info()"
   ]
  },
  {
   "cell_type": "code",
   "execution_count": 67,
   "metadata": {},
   "outputs": [
    {
     "data": {
      "text/plain": [
       "0   2019-04-01\n",
       "1   2019-11-27\n",
       "2   2020-02-14\n",
       "3   2019-12-26\n",
       "4   2020-02-12\n",
       "Name: date_submitted, dtype: datetime64[ns]"
      ]
     },
     "execution_count": 67,
     "metadata": {},
     "output_type": "execute_result"
    }
   ],
   "source": [
    "# Convert date_submitted to datetime \n",
    "\n",
    "df_planning.date_submitted = pd.to_datetime(df_planning.date_submitted)\n",
    "df_planning.date_submitted.head()"
   ]
  },
  {
   "cell_type": "code",
   "execution_count": 68,
   "metadata": {},
   "outputs": [
    {
     "data": {
      "text/plain": [
       "0   2020-06-11\n",
       "1   2020-01-16\n",
       "2   2020-04-09\n",
       "3   2020-06-11\n",
       "4   2020-05-14\n",
       "Name: mpc_meeting_date, dtype: datetime64[ns]"
      ]
     },
     "execution_count": 68,
     "metadata": {},
     "output_type": "execute_result"
    }
   ],
   "source": [
    "# Convert mpc_meeting_date to datetime \n",
    "\n",
    "df_planning.mpc_meeting_date = pd.to_datetime(df_planning.mpc_meeting_date)\n",
    "df_planning.mpc_meeting_date.head()"
   ]
  },
  {
   "cell_type": "code",
   "execution_count": 69,
   "metadata": {},
   "outputs": [
    {
     "data": {
      "text/plain": [
       "date_submitted                  0\n",
       "application_type_descr          0\n",
       "mpc_case_number                 1\n",
       "ordinance_number              364\n",
       "status                          0\n",
       "mpc_meeting_date                0\n",
       "mpc_action                    286\n",
       "project_name                  104\n",
       "location                       23\n",
       "reviewer                        0\n",
       "reviewer_email                 56\n",
       "case_descr                     18\n",
       "applicant                      20\n",
       "applicant_representative       24\n",
       "applicant_email                25\n",
       "applicant_phone                23\n",
       "applicant_address_1            24\n",
       "applicant_address_2           382\n",
       "applicant_city                 24\n",
       "applicant_state                24\n",
       "applicant_zip                  24\n",
       "council_3rd_reading_date      521\n",
       "council_3rd_reading_action    521\n",
       "council_district               32\n",
       "latitude                       32\n",
       "longitude                      32\n",
       "mapped_location                32\n",
       "dtype: int64"
      ]
     },
     "execution_count": 69,
     "metadata": {},
     "output_type": "execute_result"
    }
   ],
   "source": [
    "# To count nulls\n",
    "\n",
    "df_planning.isnull().sum()"
   ]
  },
  {
   "cell_type": "code",
   "execution_count": 70,
   "metadata": {},
   "outputs": [
    {
     "data": {
      "text/plain": [
       "date_submitted                0\n",
       "application_type_descr        0\n",
       "mpc_case_number               1\n",
       "ordinance_number            364\n",
       "status                        0\n",
       "mpc_meeting_date              0\n",
       "mpc_action                  286\n",
       "project_name                104\n",
       "location                     23\n",
       "reviewer                      0\n",
       "reviewer_email               56\n",
       "case_descr                   18\n",
       "applicant                    20\n",
       "applicant_representative     24\n",
       "applicant_email              25\n",
       "applicant_phone              23\n",
       "applicant_address_1          24\n",
       "applicant_address_2         382\n",
       "applicant_city               24\n",
       "applicant_state              24\n",
       "applicant_zip                24\n",
       "council_district             32\n",
       "latitude                     32\n",
       "longitude                    32\n",
       "mapped_location              32\n",
       "dtype: int64"
      ]
     },
     "execution_count": 70,
     "metadata": {},
     "output_type": "execute_result"
    }
   ],
   "source": [
    "# Dropping two columns that have all null values. Keeping same df name.\n",
    "\n",
    "df_planning = df_planning.drop(columns = ['council_3rd_reading_date'\n",
    "                                          , 'council_3rd_reading_action'\n",
    "                                         ])\n",
    "df_planning.isnull().sum()"
   ]
  },
  {
   "cell_type": "code",
   "execution_count": 71,
   "metadata": {},
   "outputs": [
    {
     "data": {
      "text/plain": [
       "Index(['date_submitted', 'application_type_descr', 'mpc_case_number',\n",
       "       'ordinance_number', 'status', 'mpc_meeting_date', 'mpc_action',\n",
       "       'project_name', 'location', 'reviewer', 'reviewer_email', 'case_descr',\n",
       "       'applicant', 'applicant_representative', 'applicant_email',\n",
       "       'applicant_phone', 'applicant_address_1', 'applicant_address_2',\n",
       "       'applicant_city', 'applicant_state', 'applicant_zip',\n",
       "       'council_district', 'latitude', 'longitude', 'mapped_location'],\n",
       "      dtype='object')"
      ]
     },
     "execution_count": 71,
     "metadata": {},
     "output_type": "execute_result"
    }
   ],
   "source": [
    "# Confirming that the columns were dropped.\n",
    "\n",
    "df_planning.columns"
   ]
  },
  {
   "cell_type": "code",
   "execution_count": 72,
   "metadata": {},
   "outputs": [
    {
     "data": {
      "text/plain": [
       "Recommend Approval                         99\n",
       "Approved by MPC                            62\n",
       "Approve with Conditions                    59\n",
       "Deferred Indefinitely by App at MPC         4\n",
       "Withdrawn                                   2\n",
       "Deferred Indefinitely by App before MPC     2\n",
       "Approved by Executive Director              2\n",
       "Disapprove with Conditions                  1\n",
       "Deferred by MPC                             1\n",
       "Deferred by Applic before MPC               1\n",
       "Neutral / No Position                       1\n",
       "Disapprove                                  1\n",
       "Name: mpc_action, dtype: int64"
      ]
     },
     "execution_count": 72,
     "metadata": {},
     "output_type": "execute_result"
    }
   ],
   "source": [
    "# Looking at value counds for mpc (Municipal Planning Committee) actions\n",
    "# Choosing, again, to leave them all in place, for now.\n",
    "\n",
    "df_planning.mpc_action.value_counts()"
   ]
  },
  {
   "cell_type": "code",
   "execution_count": 73,
   "metadata": {},
   "outputs": [
    {
     "data": {
      "text/plain": [
       "PENDING        220\n",
       "CNCLACTIVE     207\n",
       "NEW             71\n",
       "MPCCOMPLETE     22\n",
       "UNKNOWN          1\n",
       "Name: status, dtype: int64"
      ]
     },
     "execution_count": 73,
     "metadata": {},
     "output_type": "execute_result"
    }
   ],
   "source": [
    "# Status has no nulls: This includes every entry\n",
    "# mpc_action, above, is apparently only filled in when an action is taken.\n",
    "\n",
    "df_planning.status.value_counts()"
   ]
  },
  {
   "cell_type": "markdown",
   "metadata": {},
   "source": [
    "##  Making new dfs with COUNTS\n",
    "- df_bldg_apps\n",
    "- df_bldg_issued\n",
    "- df_planning\n"
   ]
  },
  {
   "cell_type": "markdown",
   "metadata": {},
   "source": [
    "## LAST STEP: Save output files in .. / data / processed / filename_clean\n",
    "NOTE: \"clean02\" means the cleaning was done in dataprep02 notebook\n",
    "\n",
    "df = df.to_csv('../data/processed/filename_clean.csv', index = False)\n",
    "\n",
    "Save Geojson file to .shp (shapefile)"
   ]
  }
 ],
 "metadata": {
  "kernelspec": {
   "display_name": "Python 3",
   "language": "python",
   "name": "python3"
  },
  "language_info": {
   "codemirror_mode": {
    "name": "ipython",
    "version": 3
   },
   "file_extension": ".py",
   "mimetype": "text/x-python",
   "name": "python",
   "nbconvert_exporter": "python",
   "pygments_lexer": "ipython3",
   "version": "3.7.6"
  }
 },
 "nbformat": 4,
 "nbformat_minor": 2
}
