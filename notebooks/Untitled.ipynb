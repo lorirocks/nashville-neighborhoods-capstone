{
 "cells": [
  {
   "cell_type": "markdown",
   "metadata": {},
   "source": [
    "# ETL and EDA\n",
    "\n",
    "### Data questions:\n",
    "1. What has the impact of \n",
    "\n",
    "- Extracted data from data.nashville.gov\n",
    "- Transforming: To determine which columns are needed from each of the datasets:\n",
    "    - Building Permit Applications\n",
    "    - Building Permits Issued\n",
    "    - Planning/Zoning Change Applications\n",
    "    - Property Standards Violations\n",
    "    - Residential Short Term Rental Permits (STRPs)\n",
    " \n",
    "    "
   ]
  },
  {
   "cell_type": "code",
   "execution_count": null,
   "metadata": {},
   "outputs": [],
   "source": []
  }
 ],
 "metadata": {
  "kernelspec": {
   "display_name": "Python 3",
   "language": "python",
   "name": "python3"
  },
  "language_info": {
   "codemirror_mode": {
    "name": "ipython",
    "version": 3
   },
   "file_extension": ".py",
   "mimetype": "text/x-python",
   "name": "python",
   "nbconvert_exporter": "python",
   "pygments_lexer": "ipython3",
   "version": "3.7.3"
  }
 },
 "nbformat": 4,
 "nbformat_minor": 2
}
