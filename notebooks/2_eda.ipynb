{
 "cells": [
  {
   "cell_type": "markdown",
   "metadata": {},
   "source": [
    "\n",
    "# Don't use this yet. Going back to do one more cleaning step first (adding rolling date columns)\n",
    "\n",
    "## Capstone Project \"What's Happening in my Neighborhood\"\n",
    "by Lori Butler  \n",
    "\n",
    "\n",
    "**Data Questions**\n",
    "1. Which neighborhoods have had the most, and the least, growth during the past three years based on the count of building permits by type, and by cost of construction.\n",
    "2. Do any neighborhoods have recent increases in building permit applications which may signal growth in the near future?\n",
    "3. In instances where zoning changes are sought, might those be a leading indicator of a subsequent increase in building permit applications? If so, what is the average time lag?\n",
    "\n",
    "**Data Sources**\n",
    "- All data is through Friday 6/5/2020\n",
    "- CSV\n",
    "    - df_bldg_apps_clean = Building Permit Applications, rolling 3 years\n",
    "    - df_bldg_issued_clean = Building Permits Issues, rolling 3 years\n",
    "    - df_planning_clean = Planning (Zoning) Department Applications (all pending), and issued (rolling 2 months after issuance)\n",
    "- Shapefile (raw data was GEOJSON)\n",
    "    - df_na_bound_clean = Neighborhood Boundaries GeoJSON (polygon) folders\n",
    "\n",
    "**Directory Structure:**\n",
    "- data\n",
    "    - **cleaned = clean files, ready to be used for EDA** *this notebook uses cleaned files* \n",
    "    - interim = temporary files used during cleaning\n",
    "    - raw = unedited csv and Excel files used as teh source of analysis\n",
    "\n",
    "- notebooks\n",
    "    - 1_dataprep = standard cleanup of columns, data types, and additional data manipulation specific to this project (nulls, lat/lon, rolling week/month, etc.)\n",
    "    - 2_eda = EDA to create reports, and generate clean files to export to visualization tool.\n",
    "- notes_and_docs = documents created for reference, metadata, etc\n",
    "- reports = final reports for presentations\n",
    "\n",
    "*Notebook and data structure inspired by **Practicle Business Python** article by Chris Moffitt https://pbpython.com/notebook-process.html*"
   ]
  },
  {
   "cell_type": "code",
   "execution_count": null,
   "metadata": {},
   "outputs": [],
   "source": [
    "import pandas as pd\n",
    "import numpy as np\n",
    "import geopandas as gpd   # Prerequisite: Activate geospatial environment via Conda Prompt\n",
    "import matplotlib.pyplot as plt  \n",
    "import folium                   \n",
    "from folium.plugins import MarkerCluster\n",
    "\n",
    "# May not need this until I do EDA, but importing now as a reminder.\n",
    "from shapely.geometry import Point  \n",
    "\n",
    "# To create rolling dates to view past week, 30 days, etc.  (Not sure if I need this yet)\n",
    "from datetime import timedelta  "
   ]
  },
  {
   "cell_type": "code",
   "execution_count": null,
   "metadata": {},
   "outputs": [],
   "source": [
    "# df_bldg_apps_clean = pd.read_csv('../data/cleaned/bldg_permit_applications_clean.csv')\n",
    "# df_bldg_apps_clean.shape"
   ]
  },
  {
   "cell_type": "code",
   "execution_count": null,
   "metadata": {},
   "outputs": [],
   "source": [
    "# Building Dept. Permits Issued\n",
    "# low_memory = False was added to remove a low-memory warning. Doing this prevents the\n",
    "# system from trying to assign dtypes until after the full file has been read\n",
    "# Resource: https://tinyurl.com/stackoverflow-low-memory\n",
    "\n",
    "# df_bldg_issued_clean = pd.read_csv('../data/cleaned/bldg_permits_issued_clean.csv'\n",
    "                                   , low_memory = False)\n",
    "# df_bldg_issued_clean.shape"
   ]
  },
  {
   "cell_type": "code",
   "execution_count": null,
   "metadata": {},
   "outputs": [],
   "source": [
    "# df_planning_clean = pd.read_csv('../data/cleaned/planning_dept_clean.csv')\n",
    "# df_planning_clean.shape"
   ]
  },
  {
   "cell_type": "code",
   "execution_count": null,
   "metadata": {},
   "outputs": [],
   "source": [
    "# Geopandas, read shapefile\n",
    "# df_na_bound_clean = gpd.read_file('../data/cleaned/na_boundaries_clean.shp')\n",
    "# df_na_bound_clean.shape"
   ]
  },
  {
   "cell_type": "code",
   "execution_count": null,
   "metadata": {},
   "outputs": [],
   "source": []
  }
 ],
 "metadata": {
  "kernelspec": {
   "display_name": "Python 3",
   "language": "python",
   "name": "python3"
  },
  "language_info": {
   "codemirror_mode": {
    "name": "ipython",
    "version": 3
   },
   "file_extension": ".py",
   "mimetype": "text/x-python",
   "name": "python",
   "nbconvert_exporter": "python",
   "pygments_lexer": "ipython3",
   "version": "3.7.6"
  }
 },
 "nbformat": 4,
 "nbformat_minor": 4
}
