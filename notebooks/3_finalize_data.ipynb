{
 "cells": [
  {
   "cell_type": "markdown",
   "metadata": {},
   "source": [
    "## Finalizing Bldg Permit Data for Creating Visualizations\n",
    "- Discovered when starting to create visualizations that I needed one cleaned dataset with **both** types of permits Applications and Permits; and I only needed *some* of the cleaning steps used in the prior notebooks, and in a different sequence than they had been applied. I may need those steps later, so I'm leaving those notebooks intact.\n",
    "- SOLUTION: Creating new notebook 3_finalize_data and will only do the steps needed to get final, single dataset.\n",
    "- NAMING: To differentiatl these two bldg. permit dfs from prior notebooks, using these names:\n",
    "    - df1_applic (permit applications)  \n",
    "    - df2_issued (permits issued)  \n",
    "    - df3_all (final, merged file)  \n",
    "- PREPARE\n",
    "    1. Column name cleanup\n",
    "    2. Data types cleanup\n",
    "    3. New column: 'category' (Residential, Commercial, Other)\n",
    "    4. New column: 'type_subtype' concatenation\n",
    "    5. Drop addresses with \"0\" house number\n",
    "    6. Pull lat/lon from mapped_location\n",
    "    7. Drop rows with null lat/lon\n",
    "    8. Sort by address (prerequsite to dropping duplicates)\n",
    "    9. Drop duplicates\n",
    "    10. Convert to geodataframe\n",
    "    11. Keep only addresses within Davidson County\n",
    "    12. Add Neighborhood Association names\n",
    "    13. Merge\n",
    "    14. Export"
   ]
  },
  {
   "cell_type": "code",
   "execution_count": 1,
   "metadata": {
    "collapsed": true
   },
   "outputs": [],
   "source": [
    "import pandas as pd\n",
    "import numpy as np\n",
    "import geopandas as gpd   # Prerequisite: Anotes_and_docsctivate geospatial environment via Conda Prompt\n",
    "import matplotlib.pyplot as plt  \n",
    "import folium                   \n",
    "from folium.plugins import MarkerCluster\n",
    "import datetime\n",
    "from shapely.geometry import Point  \n",
    "import re # To use RegEx to pull ot lat/long from building permit applications/issued"
   ]
  },
  {
   "cell_type": "markdown",
   "metadata": {},
   "source": [
    "## Reading in raw data for building permits"
   ]
  },
  {
   "cell_type": "code",
   "execution_count": 2,
   "metadata": {
    "collapsed": true
   },
   "outputs": [
    {
     "data": {
      "text/html": [
       "<div>\n",
       "<style scoped>\n",
       "    .dataframe tbody tr th:only-of-type {\n",
       "        vertical-align: middle;\n",
       "    }\n",
       "\n",
       "    .dataframe tbody tr th {\n",
       "        vertical-align: top;\n",
       "    }\n",
       "\n",
       "    .dataframe thead th {\n",
       "        text-align: right;\n",
       "    }\n",
       "</style>\n",
       "<table border=\"1\" class=\"dataframe\">\n",
       "  <thead>\n",
       "    <tr style=\"text-align: right;\">\n",
       "      <th></th>\n",
       "      <th>Permit #</th>\n",
       "      <th>Permit Type Description</th>\n",
       "      <th>Permit Subtype Description</th>\n",
       "      <th>Parcel</th>\n",
       "      <th>Date Entered</th>\n",
       "      <th>Date Issued</th>\n",
       "      <th>Construction Cost</th>\n",
       "      <th>Address</th>\n",
       "      <th>City</th>\n",
       "      <th>State</th>\n",
       "      <th>ZIP</th>\n",
       "      <th>Subdivision / Lot</th>\n",
       "      <th>Contact</th>\n",
       "      <th>Permit Type</th>\n",
       "      <th>Permit Subtype</th>\n",
       "      <th>IVR Tracking #</th>\n",
       "      <th>Purpose</th>\n",
       "      <th>Council District</th>\n",
       "      <th>Mapped Location</th>\n",
       "    </tr>\n",
       "  </thead>\n",
       "  <tbody>\n",
       "    <tr>\n",
       "      <th>0</th>\n",
       "      <td>T2020016213</td>\n",
       "      <td>Building Residential - New</td>\n",
       "      <td>Single Family Residence</td>\n",
       "      <td>10216006100</td>\n",
       "      <td>03/11/2020</td>\n",
       "      <td>NaN</td>\n",
       "      <td>NaN</td>\n",
       "      <td>748  DARDEN PL</td>\n",
       "      <td>NASHVILLE</td>\n",
       "      <td>TN</td>\n",
       "      <td>37205</td>\n",
       "      <td>LOT 168 SEC 9 PT 2 HILLWOOD EST</td>\n",
       "      <td>Kingdom Builders of Tennesse</td>\n",
       "      <td>CARN</td>\n",
       "      <td>CAA01R301</td>\n",
       "      <td>3781725</td>\n",
       "      <td>New Single family dwelling.  REJECTED: APPLICA...</td>\n",
       "      <td>23.0</td>\n",
       "      <td>748 DARDEN PL\\nNASHVILLE, TN 37205\\n(36.125944...</td>\n",
       "    </tr>\n",
       "    <tr>\n",
       "      <th>1</th>\n",
       "      <td>T2019073204</td>\n",
       "      <td>Building Moving Permit</td>\n",
       "      <td>Moving Permit - Residential</td>\n",
       "      <td>04600002700</td>\n",
       "      <td>12/02/2019</td>\n",
       "      <td>NaN</td>\n",
       "      <td>2500.0</td>\n",
       "      <td>4836  BULL RUN RD</td>\n",
       "      <td>ASHLAND CITY</td>\n",
       "      <td>TN</td>\n",
       "      <td>37015</td>\n",
       "      <td>N OF BULL RUN RD W OF OLD HICKORY BLVD</td>\n",
       "      <td>CLAYTON HOMES #054</td>\n",
       "      <td>CAMV</td>\n",
       "      <td>CAZ09A001</td>\n",
       "      <td>3736813</td>\n",
       "      <td>Move existing mobile home from property out of...</td>\n",
       "      <td>1.0</td>\n",
       "      <td>4836 BULL RUN RD\\nASHLAND CITY, TN 37015\\n(36....</td>\n",
       "    </tr>\n",
       "  </tbody>\n",
       "</table>\n",
       "</div>"
      ],
      "text/plain": [
       "      Permit #     Permit Type Description   Permit Subtype Description  \\\n",
       "0  T2020016213  Building Residential - New      Single Family Residence   \n",
       "1  T2019073204      Building Moving Permit  Moving Permit - Residential   \n",
       "\n",
       "        Parcel Date Entered  Date Issued  Construction Cost  \\\n",
       "0  10216006100   03/11/2020          NaN                NaN   \n",
       "1  04600002700   12/02/2019          NaN             2500.0   \n",
       "\n",
       "             Address          City State    ZIP  \\\n",
       "0     748  DARDEN PL     NASHVILLE    TN  37205   \n",
       "1  4836  BULL RUN RD  ASHLAND CITY    TN  37015   \n",
       "\n",
       "                        Subdivision / Lot                       Contact  \\\n",
       "0         LOT 168 SEC 9 PT 2 HILLWOOD EST  Kingdom Builders of Tennesse   \n",
       "1  N OF BULL RUN RD W OF OLD HICKORY BLVD            CLAYTON HOMES #054   \n",
       "\n",
       "  Permit Type Permit Subtype  IVR Tracking #  \\\n",
       "0        CARN      CAA01R301         3781725   \n",
       "1        CAMV      CAZ09A001         3736813   \n",
       "\n",
       "                                             Purpose  Council District  \\\n",
       "0  New Single family dwelling.  REJECTED: APPLICA...              23.0   \n",
       "1  Move existing mobile home from property out of...               1.0   \n",
       "\n",
       "                                     Mapped Location  \n",
       "0  748 DARDEN PL\\nNASHVILLE, TN 37205\\n(36.125944...  \n",
       "1  4836 BULL RUN RD\\nASHLAND CITY, TN 37015\\n(36....  "
      ]
     },
     "execution_count": 2,
     "metadata": {},
     "output_type": "execute_result"
    }
   ],
   "source": [
    "# Building Dept. Permit Applications\n",
    "\n",
    "df1_applic = pd.read_csv('../data/raw/Building_Permit_Applications_2020_06_05.csv')\n",
    "df1_applic.head(2)"
   ]
  },
  {
   "cell_type": "code",
   "execution_count": 3,
   "metadata": {},
   "outputs": [
    {
     "data": {
      "text/plain": [
       "(3106, 19)"
      ]
     },
     "execution_count": 3,
     "metadata": {},
     "output_type": "execute_result"
    }
   ],
   "source": [
    "df1_applic.shape"
   ]
  },
  {
   "cell_type": "code",
   "execution_count": 4,
   "metadata": {
    "collapsed": true
   },
   "outputs": [
    {
     "data": {
      "text/html": [
       "<div>\n",
       "<style scoped>\n",
       "    .dataframe tbody tr th:only-of-type {\n",
       "        vertical-align: middle;\n",
       "    }\n",
       "\n",
       "    .dataframe tbody tr th {\n",
       "        vertical-align: top;\n",
       "    }\n",
       "\n",
       "    .dataframe thead th {\n",
       "        text-align: right;\n",
       "    }\n",
       "</style>\n",
       "<table border=\"1\" class=\"dataframe\">\n",
       "  <thead>\n",
       "    <tr style=\"text-align: right;\">\n",
       "      <th></th>\n",
       "      <th>Permit #</th>\n",
       "      <th>Permit Type Description</th>\n",
       "      <th>Permit Subtype Description</th>\n",
       "      <th>Parcel</th>\n",
       "      <th>Date Entered</th>\n",
       "      <th>Date Issued</th>\n",
       "      <th>Construction Cost</th>\n",
       "      <th>Address</th>\n",
       "      <th>City</th>\n",
       "      <th>State</th>\n",
       "      <th>ZIP</th>\n",
       "      <th>Subdivision / Lot</th>\n",
       "      <th>Contact</th>\n",
       "      <th>Permit Type</th>\n",
       "      <th>Permit Subtype</th>\n",
       "      <th>IVR Tracking #</th>\n",
       "      <th>Purpose</th>\n",
       "      <th>Council District</th>\n",
       "      <th>Census Tract</th>\n",
       "      <th>Mapped Location</th>\n",
       "    </tr>\n",
       "  </thead>\n",
       "  <tbody>\n",
       "    <tr>\n",
       "      <th>0</th>\n",
       "      <td>2019070460</td>\n",
       "      <td>Building Residential - New</td>\n",
       "      <td>Single Family Residence</td>\n",
       "      <td>058100C04900CO</td>\n",
       "      <td>11/18/2019</td>\n",
       "      <td>12/09/2019</td>\n",
       "      <td>270585.0</td>\n",
       "      <td>1037  LAWSONS RIDGE DR</td>\n",
       "      <td>NASHVILLE</td>\n",
       "      <td>TN</td>\n",
       "      <td>37218</td>\n",
       "      <td>LOT 49 CARRINGTON PLACE PH 5</td>\n",
       "      <td>CELEBRATION HOMES LLC</td>\n",
       "      <td>CARN</td>\n",
       "      <td>CAA01R301</td>\n",
       "      <td>3733056</td>\n",
       "      <td>To construct a single family residence of 2402...</td>\n",
       "      <td>1.0</td>\n",
       "      <td>37010105.0</td>\n",
       "      <td>1037 LAWSONS RIDGE DR\\nNASHVILLE, TN 37218</td>\n",
       "    </tr>\n",
       "    <tr>\n",
       "      <th>1</th>\n",
       "      <td>2020016259</td>\n",
       "      <td>Building Residential - Rehab</td>\n",
       "      <td>Single Family Residence</td>\n",
       "      <td>160150A07000CO</td>\n",
       "      <td>03/12/2020</td>\n",
       "      <td>03/12/2020</td>\n",
       "      <td>12000.0</td>\n",
       "      <td>210  HEARTHSTONE MANOR LN</td>\n",
       "      <td>BRENTWOOD</td>\n",
       "      <td>TN</td>\n",
       "      <td>37027</td>\n",
       "      <td>UNIT 70 HEARTHSTONE MANOR CONDOMINIUM PHASE 4</td>\n",
       "      <td>ACCESS &amp; MOBILITY INC</td>\n",
       "      <td>CARR</td>\n",
       "      <td>CAA01R301</td>\n",
       "      <td>3781961</td>\n",
       "      <td>to install a new elevator/platform lift from g...</td>\n",
       "      <td>4.0</td>\n",
       "      <td>37018803.0</td>\n",
       "      <td>210 HEARTHSTONE MANOR LN\\nBRENTWOOD, TN 37027\\...</td>\n",
       "    </tr>\n",
       "  </tbody>\n",
       "</table>\n",
       "</div>"
      ],
      "text/plain": [
       "     Permit #       Permit Type Description Permit Subtype Description  \\\n",
       "0  2019070460    Building Residential - New    Single Family Residence   \n",
       "1  2020016259  Building Residential - Rehab    Single Family Residence   \n",
       "\n",
       "           Parcel Date Entered Date Issued  Construction Cost  \\\n",
       "0  058100C04900CO   11/18/2019  12/09/2019           270585.0   \n",
       "1  160150A07000CO   03/12/2020  03/12/2020            12000.0   \n",
       "\n",
       "                     Address       City State    ZIP  \\\n",
       "0     1037  LAWSONS RIDGE DR  NASHVILLE    TN  37218   \n",
       "1  210  HEARTHSTONE MANOR LN  BRENTWOOD    TN  37027   \n",
       "\n",
       "                               Subdivision / Lot                Contact  \\\n",
       "0                   LOT 49 CARRINGTON PLACE PH 5  CELEBRATION HOMES LLC   \n",
       "1  UNIT 70 HEARTHSTONE MANOR CONDOMINIUM PHASE 4  ACCESS & MOBILITY INC   \n",
       "\n",
       "  Permit Type Permit Subtype  IVR Tracking #  \\\n",
       "0        CARN      CAA01R301         3733056   \n",
       "1        CARR      CAA01R301         3781961   \n",
       "\n",
       "                                             Purpose  Council District  \\\n",
       "0  To construct a single family residence of 2402...               1.0   \n",
       "1  to install a new elevator/platform lift from g...               4.0   \n",
       "\n",
       "   Census Tract                                    Mapped Location  \n",
       "0    37010105.0         1037 LAWSONS RIDGE DR\\nNASHVILLE, TN 37218  \n",
       "1    37018803.0  210 HEARTHSTONE MANOR LN\\nBRENTWOOD, TN 37027\\...  "
      ]
     },
     "execution_count": 4,
     "metadata": {},
     "output_type": "execute_result"
    }
   ],
   "source": [
    "# Building Dept. Permits Issued\n",
    "# low_memory = False was added to remove a low-memory warning. Doing this prevents the\n",
    "# system from trying to assign dtypes until after the full file has been read\n",
    "# Resource: https://tinyurl.com/stackoverflow-low-memory\n",
    "\n",
    "df2_issued = pd.read_csv('../data/raw/Building_Permits_Issued_2020_06_05.csv'\n",
    "                        , low_memory=False\n",
    "                        )\n",
    "df2_issued.head(2)"
   ]
  },
  {
   "cell_type": "code",
   "execution_count": 5,
   "metadata": {},
   "outputs": [
    {
     "data": {
      "text/plain": [
       "(33909, 20)"
      ]
     },
     "execution_count": 5,
     "metadata": {},
     "output_type": "execute_result"
    }
   ],
   "source": [
    "df2_issued.shape"
   ]
  },
  {
   "cell_type": "markdown",
   "metadata": {},
   "source": [
    "## 1. Column name cleanup"
   ]
  },
  {
   "cell_type": "code",
   "execution_count": 6,
   "metadata": {
    "collapsed": true
   },
   "outputs": [
    {
     "data": {
      "text/plain": [
       "Index(['Permit #', 'Permit Type Description', 'Permit Subtype Description',\n",
       "       'Parcel', 'Date Entered', 'Date Issued', 'Construction Cost', 'Address',\n",
       "       'City', 'State', 'ZIP', 'Subdivision / Lot', 'Contact', 'Permit Type',\n",
       "       'Permit Subtype', 'IVR Tracking #', 'Purpose', 'Council District',\n",
       "       'Mapped Location'],\n",
       "      dtype='object')"
      ]
     },
     "execution_count": 6,
     "metadata": {},
     "output_type": "execute_result"
    }
   ],
   "source": [
    "# PERMIT APPLICATIONS\n",
    "\n",
    "df1_applic.columns"
   ]
  },
  {
   "cell_type": "code",
   "execution_count": 7,
   "metadata": {
    "collapsed": true
   },
   "outputs": [
    {
     "data": {
      "text/html": [
       "<div>\n",
       "<style scoped>\n",
       "    .dataframe tbody tr th:only-of-type {\n",
       "        vertical-align: middle;\n",
       "    }\n",
       "\n",
       "    .dataframe tbody tr th {\n",
       "        vertical-align: top;\n",
       "    }\n",
       "\n",
       "    .dataframe thead th {\n",
       "        text-align: right;\n",
       "    }\n",
       "</style>\n",
       "<table border=\"1\" class=\"dataframe\">\n",
       "  <thead>\n",
       "    <tr style=\"text-align: right;\">\n",
       "      <th></th>\n",
       "      <th>permit_number</th>\n",
       "      <th>permit_type_descr</th>\n",
       "      <th>permit_subtype_descr</th>\n",
       "      <th>parcel</th>\n",
       "      <th>date_entered</th>\n",
       "      <th>date_issued</th>\n",
       "      <th>construction_cost</th>\n",
       "      <th>address</th>\n",
       "      <th>city</th>\n",
       "      <th>state</th>\n",
       "      <th>zip</th>\n",
       "      <th>subdivision_lot</th>\n",
       "      <th>contact</th>\n",
       "      <th>permit_type</th>\n",
       "      <th>permit_subtype</th>\n",
       "      <th>ivr_tracking_number</th>\n",
       "      <th>purpose</th>\n",
       "      <th>council_district</th>\n",
       "      <th>mapped_location</th>\n",
       "    </tr>\n",
       "  </thead>\n",
       "  <tbody>\n",
       "    <tr>\n",
       "      <th>0</th>\n",
       "      <td>T2020016213</td>\n",
       "      <td>Building Residential - New</td>\n",
       "      <td>Single Family Residence</td>\n",
       "      <td>10216006100</td>\n",
       "      <td>03/11/2020</td>\n",
       "      <td>NaN</td>\n",
       "      <td>NaN</td>\n",
       "      <td>748  DARDEN PL</td>\n",
       "      <td>NASHVILLE</td>\n",
       "      <td>TN</td>\n",
       "      <td>37205</td>\n",
       "      <td>LOT 168 SEC 9 PT 2 HILLWOOD EST</td>\n",
       "      <td>Kingdom Builders of Tennesse</td>\n",
       "      <td>CARN</td>\n",
       "      <td>CAA01R301</td>\n",
       "      <td>3781725</td>\n",
       "      <td>New Single family dwelling.  REJECTED: APPLICA...</td>\n",
       "      <td>23.0</td>\n",
       "      <td>748 DARDEN PL\\nNASHVILLE, TN 37205\\n(36.125944...</td>\n",
       "    </tr>\n",
       "    <tr>\n",
       "      <th>1</th>\n",
       "      <td>T2019073204</td>\n",
       "      <td>Building Moving Permit</td>\n",
       "      <td>Moving Permit - Residential</td>\n",
       "      <td>04600002700</td>\n",
       "      <td>12/02/2019</td>\n",
       "      <td>NaN</td>\n",
       "      <td>2500.0</td>\n",
       "      <td>4836  BULL RUN RD</td>\n",
       "      <td>ASHLAND CITY</td>\n",
       "      <td>TN</td>\n",
       "      <td>37015</td>\n",
       "      <td>N OF BULL RUN RD W OF OLD HICKORY BLVD</td>\n",
       "      <td>CLAYTON HOMES #054</td>\n",
       "      <td>CAMV</td>\n",
       "      <td>CAZ09A001</td>\n",
       "      <td>3736813</td>\n",
       "      <td>Move existing mobile home from property out of...</td>\n",
       "      <td>1.0</td>\n",
       "      <td>4836 BULL RUN RD\\nASHLAND CITY, TN 37015\\n(36....</td>\n",
       "    </tr>\n",
       "  </tbody>\n",
       "</table>\n",
       "</div>"
      ],
      "text/plain": [
       "  permit_number           permit_type_descr         permit_subtype_descr  \\\n",
       "0   T2020016213  Building Residential - New      Single Family Residence   \n",
       "1   T2019073204      Building Moving Permit  Moving Permit - Residential   \n",
       "\n",
       "        parcel date_entered  date_issued  construction_cost  \\\n",
       "0  10216006100   03/11/2020          NaN                NaN   \n",
       "1  04600002700   12/02/2019          NaN             2500.0   \n",
       "\n",
       "             address          city state    zip  \\\n",
       "0     748  DARDEN PL     NASHVILLE    TN  37205   \n",
       "1  4836  BULL RUN RD  ASHLAND CITY    TN  37015   \n",
       "\n",
       "                          subdivision_lot                       contact  \\\n",
       "0         LOT 168 SEC 9 PT 2 HILLWOOD EST  Kingdom Builders of Tennesse   \n",
       "1  N OF BULL RUN RD W OF OLD HICKORY BLVD            CLAYTON HOMES #054   \n",
       "\n",
       "  permit_type permit_subtype  ivr_tracking_number  \\\n",
       "0        CARN      CAA01R301              3781725   \n",
       "1        CAMV      CAZ09A001              3736813   \n",
       "\n",
       "                                             purpose  council_district  \\\n",
       "0  New Single family dwelling.  REJECTED: APPLICA...              23.0   \n",
       "1  Move existing mobile home from property out of...               1.0   \n",
       "\n",
       "                                     mapped_location  \n",
       "0  748 DARDEN PL\\nNASHVILLE, TN 37205\\n(36.125944...  \n",
       "1  4836 BULL RUN RD\\nASHLAND CITY, TN 37015\\n(36....  "
      ]
     },
     "execution_count": 7,
     "metadata": {},
     "output_type": "execute_result"
    }
   ],
   "source": [
    "df1_applic.columns = (df1_applic.columns\n",
    "                      .str.replace(\" \", \"_\")\n",
    "                      .str.replace(\"/\", \"_\")\n",
    "                      .str.replace(\"Description\", \"descr\")\n",
    "                      .str.replace(\"#\", \"number\")\n",
    "                      .str.replace(\"___\", \"_\")\n",
    "                      .str.lower())\n",
    "df1_applic.head(2)"
   ]
  },
  {
   "cell_type": "code",
   "execution_count": 8,
   "metadata": {
    "collapsed": true
   },
   "outputs": [
    {
     "data": {
      "text/html": [
       "<div>\n",
       "<style scoped>\n",
       "    .dataframe tbody tr th:only-of-type {\n",
       "        vertical-align: middle;\n",
       "    }\n",
       "\n",
       "    .dataframe tbody tr th {\n",
       "        vertical-align: top;\n",
       "    }\n",
       "\n",
       "    .dataframe thead th {\n",
       "        text-align: right;\n",
       "    }\n",
       "</style>\n",
       "<table border=\"1\" class=\"dataframe\">\n",
       "  <thead>\n",
       "    <tr style=\"text-align: right;\">\n",
       "      <th></th>\n",
       "      <th>permit_number</th>\n",
       "      <th>permit_type_descr</th>\n",
       "      <th>permit_subtype_descr</th>\n",
       "      <th>parcel</th>\n",
       "      <th>date_entered</th>\n",
       "      <th>date_issued</th>\n",
       "      <th>construction_cost</th>\n",
       "      <th>address</th>\n",
       "      <th>city</th>\n",
       "      <th>state</th>\n",
       "      <th>zip</th>\n",
       "      <th>subdivision_lot</th>\n",
       "      <th>contact</th>\n",
       "      <th>permit_type</th>\n",
       "      <th>permit_subtype</th>\n",
       "      <th>ivr_tracking_number</th>\n",
       "      <th>purpose</th>\n",
       "      <th>council_district</th>\n",
       "      <th>census_tract</th>\n",
       "      <th>mapped_location</th>\n",
       "    </tr>\n",
       "  </thead>\n",
       "  <tbody>\n",
       "    <tr>\n",
       "      <th>0</th>\n",
       "      <td>2019070460</td>\n",
       "      <td>Building Residential - New</td>\n",
       "      <td>Single Family Residence</td>\n",
       "      <td>058100C04900CO</td>\n",
       "      <td>11/18/2019</td>\n",
       "      <td>12/09/2019</td>\n",
       "      <td>270585.0</td>\n",
       "      <td>1037  LAWSONS RIDGE DR</td>\n",
       "      <td>NASHVILLE</td>\n",
       "      <td>TN</td>\n",
       "      <td>37218</td>\n",
       "      <td>LOT 49 CARRINGTON PLACE PH 5</td>\n",
       "      <td>CELEBRATION HOMES LLC</td>\n",
       "      <td>CARN</td>\n",
       "      <td>CAA01R301</td>\n",
       "      <td>3733056</td>\n",
       "      <td>To construct a single family residence of 2402...</td>\n",
       "      <td>1.0</td>\n",
       "      <td>37010105.0</td>\n",
       "      <td>1037 LAWSONS RIDGE DR\\nNASHVILLE, TN 37218</td>\n",
       "    </tr>\n",
       "    <tr>\n",
       "      <th>1</th>\n",
       "      <td>2020016259</td>\n",
       "      <td>Building Residential - Rehab</td>\n",
       "      <td>Single Family Residence</td>\n",
       "      <td>160150A07000CO</td>\n",
       "      <td>03/12/2020</td>\n",
       "      <td>03/12/2020</td>\n",
       "      <td>12000.0</td>\n",
       "      <td>210  HEARTHSTONE MANOR LN</td>\n",
       "      <td>BRENTWOOD</td>\n",
       "      <td>TN</td>\n",
       "      <td>37027</td>\n",
       "      <td>UNIT 70 HEARTHSTONE MANOR CONDOMINIUM PHASE 4</td>\n",
       "      <td>ACCESS &amp; MOBILITY INC</td>\n",
       "      <td>CARR</td>\n",
       "      <td>CAA01R301</td>\n",
       "      <td>3781961</td>\n",
       "      <td>to install a new elevator/platform lift from g...</td>\n",
       "      <td>4.0</td>\n",
       "      <td>37018803.0</td>\n",
       "      <td>210 HEARTHSTONE MANOR LN\\nBRENTWOOD, TN 37027\\...</td>\n",
       "    </tr>\n",
       "  </tbody>\n",
       "</table>\n",
       "</div>"
      ],
      "text/plain": [
       "  permit_number             permit_type_descr     permit_subtype_descr  \\\n",
       "0    2019070460    Building Residential - New  Single Family Residence   \n",
       "1    2020016259  Building Residential - Rehab  Single Family Residence   \n",
       "\n",
       "           parcel date_entered date_issued  construction_cost  \\\n",
       "0  058100C04900CO   11/18/2019  12/09/2019           270585.0   \n",
       "1  160150A07000CO   03/12/2020  03/12/2020            12000.0   \n",
       "\n",
       "                     address       city state    zip  \\\n",
       "0     1037  LAWSONS RIDGE DR  NASHVILLE    TN  37218   \n",
       "1  210  HEARTHSTONE MANOR LN  BRENTWOOD    TN  37027   \n",
       "\n",
       "                                 subdivision_lot                contact  \\\n",
       "0                   LOT 49 CARRINGTON PLACE PH 5  CELEBRATION HOMES LLC   \n",
       "1  UNIT 70 HEARTHSTONE MANOR CONDOMINIUM PHASE 4  ACCESS & MOBILITY INC   \n",
       "\n",
       "  permit_type permit_subtype  ivr_tracking_number  \\\n",
       "0        CARN      CAA01R301              3733056   \n",
       "1        CARR      CAA01R301              3781961   \n",
       "\n",
       "                                             purpose  council_district  \\\n",
       "0  To construct a single family residence of 2402...               1.0   \n",
       "1  to install a new elevator/platform lift from g...               4.0   \n",
       "\n",
       "   census_tract                                    mapped_location  \n",
       "0    37010105.0         1037 LAWSONS RIDGE DR\\nNASHVILLE, TN 37218  \n",
       "1    37018803.0  210 HEARTHSTONE MANOR LN\\nBRENTWOOD, TN 37027\\...  "
      ]
     },
     "execution_count": 8,
     "metadata": {},
     "output_type": "execute_result"
    }
   ],
   "source": [
    "# PERMITS ISSUED\n",
    "\n",
    "df2_issued.columns = (df2_issued.columns\n",
    "                      .str.replace(\" \", \"_\")\n",
    "                      .str.replace(\"/\", \"_\")\n",
    "                      .str.replace(\"Description\", \"descr\")\n",
    "                      .str.replace(\"#\", \"number\")\n",
    "                      .str.replace(\"___\", \"_\")\n",
    "                      .str.lower())\n",
    "df2_issued.head(2)"
   ]
  },
  {
   "cell_type": "markdown",
   "metadata": {},
   "source": [
    "## 2a. Data types cleanup - Permit Applications"
   ]
  },
  {
   "cell_type": "code",
   "execution_count": 9,
   "metadata": {
    "collapsed": true
   },
   "outputs": [
    {
     "name": "stdout",
     "output_type": "stream",
     "text": [
      "<class 'pandas.core.frame.DataFrame'>\n",
      "RangeIndex: 3106 entries, 0 to 3105\n",
      "Data columns (total 19 columns):\n",
      " #   Column                Non-Null Count  Dtype  \n",
      "---  ------                --------------  -----  \n",
      " 0   permit_number         3106 non-null   object \n",
      " 1   permit_type_descr     3106 non-null   object \n",
      " 2   permit_subtype_descr  3106 non-null   object \n",
      " 3   parcel                3106 non-null   object \n",
      " 4   date_entered          3106 non-null   object \n",
      " 5   date_issued           0 non-null      float64\n",
      " 6   construction_cost     1651 non-null   float64\n",
      " 7   address               3106 non-null   object \n",
      " 8   city                  3106 non-null   object \n",
      " 9   state                 3106 non-null   object \n",
      " 10  zip                   3106 non-null   int64  \n",
      " 11  subdivision_lot       3105 non-null   object \n",
      " 12  contact               3105 non-null   object \n",
      " 13  permit_type           3106 non-null   object \n",
      " 14  permit_subtype        3106 non-null   object \n",
      " 15  ivr_tracking_number   3106 non-null   int64  \n",
      " 16  purpose               3084 non-null   object \n",
      " 17  council_district      3099 non-null   float64\n",
      " 18  mapped_location       3106 non-null   object \n",
      "dtypes: float64(3), int64(2), object(14)\n",
      "memory usage: 461.2+ KB\n"
     ]
    }
   ],
   "source": [
    "# PERMIT APPLICATIONS\n",
    "# Confirming dtypes\n",
    "# NEED TO CHANGE: date_entered should be datetime fields\n",
    "\n",
    "df1_applic.info()"
   ]
  },
  {
   "cell_type": "code",
   "execution_count": 10,
   "metadata": {
    "collapsed": true
   },
   "outputs": [
    {
     "data": {
      "text/plain": [
       "0   2020-03-11\n",
       "1   2019-12-02\n",
       "Name: date_entered, dtype: datetime64[ns]"
      ]
     },
     "execution_count": 10,
     "metadata": {},
     "output_type": "execute_result"
    }
   ],
   "source": [
    "# Convert date_entered to datetime \n",
    "#  (tried using .dt.date to keep date, only, but that changed it back into object dtype)\n",
    "# .dt.date causes only the date to show\n",
    "\n",
    "df1_applic.date_entered = pd.to_datetime(df1_applic.date_entered)\n",
    "df1_applic.date_entered.head(2)"
   ]
  },
  {
   "cell_type": "code",
   "execution_count": 11,
   "metadata": {
    "collapsed": true
   },
   "outputs": [
    {
     "name": "stdout",
     "output_type": "stream",
     "text": [
      "2017-06-01 00:00:00\n",
      "2020-06-04 00:00:00\n"
     ]
    }
   ],
   "source": [
    "# Double-checking min/max dates in this df\n",
    "\n",
    "print(df1_applic.date_entered.min())\n",
    "print(df1_applic.date_entered.max())"
   ]
  },
  {
   "cell_type": "markdown",
   "metadata": {},
   "source": [
    "## 2b. Data types cleanup - Permits Issued"
   ]
  },
  {
   "cell_type": "code",
   "execution_count": 12,
   "metadata": {
    "collapsed": true
   },
   "outputs": [
    {
     "name": "stdout",
     "output_type": "stream",
     "text": [
      "<class 'pandas.core.frame.DataFrame'>\n",
      "RangeIndex: 33909 entries, 0 to 33908\n",
      "Data columns (total 20 columns):\n",
      " #   Column                Non-Null Count  Dtype  \n",
      "---  ------                --------------  -----  \n",
      " 0   permit_number         33909 non-null  object \n",
      " 1   permit_type_descr     33909 non-null  object \n",
      " 2   permit_subtype_descr  33909 non-null  object \n",
      " 3   parcel                33909 non-null  object \n",
      " 4   date_entered          33909 non-null  object \n",
      " 5   date_issued           33909 non-null  object \n",
      " 6   construction_cost     33899 non-null  float64\n",
      " 7   address               33909 non-null  object \n",
      " 8   city                  33909 non-null  object \n",
      " 9   state                 33909 non-null  object \n",
      " 10  zip                   33909 non-null  int64  \n",
      " 11  subdivision_lot       33909 non-null  object \n",
      " 12  contact               33908 non-null  object \n",
      " 13  permit_type           33909 non-null  object \n",
      " 14  permit_subtype        33909 non-null  object \n",
      " 15  ivr_tracking_number   33909 non-null  int64  \n",
      " 16  purpose               33442 non-null  object \n",
      " 17  council_district      33863 non-null  float64\n",
      " 18  census_tract          33866 non-null  float64\n",
      " 19  mapped_location       33909 non-null  object \n",
      "dtypes: float64(3), int64(2), object(15)\n",
      "memory usage: 5.2+ MB\n"
     ]
    }
   ],
   "source": [
    "# PERMITS ISSUED\n",
    "# Confirming dtypes\n",
    "# NEED TO CHANGE: date_entered should be datetime field\n",
    "\n",
    "df2_issued.info()"
   ]
  },
  {
   "cell_type": "code",
   "execution_count": 13,
   "metadata": {
    "collapsed": true
   },
   "outputs": [
    {
     "data": {
      "text/plain": [
       "0   2019-11-18\n",
       "1   2020-03-12\n",
       "Name: date_entered, dtype: datetime64[ns]"
      ]
     },
     "execution_count": 13,
     "metadata": {},
     "output_type": "execute_result"
    }
   ],
   "source": [
    "# Convert date_entered to datetime\n",
    "\n",
    "df2_issued.date_entered = pd.to_datetime(df2_issued.date_entered)\n",
    "df2_issued.date_entered.head(2)"
   ]
  },
  {
   "cell_type": "code",
   "execution_count": 15,
   "metadata": {
    "collapsed": true
   },
   "outputs": [
    {
     "data": {
      "text/plain": [
       "0   2019-12-09\n",
       "1   2020-03-12\n",
       "Name: date_issued, dtype: datetime64[ns]"
      ]
     },
     "execution_count": 15,
     "metadata": {},
     "output_type": "execute_result"
    }
   ],
   "source": [
    "# Convert date_issued to datetime\n",
    "\n",
    "df2_issued.date_issued = pd.to_datetime(df2_issued.date_issued)\n",
    "df2_issued.date_issued.head(2)"
   ]
  },
  {
   "cell_type": "code",
   "execution_count": 16,
   "metadata": {
    "collapsed": true
   },
   "outputs": [
    {
     "name": "stdout",
     "output_type": "stream",
     "text": [
      "2017-06-01 00:00:00\n",
      "2020-06-04 00:00:00\n"
     ]
    }
   ],
   "source": [
    "# Double-checking min/max dates in this df\n",
    "\n",
    "print(df2_issued.date_issued.min())\n",
    "print(df2_issued.date_issued.max())"
   ]
  },
  {
   "cell_type": "markdown",
   "metadata": {},
   "source": [
    "## 3. New column: 'category' (Residential, Commercial, Other)"
   ]
  },
  {
   "cell_type": "code",
   "execution_count": 18,
   "metadata": {},
   "outputs": [
    {
     "name": "stdout",
     "output_type": "stream",
     "text": [
      "Residential    2204\n",
      "Commercial      458\n",
      "Other           444\n",
      "Name: category, dtype: int64\n",
      "(3106, 20)\n"
     ]
    }
   ],
   "source": [
    "# Building Permit Applications df\n",
    "# Stackoverflow resource: https://stackoverflow.com/questions/36653419/str-contains-to-create-new-column-in-pandas-dataframe\n",
    "\n",
    "# Set a default value for new category column\n",
    "df1_applic['category'] = 'Other'\n",
    "\n",
    "# Assign Commercial, Residential based on permit_type AND permit_subtype, to capture the most possible of each one\n",
    "# Doing BOTH type and sub_type increased Commercial category the most\n",
    "df1_applic.loc[df1_applic['permit_type_descr'].str.contains('Commercial'), 'category'] = 'Commercial'\n",
    "df1_applic.loc[df1_applic['permit_subtype_descr'].str.contains('Commercial'), 'category'] = 'Commercial'\n",
    "\n",
    "df1_applic.loc[df1_applic['permit_type_descr'].str.contains('Residential'), 'category'] = 'Residential'\n",
    "df1_applic.loc[df1_applic['permit_subtype_descr'].str.contains('Residential'), 'category'] = 'Residential'\n",
    "\n",
    "print(df1_applic['category'].value_counts())\n",
    "print(df1_applic.shape)"
   ]
  },
  {
   "cell_type": "code",
   "execution_count": 20,
   "metadata": {},
   "outputs": [
    {
     "name": "stdout",
     "output_type": "stream",
     "text": [
      "Residential    22893\n",
      "Commercial      7029\n",
      "Other           3987\n",
      "Name: category, dtype: int64\n",
      "(33909, 21)\n"
     ]
    }
   ],
   "source": [
    "# Building Permits Issued df\n",
    "# Stackoverflow resource: https://stackoverflow.com/questions/36653419/str-contains-to-create-new-column-in-pandas-dataframe\n",
    "\n",
    "# Set a default value for new category column\n",
    "df2_issued['category'] = 'Other'\n",
    "\n",
    "# Assign Commercial, Residential based on permit_type AND permit_subtype, to capture the most possible of each one\n",
    "# Doing BOTH type and sub_type increased Commercial category the most\n",
    "df2_issued.loc[df2_issued['permit_type_descr'].str.contains('Commercial'), 'category'] = 'Commercial'\n",
    "df2_issued.loc[df2_issued['permit_subtype_descr'].str.contains('Commercial'), 'category'] = 'Commercial'\n",
    "\n",
    "df2_issued.loc[df2_issued['permit_type_descr'].str.contains('Residential'), 'category'] = 'Residential'\n",
    "df2_issued.loc[df2_issued['permit_subtype_descr'].str.contains('Residential'), 'category'] = 'Residential'\n",
    "\n",
    "print(df2_issued['category'].value_counts())\n",
    "print(df2_issued.shape)"
   ]
  },
  {
   "cell_type": "markdown",
   "metadata": {},
   "source": [
    "## 4. New column: 'type_subtype' concatenation"
   ]
  },
  {
   "cell_type": "code",
   "execution_count": 21,
   "metadata": {
    "collapsed": true
   },
   "outputs": [
    {
     "data": {
      "text/html": [
       "<div>\n",
       "<style scoped>\n",
       "    .dataframe tbody tr th:only-of-type {\n",
       "        vertical-align: middle;\n",
       "    }\n",
       "\n",
       "    .dataframe tbody tr th {\n",
       "        vertical-align: top;\n",
       "    }\n",
       "\n",
       "    .dataframe thead th {\n",
       "        text-align: right;\n",
       "    }\n",
       "</style>\n",
       "<table border=\"1\" class=\"dataframe\">\n",
       "  <thead>\n",
       "    <tr style=\"text-align: right;\">\n",
       "      <th></th>\n",
       "      <th>permit_number</th>\n",
       "      <th>permit_type_descr</th>\n",
       "      <th>permit_subtype_descr</th>\n",
       "      <th>parcel</th>\n",
       "      <th>date_entered</th>\n",
       "      <th>date_issued</th>\n",
       "      <th>construction_cost</th>\n",
       "      <th>address</th>\n",
       "      <th>city</th>\n",
       "      <th>state</th>\n",
       "      <th>...</th>\n",
       "      <th>subdivision_lot</th>\n",
       "      <th>contact</th>\n",
       "      <th>permit_type</th>\n",
       "      <th>permit_subtype</th>\n",
       "      <th>ivr_tracking_number</th>\n",
       "      <th>purpose</th>\n",
       "      <th>council_district</th>\n",
       "      <th>mapped_location</th>\n",
       "      <th>category</th>\n",
       "      <th>type_subtype</th>\n",
       "    </tr>\n",
       "  </thead>\n",
       "  <tbody>\n",
       "    <tr>\n",
       "      <th>0</th>\n",
       "      <td>T2020016213</td>\n",
       "      <td>Building Residential - New</td>\n",
       "      <td>Single Family Residence</td>\n",
       "      <td>10216006100</td>\n",
       "      <td>2020-03-11</td>\n",
       "      <td>NaN</td>\n",
       "      <td>NaN</td>\n",
       "      <td>748  DARDEN PL</td>\n",
       "      <td>NASHVILLE</td>\n",
       "      <td>TN</td>\n",
       "      <td>...</td>\n",
       "      <td>LOT 168 SEC 9 PT 2 HILLWOOD EST</td>\n",
       "      <td>Kingdom Builders of Tennesse</td>\n",
       "      <td>CARN</td>\n",
       "      <td>CAA01R301</td>\n",
       "      <td>3781725</td>\n",
       "      <td>New Single family dwelling.  REJECTED: APPLICA...</td>\n",
       "      <td>23.0</td>\n",
       "      <td>748 DARDEN PL\\nNASHVILLE, TN 37205\\n(36.125944...</td>\n",
       "      <td>Residential</td>\n",
       "      <td>TYPE: Building Residential - New SUBTYPE: Sing...</td>\n",
       "    </tr>\n",
       "  </tbody>\n",
       "</table>\n",
       "<p>1 rows × 21 columns</p>\n",
       "</div>"
      ],
      "text/plain": [
       "  permit_number           permit_type_descr     permit_subtype_descr  \\\n",
       "0   T2020016213  Building Residential - New  Single Family Residence   \n",
       "\n",
       "        parcel date_entered  date_issued  construction_cost         address  \\\n",
       "0  10216006100   2020-03-11          NaN                NaN  748  DARDEN PL   \n",
       "\n",
       "        city state  ...                  subdivision_lot  \\\n",
       "0  NASHVILLE    TN  ...  LOT 168 SEC 9 PT 2 HILLWOOD EST   \n",
       "\n",
       "                        contact permit_type permit_subtype  \\\n",
       "0  Kingdom Builders of Tennesse        CARN      CAA01R301   \n",
       "\n",
       "  ivr_tracking_number                                            purpose  \\\n",
       "0             3781725  New Single family dwelling.  REJECTED: APPLICA...   \n",
       "\n",
       "  council_district                                    mapped_location  \\\n",
       "0             23.0  748 DARDEN PL\\nNASHVILLE, TN 37205\\n(36.125944...   \n",
       "\n",
       "      category                                       type_subtype  \n",
       "0  Residential  TYPE: Building Residential - New SUBTYPE: Sing...  \n",
       "\n",
       "[1 rows x 21 columns]"
      ]
     },
     "execution_count": 21,
     "metadata": {},
     "output_type": "execute_result"
    }
   ],
   "source": [
    "# BLDG PERMIT APPLICATIONS\n",
    "# For use in Tableau visualization\n",
    "\n",
    "df1_applic['type_subtype'] = (\"TYPE: \"\n",
    "                              + df1_applic['permit_type_descr']\n",
    "                              + \" SUBTYPE: \" \n",
    "                              + df1_applic['permit_subtype_descr']\n",
    "                             )\n",
    "df1_applic.head(1)     "
   ]
  },
  {
   "cell_type": "code",
   "execution_count": 24,
   "metadata": {
    "collapsed": true
   },
   "outputs": [
    {
     "data": {
      "text/html": [
       "<div>\n",
       "<style scoped>\n",
       "    .dataframe tbody tr th:only-of-type {\n",
       "        vertical-align: middle;\n",
       "    }\n",
       "\n",
       "    .dataframe tbody tr th {\n",
       "        vertical-align: top;\n",
       "    }\n",
       "\n",
       "    .dataframe thead th {\n",
       "        text-align: right;\n",
       "    }\n",
       "</style>\n",
       "<table border=\"1\" class=\"dataframe\">\n",
       "  <thead>\n",
       "    <tr style=\"text-align: right;\">\n",
       "      <th></th>\n",
       "      <th>permit_number</th>\n",
       "      <th>permit_type_descr</th>\n",
       "      <th>permit_subtype_descr</th>\n",
       "      <th>parcel</th>\n",
       "      <th>date_entered</th>\n",
       "      <th>date_issued</th>\n",
       "      <th>construction_cost</th>\n",
       "      <th>address</th>\n",
       "      <th>city</th>\n",
       "      <th>state</th>\n",
       "      <th>...</th>\n",
       "      <th>contact</th>\n",
       "      <th>permit_type</th>\n",
       "      <th>permit_subtype</th>\n",
       "      <th>ivr_tracking_number</th>\n",
       "      <th>purpose</th>\n",
       "      <th>council_district</th>\n",
       "      <th>census_tract</th>\n",
       "      <th>mapped_location</th>\n",
       "      <th>category</th>\n",
       "      <th>type_subtype</th>\n",
       "    </tr>\n",
       "  </thead>\n",
       "  <tbody>\n",
       "    <tr>\n",
       "      <th>0</th>\n",
       "      <td>2019070460</td>\n",
       "      <td>Building Residential - New</td>\n",
       "      <td>Single Family Residence</td>\n",
       "      <td>058100C04900CO</td>\n",
       "      <td>2019-11-18</td>\n",
       "      <td>2019-12-09</td>\n",
       "      <td>270585.0</td>\n",
       "      <td>1037  LAWSONS RIDGE DR</td>\n",
       "      <td>NASHVILLE</td>\n",
       "      <td>TN</td>\n",
       "      <td>...</td>\n",
       "      <td>CELEBRATION HOMES LLC</td>\n",
       "      <td>CARN</td>\n",
       "      <td>CAA01R301</td>\n",
       "      <td>3733056</td>\n",
       "      <td>To construct a single family residence of 2402...</td>\n",
       "      <td>1.0</td>\n",
       "      <td>37010105.0</td>\n",
       "      <td>1037 LAWSONS RIDGE DR\\nNASHVILLE, TN 37218</td>\n",
       "      <td>Residential</td>\n",
       "      <td>TYPE: Building Residential - New SUBTYPE: Sing...</td>\n",
       "    </tr>\n",
       "  </tbody>\n",
       "</table>\n",
       "<p>1 rows × 22 columns</p>\n",
       "</div>"
      ],
      "text/plain": [
       "  permit_number           permit_type_descr     permit_subtype_descr  \\\n",
       "0    2019070460  Building Residential - New  Single Family Residence   \n",
       "\n",
       "           parcel date_entered date_issued  construction_cost  \\\n",
       "0  058100C04900CO   2019-11-18  2019-12-09           270585.0   \n",
       "\n",
       "                  address       city state  ...                contact  \\\n",
       "0  1037  LAWSONS RIDGE DR  NASHVILLE    TN  ...  CELEBRATION HOMES LLC   \n",
       "\n",
       "  permit_type permit_subtype ivr_tracking_number  \\\n",
       "0        CARN      CAA01R301             3733056   \n",
       "\n",
       "                                             purpose  council_district  \\\n",
       "0  To construct a single family residence of 2402...               1.0   \n",
       "\n",
       "  census_tract                             mapped_location     category  \\\n",
       "0   37010105.0  1037 LAWSONS RIDGE DR\\nNASHVILLE, TN 37218  Residential   \n",
       "\n",
       "                                        type_subtype  \n",
       "0  TYPE: Building Residential - New SUBTYPE: Sing...  \n",
       "\n",
       "[1 rows x 22 columns]"
      ]
     },
     "execution_count": 24,
     "metadata": {},
     "output_type": "execute_result"
    }
   ],
   "source": [
    "# BLDG PERMITS ISSUED\n",
    "\n",
    "df2_issued['type_subtype'] = (\"TYPE: \"\n",
    "                              + df2_issued['permit_type_descr'] \n",
    "                              + \" SUBTYPE: \"\n",
    "                              + df2_issued['permit_subtype_descr']\n",
    "                             )\n",
    "df2_issued.head(1)"
   ]
  },
  {
   "cell_type": "markdown",
   "metadata": {},
   "source": [
    "## 5. Drop addresses with \"0\" house number"
   ]
  },
  {
   "cell_type": "code",
   "execution_count": 31,
   "metadata": {
    "scrolled": true
   },
   "outputs": [],
   "source": [
    "# Finding addresses that start with '0' house number\n",
    "\n",
    "#df1_applic.loc[df1_applic['address'].str.startswith('0')]\n",
    "\n",
    "# RESULT: 10 rows"
   ]
  },
  {
   "cell_type": "code",
   "execution_count": 32,
   "metadata": {},
   "outputs": [
    {
     "data": {
      "text/plain": [
       "(3096, 21)"
      ]
     },
     "execution_count": 32,
     "metadata": {},
     "output_type": "execute_result"
    }
   ],
   "source": [
    "# Building Permit Applications - Keeping all rows that DON'T have \"0\" for house number\n",
    "# Original dataset 3106 rows. \n",
    "# After change, should be 3106 - 10 = 3096 rows  CONFIRMED\n",
    "\n",
    "df1_applic = df1_applic[~df1_applic.address.str.startswith('0')]  # tilda means take everything EXECPT\n",
    "df1_applic.shape "
   ]
  },
  {
   "cell_type": "code",
   "execution_count": 34,
   "metadata": {},
   "outputs": [],
   "source": [
    "# Finding addresses that start with '0' house number\n",
    "\n",
    "#df2_issued.loc[df2_issued['address'].str.startswith('0')]\n",
    "\n",
    "# RESULT: 40 rows"
   ]
  },
  {
   "cell_type": "code",
   "execution_count": 35,
   "metadata": {},
   "outputs": [
    {
     "data": {
      "text/plain": [
       "(33869, 22)"
      ]
     },
     "execution_count": 35,
     "metadata": {},
     "output_type": "execute_result"
    }
   ],
   "source": [
    "# Building Permits Isued - Keeping all rows that DON'T have \"0\" for house number\n",
    "# Original dataset 3106 rows. After change, should be 33909 - 40 =  33869\n",
    "\n",
    "df2_issued = df2_issued[~df2_issued.address.str.startswith('0')]  # tilda means take everything EXECPT\n",
    "df2_issued.shape "
   ]
  },
  {
   "cell_type": "markdown",
   "metadata": {},
   "source": [
    "## 6. Pull lat/lon from mapped_location"
   ]
  },
  {
   "cell_type": "code",
   "execution_count": 37,
   "metadata": {},
   "outputs": [
    {
     "data": {
      "text/plain": [
       "array(['748 DARDEN PL\\nNASHVILLE, TN 37205\\n(36.125944, -86.879062)',\n",
       "       '4836 BULL RUN RD\\nASHLAND CITY, TN 37015\\n(36.242681, -86.929594)',\n",
       "       '4119 MURFREESBORO PIKE\\nANTIOCH, TN 37013\\n(36.032211, -86.594799)',\n",
       "       ...,\n",
       "       '6680 CHARLOTTE PIKE B-5\\nNASHVILLE, TN 37209\\n(36.136609, -86.883701)',\n",
       "       '3805 CHARLOTTE AVE\\nNASHVILLE, TN 37209\\n(36.152561, -86.831473)',\n",
       "       '5610A GRANNY WHITE PIKE\\nBRENTWOOD, TN 37027\\n(36.046438, -86.815953)'],\n",
       "      dtype=object)"
      ]
     },
     "execution_count": 37,
     "metadata": {},
     "output_type": "execute_result"
    }
   ],
   "source": [
    "# Building Permit Applications\n",
    "\n",
    "df1_applic.mapped_location.unique()"
   ]
  },
  {
   "cell_type": "code",
   "execution_count": 38,
   "metadata": {},
   "outputs": [],
   "source": [
    "# To pull out lat/lng from mapped_location using regex / Regular Expression\n",
    "# RegEx link:  https://regex101.com/r/cAI6sh/1\n",
    "\n",
    "pattern = re.compile(r'.*\\((\\d*\\S\\d*)\\S\\s(\\S\\d*\\S\\d*)\\)', flags = re.MULTILINE)\n",
    "\n",
    "def extract_lat_lon(map_loc):\n",
    "    '''To extract lat/lon from mapped_location\n",
    "    in both bldg permit files'''\n",
    "    try:\n",
    "        lat_lon_match = pattern.search(map_loc)\n",
    "        lat = float(lat_lon_match.group(1))\n",
    "        lon = float(lat_lon_match.group(2))\n",
    "        return(lat, lon)\n",
    "    except:\n",
    "        return(np.NaN, np.NaN)"
   ]
  },
  {
   "cell_type": "code",
   "execution_count": 39,
   "metadata": {},
   "outputs": [],
   "source": [
    "# BLDG PERMIT APPLICATIONS\n",
    "# Create list comprehension\n",
    "\n",
    "lat_lon = [extract_lat_lon(map_loc) for map_loc in df1_applic.mapped_location]  #list comprehension"
   ]
  },
  {
   "cell_type": "code",
   "execution_count": 40,
   "metadata": {},
   "outputs": [],
   "source": [
    "# Extract lat\n",
    "\n",
    "df1_applic['lat'] = [lat for lat, lon in lat_lon]"
   ]
  },
  {
   "cell_type": "code",
   "execution_count": 41,
   "metadata": {},
   "outputs": [],
   "source": [
    "# Extract lon\n",
    "\n",
    "df1_applic['lon'] = [lon for lat, lon in lat_lon]"
   ]
  },
  {
   "cell_type": "code",
   "execution_count": 42,
   "metadata": {
    "collapsed": true
   },
   "outputs": [
    {
     "data": {
      "text/html": [
       "<div>\n",
       "<style scoped>\n",
       "    .dataframe tbody tr th:only-of-type {\n",
       "        vertical-align: middle;\n",
       "    }\n",
       "\n",
       "    .dataframe tbody tr th {\n",
       "        vertical-align: top;\n",
       "    }\n",
       "\n",
       "    .dataframe thead th {\n",
       "        text-align: right;\n",
       "    }\n",
       "</style>\n",
       "<table border=\"1\" class=\"dataframe\">\n",
       "  <thead>\n",
       "    <tr style=\"text-align: right;\">\n",
       "      <th></th>\n",
       "      <th>permit_number</th>\n",
       "      <th>permit_type_descr</th>\n",
       "      <th>permit_subtype_descr</th>\n",
       "      <th>parcel</th>\n",
       "      <th>date_entered</th>\n",
       "      <th>date_issued</th>\n",
       "      <th>construction_cost</th>\n",
       "      <th>address</th>\n",
       "      <th>city</th>\n",
       "      <th>state</th>\n",
       "      <th>...</th>\n",
       "      <th>permit_type</th>\n",
       "      <th>permit_subtype</th>\n",
       "      <th>ivr_tracking_number</th>\n",
       "      <th>purpose</th>\n",
       "      <th>council_district</th>\n",
       "      <th>mapped_location</th>\n",
       "      <th>category</th>\n",
       "      <th>type_subtype</th>\n",
       "      <th>lat</th>\n",
       "      <th>lon</th>\n",
       "    </tr>\n",
       "  </thead>\n",
       "  <tbody>\n",
       "    <tr>\n",
       "      <th>0</th>\n",
       "      <td>T2020016213</td>\n",
       "      <td>Building Residential - New</td>\n",
       "      <td>Single Family Residence</td>\n",
       "      <td>10216006100</td>\n",
       "      <td>2020-03-11</td>\n",
       "      <td>NaN</td>\n",
       "      <td>NaN</td>\n",
       "      <td>748  DARDEN PL</td>\n",
       "      <td>NASHVILLE</td>\n",
       "      <td>TN</td>\n",
       "      <td>...</td>\n",
       "      <td>CARN</td>\n",
       "      <td>CAA01R301</td>\n",
       "      <td>3781725</td>\n",
       "      <td>New Single family dwelling.  REJECTED: APPLICA...</td>\n",
       "      <td>23.0</td>\n",
       "      <td>748 DARDEN PL\\nNASHVILLE, TN 37205\\n(36.125944...</td>\n",
       "      <td>Residential</td>\n",
       "      <td>TYPE: Building Residential - New SUBTYPE: Sing...</td>\n",
       "      <td>36.125944</td>\n",
       "      <td>-86.879062</td>\n",
       "    </tr>\n",
       "    <tr>\n",
       "      <th>1</th>\n",
       "      <td>T2019073204</td>\n",
       "      <td>Building Moving Permit</td>\n",
       "      <td>Moving Permit - Residential</td>\n",
       "      <td>04600002700</td>\n",
       "      <td>2019-12-02</td>\n",
       "      <td>NaN</td>\n",
       "      <td>2500.0</td>\n",
       "      <td>4836  BULL RUN RD</td>\n",
       "      <td>ASHLAND CITY</td>\n",
       "      <td>TN</td>\n",
       "      <td>...</td>\n",
       "      <td>CAMV</td>\n",
       "      <td>CAZ09A001</td>\n",
       "      <td>3736813</td>\n",
       "      <td>Move existing mobile home from property out of...</td>\n",
       "      <td>1.0</td>\n",
       "      <td>4836 BULL RUN RD\\nASHLAND CITY, TN 37015\\n(36....</td>\n",
       "      <td>Residential</td>\n",
       "      <td>TYPE: Building Moving Permit SUBTYPE: Moving P...</td>\n",
       "      <td>36.242681</td>\n",
       "      <td>-86.929594</td>\n",
       "    </tr>\n",
       "  </tbody>\n",
       "</table>\n",
       "<p>2 rows × 23 columns</p>\n",
       "</div>"
      ],
      "text/plain": [
       "  permit_number           permit_type_descr         permit_subtype_descr  \\\n",
       "0   T2020016213  Building Residential - New      Single Family Residence   \n",
       "1   T2019073204      Building Moving Permit  Moving Permit - Residential   \n",
       "\n",
       "        parcel date_entered  date_issued  construction_cost  \\\n",
       "0  10216006100   2020-03-11          NaN                NaN   \n",
       "1  04600002700   2019-12-02          NaN             2500.0   \n",
       "\n",
       "             address          city state  ...  permit_type permit_subtype  \\\n",
       "0     748  DARDEN PL     NASHVILLE    TN  ...         CARN      CAA01R301   \n",
       "1  4836  BULL RUN RD  ASHLAND CITY    TN  ...         CAMV      CAZ09A001   \n",
       "\n",
       "  ivr_tracking_number                                            purpose  \\\n",
       "0             3781725  New Single family dwelling.  REJECTED: APPLICA...   \n",
       "1             3736813  Move existing mobile home from property out of...   \n",
       "\n",
       "  council_district                                    mapped_location  \\\n",
       "0             23.0  748 DARDEN PL\\nNASHVILLE, TN 37205\\n(36.125944...   \n",
       "1              1.0  4836 BULL RUN RD\\nASHLAND CITY, TN 37015\\n(36....   \n",
       "\n",
       "      category                                       type_subtype        lat  \\\n",
       "0  Residential  TYPE: Building Residential - New SUBTYPE: Sing...  36.125944   \n",
       "1  Residential  TYPE: Building Moving Permit SUBTYPE: Moving P...  36.242681   \n",
       "\n",
       "         lon  \n",
       "0 -86.879062  \n",
       "1 -86.929594  \n",
       "\n",
       "[2 rows x 23 columns]"
      ]
     },
     "execution_count": 42,
     "metadata": {},
     "output_type": "execute_result"
    }
   ],
   "source": [
    "df1_applic.head(2)"
   ]
  },
  {
   "cell_type": "code",
   "execution_count": 43,
   "metadata": {},
   "outputs": [],
   "source": [
    "# BLDG PERMITS ISSUED\n",
    "# Create list comprehension\n",
    "\n",
    "lat_lon = [extract_lat_lon(map_loc) for map_loc in df2_issued.mapped_location]  #list comprehension"
   ]
  },
  {
   "cell_type": "code",
   "execution_count": 44,
   "metadata": {
    "collapsed": true
   },
   "outputs": [
    {
     "name": "stderr",
     "output_type": "stream",
     "text": [
      "C:\\Users\\lorib\\Anaconda3\\envs\\geospatial\\lib\\site-packages\\ipykernel_launcher.py:3: SettingWithCopyWarning: \n",
      "A value is trying to be set on a copy of a slice from a DataFrame.\n",
      "Try using .loc[row_indexer,col_indexer] = value instead\n",
      "\n",
      "See the caveats in the documentation: https://pandas.pydata.org/pandas-docs/stable/user_guide/indexing.html#returning-a-view-versus-a-copy\n",
      "  This is separate from the ipykernel package so we can avoid doing imports until\n"
     ]
    }
   ],
   "source": [
    "# Extract lat\n",
    "# Warning is okay. \n",
    "\n",
    "df2_issued['lat'] = [lat for lat, lon in lat_lon]"
   ]
  },
  {
   "cell_type": "code",
   "execution_count": 45,
   "metadata": {
    "collapsed": true
   },
   "outputs": [
    {
     "name": "stderr",
     "output_type": "stream",
     "text": [
      "C:\\Users\\lorib\\Anaconda3\\envs\\geospatial\\lib\\site-packages\\ipykernel_launcher.py:3: SettingWithCopyWarning: \n",
      "A value is trying to be set on a copy of a slice from a DataFrame.\n",
      "Try using .loc[row_indexer,col_indexer] = value instead\n",
      "\n",
      "See the caveats in the documentation: https://pandas.pydata.org/pandas-docs/stable/user_guide/indexing.html#returning-a-view-versus-a-copy\n",
      "  This is separate from the ipykernel package so we can avoid doing imports until\n"
     ]
    }
   ],
   "source": [
    "# Extract lon\n",
    "# Warning is okay. \n",
    "\n",
    "df2_issued['lon'] = [lon for lat, lon in lat_lon]"
   ]
  },
  {
   "cell_type": "code",
   "execution_count": 46,
   "metadata": {
    "collapsed": true
   },
   "outputs": [
    {
     "data": {
      "text/html": [
       "<div>\n",
       "<style scoped>\n",
       "    .dataframe tbody tr th:only-of-type {\n",
       "        vertical-align: middle;\n",
       "    }\n",
       "\n",
       "    .dataframe tbody tr th {\n",
       "        vertical-align: top;\n",
       "    }\n",
       "\n",
       "    .dataframe thead th {\n",
       "        text-align: right;\n",
       "    }\n",
       "</style>\n",
       "<table border=\"1\" class=\"dataframe\">\n",
       "  <thead>\n",
       "    <tr style=\"text-align: right;\">\n",
       "      <th></th>\n",
       "      <th>permit_number</th>\n",
       "      <th>permit_type_descr</th>\n",
       "      <th>permit_subtype_descr</th>\n",
       "      <th>parcel</th>\n",
       "      <th>date_entered</th>\n",
       "      <th>date_issued</th>\n",
       "      <th>construction_cost</th>\n",
       "      <th>address</th>\n",
       "      <th>city</th>\n",
       "      <th>state</th>\n",
       "      <th>...</th>\n",
       "      <th>permit_subtype</th>\n",
       "      <th>ivr_tracking_number</th>\n",
       "      <th>purpose</th>\n",
       "      <th>council_district</th>\n",
       "      <th>census_tract</th>\n",
       "      <th>mapped_location</th>\n",
       "      <th>category</th>\n",
       "      <th>type_subtype</th>\n",
       "      <th>lat</th>\n",
       "      <th>lon</th>\n",
       "    </tr>\n",
       "  </thead>\n",
       "  <tbody>\n",
       "    <tr>\n",
       "      <th>0</th>\n",
       "      <td>2019070460</td>\n",
       "      <td>Building Residential - New</td>\n",
       "      <td>Single Family Residence</td>\n",
       "      <td>058100C04900CO</td>\n",
       "      <td>2019-11-18</td>\n",
       "      <td>2019-12-09</td>\n",
       "      <td>270585.0</td>\n",
       "      <td>1037  LAWSONS RIDGE DR</td>\n",
       "      <td>NASHVILLE</td>\n",
       "      <td>TN</td>\n",
       "      <td>...</td>\n",
       "      <td>CAA01R301</td>\n",
       "      <td>3733056</td>\n",
       "      <td>To construct a single family residence of 2402...</td>\n",
       "      <td>1.0</td>\n",
       "      <td>37010105.0</td>\n",
       "      <td>1037 LAWSONS RIDGE DR\\nNASHVILLE, TN 37218</td>\n",
       "      <td>Residential</td>\n",
       "      <td>TYPE: Building Residential - New SUBTYPE: Sing...</td>\n",
       "      <td>NaN</td>\n",
       "      <td>NaN</td>\n",
       "    </tr>\n",
       "    <tr>\n",
       "      <th>1</th>\n",
       "      <td>2020016259</td>\n",
       "      <td>Building Residential - Rehab</td>\n",
       "      <td>Single Family Residence</td>\n",
       "      <td>160150A07000CO</td>\n",
       "      <td>2020-03-12</td>\n",
       "      <td>2020-03-12</td>\n",
       "      <td>12000.0</td>\n",
       "      <td>210  HEARTHSTONE MANOR LN</td>\n",
       "      <td>BRENTWOOD</td>\n",
       "      <td>TN</td>\n",
       "      <td>...</td>\n",
       "      <td>CAA01R301</td>\n",
       "      <td>3781961</td>\n",
       "      <td>to install a new elevator/platform lift from g...</td>\n",
       "      <td>4.0</td>\n",
       "      <td>37018803.0</td>\n",
       "      <td>210 HEARTHSTONE MANOR LN\\nBRENTWOOD, TN 37027\\...</td>\n",
       "      <td>Residential</td>\n",
       "      <td>TYPE: Building Residential - Rehab SUBTYPE: Si...</td>\n",
       "      <td>36.042219</td>\n",
       "      <td>-86.764816</td>\n",
       "    </tr>\n",
       "  </tbody>\n",
       "</table>\n",
       "<p>2 rows × 24 columns</p>\n",
       "</div>"
      ],
      "text/plain": [
       "  permit_number             permit_type_descr     permit_subtype_descr  \\\n",
       "0    2019070460    Building Residential - New  Single Family Residence   \n",
       "1    2020016259  Building Residential - Rehab  Single Family Residence   \n",
       "\n",
       "           parcel date_entered date_issued  construction_cost  \\\n",
       "0  058100C04900CO   2019-11-18  2019-12-09           270585.0   \n",
       "1  160150A07000CO   2020-03-12  2020-03-12            12000.0   \n",
       "\n",
       "                     address       city state  ...  permit_subtype  \\\n",
       "0     1037  LAWSONS RIDGE DR  NASHVILLE    TN  ...       CAA01R301   \n",
       "1  210  HEARTHSTONE MANOR LN  BRENTWOOD    TN  ...       CAA01R301   \n",
       "\n",
       "  ivr_tracking_number                                            purpose  \\\n",
       "0             3733056  To construct a single family residence of 2402...   \n",
       "1             3781961  to install a new elevator/platform lift from g...   \n",
       "\n",
       "  council_district census_tract  \\\n",
       "0              1.0   37010105.0   \n",
       "1              4.0   37018803.0   \n",
       "\n",
       "                                     mapped_location     category  \\\n",
       "0         1037 LAWSONS RIDGE DR\\nNASHVILLE, TN 37218  Residential   \n",
       "1  210 HEARTHSTONE MANOR LN\\nBRENTWOOD, TN 37027\\...  Residential   \n",
       "\n",
       "                                        type_subtype        lat        lon  \n",
       "0  TYPE: Building Residential - New SUBTYPE: Sing...        NaN        NaN  \n",
       "1  TYPE: Building Residential - Rehab SUBTYPE: Si...  36.042219 -86.764816  \n",
       "\n",
       "[2 rows x 24 columns]"
      ]
     },
     "execution_count": 46,
     "metadata": {},
     "output_type": "execute_result"
    }
   ],
   "source": [
    "df2_issued.head(2)"
   ]
  },
  {
   "cell_type": "markdown",
   "metadata": {},
   "source": [
    "## 7. Drop rows with null lat/lon"
   ]
  },
  {
   "cell_type": "code",
   "execution_count": 49,
   "metadata": {},
   "outputs": [
    {
     "name": "stdout",
     "output_type": "stream",
     "text": [
      "(3096, 23)\n",
      "permit_number              0\n",
      "permit_type_descr          0\n",
      "permit_subtype_descr       0\n",
      "parcel                     0\n",
      "date_entered               0\n",
      "date_issued             3096\n",
      "construction_cost       1452\n",
      "address                    0\n",
      "city                       0\n",
      "state                      0\n",
      "zip                        0\n",
      "subdivision_lot            1\n",
      "contact                    1\n",
      "permit_type                0\n",
      "permit_subtype             0\n",
      "ivr_tracking_number        0\n",
      "purpose                   22\n",
      "council_district           5\n",
      "mapped_location            0\n",
      "category                   0\n",
      "type_subtype               0\n",
      "lat                      289\n",
      "lon                      289\n",
      "dtype: int64\n"
     ]
    }
   ],
   "source": [
    "# BLDG PERMIT APPLICATIONS\n",
    "# Find out how many of the mapped locations had only the address, not the lat/lon\n",
    "# Number of rows missing lat & lon:  289\n",
    "\n",
    "print(df1_applic.shape)\n",
    "print(df1_applic.isnull().sum())"
   ]
  },
  {
   "cell_type": "code",
   "execution_count": 53,
   "metadata": {},
   "outputs": [
    {
     "data": {
      "text/plain": [
       "(2807, 23)"
      ]
     },
     "execution_count": 53,
     "metadata": {},
     "output_type": "execute_result"
    }
   ],
   "source": [
    "# Creating new BLDG PERMIT APPLICATIONS df that drops rows without lat/lon\n",
    "\n",
    "# Double-checked a few things in these rows, one at a time\n",
    "#print(df1_applic.shape)     #3096 before dropping null lat\n",
    "# Should be 3096 - 289 = 2807 in new df  CONFIRMED\n",
    "\n",
    "df1_applic = df1_applic.dropna(subset = ['lat'])  #dropping nulls in 'lat'\n",
    "df1_applic.shape "
   ]
  },
  {
   "cell_type": "code",
   "execution_count": 50,
   "metadata": {},
   "outputs": [
    {
     "name": "stdout",
     "output_type": "stream",
     "text": [
      "(33869, 24)\n",
      "permit_number              0\n",
      "permit_type_descr          0\n",
      "permit_subtype_descr       0\n",
      "parcel                     0\n",
      "date_entered               0\n",
      "date_issued                0\n",
      "construction_cost         10\n",
      "address                    0\n",
      "city                       0\n",
      "state                      0\n",
      "zip                        0\n",
      "subdivision_lot            0\n",
      "contact                    1\n",
      "permit_type                0\n",
      "permit_subtype             0\n",
      "ivr_tracking_number        0\n",
      "purpose                  441\n",
      "council_district          46\n",
      "census_tract              43\n",
      "mapped_location            0\n",
      "category                   0\n",
      "type_subtype               0\n",
      "lat                     3889\n",
      "lon                     3889\n",
      "dtype: int64\n"
     ]
    }
   ],
   "source": [
    "# BLDG PERMITS ISSUED\n",
    "# Find out how many of the mapped locations had only the address, not the lat/lon\n",
    "# Number of rows missing lat & lon:  3889\n",
    "\n",
    "print(df2_issued.shape)\n",
    "print(df2_issued.isnull().sum())"
   ]
  },
  {
   "cell_type": "code",
   "execution_count": 55,
   "metadata": {},
   "outputs": [
    {
     "data": {
      "text/plain": [
       "(29980, 24)"
      ]
     },
     "execution_count": 55,
     "metadata": {},
     "output_type": "execute_result"
    }
   ],
   "source": [
    "# Creating new BLDG PERMITS ISSUED df that drops rows without lat/lon\n",
    "\n",
    "# Double-checked a few things in these rows, one at a time\n",
    "# Should be 33869 - 3889 = 29980 rows in new df  CONFIRMED\n",
    "\n",
    "df2_issued = df2_issued.dropna(subset = ['lat'])  #dropping nulls in 'lat'\n",
    "df2_issued.shape "
   ]
  },
  {
   "cell_type": "markdown",
   "metadata": {},
   "source": [
    "## 8. Sorting, before dropping duplicates\n",
    "- Goal is to sort data in each df in a way that lends itself to the most appropriate dropping of rows that are \"duplicates\" (next step)"
   ]
  },
  {
   "cell_type": "code",
   "execution_count": 61,
   "metadata": {
    "collapsed": true
   },
   "outputs": [
    {
     "name": "stdout",
     "output_type": "stream",
     "text": [
      "<class 'pandas.core.frame.DataFrame'>\n"
     ]
    },
    {
     "data": {
      "text/html": [
       "<div>\n",
       "<style scoped>\n",
       "    .dataframe tbody tr th:only-of-type {\n",
       "        vertical-align: middle;\n",
       "    }\n",
       "\n",
       "    .dataframe tbody tr th {\n",
       "        vertical-align: top;\n",
       "    }\n",
       "\n",
       "    .dataframe thead th {\n",
       "        text-align: right;\n",
       "    }\n",
       "</style>\n",
       "<table border=\"1\" class=\"dataframe\">\n",
       "  <thead>\n",
       "    <tr style=\"text-align: right;\">\n",
       "      <th></th>\n",
       "      <th>permit_number</th>\n",
       "      <th>permit_type_descr</th>\n",
       "      <th>permit_subtype_descr</th>\n",
       "      <th>parcel</th>\n",
       "      <th>date_entered</th>\n",
       "      <th>date_issued</th>\n",
       "      <th>construction_cost</th>\n",
       "      <th>address</th>\n",
       "      <th>city</th>\n",
       "      <th>state</th>\n",
       "      <th>...</th>\n",
       "      <th>permit_type</th>\n",
       "      <th>permit_subtype</th>\n",
       "      <th>ivr_tracking_number</th>\n",
       "      <th>purpose</th>\n",
       "      <th>council_district</th>\n",
       "      <th>mapped_location</th>\n",
       "      <th>category</th>\n",
       "      <th>type_subtype</th>\n",
       "      <th>lat</th>\n",
       "      <th>lon</th>\n",
       "    </tr>\n",
       "  </thead>\n",
       "  <tbody>\n",
       "    <tr>\n",
       "      <th>0</th>\n",
       "      <td>T2017061549</td>\n",
       "      <td>Building Commercial - Structural Frame</td>\n",
       "      <td>Hotel / Motel</td>\n",
       "      <td>09216039400</td>\n",
       "      <td>2017-09-21</td>\n",
       "      <td>NaN</td>\n",
       "      <td>1.0</td>\n",
       "      <td>1  MUSIC SQ W</td>\n",
       "      <td>NASHVILLE</td>\n",
       "      <td>TN</td>\n",
       "      <td>...</td>\n",
       "      <td>CACG</td>\n",
       "      <td>CAF14R102</td>\n",
       "      <td>3407957</td>\n",
       "      <td>structural frame permit only for proposed Virg...</td>\n",
       "      <td>19.0</td>\n",
       "      <td>1 MUSIC SQ W\\nNASHVILLE, TN 37203\\n(36.151678,...</td>\n",
       "      <td>Commercial</td>\n",
       "      <td>TYPE: Building Commercial - Structural Frame S...</td>\n",
       "      <td>36.151678</td>\n",
       "      <td>-86.792944</td>\n",
       "    </tr>\n",
       "    <tr>\n",
       "      <th>1</th>\n",
       "      <td>T2017035948</td>\n",
       "      <td>Building Use &amp; Occupancy</td>\n",
       "      <td>Tents, Stages</td>\n",
       "      <td>09306406200</td>\n",
       "      <td>2017-06-01</td>\n",
       "      <td>NaN</td>\n",
       "      <td>2000.0</td>\n",
       "      <td>1  SYMPHONY PL</td>\n",
       "      <td>NASHVILLE</td>\n",
       "      <td>TN</td>\n",
       "      <td>...</td>\n",
       "      <td>CAUO</td>\n",
       "      <td>CAZ06A001</td>\n",
       "      <td>3371589</td>\n",
       "      <td>(2) 40x80 tents, staked. No sidewall. Going up...</td>\n",
       "      <td>19.0</td>\n",
       "      <td>1 SYMPHONY PL\\nNASHVILLE, TN 37201\\n(36.160351...</td>\n",
       "      <td>Other</td>\n",
       "      <td>TYPE: Building Use &amp; Occupancy SUBTYPE: Tents,...</td>\n",
       "      <td>36.160351</td>\n",
       "      <td>-86.775582</td>\n",
       "    </tr>\n",
       "    <tr>\n",
       "      <th>2</th>\n",
       "      <td>T2019056907</td>\n",
       "      <td>Building Commercial - Rehab</td>\n",
       "      <td>Restaurant (Take Out)</td>\n",
       "      <td>10700005000</td>\n",
       "      <td>2019-09-18</td>\n",
       "      <td>NaN</td>\n",
       "      <td>26000.0</td>\n",
       "      <td>1  TERMINAL DR</td>\n",
       "      <td>NASHVILLE</td>\n",
       "      <td>TN</td>\n",
       "      <td>...</td>\n",
       "      <td>CACR</td>\n",
       "      <td>CAF31A203</td>\n",
       "      <td>3713830</td>\n",
       "      <td>PERMIT TO CONDUCT INTERIOR RENOVATIONS FOR� �G...</td>\n",
       "      <td>13.0</td>\n",
       "      <td>1 TERMINAL DR\\nNASHVILLE, TN 37214\\n(36.131602...</td>\n",
       "      <td>Commercial</td>\n",
       "      <td>TYPE: Building Commercial - Rehab SUBTYPE: Res...</td>\n",
       "      <td>36.131602</td>\n",
       "      <td>-86.668735</td>\n",
       "    </tr>\n",
       "    <tr>\n",
       "      <th>3</th>\n",
       "      <td>T2018049035</td>\n",
       "      <td>Building Use &amp; Occupancy</td>\n",
       "      <td>Master Permit Application</td>\n",
       "      <td>10700005000</td>\n",
       "      <td>2018-08-16</td>\n",
       "      <td>NaN</td>\n",
       "      <td>25000.0</td>\n",
       "      <td>1  TERMINAL DR</td>\n",
       "      <td>NASHVILLE</td>\n",
       "      <td>TN</td>\n",
       "      <td>...</td>\n",
       "      <td>CAUO</td>\n",
       "      <td>CAZ03A001</td>\n",
       "      <td>3546533</td>\n",
       "      <td>MDHA-CS and Comm PUD.\\n\\nMaster Permit Applica...</td>\n",
       "      <td>13.0</td>\n",
       "      <td>1 TERMINAL DR\\nNASHVILLE, TN 37214\\n(36.131602...</td>\n",
       "      <td>Other</td>\n",
       "      <td>TYPE: Building Use &amp; Occupancy SUBTYPE: Master...</td>\n",
       "      <td>36.131602</td>\n",
       "      <td>-86.668735</td>\n",
       "    </tr>\n",
       "    <tr>\n",
       "      <th>4</th>\n",
       "      <td>T2017053918</td>\n",
       "      <td>Building Use &amp; Occupancy</td>\n",
       "      <td>Tents, Stages</td>\n",
       "      <td>09303006600</td>\n",
       "      <td>2017-08-16</td>\n",
       "      <td>NaN</td>\n",
       "      <td>2000.0</td>\n",
       "      <td>1  TITANS WAY</td>\n",
       "      <td>NASHVILLE</td>\n",
       "      <td>TN</td>\n",
       "      <td>...</td>\n",
       "      <td>CAUO</td>\n",
       "      <td>CAZ06A001</td>\n",
       "      <td>3397152</td>\n",
       "      <td>40x80 tent at Nissan Stadium</td>\n",
       "      <td>6.0</td>\n",
       "      <td>1 TITANS WAY\\nNASHVILLE, TN 37213\\n(36.165719,...</td>\n",
       "      <td>Other</td>\n",
       "      <td>TYPE: Building Use &amp; Occupancy SUBTYPE: Tents,...</td>\n",
       "      <td>36.165719</td>\n",
       "      <td>-86.773573</td>\n",
       "    </tr>\n",
       "  </tbody>\n",
       "</table>\n",
       "<p>5 rows × 23 columns</p>\n",
       "</div>"
      ],
      "text/plain": [
       "  permit_number                       permit_type_descr  \\\n",
       "0   T2017061549  Building Commercial - Structural Frame   \n",
       "1   T2017035948                Building Use & Occupancy   \n",
       "2   T2019056907             Building Commercial - Rehab   \n",
       "3   T2018049035                Building Use & Occupancy   \n",
       "4   T2017053918                Building Use & Occupancy   \n",
       "\n",
       "        permit_subtype_descr       parcel date_entered  date_issued  \\\n",
       "0              Hotel / Motel  09216039400   2017-09-21          NaN   \n",
       "1              Tents, Stages  09306406200   2017-06-01          NaN   \n",
       "2      Restaurant (Take Out)  10700005000   2019-09-18          NaN   \n",
       "3  Master Permit Application  10700005000   2018-08-16          NaN   \n",
       "4              Tents, Stages  09303006600   2017-08-16          NaN   \n",
       "\n",
       "   construction_cost         address       city state  ...  permit_type  \\\n",
       "0                1.0   1  MUSIC SQ W  NASHVILLE    TN  ...         CACG   \n",
       "1             2000.0  1  SYMPHONY PL  NASHVILLE    TN  ...         CAUO   \n",
       "2            26000.0  1  TERMINAL DR  NASHVILLE    TN  ...         CACR   \n",
       "3            25000.0  1  TERMINAL DR  NASHVILLE    TN  ...         CAUO   \n",
       "4             2000.0   1  TITANS WAY  NASHVILLE    TN  ...         CAUO   \n",
       "\n",
       "  permit_subtype ivr_tracking_number  \\\n",
       "0      CAF14R102             3407957   \n",
       "1      CAZ06A001             3371589   \n",
       "2      CAF31A203             3713830   \n",
       "3      CAZ03A001             3546533   \n",
       "4      CAZ06A001             3397152   \n",
       "\n",
       "                                             purpose council_district  \\\n",
       "0  structural frame permit only for proposed Virg...             19.0   \n",
       "1  (2) 40x80 tents, staked. No sidewall. Going up...             19.0   \n",
       "2  PERMIT TO CONDUCT INTERIOR RENOVATIONS FOR� �G...             13.0   \n",
       "3  MDHA-CS and Comm PUD.\\n\\nMaster Permit Applica...             13.0   \n",
       "4                       40x80 tent at Nissan Stadium              6.0   \n",
       "\n",
       "                                     mapped_location    category  \\\n",
       "0  1 MUSIC SQ W\\nNASHVILLE, TN 37203\\n(36.151678,...  Commercial   \n",
       "1  1 SYMPHONY PL\\nNASHVILLE, TN 37201\\n(36.160351...       Other   \n",
       "2  1 TERMINAL DR\\nNASHVILLE, TN 37214\\n(36.131602...  Commercial   \n",
       "3  1 TERMINAL DR\\nNASHVILLE, TN 37214\\n(36.131602...       Other   \n",
       "4  1 TITANS WAY\\nNASHVILLE, TN 37213\\n(36.165719,...       Other   \n",
       "\n",
       "                                        type_subtype        lat        lon  \n",
       "0  TYPE: Building Commercial - Structural Frame S...  36.151678 -86.792944  \n",
       "1  TYPE: Building Use & Occupancy SUBTYPE: Tents,...  36.160351 -86.775582  \n",
       "2  TYPE: Building Commercial - Rehab SUBTYPE: Res...  36.131602 -86.668735  \n",
       "3  TYPE: Building Use & Occupancy SUBTYPE: Master...  36.131602 -86.668735  \n",
       "4  TYPE: Building Use & Occupancy SUBTYPE: Tents,...  36.165719 -86.773573  \n",
       "\n",
       "[5 rows x 23 columns]"
      ]
     },
     "execution_count": 61,
     "metadata": {},
     "output_type": "execute_result"
    }
   ],
   "source": [
    "# BLDG PERMIT APPLICATIONS\n",
    "\n",
    "# Sort by address, then type_subtype, then ivr_tracking_number.\n",
    "# ivr_tracking_number is better than date becuse sometimes two entries have same date;\n",
    "#      also, ivr_tracking_number is sequential (higher # = later date)\n",
    "#      also, better than permt_number, which begins with \n",
    "#      either 'T' or 'D', which can throw off the sort.\n",
    "\n",
    "df1_applic = df1_applic.sort_values(by = ['address'\n",
    "                                          , 'type_subtype'\n",
    "                                          , 'ivr_tracking_number']\n",
    "                                   )\n",
    "df1_applic = df1_applic.reset_index(drop = True)\n",
    "print(type(df1_applic))\n",
    "df1_applic.head()"
   ]
  },
  {
   "cell_type": "code",
   "execution_count": 64,
   "metadata": {},
   "outputs": [
    {
     "name": "stdout",
     "output_type": "stream",
     "text": [
      "<class 'pandas.core.frame.DataFrame'>\n"
     ]
    },
    {
     "data": {
      "text/html": [
       "<div>\n",
       "<style scoped>\n",
       "    .dataframe tbody tr th:only-of-type {\n",
       "        vertical-align: middle;\n",
       "    }\n",
       "\n",
       "    .dataframe tbody tr th {\n",
       "        vertical-align: top;\n",
       "    }\n",
       "\n",
       "    .dataframe thead th {\n",
       "        text-align: right;\n",
       "    }\n",
       "</style>\n",
       "<table border=\"1\" class=\"dataframe\">\n",
       "  <thead>\n",
       "    <tr style=\"text-align: right;\">\n",
       "      <th></th>\n",
       "      <th>permit_number</th>\n",
       "      <th>permit_type_descr</th>\n",
       "      <th>permit_subtype_descr</th>\n",
       "      <th>parcel</th>\n",
       "      <th>date_entered</th>\n",
       "      <th>date_issued</th>\n",
       "      <th>construction_cost</th>\n",
       "      <th>address</th>\n",
       "      <th>city</th>\n",
       "      <th>state</th>\n",
       "      <th>...</th>\n",
       "      <th>permit_subtype</th>\n",
       "      <th>ivr_tracking_number</th>\n",
       "      <th>purpose</th>\n",
       "      <th>council_district</th>\n",
       "      <th>census_tract</th>\n",
       "      <th>mapped_location</th>\n",
       "      <th>category</th>\n",
       "      <th>type_subtype</th>\n",
       "      <th>lat</th>\n",
       "      <th>lon</th>\n",
       "    </tr>\n",
       "  </thead>\n",
       "  <tbody>\n",
       "    <tr>\n",
       "      <th>0</th>\n",
       "      <td>2020011399</td>\n",
       "      <td>Building Commercial - Rehab</td>\n",
       "      <td>General Office, Professional Services</td>\n",
       "      <td>09503002300</td>\n",
       "      <td>2020-02-21</td>\n",
       "      <td>2020-04-24</td>\n",
       "      <td>468115.0</td>\n",
       "      <td>1  BRIDGESTONE PARK</td>\n",
       "      <td>NASHVILLE</td>\n",
       "      <td>TN</td>\n",
       "      <td>...</td>\n",
       "      <td>CAD02B016</td>\n",
       "      <td>3761846</td>\n",
       "      <td>interior and exterior remodel of existing main...</td>\n",
       "      <td>15.0</td>\n",
       "      <td>37015100.0</td>\n",
       "      <td>1 BRIDGESTONE PARK\\nNASHVILLE, TN 37214\\n(36.1...</td>\n",
       "      <td>Commercial</td>\n",
       "      <td>TYPE: Building Commercial - Rehab SUBTYPE: Gen...</td>\n",
       "      <td>36.166469</td>\n",
       "      <td>-86.690332</td>\n",
       "    </tr>\n",
       "    <tr>\n",
       "      <th>1</th>\n",
       "      <td>2018004314</td>\n",
       "      <td>Building Commercial - Rehab</td>\n",
       "      <td>General Office, Professional Services</td>\n",
       "      <td>09503002300</td>\n",
       "      <td>2018-01-25</td>\n",
       "      <td>2018-03-16</td>\n",
       "      <td>130000.0</td>\n",
       "      <td>1  BRIDGESTONE PARK  100</td>\n",
       "      <td>NASHVILLE</td>\n",
       "      <td>TN</td>\n",
       "      <td>...</td>\n",
       "      <td>CAD02B016</td>\n",
       "      <td>3441067</td>\n",
       "      <td>Rehab existing first floor space for  TENNESSE...</td>\n",
       "      <td>15.0</td>\n",
       "      <td>37015100.0</td>\n",
       "      <td>1 BRIDGESTONE PARK 100\\nNASHVILLE, TN 37214\\n(...</td>\n",
       "      <td>Commercial</td>\n",
       "      <td>TYPE: Building Commercial - Rehab SUBTYPE: Gen...</td>\n",
       "      <td>36.166469</td>\n",
       "      <td>-86.690332</td>\n",
       "    </tr>\n",
       "    <tr>\n",
       "      <th>2</th>\n",
       "      <td>2018057155</td>\n",
       "      <td>Building Commercial - Rehab</td>\n",
       "      <td>Medical Office, Professional Services</td>\n",
       "      <td>131060A00100CO</td>\n",
       "      <td>2018-09-07</td>\n",
       "      <td>2018-10-03</td>\n",
       "      <td>300000.0</td>\n",
       "      <td>1  BURTON HILLS BLVD</td>\n",
       "      <td>NASHVILLE</td>\n",
       "      <td>TN</td>\n",
       "      <td>...</td>\n",
       "      <td>CAE04B016</td>\n",
       "      <td>3557029</td>\n",
       "      <td>interior renovation for ARDENT HEALTH SERVICES...</td>\n",
       "      <td>25.0</td>\n",
       "      <td>37017902.0</td>\n",
       "      <td>1 BURTON HILLS BLVD\\nNASHVILLE, TN 37215\\n(36....</td>\n",
       "      <td>Commercial</td>\n",
       "      <td>TYPE: Building Commercial - Rehab SUBTYPE: Med...</td>\n",
       "      <td>36.095056</td>\n",
       "      <td>-86.820502</td>\n",
       "    </tr>\n",
       "    <tr>\n",
       "      <th>3</th>\n",
       "      <td>2017079390</td>\n",
       "      <td>Building Commercial - Rehab</td>\n",
       "      <td>General Office, Professional Services</td>\n",
       "      <td>131060A00100CO</td>\n",
       "      <td>2017-12-13</td>\n",
       "      <td>2017-12-13</td>\n",
       "      <td>71000.0</td>\n",
       "      <td>1  BURTON HILLS BLVD  150</td>\n",
       "      <td>NASHVILLE</td>\n",
       "      <td>TN</td>\n",
       "      <td>...</td>\n",
       "      <td>CAD02B016</td>\n",
       "      <td>3431757</td>\n",
       "      <td>rehab 2,424 sq. ft. office space for ARDENT HE...</td>\n",
       "      <td>25.0</td>\n",
       "      <td>37017902.0</td>\n",
       "      <td>1 BURTON HILLS BLVD 150\\nNASHVILLE, TN 37215\\n...</td>\n",
       "      <td>Commercial</td>\n",
       "      <td>TYPE: Building Commercial - Rehab SUBTYPE: Gen...</td>\n",
       "      <td>36.095056</td>\n",
       "      <td>-86.820502</td>\n",
       "    </tr>\n",
       "    <tr>\n",
       "      <th>4</th>\n",
       "      <td>2018008573</td>\n",
       "      <td>Building Residential - New</td>\n",
       "      <td>Single Family Residence</td>\n",
       "      <td>10504003100</td>\n",
       "      <td>2018-02-14</td>\n",
       "      <td>2018-02-16</td>\n",
       "      <td>189815.0</td>\n",
       "      <td>1  CLAIBORNE ST</td>\n",
       "      <td>NASHVILLE</td>\n",
       "      <td>TN</td>\n",
       "      <td>...</td>\n",
       "      <td>CAA01R301</td>\n",
       "      <td>3446788</td>\n",
       "      <td>to construct 1685SF single family residence wi...</td>\n",
       "      <td>17.0</td>\n",
       "      <td>37016000.0</td>\n",
       "      <td>1 CLAIBORNE ST\\nNASHVILLE, TN 37210\\n(36.14643...</td>\n",
       "      <td>Residential</td>\n",
       "      <td>TYPE: Building Residential - New SUBTYPE: Sing...</td>\n",
       "      <td>36.146432</td>\n",
       "      <td>-86.761511</td>\n",
       "    </tr>\n",
       "  </tbody>\n",
       "</table>\n",
       "<p>5 rows × 24 columns</p>\n",
       "</div>"
      ],
      "text/plain": [
       "  permit_number            permit_type_descr  \\\n",
       "0    2020011399  Building Commercial - Rehab   \n",
       "1    2018004314  Building Commercial - Rehab   \n",
       "2    2018057155  Building Commercial - Rehab   \n",
       "3    2017079390  Building Commercial - Rehab   \n",
       "4    2018008573   Building Residential - New   \n",
       "\n",
       "                    permit_subtype_descr          parcel date_entered  \\\n",
       "0  General Office, Professional Services     09503002300   2020-02-21   \n",
       "1  General Office, Professional Services     09503002300   2018-01-25   \n",
       "2  Medical Office, Professional Services  131060A00100CO   2018-09-07   \n",
       "3  General Office, Professional Services  131060A00100CO   2017-12-13   \n",
       "4                Single Family Residence     10504003100   2018-02-14   \n",
       "\n",
       "  date_issued  construction_cost                    address       city state  \\\n",
       "0  2020-04-24           468115.0        1  BRIDGESTONE PARK  NASHVILLE    TN   \n",
       "1  2018-03-16           130000.0   1  BRIDGESTONE PARK  100  NASHVILLE    TN   \n",
       "2  2018-10-03           300000.0       1  BURTON HILLS BLVD  NASHVILLE    TN   \n",
       "3  2017-12-13            71000.0  1  BURTON HILLS BLVD  150  NASHVILLE    TN   \n",
       "4  2018-02-16           189815.0            1  CLAIBORNE ST  NASHVILLE    TN   \n",
       "\n",
       "   ...  permit_subtype ivr_tracking_number  \\\n",
       "0  ...       CAD02B016             3761846   \n",
       "1  ...       CAD02B016             3441067   \n",
       "2  ...       CAE04B016             3557029   \n",
       "3  ...       CAD02B016             3431757   \n",
       "4  ...       CAA01R301             3446788   \n",
       "\n",
       "                                             purpose council_district  \\\n",
       "0  interior and exterior remodel of existing main...             15.0   \n",
       "1  Rehab existing first floor space for  TENNESSE...             15.0   \n",
       "2  interior renovation for ARDENT HEALTH SERVICES...             25.0   \n",
       "3  rehab 2,424 sq. ft. office space for ARDENT HE...             25.0   \n",
       "4  to construct 1685SF single family residence wi...             17.0   \n",
       "\n",
       "  census_tract                                    mapped_location  \\\n",
       "0   37015100.0  1 BRIDGESTONE PARK\\nNASHVILLE, TN 37214\\n(36.1...   \n",
       "1   37015100.0  1 BRIDGESTONE PARK 100\\nNASHVILLE, TN 37214\\n(...   \n",
       "2   37017902.0  1 BURTON HILLS BLVD\\nNASHVILLE, TN 37215\\n(36....   \n",
       "3   37017902.0  1 BURTON HILLS BLVD 150\\nNASHVILLE, TN 37215\\n...   \n",
       "4   37016000.0  1 CLAIBORNE ST\\nNASHVILLE, TN 37210\\n(36.14643...   \n",
       "\n",
       "      category                                       type_subtype        lat  \\\n",
       "0   Commercial  TYPE: Building Commercial - Rehab SUBTYPE: Gen...  36.166469   \n",
       "1   Commercial  TYPE: Building Commercial - Rehab SUBTYPE: Gen...  36.166469   \n",
       "2   Commercial  TYPE: Building Commercial - Rehab SUBTYPE: Med...  36.095056   \n",
       "3   Commercial  TYPE: Building Commercial - Rehab SUBTYPE: Gen...  36.095056   \n",
       "4  Residential  TYPE: Building Residential - New SUBTYPE: Sing...  36.146432   \n",
       "\n",
       "         lon  \n",
       "0 -86.690332  \n",
       "1 -86.690332  \n",
       "2 -86.820502  \n",
       "3 -86.820502  \n",
       "4 -86.761511  \n",
       "\n",
       "[5 rows x 24 columns]"
      ]
     },
     "execution_count": 64,
     "metadata": {},
     "output_type": "execute_result"
    }
   ],
   "source": [
    "# BLDG PERMITS ISSUED\n",
    "\n",
    "# Sort by address, then type_subtype, then ivr_tracking_number.\n",
    "# ivr_tracking_number is better than date becuse sometimes two entries have same date;\n",
    "#      also, ivr_tracking_number is sequential (higher # = later date)\n",
    "#      also, better than permt_number, which begins with \n",
    "#      either 'T' or 'D', which can throw off the sort.\n",
    "\n",
    "df2_issued = df2_issued.sort_values(by = ['address'\n",
    "                                          , 'type_subtype'\n",
    "                                          , 'ivr_tracking_number']\n",
    "                                   )\n",
    "df2_issued = df2_issued.reset_index(drop = True)\n",
    "print(type(df2_issued))\n",
    "df2_issued.head()"
   ]
  },
  {
   "cell_type": "markdown",
   "metadata": {},
   "source": [
    "## 9. Drop duplicates\n",
    "- Duplicates are defined as:\n",
    "    - a row that has exact match on address, type_subtype, and that occurs within 180 days (~6 months) of the most recent occurance. \n",
    "    - Adding in the date limitation keeps in historical records for addresses that have more than one permit of the same type within a 3 year period; but eliminates those that are reissuances for thing like changing a contractor, or getting a new permit because the work hadn't been completed yet."
   ]
  },
  {
   "cell_type": "markdown",
   "metadata": {},
   "source": [
    "## 10. Convert to geodataframe"
   ]
  },
  {
   "cell_type": "markdown",
   "metadata": {},
   "source": [
    "## 11. Keep only addresses within Davidson County"
   ]
  },
  {
   "cell_type": "markdown",
   "metadata": {},
   "source": [
    "## 12. Add Neighborhood Association names"
   ]
  },
  {
   "cell_type": "markdown",
   "metadata": {},
   "source": [
    "## 13. Merge"
   ]
  },
  {
   "cell_type": "markdown",
   "metadata": {},
   "source": [
    "## 14. Export"
   ]
  },
  {
   "cell_type": "markdown",
   "metadata": {},
   "source": [
    "### *To change row truncation, as needed*"
   ]
  },
  {
   "cell_type": "code",
   "execution_count": 57,
   "metadata": {},
   "outputs": [
    {
     "name": "stdout",
     "output_type": "stream",
     "text": [
      "40000\n"
     ]
    }
   ],
   "source": [
    "# To get full results that aren't truncated, set to high number (default is 50):\n",
    "pd.options.display.max_rows = 40000\n",
    "print(pd.options.display.max_rows)"
   ]
  },
  {
   "cell_type": "code",
   "execution_count": null,
   "metadata": {
    "collapsed": true
   },
   "outputs": [],
   "source": []
  }
 ],
 "metadata": {
  "kernelspec": {
   "display_name": "Python 3",
   "language": "python",
   "name": "python3"
  },
  "language_info": {
   "codemirror_mode": {
    "name": "ipython",
    "version": 3
   },
   "file_extension": ".py",
   "mimetype": "text/x-python",
   "name": "python",
   "nbconvert_exporter": "python",
   "pygments_lexer": "ipython3",
   "version": "3.7.6"
  }
 },
 "nbformat": 4,
 "nbformat_minor": 4
}
